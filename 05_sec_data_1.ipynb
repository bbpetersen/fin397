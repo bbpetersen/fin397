{
 "cells": [
  {
   "cell_type": "markdown",
   "metadata": {},
   "source": [
    "## SEC Financial Statement Data I: Download Files"
   ]
  },
  {
   "cell_type": "markdown",
   "metadata": {},
   "source": [
    "Our standard libraries:"
   ]
  },
  {
   "cell_type": "code",
   "execution_count": 1,
   "metadata": {},
   "outputs": [],
   "source": [
    "import pandas as pd\n",
    "import requests"
   ]
  },
  {
   "cell_type": "markdown",
   "metadata": {},
   "source": [
    "Main page: https://www.sec.gov/dera/data/financial-statement-and-notes-data-set.html"
   ]
  },
  {
   "cell_type": "markdown",
   "metadata": {},
   "source": [
    "### Zip files"
   ]
  },
  {
   "cell_type": "markdown",
   "metadata": {},
   "source": [
    "Link to most recent file:"
   ]
  },
  {
   "cell_type": "code",
   "execution_count": 2,
   "metadata": {},
   "outputs": [],
   "source": [
    "url = 'https://www.sec.gov/files/dera/data/financial-statement-and-notes-data-sets/2020_12_notes.zip'"
   ]
  },
  {
   "cell_type": "markdown",
   "metadata": {},
   "source": [
    "We need these libraries to open the zip file:"
   ]
  },
  {
   "cell_type": "code",
   "execution_count": 3,
   "metadata": {},
   "outputs": [],
   "source": [
    "import zipfile\n",
    "import io"
   ]
  },
  {
   "cell_type": "markdown",
   "metadata": {},
   "source": [
    "Download file:"
   ]
  },
  {
   "cell_type": "code",
   "execution_count": 5,
   "metadata": {},
   "outputs": [
    {
     "data": {
      "text/plain": [
       "<Response [200]>"
      ]
     },
     "execution_count": 5,
     "metadata": {},
     "output_type": "execute_result"
    }
   ],
   "source": [
    "r = requests.get(url)\n",
    "r"
   ]
  },
  {
   "cell_type": "markdown",
   "metadata": {},
   "source": [
    "Did download work?"
   ]
  },
  {
   "cell_type": "code",
   "execution_count": 7,
   "metadata": {},
   "outputs": [
    {
     "name": "stdout",
     "output_type": "stream",
     "text": [
      "unzip now\n"
     ]
    }
   ],
   "source": [
    "if r.ok:\n",
    "    print('unzip now')"
   ]
  },
  {
   "cell_type": "markdown",
   "metadata": {},
   "source": [
    "Unzip file:"
   ]
  },
  {
   "cell_type": "code",
   "execution_count": 8,
   "metadata": {},
   "outputs": [
    {
     "data": {
      "text/plain": [
       "['sub.tsv',\n",
       " 'tag.tsv',\n",
       " 'dim.tsv',\n",
       " 'ren.tsv',\n",
       " 'cal.tsv',\n",
       " 'pre.tsv',\n",
       " 'num.tsv',\n",
       " 'txt.tsv',\n",
       " 'readme.htm',\n",
       " 'notes-metadata.json']"
      ]
     },
     "execution_count": 8,
     "metadata": {},
     "output_type": "execute_result"
    }
   ],
   "source": [
    "z = zipfile.ZipFile(io.BytesIO(r.content))\n",
    "\n",
    "z.namelist()   # Get all names of files in zipped folder"
   ]
  },
  {
   "cell_type": "markdown",
   "metadata": {},
   "source": [
    "Open the numbers file:"
   ]
  },
  {
   "cell_type": "code",
   "execution_count": 9,
   "metadata": {},
   "outputs": [
    {
     "data": {
      "text/plain": [
       "<zipfile.ZipExtFile name='num.tsv' mode='r' compress_type=deflate>"
      ]
     },
     "execution_count": 9,
     "metadata": {},
     "output_type": "execute_result"
    }
   ],
   "source": [
    "num = z.open('num.tsv')\n",
    "num"
   ]
  },
  {
   "cell_type": "markdown",
   "metadata": {},
   "source": [
    "Read this file:"
   ]
  },
  {
   "cell_type": "code",
   "execution_count": 11,
   "metadata": {},
   "outputs": [
    {
     "name": "stderr",
     "output_type": "stream",
     "text": [
      "/Users/bradpetersen/opt/anaconda3/lib/python3.7/site-packages/IPython/core/interactiveshell.py:3063: DtypeWarning: Columns (12) have mixed types.Specify dtype option on import or set low_memory=False.\n",
      "  interactivity=interactivity, compiler=compiler, result=result)\n"
     ]
    },
    {
     "data": {
      "text/html": [
       "<div>\n",
       "<style scoped>\n",
       "    .dataframe tbody tr th:only-of-type {\n",
       "        vertical-align: middle;\n",
       "    }\n",
       "\n",
       "    .dataframe tbody tr th {\n",
       "        vertical-align: top;\n",
       "    }\n",
       "\n",
       "    .dataframe thead th {\n",
       "        text-align: right;\n",
       "    }\n",
       "</style>\n",
       "<table border=\"1\" class=\"dataframe\">\n",
       "  <thead>\n",
       "    <tr style=\"text-align: right;\">\n",
       "      <th></th>\n",
       "      <th>adsh</th>\n",
       "      <th>tag</th>\n",
       "      <th>version</th>\n",
       "      <th>ddate</th>\n",
       "      <th>qtrs</th>\n",
       "      <th>uom</th>\n",
       "      <th>dimh</th>\n",
       "      <th>iprx</th>\n",
       "      <th>value</th>\n",
       "      <th>footnote</th>\n",
       "      <th>footlen</th>\n",
       "      <th>dimn</th>\n",
       "      <th>coreg</th>\n",
       "      <th>durp</th>\n",
       "      <th>datp</th>\n",
       "      <th>dcml</th>\n",
       "    </tr>\n",
       "  </thead>\n",
       "  <tbody>\n",
       "    <tr>\n",
       "      <th>0</th>\n",
       "      <td>0001640334-20-002990</td>\n",
       "      <td>AccountsPayableAndAccruedLiabilitiesCurrent</td>\n",
       "      <td>us-gaap/2019</td>\n",
       "      <td>20180131</td>\n",
       "      <td>0</td>\n",
       "      <td>USD</td>\n",
       "      <td>0x00000000</td>\n",
       "      <td>0</td>\n",
       "      <td>18512.0</td>\n",
       "      <td>NaN</td>\n",
       "      <td>0</td>\n",
       "      <td>0</td>\n",
       "      <td>NaN</td>\n",
       "      <td>0.000000</td>\n",
       "      <td>0.0</td>\n",
       "      <td>0</td>\n",
       "    </tr>\n",
       "    <tr>\n",
       "      <th>1</th>\n",
       "      <td>0001640334-20-002990</td>\n",
       "      <td>AccountsPayableAndAccruedLiabilitiesCurrent</td>\n",
       "      <td>us-gaap/2019</td>\n",
       "      <td>20170131</td>\n",
       "      <td>0</td>\n",
       "      <td>USD</td>\n",
       "      <td>0x00000000</td>\n",
       "      <td>0</td>\n",
       "      <td>0.0</td>\n",
       "      <td>NaN</td>\n",
       "      <td>0</td>\n",
       "      <td>0</td>\n",
       "      <td>NaN</td>\n",
       "      <td>0.000000</td>\n",
       "      <td>0.0</td>\n",
       "      <td>0</td>\n",
       "    </tr>\n",
       "    <tr>\n",
       "      <th>2</th>\n",
       "      <td>0001640334-20-002995</td>\n",
       "      <td>AccountsPayableAndAccruedLiabilitiesCurrent</td>\n",
       "      <td>us-gaap/2019</td>\n",
       "      <td>20190831</td>\n",
       "      <td>0</td>\n",
       "      <td>USD</td>\n",
       "      <td>0x00000000</td>\n",
       "      <td>0</td>\n",
       "      <td>46652.0</td>\n",
       "      <td>NaN</td>\n",
       "      <td>0</td>\n",
       "      <td>0</td>\n",
       "      <td>NaN</td>\n",
       "      <td>0.000000</td>\n",
       "      <td>0.0</td>\n",
       "      <td>0</td>\n",
       "    </tr>\n",
       "    <tr>\n",
       "      <th>3</th>\n",
       "      <td>0001640334-20-002995</td>\n",
       "      <td>AccountsPayableAndAccruedLiabilitiesCurrent</td>\n",
       "      <td>us-gaap/2019</td>\n",
       "      <td>20200831</td>\n",
       "      <td>0</td>\n",
       "      <td>USD</td>\n",
       "      <td>0x00000000</td>\n",
       "      <td>0</td>\n",
       "      <td>189680.0</td>\n",
       "      <td>NaN</td>\n",
       "      <td>0</td>\n",
       "      <td>0</td>\n",
       "      <td>NaN</td>\n",
       "      <td>0.000000</td>\n",
       "      <td>0.0</td>\n",
       "      <td>0</td>\n",
       "    </tr>\n",
       "    <tr>\n",
       "      <th>4</th>\n",
       "      <td>0001640334-20-003002</td>\n",
       "      <td>AccountsPayableAndAccruedLiabilitiesCurrent</td>\n",
       "      <td>us-gaap/2019</td>\n",
       "      <td>20191231</td>\n",
       "      <td>0</td>\n",
       "      <td>USD</td>\n",
       "      <td>0x00000000</td>\n",
       "      <td>0</td>\n",
       "      <td>15444.0</td>\n",
       "      <td>NaN</td>\n",
       "      <td>0</td>\n",
       "      <td>0</td>\n",
       "      <td>NaN</td>\n",
       "      <td>0.000000</td>\n",
       "      <td>0.0</td>\n",
       "      <td>0</td>\n",
       "    </tr>\n",
       "    <tr>\n",
       "      <th>...</th>\n",
       "      <td>...</td>\n",
       "      <td>...</td>\n",
       "      <td>...</td>\n",
       "      <td>...</td>\n",
       "      <td>...</td>\n",
       "      <td>...</td>\n",
       "      <td>...</td>\n",
       "      <td>...</td>\n",
       "      <td>...</td>\n",
       "      <td>...</td>\n",
       "      <td>...</td>\n",
       "      <td>...</td>\n",
       "      <td>...</td>\n",
       "      <td>...</td>\n",
       "      <td>...</td>\n",
       "      <td>...</td>\n",
       "    </tr>\n",
       "    <tr>\n",
       "      <th>567315</th>\n",
       "      <td>0001477932-20-007602</td>\n",
       "      <td>WarrantsExercisedValue</td>\n",
       "      <td>0001477932-20-007602</td>\n",
       "      <td>20190630</td>\n",
       "      <td>0</td>\n",
       "      <td>USD</td>\n",
       "      <td>0x0e768c9182357176566f3655a0d7a7de</td>\n",
       "      <td>0</td>\n",
       "      <td>1071.0</td>\n",
       "      <td>NaN</td>\n",
       "      <td>0</td>\n",
       "      <td>1</td>\n",
       "      <td>NaN</td>\n",
       "      <td>-0.317808</td>\n",
       "      <td>0.0</td>\n",
       "      <td>0</td>\n",
       "    </tr>\n",
       "    <tr>\n",
       "      <th>567316</th>\n",
       "      <td>0001477932-20-007602</td>\n",
       "      <td>WarrantsExercisedValue</td>\n",
       "      <td>0001477932-20-007602</td>\n",
       "      <td>20200331</td>\n",
       "      <td>4</td>\n",
       "      <td>USD</td>\n",
       "      <td>0x0e768c9182357176566f3655a0d7a7de</td>\n",
       "      <td>0</td>\n",
       "      <td>1071.0</td>\n",
       "      <td>NaN</td>\n",
       "      <td>0</td>\n",
       "      <td>1</td>\n",
       "      <td>NaN</td>\n",
       "      <td>0.000000</td>\n",
       "      <td>0.0</td>\n",
       "      <td>0</td>\n",
       "    </tr>\n",
       "    <tr>\n",
       "      <th>567317</th>\n",
       "      <td>0001477932-20-007602</td>\n",
       "      <td>WarrantsGranted</td>\n",
       "      <td>0001477932-20-007602</td>\n",
       "      <td>20190630</td>\n",
       "      <td>2</td>\n",
       "      <td>shares</td>\n",
       "      <td>0x0e768c9182357176566f3655a0d7a7de</td>\n",
       "      <td>0</td>\n",
       "      <td>21427.0</td>\n",
       "      <td>NaN</td>\n",
       "      <td>0</td>\n",
       "      <td>1</td>\n",
       "      <td>NaN</td>\n",
       "      <td>0.027398</td>\n",
       "      <td>0.0</td>\n",
       "      <td>0</td>\n",
       "    </tr>\n",
       "    <tr>\n",
       "      <th>567318</th>\n",
       "      <td>0001477932-20-007602</td>\n",
       "      <td>WarrantsGranted</td>\n",
       "      <td>0001477932-20-007602</td>\n",
       "      <td>20190331</td>\n",
       "      <td>4</td>\n",
       "      <td>shares</td>\n",
       "      <td>0x0e768c9182357176566f3655a0d7a7de</td>\n",
       "      <td>0</td>\n",
       "      <td>21427.0</td>\n",
       "      <td>NaN</td>\n",
       "      <td>0</td>\n",
       "      <td>1</td>\n",
       "      <td>NaN</td>\n",
       "      <td>0.010959</td>\n",
       "      <td>0.0</td>\n",
       "      <td>0</td>\n",
       "    </tr>\n",
       "    <tr>\n",
       "      <th>567319</th>\n",
       "      <td>0001477932-20-007602</td>\n",
       "      <td>WarrantsIssuedShares</td>\n",
       "      <td>0001477932-20-007602</td>\n",
       "      <td>20190331</td>\n",
       "      <td>4</td>\n",
       "      <td>shares</td>\n",
       "      <td>0x947f5abac5ff1266f27e8b65c626ff5b</td>\n",
       "      <td>0</td>\n",
       "      <td>237747.0</td>\n",
       "      <td>NaN</td>\n",
       "      <td>0</td>\n",
       "      <td>1</td>\n",
       "      <td>NaN</td>\n",
       "      <td>0.010959</td>\n",
       "      <td>0.0</td>\n",
       "      <td>0</td>\n",
       "    </tr>\n",
       "  </tbody>\n",
       "</table>\n",
       "<p>567320 rows × 16 columns</p>\n",
       "</div>"
      ],
      "text/plain": [
       "                        adsh                                          tag  \\\n",
       "0       0001640334-20-002990  AccountsPayableAndAccruedLiabilitiesCurrent   \n",
       "1       0001640334-20-002990  AccountsPayableAndAccruedLiabilitiesCurrent   \n",
       "2       0001640334-20-002995  AccountsPayableAndAccruedLiabilitiesCurrent   \n",
       "3       0001640334-20-002995  AccountsPayableAndAccruedLiabilitiesCurrent   \n",
       "4       0001640334-20-003002  AccountsPayableAndAccruedLiabilitiesCurrent   \n",
       "...                      ...                                          ...   \n",
       "567315  0001477932-20-007602                       WarrantsExercisedValue   \n",
       "567316  0001477932-20-007602                       WarrantsExercisedValue   \n",
       "567317  0001477932-20-007602                              WarrantsGranted   \n",
       "567318  0001477932-20-007602                              WarrantsGranted   \n",
       "567319  0001477932-20-007602                         WarrantsIssuedShares   \n",
       "\n",
       "                     version     ddate  qtrs     uom  \\\n",
       "0               us-gaap/2019  20180131     0     USD   \n",
       "1               us-gaap/2019  20170131     0     USD   \n",
       "2               us-gaap/2019  20190831     0     USD   \n",
       "3               us-gaap/2019  20200831     0     USD   \n",
       "4               us-gaap/2019  20191231     0     USD   \n",
       "...                      ...       ...   ...     ...   \n",
       "567315  0001477932-20-007602  20190630     0     USD   \n",
       "567316  0001477932-20-007602  20200331     4     USD   \n",
       "567317  0001477932-20-007602  20190630     2  shares   \n",
       "567318  0001477932-20-007602  20190331     4  shares   \n",
       "567319  0001477932-20-007602  20190331     4  shares   \n",
       "\n",
       "                                      dimh  iprx     value footnote  footlen  \\\n",
       "0                               0x00000000     0   18512.0      NaN        0   \n",
       "1                               0x00000000     0       0.0      NaN        0   \n",
       "2                               0x00000000     0   46652.0      NaN        0   \n",
       "3                               0x00000000     0  189680.0      NaN        0   \n",
       "4                               0x00000000     0   15444.0      NaN        0   \n",
       "...                                    ...   ...       ...      ...      ...   \n",
       "567315  0x0e768c9182357176566f3655a0d7a7de     0    1071.0      NaN        0   \n",
       "567316  0x0e768c9182357176566f3655a0d7a7de     0    1071.0      NaN        0   \n",
       "567317  0x0e768c9182357176566f3655a0d7a7de     0   21427.0      NaN        0   \n",
       "567318  0x0e768c9182357176566f3655a0d7a7de     0   21427.0      NaN        0   \n",
       "567319  0x947f5abac5ff1266f27e8b65c626ff5b     0  237747.0      NaN        0   \n",
       "\n",
       "        dimn coreg      durp  datp  dcml  \n",
       "0          0   NaN  0.000000   0.0     0  \n",
       "1          0   NaN  0.000000   0.0     0  \n",
       "2          0   NaN  0.000000   0.0     0  \n",
       "3          0   NaN  0.000000   0.0     0  \n",
       "4          0   NaN  0.000000   0.0     0  \n",
       "...      ...   ...       ...   ...   ...  \n",
       "567315     1   NaN -0.317808   0.0     0  \n",
       "567316     1   NaN  0.000000   0.0     0  \n",
       "567317     1   NaN  0.027398   0.0     0  \n",
       "567318     1   NaN  0.010959   0.0     0  \n",
       "567319     1   NaN  0.010959   0.0     0  \n",
       "\n",
       "[567320 rows x 16 columns]"
      ]
     },
     "execution_count": 11,
     "metadata": {},
     "output_type": "execute_result"
    }
   ],
   "source": [
    "pd.read_table(num)"
   ]
  },
  {
   "cell_type": "markdown",
   "metadata": {},
   "source": [
    "Which companies are these?"
   ]
  },
  {
   "cell_type": "code",
   "execution_count": 12,
   "metadata": {},
   "outputs": [
    {
     "data": {
      "text/html": [
       "<div>\n",
       "<style scoped>\n",
       "    .dataframe tbody tr th:only-of-type {\n",
       "        vertical-align: middle;\n",
       "    }\n",
       "\n",
       "    .dataframe tbody tr th {\n",
       "        vertical-align: top;\n",
       "    }\n",
       "\n",
       "    .dataframe thead th {\n",
       "        text-align: right;\n",
       "    }\n",
       "</style>\n",
       "<table border=\"1\" class=\"dataframe\">\n",
       "  <thead>\n",
       "    <tr style=\"text-align: right;\">\n",
       "      <th></th>\n",
       "      <th>adsh</th>\n",
       "      <th>cik</th>\n",
       "      <th>name</th>\n",
       "      <th>sic</th>\n",
       "      <th>countryba</th>\n",
       "      <th>stprba</th>\n",
       "      <th>cityba</th>\n",
       "      <th>zipba</th>\n",
       "      <th>bas1</th>\n",
       "      <th>bas2</th>\n",
       "      <th>...</th>\n",
       "      <th>accepted</th>\n",
       "      <th>prevrpt</th>\n",
       "      <th>detail</th>\n",
       "      <th>instance</th>\n",
       "      <th>nciks</th>\n",
       "      <th>aciks</th>\n",
       "      <th>pubfloatusd</th>\n",
       "      <th>floatdate</th>\n",
       "      <th>floataxis</th>\n",
       "      <th>floatmems</th>\n",
       "    </tr>\n",
       "  </thead>\n",
       "  <tbody>\n",
       "    <tr>\n",
       "      <th>0</th>\n",
       "      <td>0000021510-20-000049</td>\n",
       "      <td>21510</td>\n",
       "      <td>COHERENT INC</td>\n",
       "      <td>3826.0</td>\n",
       "      <td>US</td>\n",
       "      <td>CA</td>\n",
       "      <td>SANTA CLARA</td>\n",
       "      <td>95054</td>\n",
       "      <td>5100 PATRICK HENRY DR</td>\n",
       "      <td>NaN</td>\n",
       "      <td>...</td>\n",
       "      <td>2020-12-01 16:10:00.0</td>\n",
       "      <td>0</td>\n",
       "      <td>1</td>\n",
       "      <td>cohr-20201003_htm.xml</td>\n",
       "      <td>1</td>\n",
       "      <td>NaN</td>\n",
       "      <td>1.386118e+09</td>\n",
       "      <td>20200404.0</td>\n",
       "      <td>NaN</td>\n",
       "      <td>NaN</td>\n",
       "    </tr>\n",
       "    <tr>\n",
       "      <th>1</th>\n",
       "      <td>0000034088-20-000095</td>\n",
       "      <td>34088</td>\n",
       "      <td>EXXON MOBIL CORP</td>\n",
       "      <td>2911.0</td>\n",
       "      <td>US</td>\n",
       "      <td>TX</td>\n",
       "      <td>IRVING</td>\n",
       "      <td>75039-2298</td>\n",
       "      <td>5959 LAS COLINAS BLVD</td>\n",
       "      <td>NaN</td>\n",
       "      <td>...</td>\n",
       "      <td>2020-12-01 07:15:00.0</td>\n",
       "      <td>0</td>\n",
       "      <td>0</td>\n",
       "      <td>xom-20201124_htm.xml</td>\n",
       "      <td>1</td>\n",
       "      <td>NaN</td>\n",
       "      <td>NaN</td>\n",
       "      <td>NaN</td>\n",
       "      <td>NaN</td>\n",
       "      <td>NaN</td>\n",
       "    </tr>\n",
       "    <tr>\n",
       "      <th>2</th>\n",
       "      <td>0000045012-20-000111</td>\n",
       "      <td>45012</td>\n",
       "      <td>HALLIBURTON CO</td>\n",
       "      <td>1389.0</td>\n",
       "      <td>US</td>\n",
       "      <td>TX</td>\n",
       "      <td>HOUSTON</td>\n",
       "      <td>77032</td>\n",
       "      <td>3000 NORTH SAM HOUSTON PARKWAY EAST</td>\n",
       "      <td>3000 NORTH SAM HOUSTON PARKWAY EAST</td>\n",
       "      <td>...</td>\n",
       "      <td>2020-12-01 13:33:00.0</td>\n",
       "      <td>0</td>\n",
       "      <td>0</td>\n",
       "      <td>ex10b5_1tradingplan_htm.xml</td>\n",
       "      <td>1</td>\n",
       "      <td>NaN</td>\n",
       "      <td>NaN</td>\n",
       "      <td>NaN</td>\n",
       "      <td>NaN</td>\n",
       "      <td>NaN</td>\n",
       "    </tr>\n",
       "    <tr>\n",
       "      <th>3</th>\n",
       "      <td>0000049071-20-000153</td>\n",
       "      <td>49071</td>\n",
       "      <td>HUMANA INC</td>\n",
       "      <td>6324.0</td>\n",
       "      <td>US</td>\n",
       "      <td>KY</td>\n",
       "      <td>LOUISVILLE</td>\n",
       "      <td>40202</td>\n",
       "      <td>500 W MAIN ST</td>\n",
       "      <td>NaN</td>\n",
       "      <td>...</td>\n",
       "      <td>2020-12-01 07:38:00.0</td>\n",
       "      <td>0</td>\n",
       "      <td>0</td>\n",
       "      <td>form8k_12012020_htm.xml</td>\n",
       "      <td>1</td>\n",
       "      <td>NaN</td>\n",
       "      <td>NaN</td>\n",
       "      <td>NaN</td>\n",
       "      <td>NaN</td>\n",
       "      <td>NaN</td>\n",
       "    </tr>\n",
       "    <tr>\n",
       "      <th>4</th>\n",
       "      <td>0000066756-20-000085</td>\n",
       "      <td>66756</td>\n",
       "      <td>ALLETE INC</td>\n",
       "      <td>4931.0</td>\n",
       "      <td>US</td>\n",
       "      <td>MN</td>\n",
       "      <td>DULUTH</td>\n",
       "      <td>55802-2093</td>\n",
       "      <td>30 W SUPERIOR ST</td>\n",
       "      <td>NaN</td>\n",
       "      <td>...</td>\n",
       "      <td>2020-11-30 17:37:00.0</td>\n",
       "      <td>0</td>\n",
       "      <td>0</td>\n",
       "      <td>ale-20201130_htm.xml</td>\n",
       "      <td>1</td>\n",
       "      <td>NaN</td>\n",
       "      <td>NaN</td>\n",
       "      <td>NaN</td>\n",
       "      <td>NaN</td>\n",
       "      <td>NaN</td>\n",
       "    </tr>\n",
       "    <tr>\n",
       "      <th>...</th>\n",
       "      <td>...</td>\n",
       "      <td>...</td>\n",
       "      <td>...</td>\n",
       "      <td>...</td>\n",
       "      <td>...</td>\n",
       "      <td>...</td>\n",
       "      <td>...</td>\n",
       "      <td>...</td>\n",
       "      <td>...</td>\n",
       "      <td>...</td>\n",
       "      <td>...</td>\n",
       "      <td>...</td>\n",
       "      <td>...</td>\n",
       "      <td>...</td>\n",
       "      <td>...</td>\n",
       "      <td>...</td>\n",
       "      <td>...</td>\n",
       "      <td>...</td>\n",
       "      <td>...</td>\n",
       "      <td>...</td>\n",
       "      <td>...</td>\n",
       "    </tr>\n",
       "    <tr>\n",
       "      <th>3349</th>\n",
       "      <td>0001640334-20-003182</td>\n",
       "      <td>1623360</td>\n",
       "      <td>MIRAGE ENERGY CORP</td>\n",
       "      <td>3089.0</td>\n",
       "      <td>US</td>\n",
       "      <td>TX</td>\n",
       "      <td>SAN ANTONIO</td>\n",
       "      <td>78216</td>\n",
       "      <td>900 ISOM, SUITE 306</td>\n",
       "      <td>NaN</td>\n",
       "      <td>...</td>\n",
       "      <td>2020-12-30 18:00:00.0</td>\n",
       "      <td>0</td>\n",
       "      <td>1</td>\n",
       "      <td>mrge-20201031.xml</td>\n",
       "      <td>1</td>\n",
       "      <td>NaN</td>\n",
       "      <td>NaN</td>\n",
       "      <td>NaN</td>\n",
       "      <td>NaN</td>\n",
       "      <td>NaN</td>\n",
       "    </tr>\n",
       "    <tr>\n",
       "      <th>3350</th>\n",
       "      <td>0001654954-20-014038</td>\n",
       "      <td>725363</td>\n",
       "      <td>CEL SCI CORP</td>\n",
       "      <td>2836.0</td>\n",
       "      <td>US</td>\n",
       "      <td>VA</td>\n",
       "      <td>VIENNA</td>\n",
       "      <td>22182</td>\n",
       "      <td>8229 BOONE BLVD .</td>\n",
       "      <td>SUITE 802</td>\n",
       "      <td>...</td>\n",
       "      <td>2020-12-30 17:36:00.0</td>\n",
       "      <td>0</td>\n",
       "      <td>1</td>\n",
       "      <td>cvm_10qa_htm.xml</td>\n",
       "      <td>1</td>\n",
       "      <td>NaN</td>\n",
       "      <td>NaN</td>\n",
       "      <td>NaN</td>\n",
       "      <td>NaN</td>\n",
       "      <td>NaN</td>\n",
       "    </tr>\n",
       "    <tr>\n",
       "      <th>3351</th>\n",
       "      <td>0001683168-20-004497</td>\n",
       "      <td>725929</td>\n",
       "      <td>B2DIGITAL, INC.</td>\n",
       "      <td>7997.0</td>\n",
       "      <td>US</td>\n",
       "      <td>FL</td>\n",
       "      <td>TAMPA</td>\n",
       "      <td>33624</td>\n",
       "      <td>4522 WEST VILLAGE DRIVE</td>\n",
       "      <td>NaN</td>\n",
       "      <td>...</td>\n",
       "      <td>2020-12-31 13:13:00.0</td>\n",
       "      <td>0</td>\n",
       "      <td>1</td>\n",
       "      <td>btdg-20200930.xml</td>\n",
       "      <td>1</td>\n",
       "      <td>NaN</td>\n",
       "      <td>NaN</td>\n",
       "      <td>NaN</td>\n",
       "      <td>NaN</td>\n",
       "      <td>NaN</td>\n",
       "    </tr>\n",
       "    <tr>\n",
       "      <th>3352</th>\n",
       "      <td>0001721868-20-000664</td>\n",
       "      <td>1087022</td>\n",
       "      <td>ALR TECHNOLOGIES INC.</td>\n",
       "      <td>3669.0</td>\n",
       "      <td>US</td>\n",
       "      <td>VA</td>\n",
       "      <td>RICHMOND</td>\n",
       "      <td>23225</td>\n",
       "      <td>7400 BEAUFONT SPRINGS DRIVE</td>\n",
       "      <td>SUITE 300</td>\n",
       "      <td>...</td>\n",
       "      <td>2020-12-31 14:28:00.0</td>\n",
       "      <td>0</td>\n",
       "      <td>0</td>\n",
       "      <td>f2salr8k123020_htm.xml</td>\n",
       "      <td>1</td>\n",
       "      <td>NaN</td>\n",
       "      <td>NaN</td>\n",
       "      <td>NaN</td>\n",
       "      <td>NaN</td>\n",
       "      <td>NaN</td>\n",
       "    </tr>\n",
       "    <tr>\n",
       "      <th>3353</th>\n",
       "      <td>0001721868-20-000670</td>\n",
       "      <td>1530746</td>\n",
       "      <td>KAYA HOLDINGS, INC.</td>\n",
       "      <td>2834.0</td>\n",
       "      <td>US</td>\n",
       "      <td>FL</td>\n",
       "      <td>FORT LAUDERDALE</td>\n",
       "      <td>33304</td>\n",
       "      <td>915 MIDDLE RIVER DRIVE, SUITE 316</td>\n",
       "      <td>NaN</td>\n",
       "      <td>...</td>\n",
       "      <td>2020-12-31 16:22:00.0</td>\n",
       "      <td>0</td>\n",
       "      <td>0</td>\n",
       "      <td>f2skays8k123120_htm.xml</td>\n",
       "      <td>1</td>\n",
       "      <td>NaN</td>\n",
       "      <td>NaN</td>\n",
       "      <td>NaN</td>\n",
       "      <td>NaN</td>\n",
       "      <td>NaN</td>\n",
       "    </tr>\n",
       "  </tbody>\n",
       "</table>\n",
       "<p>3354 rows × 40 columns</p>\n",
       "</div>"
      ],
      "text/plain": [
       "                      adsh      cik                   name     sic countryba  \\\n",
       "0     0000021510-20-000049    21510           COHERENT INC  3826.0        US   \n",
       "1     0000034088-20-000095    34088       EXXON MOBIL CORP  2911.0        US   \n",
       "2     0000045012-20-000111    45012         HALLIBURTON CO  1389.0        US   \n",
       "3     0000049071-20-000153    49071             HUMANA INC  6324.0        US   \n",
       "4     0000066756-20-000085    66756             ALLETE INC  4931.0        US   \n",
       "...                    ...      ...                    ...     ...       ...   \n",
       "3349  0001640334-20-003182  1623360     MIRAGE ENERGY CORP  3089.0        US   \n",
       "3350  0001654954-20-014038   725363           CEL SCI CORP  2836.0        US   \n",
       "3351  0001683168-20-004497   725929        B2DIGITAL, INC.  7997.0        US   \n",
       "3352  0001721868-20-000664  1087022  ALR TECHNOLOGIES INC.  3669.0        US   \n",
       "3353  0001721868-20-000670  1530746    KAYA HOLDINGS, INC.  2834.0        US   \n",
       "\n",
       "     stprba           cityba       zipba                                 bas1  \\\n",
       "0        CA      SANTA CLARA       95054                5100 PATRICK HENRY DR   \n",
       "1        TX           IRVING  75039-2298                5959 LAS COLINAS BLVD   \n",
       "2        TX          HOUSTON       77032  3000 NORTH SAM HOUSTON PARKWAY EAST   \n",
       "3        KY       LOUISVILLE       40202                        500 W MAIN ST   \n",
       "4        MN           DULUTH  55802-2093                     30 W SUPERIOR ST   \n",
       "...     ...              ...         ...                                  ...   \n",
       "3349     TX      SAN ANTONIO       78216                  900 ISOM, SUITE 306   \n",
       "3350     VA           VIENNA       22182                    8229 BOONE BLVD .   \n",
       "3351     FL            TAMPA       33624              4522 WEST VILLAGE DRIVE   \n",
       "3352     VA         RICHMOND       23225          7400 BEAUFONT SPRINGS DRIVE   \n",
       "3353     FL  FORT LAUDERDALE       33304    915 MIDDLE RIVER DRIVE, SUITE 316   \n",
       "\n",
       "                                     bas2  ...               accepted prevrpt  \\\n",
       "0                                     NaN  ...  2020-12-01 16:10:00.0       0   \n",
       "1                                     NaN  ...  2020-12-01 07:15:00.0       0   \n",
       "2     3000 NORTH SAM HOUSTON PARKWAY EAST  ...  2020-12-01 13:33:00.0       0   \n",
       "3                                     NaN  ...  2020-12-01 07:38:00.0       0   \n",
       "4                                     NaN  ...  2020-11-30 17:37:00.0       0   \n",
       "...                                   ...  ...                    ...     ...   \n",
       "3349                                  NaN  ...  2020-12-30 18:00:00.0       0   \n",
       "3350                            SUITE 802  ...  2020-12-30 17:36:00.0       0   \n",
       "3351                                  NaN  ...  2020-12-31 13:13:00.0       0   \n",
       "3352                            SUITE 300  ...  2020-12-31 14:28:00.0       0   \n",
       "3353                                  NaN  ...  2020-12-31 16:22:00.0       0   \n",
       "\n",
       "     detail                     instance nciks aciks   pubfloatusd  \\\n",
       "0         1        cohr-20201003_htm.xml     1   NaN  1.386118e+09   \n",
       "1         0         xom-20201124_htm.xml     1   NaN           NaN   \n",
       "2         0  ex10b5_1tradingplan_htm.xml     1   NaN           NaN   \n",
       "3         0      form8k_12012020_htm.xml     1   NaN           NaN   \n",
       "4         0         ale-20201130_htm.xml     1   NaN           NaN   \n",
       "...     ...                          ...   ...   ...           ...   \n",
       "3349      1            mrge-20201031.xml     1   NaN           NaN   \n",
       "3350      1             cvm_10qa_htm.xml     1   NaN           NaN   \n",
       "3351      1            btdg-20200930.xml     1   NaN           NaN   \n",
       "3352      0       f2salr8k123020_htm.xml     1   NaN           NaN   \n",
       "3353      0      f2skays8k123120_htm.xml     1   NaN           NaN   \n",
       "\n",
       "       floatdate floataxis  floatmems  \n",
       "0     20200404.0       NaN        NaN  \n",
       "1            NaN       NaN        NaN  \n",
       "2            NaN       NaN        NaN  \n",
       "3            NaN       NaN        NaN  \n",
       "4            NaN       NaN        NaN  \n",
       "...          ...       ...        ...  \n",
       "3349         NaN       NaN        NaN  \n",
       "3350         NaN       NaN        NaN  \n",
       "3351         NaN       NaN        NaN  \n",
       "3352         NaN       NaN        NaN  \n",
       "3353         NaN       NaN        NaN  \n",
       "\n",
       "[3354 rows x 40 columns]"
      ]
     },
     "execution_count": 12,
     "metadata": {},
     "output_type": "execute_result"
    }
   ],
   "source": [
    "sub = z.open('sub.tsv')\n",
    "pd.read_table(sub)"
   ]
  },
  {
   "cell_type": "markdown",
   "metadata": {},
   "source": [
    "Save unizpped folder:"
   ]
  },
  {
   "cell_type": "code",
   "execution_count": 13,
   "metadata": {},
   "outputs": [
    {
     "data": {
      "text/plain": [
       "'data/sec/downloads/2020_12'"
      ]
     },
     "execution_count": 13,
     "metadata": {},
     "output_type": "execute_result"
    }
   ],
   "source": [
    "period = '2020_12'\n",
    "\n",
    "unzip_folder_name = 'data/sec/downloads/'  + period               # Where to put contents of unzipped file   \n",
    "unzip_folder_name"
   ]
  },
  {
   "cell_type": "markdown",
   "metadata": {},
   "source": [
    "Generate the directory:"
   ]
  },
  {
   "cell_type": "code",
   "execution_count": 15,
   "metadata": {},
   "outputs": [],
   "source": [
    "import os\n",
    "\n",
    "if not os.path.exists(unzip_folder_name): \n",
    "    os.mkdir(unzip_folder_name)                       # Create directory for unzipped files    "
   ]
  },
  {
   "cell_type": "markdown",
   "metadata": {},
   "source": [
    "Save to this directory:"
   ]
  },
  {
   "cell_type": "code",
   "execution_count": 16,
   "metadata": {},
   "outputs": [],
   "source": [
    "z.extractall(unzip_folder_name)             # Unzip file into new directory"
   ]
  },
  {
   "cell_type": "markdown",
   "metadata": {},
   "source": [
    "Structure of the URLs:"
   ]
  },
  {
   "cell_type": "markdown",
   "metadata": {},
   "source": [
    "https://www.sec.gov/files/dera/data/financial-statement-and-notes-data-sets/2020_12_notes.zip  \n",
    "https://www.sec.gov/files/dera/data/financial-statement-and-notes-data-sets/2020_11_notes.zip  \n",
    "https://www.sec.gov/files/dera/data/financial-statement-and-notes-data-sets/2020q3_notes.zip  \n",
    "https://www.sec.gov/files/dera/data/financial-statement-and-notes-data-sets/2019q3_notes.zip  "
   ]
  },
  {
   "cell_type": "code",
   "execution_count": 19,
   "metadata": {},
   "outputs": [
    {
     "data": {
      "text/plain": [
       "'https://www.sec.gov/files/dera/data/financial-statement-and-notes-data-sets/2020_12_notes.zip'"
      ]
     },
     "execution_count": 19,
     "metadata": {},
     "output_type": "execute_result"
    }
   ],
   "source": [
    "period = '2020_12'\n",
    "url = 'https://www.sec.gov/files/dera/data/financial-statement-and-notes-data-sets/' + period + '_notes.zip'  \n",
    "url"
   ]
  },
  {
   "cell_type": "markdown",
   "metadata": {},
   "source": [
    "Put all this into a function:"
   ]
  },
  {
   "cell_type": "code",
   "execution_count": 24,
   "metadata": {},
   "outputs": [],
   "source": [
    "def download_file(period):\n",
    "    \n",
    "    url = 'https://www.sec.gov/files/dera/data/financial-statement-and-notes-data-sets/' + period + '_notes.zip'  \n",
    "    \n",
    "    unzip_folder_name = 'data/sec/downloads/' + period                           # Where to put contents of unzipped file  \n",
    "    \n",
    "    r = requests.get(url)\n",
    "    \n",
    "    if r.ok:                                                                     # If download worked\n",
    "        print('Downloaded', url, 'to:', unzip_folder_name)\n",
    "        if not os.path.exists(unzip_folder_name): os.mkdir(unzip_folder_name)    # Create directory for unzipped files    \n",
    "        z = zipfile.ZipFile(io.BytesIO(r.content))\n",
    "        z.extractall(unzip_folder_name)                                          # Unzip file into new directory\n",
    "    else:\n",
    "        print('file does not exist')"
   ]
  },
  {
   "cell_type": "markdown",
   "metadata": {},
   "source": [
    "Use function like this:"
   ]
  },
  {
   "cell_type": "code",
   "execution_count": 26,
   "metadata": {},
   "outputs": [
    {
     "name": "stdout",
     "output_type": "stream",
     "text": [
      "Downloaded https://www.sec.gov/files/dera/data/financial-statement-and-notes-data-sets/2020_11_notes.zip to: data/sec/downloads/2020_11\n"
     ]
    }
   ],
   "source": [
    "download_file('2020_11')"
   ]
  },
  {
   "cell_type": "code",
   "execution_count": 27,
   "metadata": {},
   "outputs": [
    {
     "name": "stdout",
     "output_type": "stream",
     "text": [
      "file does not exist\n"
     ]
    }
   ],
   "source": [
    "download_file('2021_1')"
   ]
  },
  {
   "cell_type": "code",
   "execution_count": 28,
   "metadata": {},
   "outputs": [
    {
     "name": "stdout",
     "output_type": "stream",
     "text": [
      "Downloaded https://www.sec.gov/files/dera/data/financial-statement-and-notes-data-sets/2009q4_notes.zip to: data/sec/downloads/2009q4\n"
     ]
    }
   ],
   "source": [
    "download_file('2009q4')"
   ]
  },
  {
   "cell_type": "markdown",
   "metadata": {},
   "source": [
    "Download all files:"
   ]
  },
  {
   "cell_type": "code",
   "execution_count": 30,
   "metadata": {},
   "outputs": [
    {
     "name": "stdout",
     "output_type": "stream",
     "text": [
      "2009q1\n",
      "2009q2\n",
      "2009q3\n",
      "2009q4\n",
      "2010q1\n",
      "2010q2\n",
      "2010q3\n",
      "2010q4\n",
      "2011q1\n",
      "2011q2\n",
      "2011q3\n",
      "2011q4\n",
      "2012q1\n",
      "2012q2\n",
      "2012q3\n",
      "2012q4\n",
      "2013q1\n",
      "2013q2\n",
      "2013q3\n",
      "2013q4\n",
      "2014q1\n",
      "2014q2\n",
      "2014q3\n",
      "2014q4\n",
      "2015q1\n",
      "2015q2\n",
      "2015q3\n",
      "2015q4\n",
      "2016q1\n",
      "2016q2\n",
      "2016q3\n",
      "2016q4\n",
      "2017q1\n",
      "2017q2\n",
      "2017q3\n",
      "2017q4\n",
      "2018q1\n",
      "2018q2\n",
      "2018q3\n",
      "2018q4\n",
      "2019q1\n",
      "2019q2\n",
      "2019q3\n",
      "2019q4\n",
      "2020q1\n",
      "2020q2\n",
      "2020q3\n",
      "2020q4\n"
     ]
    }
   ],
   "source": [
    "for year in range(2009,2021):\n",
    "    for quarter in [1,2,3,4]:\n",
    "        period = str(year) + 'q' + str(quarter)\n",
    "        print(period)"
   ]
  },
  {
   "cell_type": "code",
   "execution_count": 31,
   "metadata": {},
   "outputs": [
    {
     "name": "stdout",
     "output_type": "stream",
     "text": [
      "2020_1\n",
      "2020_2\n",
      "2020_3\n",
      "2020_4\n",
      "2020_5\n",
      "2020_6\n",
      "2020_7\n",
      "2020_8\n",
      "2020_9\n",
      "2020_10\n",
      "2020_11\n",
      "2020_12\n"
     ]
    }
   ],
   "source": [
    "for year in range(2020,2021):\n",
    "    for month in range(1,13):\n",
    "        period = str(year) + '_' + str(month)\n",
    "        print(period)"
   ]
  },
  {
   "cell_type": "code",
   "execution_count": 32,
   "metadata": {},
   "outputs": [
    {
     "name": "stdout",
     "output_type": "stream",
     "text": [
      "Downloaded https://www.sec.gov/files/dera/data/financial-statement-and-notes-data-sets/2009q1_notes.zip to: data/sec/downloads/2009q1\n",
      "Downloaded https://www.sec.gov/files/dera/data/financial-statement-and-notes-data-sets/2009q2_notes.zip to: data/sec/downloads/2009q2\n",
      "Downloaded https://www.sec.gov/files/dera/data/financial-statement-and-notes-data-sets/2009q3_notes.zip to: data/sec/downloads/2009q3\n",
      "Downloaded https://www.sec.gov/files/dera/data/financial-statement-and-notes-data-sets/2009q4_notes.zip to: data/sec/downloads/2009q4\n",
      "Downloaded https://www.sec.gov/files/dera/data/financial-statement-and-notes-data-sets/2010q1_notes.zip to: data/sec/downloads/2010q1\n",
      "Downloaded https://www.sec.gov/files/dera/data/financial-statement-and-notes-data-sets/2010q2_notes.zip to: data/sec/downloads/2010q2\n",
      "Downloaded https://www.sec.gov/files/dera/data/financial-statement-and-notes-data-sets/2010q3_notes.zip to: data/sec/downloads/2010q3\n",
      "Downloaded https://www.sec.gov/files/dera/data/financial-statement-and-notes-data-sets/2010q4_notes.zip to: data/sec/downloads/2010q4\n",
      "Downloaded https://www.sec.gov/files/dera/data/financial-statement-and-notes-data-sets/2011q1_notes.zip to: data/sec/downloads/2011q1\n",
      "Downloaded https://www.sec.gov/files/dera/data/financial-statement-and-notes-data-sets/2011q2_notes.zip to: data/sec/downloads/2011q2\n",
      "Downloaded https://www.sec.gov/files/dera/data/financial-statement-and-notes-data-sets/2011q3_notes.zip to: data/sec/downloads/2011q3\n",
      "Downloaded https://www.sec.gov/files/dera/data/financial-statement-and-notes-data-sets/2011q4_notes.zip to: data/sec/downloads/2011q4\n",
      "Downloaded https://www.sec.gov/files/dera/data/financial-statement-and-notes-data-sets/2012q1_notes.zip to: data/sec/downloads/2012q1\n",
      "Downloaded https://www.sec.gov/files/dera/data/financial-statement-and-notes-data-sets/2012q2_notes.zip to: data/sec/downloads/2012q2\n",
      "Downloaded https://www.sec.gov/files/dera/data/financial-statement-and-notes-data-sets/2012q3_notes.zip to: data/sec/downloads/2012q3\n",
      "Downloaded https://www.sec.gov/files/dera/data/financial-statement-and-notes-data-sets/2012q4_notes.zip to: data/sec/downloads/2012q4\n",
      "Downloaded https://www.sec.gov/files/dera/data/financial-statement-and-notes-data-sets/2013q1_notes.zip to: data/sec/downloads/2013q1\n",
      "Downloaded https://www.sec.gov/files/dera/data/financial-statement-and-notes-data-sets/2013q2_notes.zip to: data/sec/downloads/2013q2\n",
      "Downloaded https://www.sec.gov/files/dera/data/financial-statement-and-notes-data-sets/2013q3_notes.zip to: data/sec/downloads/2013q3\n",
      "Downloaded https://www.sec.gov/files/dera/data/financial-statement-and-notes-data-sets/2013q4_notes.zip to: data/sec/downloads/2013q4\n",
      "Downloaded https://www.sec.gov/files/dera/data/financial-statement-and-notes-data-sets/2014q1_notes.zip to: data/sec/downloads/2014q1\n",
      "Downloaded https://www.sec.gov/files/dera/data/financial-statement-and-notes-data-sets/2014q2_notes.zip to: data/sec/downloads/2014q2\n",
      "Downloaded https://www.sec.gov/files/dera/data/financial-statement-and-notes-data-sets/2014q3_notes.zip to: data/sec/downloads/2014q3\n",
      "Downloaded https://www.sec.gov/files/dera/data/financial-statement-and-notes-data-sets/2014q4_notes.zip to: data/sec/downloads/2014q4\n",
      "Downloaded https://www.sec.gov/files/dera/data/financial-statement-and-notes-data-sets/2015q1_notes.zip to: data/sec/downloads/2015q1\n",
      "Downloaded https://www.sec.gov/files/dera/data/financial-statement-and-notes-data-sets/2015q2_notes.zip to: data/sec/downloads/2015q2\n"
     ]
    },
    {
     "ename": "OSError",
     "evalue": "[Errno 28] No space left on device",
     "output_type": "error",
     "traceback": [
      "\u001b[0;31m---------------------------------------------------------------------------\u001b[0m",
      "\u001b[0;31mOSError\u001b[0m                                   Traceback (most recent call last)",
      "\u001b[0;32m<ipython-input-32-7d13ed94fb64>\u001b[0m in \u001b[0;36m<module>\u001b[0;34m\u001b[0m\n\u001b[1;32m      2\u001b[0m     \u001b[0;32mfor\u001b[0m \u001b[0mquarter\u001b[0m \u001b[0;32min\u001b[0m \u001b[0;34m[\u001b[0m\u001b[0;36m1\u001b[0m\u001b[0;34m,\u001b[0m\u001b[0;36m2\u001b[0m\u001b[0;34m,\u001b[0m\u001b[0;36m3\u001b[0m\u001b[0;34m,\u001b[0m\u001b[0;36m4\u001b[0m\u001b[0;34m]\u001b[0m\u001b[0;34m:\u001b[0m\u001b[0;34m\u001b[0m\u001b[0;34m\u001b[0m\u001b[0m\n\u001b[1;32m      3\u001b[0m         \u001b[0mperiod\u001b[0m \u001b[0;34m=\u001b[0m \u001b[0mstr\u001b[0m\u001b[0;34m(\u001b[0m\u001b[0myear\u001b[0m\u001b[0;34m)\u001b[0m \u001b[0;34m+\u001b[0m \u001b[0;34m'q'\u001b[0m \u001b[0;34m+\u001b[0m \u001b[0mstr\u001b[0m\u001b[0;34m(\u001b[0m\u001b[0mquarter\u001b[0m\u001b[0;34m)\u001b[0m\u001b[0;34m\u001b[0m\u001b[0;34m\u001b[0m\u001b[0m\n\u001b[0;32m----> 4\u001b[0;31m         \u001b[0mdownload_file\u001b[0m\u001b[0;34m(\u001b[0m\u001b[0mperiod\u001b[0m\u001b[0;34m)\u001b[0m\u001b[0;34m\u001b[0m\u001b[0;34m\u001b[0m\u001b[0m\n\u001b[0m",
      "\u001b[0;32m<ipython-input-24-cbfaa28736b3>\u001b[0m in \u001b[0;36mdownload_file\u001b[0;34m(period)\u001b[0m\n\u001b[1;32m     11\u001b[0m         \u001b[0;32mif\u001b[0m \u001b[0;32mnot\u001b[0m \u001b[0mos\u001b[0m\u001b[0;34m.\u001b[0m\u001b[0mpath\u001b[0m\u001b[0;34m.\u001b[0m\u001b[0mexists\u001b[0m\u001b[0;34m(\u001b[0m\u001b[0munzip_folder_name\u001b[0m\u001b[0;34m)\u001b[0m\u001b[0;34m:\u001b[0m \u001b[0mos\u001b[0m\u001b[0;34m.\u001b[0m\u001b[0mmkdir\u001b[0m\u001b[0;34m(\u001b[0m\u001b[0munzip_folder_name\u001b[0m\u001b[0;34m)\u001b[0m    \u001b[0;31m# Create directory for unzipped files\u001b[0m\u001b[0;34m\u001b[0m\u001b[0;34m\u001b[0m\u001b[0m\n\u001b[1;32m     12\u001b[0m         \u001b[0mz\u001b[0m \u001b[0;34m=\u001b[0m \u001b[0mzipfile\u001b[0m\u001b[0;34m.\u001b[0m\u001b[0mZipFile\u001b[0m\u001b[0;34m(\u001b[0m\u001b[0mio\u001b[0m\u001b[0;34m.\u001b[0m\u001b[0mBytesIO\u001b[0m\u001b[0;34m(\u001b[0m\u001b[0mr\u001b[0m\u001b[0;34m.\u001b[0m\u001b[0mcontent\u001b[0m\u001b[0;34m)\u001b[0m\u001b[0;34m)\u001b[0m\u001b[0;34m\u001b[0m\u001b[0;34m\u001b[0m\u001b[0m\n\u001b[0;32m---> 13\u001b[0;31m         \u001b[0mz\u001b[0m\u001b[0;34m.\u001b[0m\u001b[0mextractall\u001b[0m\u001b[0;34m(\u001b[0m\u001b[0munzip_folder_name\u001b[0m\u001b[0;34m)\u001b[0m                                          \u001b[0;31m# Unzip file into new directory\u001b[0m\u001b[0;34m\u001b[0m\u001b[0;34m\u001b[0m\u001b[0m\n\u001b[0m\u001b[1;32m     14\u001b[0m     \u001b[0;32melse\u001b[0m\u001b[0;34m:\u001b[0m\u001b[0;34m\u001b[0m\u001b[0;34m\u001b[0m\u001b[0m\n\u001b[1;32m     15\u001b[0m         \u001b[0mprint\u001b[0m\u001b[0;34m(\u001b[0m\u001b[0;34m'file does not exist'\u001b[0m\u001b[0;34m)\u001b[0m\u001b[0;34m\u001b[0m\u001b[0;34m\u001b[0m\u001b[0m\n",
      "\u001b[0;32m~/opt/anaconda3/lib/python3.7/zipfile.py\u001b[0m in \u001b[0;36mextractall\u001b[0;34m(self, path, members, pwd)\u001b[0m\n\u001b[1;32m   1634\u001b[0m \u001b[0;34m\u001b[0m\u001b[0m\n\u001b[1;32m   1635\u001b[0m         \u001b[0;32mfor\u001b[0m \u001b[0mzipinfo\u001b[0m \u001b[0;32min\u001b[0m \u001b[0mmembers\u001b[0m\u001b[0;34m:\u001b[0m\u001b[0;34m\u001b[0m\u001b[0;34m\u001b[0m\u001b[0m\n\u001b[0;32m-> 1636\u001b[0;31m             \u001b[0mself\u001b[0m\u001b[0;34m.\u001b[0m\u001b[0m_extract_member\u001b[0m\u001b[0;34m(\u001b[0m\u001b[0mzipinfo\u001b[0m\u001b[0;34m,\u001b[0m \u001b[0mpath\u001b[0m\u001b[0;34m,\u001b[0m \u001b[0mpwd\u001b[0m\u001b[0;34m)\u001b[0m\u001b[0;34m\u001b[0m\u001b[0;34m\u001b[0m\u001b[0m\n\u001b[0m\u001b[1;32m   1637\u001b[0m \u001b[0;34m\u001b[0m\u001b[0m\n\u001b[1;32m   1638\u001b[0m     \u001b[0;34m@\u001b[0m\u001b[0mclassmethod\u001b[0m\u001b[0;34m\u001b[0m\u001b[0;34m\u001b[0m\u001b[0m\n",
      "\u001b[0;32m~/opt/anaconda3/lib/python3.7/zipfile.py\u001b[0m in \u001b[0;36m_extract_member\u001b[0;34m(self, member, targetpath, pwd)\u001b[0m\n\u001b[1;32m   1689\u001b[0m         \u001b[0;32mwith\u001b[0m \u001b[0mself\u001b[0m\u001b[0;34m.\u001b[0m\u001b[0mopen\u001b[0m\u001b[0;34m(\u001b[0m\u001b[0mmember\u001b[0m\u001b[0;34m,\u001b[0m \u001b[0mpwd\u001b[0m\u001b[0;34m=\u001b[0m\u001b[0mpwd\u001b[0m\u001b[0;34m)\u001b[0m \u001b[0;32mas\u001b[0m \u001b[0msource\u001b[0m\u001b[0;34m,\u001b[0m\u001b[0;31m \u001b[0m\u001b[0;31m\\\u001b[0m\u001b[0;34m\u001b[0m\u001b[0;34m\u001b[0m\u001b[0m\n\u001b[1;32m   1690\u001b[0m              \u001b[0mopen\u001b[0m\u001b[0;34m(\u001b[0m\u001b[0mtargetpath\u001b[0m\u001b[0;34m,\u001b[0m \u001b[0;34m\"wb\"\u001b[0m\u001b[0;34m)\u001b[0m \u001b[0;32mas\u001b[0m \u001b[0mtarget\u001b[0m\u001b[0;34m:\u001b[0m\u001b[0;34m\u001b[0m\u001b[0;34m\u001b[0m\u001b[0m\n\u001b[0;32m-> 1691\u001b[0;31m             \u001b[0mshutil\u001b[0m\u001b[0;34m.\u001b[0m\u001b[0mcopyfileobj\u001b[0m\u001b[0;34m(\u001b[0m\u001b[0msource\u001b[0m\u001b[0;34m,\u001b[0m \u001b[0mtarget\u001b[0m\u001b[0;34m)\u001b[0m\u001b[0;34m\u001b[0m\u001b[0;34m\u001b[0m\u001b[0m\n\u001b[0m\u001b[1;32m   1692\u001b[0m \u001b[0;34m\u001b[0m\u001b[0m\n\u001b[1;32m   1693\u001b[0m         \u001b[0;32mreturn\u001b[0m \u001b[0mtargetpath\u001b[0m\u001b[0;34m\u001b[0m\u001b[0;34m\u001b[0m\u001b[0m\n",
      "\u001b[0;32m~/opt/anaconda3/lib/python3.7/shutil.py\u001b[0m in \u001b[0;36mcopyfileobj\u001b[0;34m(fsrc, fdst, length)\u001b[0m\n\u001b[1;32m     80\u001b[0m         \u001b[0;32mif\u001b[0m \u001b[0;32mnot\u001b[0m \u001b[0mbuf\u001b[0m\u001b[0;34m:\u001b[0m\u001b[0;34m\u001b[0m\u001b[0;34m\u001b[0m\u001b[0m\n\u001b[1;32m     81\u001b[0m             \u001b[0;32mbreak\u001b[0m\u001b[0;34m\u001b[0m\u001b[0;34m\u001b[0m\u001b[0m\n\u001b[0;32m---> 82\u001b[0;31m         \u001b[0mfdst\u001b[0m\u001b[0;34m.\u001b[0m\u001b[0mwrite\u001b[0m\u001b[0;34m(\u001b[0m\u001b[0mbuf\u001b[0m\u001b[0;34m)\u001b[0m\u001b[0;34m\u001b[0m\u001b[0;34m\u001b[0m\u001b[0m\n\u001b[0m\u001b[1;32m     83\u001b[0m \u001b[0;34m\u001b[0m\u001b[0m\n\u001b[1;32m     84\u001b[0m \u001b[0;32mdef\u001b[0m \u001b[0m_samefile\u001b[0m\u001b[0;34m(\u001b[0m\u001b[0msrc\u001b[0m\u001b[0;34m,\u001b[0m \u001b[0mdst\u001b[0m\u001b[0;34m)\u001b[0m\u001b[0;34m:\u001b[0m\u001b[0;34m\u001b[0m\u001b[0;34m\u001b[0m\u001b[0m\n",
      "\u001b[0;31mOSError\u001b[0m: [Errno 28] No space left on device"
     ]
    }
   ],
   "source": [
    "for year in range(2009,2021):\n",
    "    for quarter in [1,2,3,4]:\n",
    "        period = str(year) + 'q' + str(quarter)\n",
    "        download_file(period)"
   ]
  },
  {
   "cell_type": "code",
   "execution_count": 33,
   "metadata": {},
   "outputs": [
    {
     "name": "stdout",
     "output_type": "stream",
     "text": [
      "file does not exist\n",
      "file does not exist\n",
      "file does not exist\n",
      "file does not exist\n",
      "file does not exist\n",
      "file does not exist\n",
      "file does not exist\n",
      "file does not exist\n",
      "file does not exist\n",
      "Downloaded https://www.sec.gov/files/dera/data/financial-statement-and-notes-data-sets/2020_10_notes.zip to: data/sec/downloads/2020_10\n",
      "Downloaded https://www.sec.gov/files/dera/data/financial-statement-and-notes-data-sets/2020_11_notes.zip to: data/sec/downloads/2020_11\n",
      "Downloaded https://www.sec.gov/files/dera/data/financial-statement-and-notes-data-sets/2020_12_notes.zip to: data/sec/downloads/2020_12\n"
     ]
    }
   ],
   "source": [
    "for year in range(2020,2021):\n",
    "    for month in range(1,13):\n",
    "        period = str(year) + '_' + str(month)\n",
    "        download_file(period)"
   ]
  },
  {
   "cell_type": "code",
   "execution_count": null,
   "metadata": {},
   "outputs": [],
   "source": []
  }
 ],
 "metadata": {
  "kernelspec": {
   "display_name": "Python 3",
   "language": "python",
   "name": "python3"
  },
  "language_info": {
   "codemirror_mode": {
    "name": "ipython",
    "version": 3
   },
   "file_extension": ".py",
   "mimetype": "text/x-python",
   "name": "python",
   "nbconvert_exporter": "python",
   "pygments_lexer": "ipython3",
   "version": "3.7.6"
  }
 },
 "nbformat": 4,
 "nbformat_minor": 5
}
