{
 "cells": [
  {
   "cell_type": "markdown",
   "metadata": {},
   "source": [
    "# Stock Prices II: Distribution of Returns"
   ]
  },
  {
   "cell_type": "code",
   "execution_count": 4,
   "metadata": {},
   "outputs": [],
   "source": [
    "import pandas as pd\n",
    "\n",
    "from tiingo import TiingoClient                       \n",
    "tiingo = TiingoClient({'api_key':'f10f5d79cf2567b045cc7e9b595a6fec0f5321d2'})\n",
    "\n",
    "import quandl  \n",
    "quandl.ApiConfig.api_key = 'EqpCyveK1jFmUkmzpPjz'\n",
    "\n",
    "import matplotlib.pyplot as plt                        # Basic plot library.\n",
    "plt.style.use('ggplot')                                # Make plots look nice."
   ]
  },
  {
   "cell_type": "markdown",
   "metadata": {},
   "source": [
    "Get data for S&P 500 ETF:"
   ]
  },
  {
   "cell_type": "code",
   "execution_count": 5,
   "metadata": {},
   "outputs": [
    {
     "data": {
      "text/html": [
       "<div>\n",
       "<style scoped>\n",
       "    .dataframe tbody tr th:only-of-type {\n",
       "        vertical-align: middle;\n",
       "    }\n",
       "\n",
       "    .dataframe tbody tr th {\n",
       "        vertical-align: top;\n",
       "    }\n",
       "\n",
       "    .dataframe thead th {\n",
       "        text-align: right;\n",
       "    }\n",
       "</style>\n",
       "<table border=\"1\" class=\"dataframe\">\n",
       "  <thead>\n",
       "    <tr style=\"text-align: right;\">\n",
       "      <th></th>\n",
       "      <th>close</th>\n",
       "      <th>high</th>\n",
       "      <th>low</th>\n",
       "      <th>open</th>\n",
       "      <th>volume</th>\n",
       "      <th>adjClose</th>\n",
       "      <th>adjHigh</th>\n",
       "      <th>adjLow</th>\n",
       "      <th>adjOpen</th>\n",
       "      <th>adjVolume</th>\n",
       "      <th>divCash</th>\n",
       "      <th>splitFactor</th>\n",
       "    </tr>\n",
       "    <tr>\n",
       "      <th>date</th>\n",
       "      <th></th>\n",
       "      <th></th>\n",
       "      <th></th>\n",
       "      <th></th>\n",
       "      <th></th>\n",
       "      <th></th>\n",
       "      <th></th>\n",
       "      <th></th>\n",
       "      <th></th>\n",
       "      <th></th>\n",
       "      <th></th>\n",
       "      <th></th>\n",
       "    </tr>\n",
       "  </thead>\n",
       "  <tbody>\n",
       "    <tr>\n",
       "      <th>1993-01-29 00:00:00+00:00</th>\n",
       "      <td>43.9375</td>\n",
       "      <td>43.9687</td>\n",
       "      <td>43.7500</td>\n",
       "      <td>43.9687</td>\n",
       "      <td>1003200</td>\n",
       "      <td>25.961948</td>\n",
       "      <td>25.980383</td>\n",
       "      <td>25.851157</td>\n",
       "      <td>25.980383</td>\n",
       "      <td>1003200</td>\n",
       "      <td>0.0</td>\n",
       "      <td>1.0</td>\n",
       "    </tr>\n",
       "    <tr>\n",
       "      <th>1993-02-01 00:00:00+00:00</th>\n",
       "      <td>44.2500</td>\n",
       "      <td>44.2500</td>\n",
       "      <td>43.9687</td>\n",
       "      <td>43.9687</td>\n",
       "      <td>480500</td>\n",
       "      <td>26.146599</td>\n",
       "      <td>26.146599</td>\n",
       "      <td>25.980383</td>\n",
       "      <td>25.980383</td>\n",
       "      <td>480500</td>\n",
       "      <td>0.0</td>\n",
       "      <td>1.0</td>\n",
       "    </tr>\n",
       "    <tr>\n",
       "      <th>1993-02-02 00:00:00+00:00</th>\n",
       "      <td>44.3437</td>\n",
       "      <td>44.3750</td>\n",
       "      <td>44.1250</td>\n",
       "      <td>44.2187</td>\n",
       "      <td>201300</td>\n",
       "      <td>26.201965</td>\n",
       "      <td>26.220459</td>\n",
       "      <td>26.072739</td>\n",
       "      <td>26.128104</td>\n",
       "      <td>201300</td>\n",
       "      <td>0.0</td>\n",
       "      <td>1.0</td>\n",
       "    </tr>\n",
       "    <tr>\n",
       "      <th>1993-02-03 00:00:00+00:00</th>\n",
       "      <td>44.8125</td>\n",
       "      <td>44.8437</td>\n",
       "      <td>44.3750</td>\n",
       "      <td>44.4062</td>\n",
       "      <td>529400</td>\n",
       "      <td>26.478971</td>\n",
       "      <td>26.497407</td>\n",
       "      <td>26.220459</td>\n",
       "      <td>26.238895</td>\n",
       "      <td>529400</td>\n",
       "      <td>0.0</td>\n",
       "      <td>1.0</td>\n",
       "    </tr>\n",
       "    <tr>\n",
       "      <th>1993-02-04 00:00:00+00:00</th>\n",
       "      <td>45.0000</td>\n",
       "      <td>45.0937</td>\n",
       "      <td>44.4687</td>\n",
       "      <td>44.9687</td>\n",
       "      <td>531500</td>\n",
       "      <td>26.589762</td>\n",
       "      <td>26.645128</td>\n",
       "      <td>26.275825</td>\n",
       "      <td>26.571267</td>\n",
       "      <td>531500</td>\n",
       "      <td>0.0</td>\n",
       "      <td>1.0</td>\n",
       "    </tr>\n",
       "    <tr>\n",
       "      <th>...</th>\n",
       "      <td>...</td>\n",
       "      <td>...</td>\n",
       "      <td>...</td>\n",
       "      <td>...</td>\n",
       "      <td>...</td>\n",
       "      <td>...</td>\n",
       "      <td>...</td>\n",
       "      <td>...</td>\n",
       "      <td>...</td>\n",
       "      <td>...</td>\n",
       "      <td>...</td>\n",
       "      <td>...</td>\n",
       "    </tr>\n",
       "    <tr>\n",
       "      <th>2021-02-25 00:00:00+00:00</th>\n",
       "      <td>382.3300</td>\n",
       "      <td>391.8800</td>\n",
       "      <td>380.7789</td>\n",
       "      <td>390.4100</td>\n",
       "      <td>144712701</td>\n",
       "      <td>382.330000</td>\n",
       "      <td>391.880000</td>\n",
       "      <td>380.778900</td>\n",
       "      <td>390.410000</td>\n",
       "      <td>144712701</td>\n",
       "      <td>0.0</td>\n",
       "      <td>1.0</td>\n",
       "    </tr>\n",
       "    <tr>\n",
       "      <th>2021-02-26 00:00:00+00:00</th>\n",
       "      <td>380.3600</td>\n",
       "      <td>385.5800</td>\n",
       "      <td>378.2300</td>\n",
       "      <td>384.3500</td>\n",
       "      <td>149530614</td>\n",
       "      <td>380.360000</td>\n",
       "      <td>385.580000</td>\n",
       "      <td>378.230000</td>\n",
       "      <td>384.350000</td>\n",
       "      <td>149530614</td>\n",
       "      <td>0.0</td>\n",
       "      <td>1.0</td>\n",
       "    </tr>\n",
       "    <tr>\n",
       "      <th>2021-03-01 00:00:00+00:00</th>\n",
       "      <td>389.5800</td>\n",
       "      <td>390.9200</td>\n",
       "      <td>380.5720</td>\n",
       "      <td>385.5900</td>\n",
       "      <td>105348798</td>\n",
       "      <td>389.580000</td>\n",
       "      <td>390.920000</td>\n",
       "      <td>380.572000</td>\n",
       "      <td>385.590000</td>\n",
       "      <td>105348798</td>\n",
       "      <td>0.0</td>\n",
       "      <td>1.0</td>\n",
       "    </tr>\n",
       "    <tr>\n",
       "      <th>2021-03-02 00:00:00+00:00</th>\n",
       "      <td>386.5400</td>\n",
       "      <td>390.0700</td>\n",
       "      <td>386.0000</td>\n",
       "      <td>389.8200</td>\n",
       "      <td>79595332</td>\n",
       "      <td>386.540000</td>\n",
       "      <td>390.070000</td>\n",
       "      <td>386.000000</td>\n",
       "      <td>389.820000</td>\n",
       "      <td>79595332</td>\n",
       "      <td>0.0</td>\n",
       "      <td>1.0</td>\n",
       "    </tr>\n",
       "    <tr>\n",
       "      <th>2021-03-03 00:00:00+00:00</th>\n",
       "      <td>381.4200</td>\n",
       "      <td>386.8300</td>\n",
       "      <td>381.3100</td>\n",
       "      <td>385.7900</td>\n",
       "      <td>119940211</td>\n",
       "      <td>381.420000</td>\n",
       "      <td>386.830000</td>\n",
       "      <td>381.310000</td>\n",
       "      <td>385.790000</td>\n",
       "      <td>119940211</td>\n",
       "      <td>0.0</td>\n",
       "      <td>1.0</td>\n",
       "    </tr>\n",
       "  </tbody>\n",
       "</table>\n",
       "<p>7074 rows × 12 columns</p>\n",
       "</div>"
      ],
      "text/plain": [
       "                              close      high       low      open     volume  \\\n",
       "date                                                                           \n",
       "1993-01-29 00:00:00+00:00   43.9375   43.9687   43.7500   43.9687    1003200   \n",
       "1993-02-01 00:00:00+00:00   44.2500   44.2500   43.9687   43.9687     480500   \n",
       "1993-02-02 00:00:00+00:00   44.3437   44.3750   44.1250   44.2187     201300   \n",
       "1993-02-03 00:00:00+00:00   44.8125   44.8437   44.3750   44.4062     529400   \n",
       "1993-02-04 00:00:00+00:00   45.0000   45.0937   44.4687   44.9687     531500   \n",
       "...                             ...       ...       ...       ...        ...   \n",
       "2021-02-25 00:00:00+00:00  382.3300  391.8800  380.7789  390.4100  144712701   \n",
       "2021-02-26 00:00:00+00:00  380.3600  385.5800  378.2300  384.3500  149530614   \n",
       "2021-03-01 00:00:00+00:00  389.5800  390.9200  380.5720  385.5900  105348798   \n",
       "2021-03-02 00:00:00+00:00  386.5400  390.0700  386.0000  389.8200   79595332   \n",
       "2021-03-03 00:00:00+00:00  381.4200  386.8300  381.3100  385.7900  119940211   \n",
       "\n",
       "                             adjClose     adjHigh      adjLow     adjOpen  \\\n",
       "date                                                                        \n",
       "1993-01-29 00:00:00+00:00   25.961948   25.980383   25.851157   25.980383   \n",
       "1993-02-01 00:00:00+00:00   26.146599   26.146599   25.980383   25.980383   \n",
       "1993-02-02 00:00:00+00:00   26.201965   26.220459   26.072739   26.128104   \n",
       "1993-02-03 00:00:00+00:00   26.478971   26.497407   26.220459   26.238895   \n",
       "1993-02-04 00:00:00+00:00   26.589762   26.645128   26.275825   26.571267   \n",
       "...                               ...         ...         ...         ...   \n",
       "2021-02-25 00:00:00+00:00  382.330000  391.880000  380.778900  390.410000   \n",
       "2021-02-26 00:00:00+00:00  380.360000  385.580000  378.230000  384.350000   \n",
       "2021-03-01 00:00:00+00:00  389.580000  390.920000  380.572000  385.590000   \n",
       "2021-03-02 00:00:00+00:00  386.540000  390.070000  386.000000  389.820000   \n",
       "2021-03-03 00:00:00+00:00  381.420000  386.830000  381.310000  385.790000   \n",
       "\n",
       "                           adjVolume  divCash  splitFactor  \n",
       "date                                                        \n",
       "1993-01-29 00:00:00+00:00    1003200      0.0          1.0  \n",
       "1993-02-01 00:00:00+00:00     480500      0.0          1.0  \n",
       "1993-02-02 00:00:00+00:00     201300      0.0          1.0  \n",
       "1993-02-03 00:00:00+00:00     529400      0.0          1.0  \n",
       "1993-02-04 00:00:00+00:00     531500      0.0          1.0  \n",
       "...                              ...      ...          ...  \n",
       "2021-02-25 00:00:00+00:00  144712701      0.0          1.0  \n",
       "2021-02-26 00:00:00+00:00  149530614      0.0          1.0  \n",
       "2021-03-01 00:00:00+00:00  105348798      0.0          1.0  \n",
       "2021-03-02 00:00:00+00:00   79595332      0.0          1.0  \n",
       "2021-03-03 00:00:00+00:00  119940211      0.0          1.0  \n",
       "\n",
       "[7074 rows x 12 columns]"
      ]
     },
     "execution_count": 5,
     "metadata": {},
     "output_type": "execute_result"
    }
   ],
   "source": [
    "data = tiingo.get_dataframe('SPY', '1900-1-1')   \n",
    "data"
   ]
  },
  {
   "cell_type": "markdown",
   "metadata": {},
   "source": [
    "Get rid of time zone:"
   ]
  },
  {
   "cell_type": "code",
   "execution_count": 6,
   "metadata": {},
   "outputs": [
    {
     "data": {
      "text/html": [
       "<div>\n",
       "<style scoped>\n",
       "    .dataframe tbody tr th:only-of-type {\n",
       "        vertical-align: middle;\n",
       "    }\n",
       "\n",
       "    .dataframe tbody tr th {\n",
       "        vertical-align: top;\n",
       "    }\n",
       "\n",
       "    .dataframe thead th {\n",
       "        text-align: right;\n",
       "    }\n",
       "</style>\n",
       "<table border=\"1\" class=\"dataframe\">\n",
       "  <thead>\n",
       "    <tr style=\"text-align: right;\">\n",
       "      <th></th>\n",
       "      <th>close</th>\n",
       "      <th>high</th>\n",
       "      <th>low</th>\n",
       "      <th>open</th>\n",
       "      <th>volume</th>\n",
       "      <th>adjClose</th>\n",
       "      <th>adjHigh</th>\n",
       "      <th>adjLow</th>\n",
       "      <th>adjOpen</th>\n",
       "      <th>adjVolume</th>\n",
       "      <th>divCash</th>\n",
       "      <th>splitFactor</th>\n",
       "    </tr>\n",
       "    <tr>\n",
       "      <th>date</th>\n",
       "      <th></th>\n",
       "      <th></th>\n",
       "      <th></th>\n",
       "      <th></th>\n",
       "      <th></th>\n",
       "      <th></th>\n",
       "      <th></th>\n",
       "      <th></th>\n",
       "      <th></th>\n",
       "      <th></th>\n",
       "      <th></th>\n",
       "      <th></th>\n",
       "    </tr>\n",
       "  </thead>\n",
       "  <tbody>\n",
       "    <tr>\n",
       "      <th>2021-03-01</th>\n",
       "      <td>389.58</td>\n",
       "      <td>390.92</td>\n",
       "      <td>380.572</td>\n",
       "      <td>385.59</td>\n",
       "      <td>105348798</td>\n",
       "      <td>389.58</td>\n",
       "      <td>390.92</td>\n",
       "      <td>380.572</td>\n",
       "      <td>385.59</td>\n",
       "      <td>105348798</td>\n",
       "      <td>0.0</td>\n",
       "      <td>1.0</td>\n",
       "    </tr>\n",
       "    <tr>\n",
       "      <th>2021-03-02</th>\n",
       "      <td>386.54</td>\n",
       "      <td>390.07</td>\n",
       "      <td>386.000</td>\n",
       "      <td>389.82</td>\n",
       "      <td>79595332</td>\n",
       "      <td>386.54</td>\n",
       "      <td>390.07</td>\n",
       "      <td>386.000</td>\n",
       "      <td>389.82</td>\n",
       "      <td>79595332</td>\n",
       "      <td>0.0</td>\n",
       "      <td>1.0</td>\n",
       "    </tr>\n",
       "    <tr>\n",
       "      <th>2021-03-03</th>\n",
       "      <td>381.42</td>\n",
       "      <td>386.83</td>\n",
       "      <td>381.310</td>\n",
       "      <td>385.79</td>\n",
       "      <td>119940211</td>\n",
       "      <td>381.42</td>\n",
       "      <td>386.83</td>\n",
       "      <td>381.310</td>\n",
       "      <td>385.79</td>\n",
       "      <td>119940211</td>\n",
       "      <td>0.0</td>\n",
       "      <td>1.0</td>\n",
       "    </tr>\n",
       "  </tbody>\n",
       "</table>\n",
       "</div>"
      ],
      "text/plain": [
       "             close    high      low    open     volume  adjClose  adjHigh  \\\n",
       "date                                                                        \n",
       "2021-03-01  389.58  390.92  380.572  385.59  105348798    389.58   390.92   \n",
       "2021-03-02  386.54  390.07  386.000  389.82   79595332    386.54   390.07   \n",
       "2021-03-03  381.42  386.83  381.310  385.79  119940211    381.42   386.83   \n",
       "\n",
       "             adjLow  adjOpen  adjVolume  divCash  splitFactor  \n",
       "date                                                           \n",
       "2021-03-01  380.572   385.59  105348798      0.0          1.0  \n",
       "2021-03-02  386.000   389.82   79595332      0.0          1.0  \n",
       "2021-03-03  381.310   385.79  119940211      0.0          1.0  "
      ]
     },
     "execution_count": 6,
     "metadata": {},
     "output_type": "execute_result"
    }
   ],
   "source": [
    "data.index = data.index.tz_convert(None)\n",
    "data[-3:]"
   ]
  },
  {
   "cell_type": "markdown",
   "metadata": {},
   "source": [
    "Calculate daily returns:"
   ]
  },
  {
   "cell_type": "code",
   "execution_count": 32,
   "metadata": {},
   "outputs": [
    {
     "data": {
      "text/html": [
       "<div>\n",
       "<style scoped>\n",
       "    .dataframe tbody tr th:only-of-type {\n",
       "        vertical-align: middle;\n",
       "    }\n",
       "\n",
       "    .dataframe tbody tr th {\n",
       "        vertical-align: top;\n",
       "    }\n",
       "\n",
       "    .dataframe thead th {\n",
       "        text-align: right;\n",
       "    }\n",
       "</style>\n",
       "<table border=\"1\" class=\"dataframe\">\n",
       "  <thead>\n",
       "    <tr style=\"text-align: right;\">\n",
       "      <th></th>\n",
       "      <th>adjClose</th>\n",
       "    </tr>\n",
       "    <tr>\n",
       "      <th>date</th>\n",
       "      <th></th>\n",
       "    </tr>\n",
       "  </thead>\n",
       "  <tbody>\n",
       "    <tr>\n",
       "      <th>1993-01-29</th>\n",
       "      <td>NaN</td>\n",
       "    </tr>\n",
       "    <tr>\n",
       "      <th>1993-02-01</th>\n",
       "      <td>0.007112</td>\n",
       "    </tr>\n",
       "    <tr>\n",
       "      <th>1993-02-02</th>\n",
       "      <td>0.002118</td>\n",
       "    </tr>\n",
       "    <tr>\n",
       "      <th>1993-02-03</th>\n",
       "      <td>0.010572</td>\n",
       "    </tr>\n",
       "    <tr>\n",
       "      <th>1993-02-04</th>\n",
       "      <td>0.004184</td>\n",
       "    </tr>\n",
       "    <tr>\n",
       "      <th>...</th>\n",
       "      <td>...</td>\n",
       "    </tr>\n",
       "    <tr>\n",
       "      <th>2021-02-25</th>\n",
       "      <td>-0.024096</td>\n",
       "    </tr>\n",
       "    <tr>\n",
       "      <th>2021-02-26</th>\n",
       "      <td>-0.005153</td>\n",
       "    </tr>\n",
       "    <tr>\n",
       "      <th>2021-03-01</th>\n",
       "      <td>0.024240</td>\n",
       "    </tr>\n",
       "    <tr>\n",
       "      <th>2021-03-02</th>\n",
       "      <td>-0.007803</td>\n",
       "    </tr>\n",
       "    <tr>\n",
       "      <th>2021-03-03</th>\n",
       "      <td>-0.013246</td>\n",
       "    </tr>\n",
       "  </tbody>\n",
       "</table>\n",
       "<p>7074 rows × 1 columns</p>\n",
       "</div>"
      ],
      "text/plain": [
       "            adjClose\n",
       "date                \n",
       "1993-01-29       NaN\n",
       "1993-02-01  0.007112\n",
       "1993-02-02  0.002118\n",
       "1993-02-03  0.010572\n",
       "1993-02-04  0.004184\n",
       "...              ...\n",
       "2021-02-25 -0.024096\n",
       "2021-02-26 -0.005153\n",
       "2021-03-01  0.024240\n",
       "2021-03-02 -0.007803\n",
       "2021-03-03 -0.013246\n",
       "\n",
       "[7074 rows x 1 columns]"
      ]
     },
     "execution_count": 32,
     "metadata": {},
     "output_type": "execute_result"
    }
   ],
   "source": [
    "r_daily = data[['adjClose']].pct_change()\n",
    "r_daily"
   ]
  },
  {
   "cell_type": "markdown",
   "metadata": {},
   "source": [
    "What are the annual returns?"
   ]
  },
  {
   "cell_type": "code",
   "execution_count": 10,
   "metadata": {},
   "outputs": [
    {
     "data": {
      "text/plain": [
       "Int64Index([1993, 1993, 1993, 1993, 1993, 1993, 1993, 1993, 1993, 1993,\n",
       "            ...\n",
       "            2021, 2021, 2021, 2021, 2021, 2021, 2021, 2021, 2021, 2021],\n",
       "           dtype='int64', name='date', length=7074)"
      ]
     },
     "execution_count": 10,
     "metadata": {},
     "output_type": "execute_result"
    }
   ],
   "source": [
    "data.index.year"
   ]
  },
  {
   "cell_type": "code",
   "execution_count": 16,
   "metadata": {},
   "outputs": [
    {
     "data": {
      "text/html": [
       "<div>\n",
       "<style scoped>\n",
       "    .dataframe tbody tr th:only-of-type {\n",
       "        vertical-align: middle;\n",
       "    }\n",
       "\n",
       "    .dataframe tbody tr th {\n",
       "        vertical-align: top;\n",
       "    }\n",
       "\n",
       "    .dataframe thead th {\n",
       "        text-align: right;\n",
       "    }\n",
       "</style>\n",
       "<table border=\"1\" class=\"dataframe\">\n",
       "  <thead>\n",
       "    <tr style=\"text-align: right;\">\n",
       "      <th></th>\n",
       "      <th>adjClose</th>\n",
       "    </tr>\n",
       "    <tr>\n",
       "      <th>date</th>\n",
       "      <th></th>\n",
       "    </tr>\n",
       "  </thead>\n",
       "  <tbody>\n",
       "    <tr>\n",
       "      <th>1993</th>\n",
       "      <td>NaN</td>\n",
       "    </tr>\n",
       "    <tr>\n",
       "      <th>1994</th>\n",
       "      <td>0.004019</td>\n",
       "    </tr>\n",
       "    <tr>\n",
       "      <th>1995</th>\n",
       "      <td>0.380251</td>\n",
       "    </tr>\n",
       "    <tr>\n",
       "      <th>1996</th>\n",
       "      <td>0.225543</td>\n",
       "    </tr>\n",
       "    <tr>\n",
       "      <th>1997</th>\n",
       "      <td>0.334780</td>\n",
       "    </tr>\n",
       "    <tr>\n",
       "      <th>1998</th>\n",
       "      <td>0.286873</td>\n",
       "    </tr>\n",
       "    <tr>\n",
       "      <th>1999</th>\n",
       "      <td>0.203875</td>\n",
       "    </tr>\n",
       "    <tr>\n",
       "      <th>2000</th>\n",
       "      <td>-0.097293</td>\n",
       "    </tr>\n",
       "    <tr>\n",
       "      <th>2001</th>\n",
       "      <td>-0.117525</td>\n",
       "    </tr>\n",
       "    <tr>\n",
       "      <th>2002</th>\n",
       "      <td>-0.215877</td>\n",
       "    </tr>\n",
       "    <tr>\n",
       "      <th>2003</th>\n",
       "      <td>0.281765</td>\n",
       "    </tr>\n",
       "    <tr>\n",
       "      <th>2004</th>\n",
       "      <td>0.107028</td>\n",
       "    </tr>\n",
       "    <tr>\n",
       "      <th>2005</th>\n",
       "      <td>0.048258</td>\n",
       "    </tr>\n",
       "    <tr>\n",
       "      <th>2006</th>\n",
       "      <td>0.158482</td>\n",
       "    </tr>\n",
       "    <tr>\n",
       "      <th>2007</th>\n",
       "      <td>0.051356</td>\n",
       "    </tr>\n",
       "    <tr>\n",
       "      <th>2008</th>\n",
       "      <td>-0.368069</td>\n",
       "    </tr>\n",
       "    <tr>\n",
       "      <th>2009</th>\n",
       "      <td>0.263661</td>\n",
       "    </tr>\n",
       "    <tr>\n",
       "      <th>2010</th>\n",
       "      <td>0.150577</td>\n",
       "    </tr>\n",
       "    <tr>\n",
       "      <th>2011</th>\n",
       "      <td>0.018879</td>\n",
       "    </tr>\n",
       "    <tr>\n",
       "      <th>2012</th>\n",
       "      <td>0.159917</td>\n",
       "    </tr>\n",
       "    <tr>\n",
       "      <th>2013</th>\n",
       "      <td>0.323067</td>\n",
       "    </tr>\n",
       "    <tr>\n",
       "      <th>2014</th>\n",
       "      <td>0.134621</td>\n",
       "    </tr>\n",
       "    <tr>\n",
       "      <th>2015</th>\n",
       "      <td>0.012523</td>\n",
       "    </tr>\n",
       "    <tr>\n",
       "      <th>2016</th>\n",
       "      <td>0.120013</td>\n",
       "    </tr>\n",
       "    <tr>\n",
       "      <th>2017</th>\n",
       "      <td>0.217003</td>\n",
       "    </tr>\n",
       "    <tr>\n",
       "      <th>2018</th>\n",
       "      <td>-0.045571</td>\n",
       "    </tr>\n",
       "    <tr>\n",
       "      <th>2019</th>\n",
       "      <td>0.312217</td>\n",
       "    </tr>\n",
       "    <tr>\n",
       "      <th>2020</th>\n",
       "      <td>0.183732</td>\n",
       "    </tr>\n",
       "    <tr>\n",
       "      <th>2021</th>\n",
       "      <td>0.020167</td>\n",
       "    </tr>\n",
       "  </tbody>\n",
       "</table>\n",
       "</div>"
      ],
      "text/plain": [
       "      adjClose\n",
       "date          \n",
       "1993       NaN\n",
       "1994  0.004019\n",
       "1995  0.380251\n",
       "1996  0.225543\n",
       "1997  0.334780\n",
       "1998  0.286873\n",
       "1999  0.203875\n",
       "2000 -0.097293\n",
       "2001 -0.117525\n",
       "2002 -0.215877\n",
       "2003  0.281765\n",
       "2004  0.107028\n",
       "2005  0.048258\n",
       "2006  0.158482\n",
       "2007  0.051356\n",
       "2008 -0.368069\n",
       "2009  0.263661\n",
       "2010  0.150577\n",
       "2011  0.018879\n",
       "2012  0.159917\n",
       "2013  0.323067\n",
       "2014  0.134621\n",
       "2015  0.012523\n",
       "2016  0.120013\n",
       "2017  0.217003\n",
       "2018 -0.045571\n",
       "2019  0.312217\n",
       "2020  0.183732\n",
       "2021  0.020167"
      ]
     },
     "execution_count": 16,
     "metadata": {},
     "output_type": "execute_result"
    }
   ],
   "source": [
    "# With groupby:\n",
    "data[['adjClose']].groupby(data.index.year).last().pct_change()"
   ]
  },
  {
   "cell_type": "code",
   "execution_count": 20,
   "metadata": {},
   "outputs": [
    {
     "data": {
      "text/html": [
       "<div>\n",
       "<style scoped>\n",
       "    .dataframe tbody tr th:only-of-type {\n",
       "        vertical-align: middle;\n",
       "    }\n",
       "\n",
       "    .dataframe tbody tr th {\n",
       "        vertical-align: top;\n",
       "    }\n",
       "\n",
       "    .dataframe thead th {\n",
       "        text-align: right;\n",
       "    }\n",
       "</style>\n",
       "<table border=\"1\" class=\"dataframe\">\n",
       "  <thead>\n",
       "    <tr style=\"text-align: right;\">\n",
       "      <th></th>\n",
       "      <th>adjClose</th>\n",
       "    </tr>\n",
       "    <tr>\n",
       "      <th>date</th>\n",
       "      <th></th>\n",
       "    </tr>\n",
       "  </thead>\n",
       "  <tbody>\n",
       "    <tr>\n",
       "      <th>1993-12-31</th>\n",
       "      <td>NaN</td>\n",
       "    </tr>\n",
       "    <tr>\n",
       "      <th>1994-12-31</th>\n",
       "      <td>0.004019</td>\n",
       "    </tr>\n",
       "    <tr>\n",
       "      <th>1995-12-31</th>\n",
       "      <td>0.380251</td>\n",
       "    </tr>\n",
       "    <tr>\n",
       "      <th>1996-12-31</th>\n",
       "      <td>0.225543</td>\n",
       "    </tr>\n",
       "    <tr>\n",
       "      <th>1997-12-31</th>\n",
       "      <td>0.334780</td>\n",
       "    </tr>\n",
       "    <tr>\n",
       "      <th>1998-12-31</th>\n",
       "      <td>0.286873</td>\n",
       "    </tr>\n",
       "    <tr>\n",
       "      <th>1999-12-31</th>\n",
       "      <td>0.203875</td>\n",
       "    </tr>\n",
       "    <tr>\n",
       "      <th>2000-12-31</th>\n",
       "      <td>-0.097293</td>\n",
       "    </tr>\n",
       "    <tr>\n",
       "      <th>2001-12-31</th>\n",
       "      <td>-0.117525</td>\n",
       "    </tr>\n",
       "    <tr>\n",
       "      <th>2002-12-31</th>\n",
       "      <td>-0.215877</td>\n",
       "    </tr>\n",
       "    <tr>\n",
       "      <th>2003-12-31</th>\n",
       "      <td>0.281765</td>\n",
       "    </tr>\n",
       "    <tr>\n",
       "      <th>2004-12-31</th>\n",
       "      <td>0.107028</td>\n",
       "    </tr>\n",
       "    <tr>\n",
       "      <th>2005-12-31</th>\n",
       "      <td>0.048258</td>\n",
       "    </tr>\n",
       "    <tr>\n",
       "      <th>2006-12-31</th>\n",
       "      <td>0.158482</td>\n",
       "    </tr>\n",
       "    <tr>\n",
       "      <th>2007-12-31</th>\n",
       "      <td>0.051356</td>\n",
       "    </tr>\n",
       "    <tr>\n",
       "      <th>2008-12-31</th>\n",
       "      <td>-0.368069</td>\n",
       "    </tr>\n",
       "    <tr>\n",
       "      <th>2009-12-31</th>\n",
       "      <td>0.263661</td>\n",
       "    </tr>\n",
       "    <tr>\n",
       "      <th>2010-12-31</th>\n",
       "      <td>0.150577</td>\n",
       "    </tr>\n",
       "    <tr>\n",
       "      <th>2011-12-31</th>\n",
       "      <td>0.018879</td>\n",
       "    </tr>\n",
       "    <tr>\n",
       "      <th>2012-12-31</th>\n",
       "      <td>0.159917</td>\n",
       "    </tr>\n",
       "    <tr>\n",
       "      <th>2013-12-31</th>\n",
       "      <td>0.323067</td>\n",
       "    </tr>\n",
       "    <tr>\n",
       "      <th>2014-12-31</th>\n",
       "      <td>0.134621</td>\n",
       "    </tr>\n",
       "    <tr>\n",
       "      <th>2015-12-31</th>\n",
       "      <td>0.012523</td>\n",
       "    </tr>\n",
       "    <tr>\n",
       "      <th>2016-12-31</th>\n",
       "      <td>0.120013</td>\n",
       "    </tr>\n",
       "    <tr>\n",
       "      <th>2017-12-31</th>\n",
       "      <td>0.217003</td>\n",
       "    </tr>\n",
       "    <tr>\n",
       "      <th>2018-12-31</th>\n",
       "      <td>-0.045571</td>\n",
       "    </tr>\n",
       "    <tr>\n",
       "      <th>2019-12-31</th>\n",
       "      <td>0.312217</td>\n",
       "    </tr>\n",
       "    <tr>\n",
       "      <th>2020-12-31</th>\n",
       "      <td>0.183732</td>\n",
       "    </tr>\n",
       "    <tr>\n",
       "      <th>2021-12-31</th>\n",
       "      <td>0.020167</td>\n",
       "    </tr>\n",
       "  </tbody>\n",
       "</table>\n",
       "</div>"
      ],
      "text/plain": [
       "            adjClose\n",
       "date                \n",
       "1993-12-31       NaN\n",
       "1994-12-31  0.004019\n",
       "1995-12-31  0.380251\n",
       "1996-12-31  0.225543\n",
       "1997-12-31  0.334780\n",
       "1998-12-31  0.286873\n",
       "1999-12-31  0.203875\n",
       "2000-12-31 -0.097293\n",
       "2001-12-31 -0.117525\n",
       "2002-12-31 -0.215877\n",
       "2003-12-31  0.281765\n",
       "2004-12-31  0.107028\n",
       "2005-12-31  0.048258\n",
       "2006-12-31  0.158482\n",
       "2007-12-31  0.051356\n",
       "2008-12-31 -0.368069\n",
       "2009-12-31  0.263661\n",
       "2010-12-31  0.150577\n",
       "2011-12-31  0.018879\n",
       "2012-12-31  0.159917\n",
       "2013-12-31  0.323067\n",
       "2014-12-31  0.134621\n",
       "2015-12-31  0.012523\n",
       "2016-12-31  0.120013\n",
       "2017-12-31  0.217003\n",
       "2018-12-31 -0.045571\n",
       "2019-12-31  0.312217\n",
       "2020-12-31  0.183732\n",
       "2021-12-31  0.020167"
      ]
     },
     "execution_count": 20,
     "metadata": {},
     "output_type": "execute_result"
    }
   ],
   "source": [
    "# With resample:\n",
    "data[['adjClose']].resample('A').last().pct_change()   #can use resample with max, min, mean, last, etc....'A' is for annual"
   ]
  },
  {
   "cell_type": "markdown",
   "metadata": {},
   "source": [
    "Bar-plot this:"
   ]
  },
  {
   "cell_type": "code",
   "execution_count": 21,
   "metadata": {},
   "outputs": [
    {
     "data": {
      "text/plain": [
       "<matplotlib.axes._subplots.AxesSubplot at 0x7fd0a0af2910>"
      ]
     },
     "execution_count": 21,
     "metadata": {},
     "output_type": "execute_result"
    },
    {
     "data": {
      "image/png": "[encoded data removed]",
      "text/plain": [
       "<Figure size 432x288 with 1 Axes>"
      ]
     },
     "metadata": {},
     "output_type": "display_data"
    }
   ],
   "source": [
    "data[['adjClose']].resample('A').last().pct_change().plot.bar()"
   ]
  },
  {
   "cell_type": "markdown",
   "metadata": {},
   "source": [
    "Monthly returns:"
   ]
  },
  {
   "cell_type": "code",
   "execution_count": 26,
   "metadata": {},
   "outputs": [
    {
     "data": {
      "text/html": [
       "<div>\n",
       "<style scoped>\n",
       "    .dataframe tbody tr th:only-of-type {\n",
       "        vertical-align: middle;\n",
       "    }\n",
       "\n",
       "    .dataframe tbody tr th {\n",
       "        vertical-align: top;\n",
       "    }\n",
       "\n",
       "    .dataframe thead th {\n",
       "        text-align: right;\n",
       "    }\n",
       "</style>\n",
       "<table border=\"1\" class=\"dataframe\">\n",
       "  <thead>\n",
       "    <tr style=\"text-align: right;\">\n",
       "      <th></th>\n",
       "      <th></th>\n",
       "      <th>adjClose</th>\n",
       "    </tr>\n",
       "    <tr>\n",
       "      <th>date</th>\n",
       "      <th>date</th>\n",
       "      <th></th>\n",
       "    </tr>\n",
       "  </thead>\n",
       "  <tbody>\n",
       "    <tr>\n",
       "      <th rowspan=\"5\" valign=\"top\">1993</th>\n",
       "      <th>1</th>\n",
       "      <td>NaN</td>\n",
       "    </tr>\n",
       "    <tr>\n",
       "      <th>2</th>\n",
       "      <td>0.010667</td>\n",
       "    </tr>\n",
       "    <tr>\n",
       "      <th>3</th>\n",
       "      <td>0.022412</td>\n",
       "    </tr>\n",
       "    <tr>\n",
       "      <th>4</th>\n",
       "      <td>-0.025589</td>\n",
       "    </tr>\n",
       "    <tr>\n",
       "      <th>5</th>\n",
       "      <td>0.026970</td>\n",
       "    </tr>\n",
       "    <tr>\n",
       "      <th>...</th>\n",
       "      <th>...</th>\n",
       "      <td>...</td>\n",
       "    </tr>\n",
       "    <tr>\n",
       "      <th rowspan=\"2\" valign=\"top\">2020</th>\n",
       "      <th>11</th>\n",
       "      <td>0.108777</td>\n",
       "    </tr>\n",
       "    <tr>\n",
       "      <th>12</th>\n",
       "      <td>0.037066</td>\n",
       "    </tr>\n",
       "    <tr>\n",
       "      <th rowspan=\"3\" valign=\"top\">2021</th>\n",
       "      <th>1</th>\n",
       "      <td>-0.010190</td>\n",
       "    </tr>\n",
       "    <tr>\n",
       "      <th>2</th>\n",
       "      <td>0.027806</td>\n",
       "    </tr>\n",
       "    <tr>\n",
       "      <th>3</th>\n",
       "      <td>0.002787</td>\n",
       "    </tr>\n",
       "  </tbody>\n",
       "</table>\n",
       "<p>339 rows × 1 columns</p>\n",
       "</div>"
      ],
      "text/plain": [
       "           adjClose\n",
       "date date          \n",
       "1993 1          NaN\n",
       "     2     0.010667\n",
       "     3     0.022412\n",
       "     4    -0.025589\n",
       "     5     0.026970\n",
       "...             ...\n",
       "2020 11    0.108777\n",
       "     12    0.037066\n",
       "2021 1    -0.010190\n",
       "     2     0.027806\n",
       "     3     0.002787\n",
       "\n",
       "[339 rows x 1 columns]"
      ]
     },
     "execution_count": 26,
     "metadata": {},
     "output_type": "execute_result"
    }
   ],
   "source": [
    "# With groupby\n",
    "data[['adjClose']].groupby([data.index.year,data.index.month]).last().pct_change()"
   ]
  },
  {
   "cell_type": "code",
   "execution_count": 23,
   "metadata": {},
   "outputs": [
    {
     "data": {
      "text/html": [
       "<div>\n",
       "<style scoped>\n",
       "    .dataframe tbody tr th:only-of-type {\n",
       "        vertical-align: middle;\n",
       "    }\n",
       "\n",
       "    .dataframe tbody tr th {\n",
       "        vertical-align: top;\n",
       "    }\n",
       "\n",
       "    .dataframe thead th {\n",
       "        text-align: right;\n",
       "    }\n",
       "</style>\n",
       "<table border=\"1\" class=\"dataframe\">\n",
       "  <thead>\n",
       "    <tr style=\"text-align: right;\">\n",
       "      <th></th>\n",
       "      <th>adjClose</th>\n",
       "    </tr>\n",
       "    <tr>\n",
       "      <th>date</th>\n",
       "      <th></th>\n",
       "    </tr>\n",
       "  </thead>\n",
       "  <tbody>\n",
       "    <tr>\n",
       "      <th>1993-01-31</th>\n",
       "      <td>NaN</td>\n",
       "    </tr>\n",
       "    <tr>\n",
       "      <th>1993-02-28</th>\n",
       "      <td>0.010667</td>\n",
       "    </tr>\n",
       "    <tr>\n",
       "      <th>1993-03-31</th>\n",
       "      <td>0.022412</td>\n",
       "    </tr>\n",
       "    <tr>\n",
       "      <th>1993-04-30</th>\n",
       "      <td>-0.025589</td>\n",
       "    </tr>\n",
       "    <tr>\n",
       "      <th>1993-05-31</th>\n",
       "      <td>0.026970</td>\n",
       "    </tr>\n",
       "    <tr>\n",
       "      <th>...</th>\n",
       "      <td>...</td>\n",
       "    </tr>\n",
       "    <tr>\n",
       "      <th>2020-11-30</th>\n",
       "      <td>0.108777</td>\n",
       "    </tr>\n",
       "    <tr>\n",
       "      <th>2020-12-31</th>\n",
       "      <td>0.037066</td>\n",
       "    </tr>\n",
       "    <tr>\n",
       "      <th>2021-01-31</th>\n",
       "      <td>-0.010190</td>\n",
       "    </tr>\n",
       "    <tr>\n",
       "      <th>2021-02-28</th>\n",
       "      <td>0.027806</td>\n",
       "    </tr>\n",
       "    <tr>\n",
       "      <th>2021-03-31</th>\n",
       "      <td>0.002787</td>\n",
       "    </tr>\n",
       "  </tbody>\n",
       "</table>\n",
       "<p>339 rows × 1 columns</p>\n",
       "</div>"
      ],
      "text/plain": [
       "            adjClose\n",
       "date                \n",
       "1993-01-31       NaN\n",
       "1993-02-28  0.010667\n",
       "1993-03-31  0.022412\n",
       "1993-04-30 -0.025589\n",
       "1993-05-31  0.026970\n",
       "...              ...\n",
       "2020-11-30  0.108777\n",
       "2020-12-31  0.037066\n",
       "2021-01-31 -0.010190\n",
       "2021-02-28  0.027806\n",
       "2021-03-31  0.002787\n",
       "\n",
       "[339 rows x 1 columns]"
      ]
     },
     "execution_count": 23,
     "metadata": {},
     "output_type": "execute_result"
    }
   ],
   "source": [
    "# With resample:\n",
    "data[['adjClose']].resample('M').last().pct_change()"
   ]
  },
  {
   "cell_type": "markdown",
   "metadata": {},
   "source": [
    "Or calculate monthly returns directly from daily returns:"
   ]
  },
  {
   "cell_type": "code",
   "execution_count": 38,
   "metadata": {},
   "outputs": [
    {
     "data": {
      "text/html": [
       "<div>\n",
       "<style scoped>\n",
       "    .dataframe tbody tr th:only-of-type {\n",
       "        vertical-align: middle;\n",
       "    }\n",
       "\n",
       "    .dataframe tbody tr th {\n",
       "        vertical-align: top;\n",
       "    }\n",
       "\n",
       "    .dataframe thead th {\n",
       "        text-align: right;\n",
       "    }\n",
       "</style>\n",
       "<table border=\"1\" class=\"dataframe\">\n",
       "  <thead>\n",
       "    <tr style=\"text-align: right;\">\n",
       "      <th></th>\n",
       "      <th>adjClose</th>\n",
       "    </tr>\n",
       "    <tr>\n",
       "      <th>date</th>\n",
       "      <th></th>\n",
       "    </tr>\n",
       "  </thead>\n",
       "  <tbody>\n",
       "    <tr>\n",
       "      <th>1993-01-31</th>\n",
       "      <td>0.000000</td>\n",
       "    </tr>\n",
       "    <tr>\n",
       "      <th>1993-02-28</th>\n",
       "      <td>0.010667</td>\n",
       "    </tr>\n",
       "    <tr>\n",
       "      <th>1993-03-31</th>\n",
       "      <td>0.022412</td>\n",
       "    </tr>\n",
       "    <tr>\n",
       "      <th>1993-04-30</th>\n",
       "      <td>-0.025589</td>\n",
       "    </tr>\n",
       "    <tr>\n",
       "      <th>1993-05-31</th>\n",
       "      <td>0.026970</td>\n",
       "    </tr>\n",
       "    <tr>\n",
       "      <th>...</th>\n",
       "      <td>...</td>\n",
       "    </tr>\n",
       "    <tr>\n",
       "      <th>2020-11-30</th>\n",
       "      <td>0.108777</td>\n",
       "    </tr>\n",
       "    <tr>\n",
       "      <th>2020-12-31</th>\n",
       "      <td>0.037066</td>\n",
       "    </tr>\n",
       "    <tr>\n",
       "      <th>2021-01-31</th>\n",
       "      <td>-0.010190</td>\n",
       "    </tr>\n",
       "    <tr>\n",
       "      <th>2021-02-28</th>\n",
       "      <td>0.027806</td>\n",
       "    </tr>\n",
       "    <tr>\n",
       "      <th>2021-03-31</th>\n",
       "      <td>0.002787</td>\n",
       "    </tr>\n",
       "  </tbody>\n",
       "</table>\n",
       "<p>339 rows × 1 columns</p>\n",
       "</div>"
      ],
      "text/plain": [
       "            adjClose\n",
       "date                \n",
       "1993-01-31  0.000000\n",
       "1993-02-28  0.010667\n",
       "1993-03-31  0.022412\n",
       "1993-04-30 -0.025589\n",
       "1993-05-31  0.026970\n",
       "...              ...\n",
       "2020-11-30  0.108777\n",
       "2020-12-31  0.037066\n",
       "2021-01-31 -0.010190\n",
       "2021-02-28  0.027806\n",
       "2021-03-31  0.002787\n",
       "\n",
       "[339 rows x 1 columns]"
      ]
     },
     "execution_count": 38,
     "metadata": {},
     "output_type": "execute_result"
    }
   ],
   "source": [
    "r_daily.add(1).resample('M').prod().sub(1)"
   ]
  },
  {
   "cell_type": "markdown",
   "metadata": {},
   "source": [
    "All frequencies:"
   ]
  },
  {
   "cell_type": "code",
   "execution_count": 39,
   "metadata": {},
   "outputs": [],
   "source": [
    "r_daily   =  data['adjClose'].pct_change()             # Daily returns as a series (only single bracket)\n",
    "r_monthly =  r_daily.add(1).resample('M').prod().sub(1)\n",
    "r_annual  =  r_daily.add(1).resample('A').prod().sub(1)                                               "
   ]
  },
  {
   "cell_type": "markdown",
   "metadata": {},
   "source": [
    "Do returns predict returns?"
   ]
  },
  {
   "cell_type": "code",
   "execution_count": 41,
   "metadata": {},
   "outputs": [
    {
     "data": {
      "text/html": [
       "<div>\n",
       "<style scoped>\n",
       "    .dataframe tbody tr th:only-of-type {\n",
       "        vertical-align: middle;\n",
       "    }\n",
       "\n",
       "    .dataframe tbody tr th {\n",
       "        vertical-align: top;\n",
       "    }\n",
       "\n",
       "    .dataframe thead th {\n",
       "        text-align: right;\n",
       "    }\n",
       "</style>\n",
       "<table border=\"1\" class=\"dataframe\">\n",
       "  <thead>\n",
       "    <tr style=\"text-align: right;\">\n",
       "      <th></th>\n",
       "      <th>today</th>\n",
       "      <th>tomorrow</th>\n",
       "    </tr>\n",
       "    <tr>\n",
       "      <th>date</th>\n",
       "      <th></th>\n",
       "      <th></th>\n",
       "    </tr>\n",
       "  </thead>\n",
       "  <tbody>\n",
       "    <tr>\n",
       "      <th>1993-01-29</th>\n",
       "      <td>NaN</td>\n",
       "      <td>0.007112</td>\n",
       "    </tr>\n",
       "    <tr>\n",
       "      <th>1993-02-01</th>\n",
       "      <td>0.007112</td>\n",
       "      <td>0.002118</td>\n",
       "    </tr>\n",
       "    <tr>\n",
       "      <th>1993-02-02</th>\n",
       "      <td>0.002118</td>\n",
       "      <td>0.010572</td>\n",
       "    </tr>\n",
       "    <tr>\n",
       "      <th>1993-02-03</th>\n",
       "      <td>0.010572</td>\n",
       "      <td>0.004184</td>\n",
       "    </tr>\n",
       "    <tr>\n",
       "      <th>1993-02-04</th>\n",
       "      <td>0.004184</td>\n",
       "      <td>-0.000696</td>\n",
       "    </tr>\n",
       "    <tr>\n",
       "      <th>...</th>\n",
       "      <td>...</td>\n",
       "      <td>...</td>\n",
       "    </tr>\n",
       "    <tr>\n",
       "      <th>2021-02-25</th>\n",
       "      <td>-0.024096</td>\n",
       "      <td>-0.005153</td>\n",
       "    </tr>\n",
       "    <tr>\n",
       "      <th>2021-02-26</th>\n",
       "      <td>-0.005153</td>\n",
       "      <td>0.024240</td>\n",
       "    </tr>\n",
       "    <tr>\n",
       "      <th>2021-03-01</th>\n",
       "      <td>0.024240</td>\n",
       "      <td>-0.007803</td>\n",
       "    </tr>\n",
       "    <tr>\n",
       "      <th>2021-03-02</th>\n",
       "      <td>-0.007803</td>\n",
       "      <td>-0.013246</td>\n",
       "    </tr>\n",
       "    <tr>\n",
       "      <th>2021-03-03</th>\n",
       "      <td>-0.013246</td>\n",
       "      <td>NaN</td>\n",
       "    </tr>\n",
       "  </tbody>\n",
       "</table>\n",
       "<p>7074 rows × 2 columns</p>\n",
       "</div>"
      ],
      "text/plain": [
       "               today  tomorrow\n",
       "date                          \n",
       "1993-01-29       NaN  0.007112\n",
       "1993-02-01  0.007112  0.002118\n",
       "1993-02-02  0.002118  0.010572\n",
       "1993-02-03  0.010572  0.004184\n",
       "1993-02-04  0.004184 -0.000696\n",
       "...              ...       ...\n",
       "2021-02-25 -0.024096 -0.005153\n",
       "2021-02-26 -0.005153  0.024240\n",
       "2021-03-01  0.024240 -0.007803\n",
       "2021-03-02 -0.007803 -0.013246\n",
       "2021-03-03 -0.013246       NaN\n",
       "\n",
       "[7074 rows x 2 columns]"
      ]
     },
     "execution_count": 41,
     "metadata": {},
     "output_type": "execute_result"
    }
   ],
   "source": [
    "t = pd.DataFrame(index=r_daily.index)\n",
    "\n",
    "t['today']    = r_daily\n",
    "t['tomorrow']    = r_daily.shift(-1)\n",
    "\n",
    "t"
   ]
  },
  {
   "cell_type": "markdown",
   "metadata": {},
   "source": [
    "Scatter-plot this:"
   ]
  },
  {
   "cell_type": "code",
   "execution_count": 42,
   "metadata": {},
   "outputs": [
    {
     "data": {
      "text/plain": [
       "<matplotlib.axes._subplots.AxesSubplot at 0x7fd0a61bcb50>"
      ]
     },
     "execution_count": 42,
     "metadata": {},
     "output_type": "execute_result"
    },
    {
     "data": {
      "image/png": "[encoded data removed]",
      "text/plain": [
       "<Figure size 432x288 with 1 Axes>"
      ]
     },
     "metadata": {},
     "output_type": "display_data"
    }
   ],
   "source": [
    "t.plot.scatter('today','tomorrow')"
   ]
  },
  {
   "cell_type": "markdown",
   "metadata": {},
   "source": [
    "Autocorrelation:"
   ]
  },
  {
   "cell_type": "code",
   "execution_count": 44,
   "metadata": {},
   "outputs": [
    {
     "data": {
      "text/plain": [
       "-0.09045401581967706"
      ]
     },
     "execution_count": 44,
     "metadata": {},
     "output_type": "execute_result"
    }
   ],
   "source": [
    "r_daily.autocorr(1)   #in a perfectly efficient market this should be 0"
   ]
  },
  {
   "cell_type": "code",
   "execution_count": 45,
   "metadata": {},
   "outputs": [
    {
     "data": {
      "text/plain": [
       "0.03712685214044506"
      ]
     },
     "execution_count": 45,
     "metadata": {},
     "output_type": "execute_result"
    }
   ],
   "source": [
    "r_monthly.autocorr(1)"
   ]
  },
  {
   "cell_type": "code",
   "execution_count": 47,
   "metadata": {},
   "outputs": [
    {
     "data": {
      "text/plain": [
       "0.06361313843053643"
      ]
     },
     "execution_count": 47,
     "metadata": {},
     "output_type": "execute_result"
    }
   ],
   "source": [
    "r_annual.autocorr(1)"
   ]
  },
  {
   "cell_type": "markdown",
   "metadata": {},
   "source": [
    "Volatility of returns:"
   ]
  },
  {
   "cell_type": "code",
   "execution_count": 49,
   "metadata": {},
   "outputs": [
    {
     "data": {
      "text/plain": [
       "0.17310321288226904"
      ]
     },
     "execution_count": 49,
     "metadata": {},
     "output_type": "execute_result"
    }
   ],
   "source": [
    "# Annual data\n",
    "r_annual.std()"
   ]
  },
  {
   "cell_type": "code",
   "execution_count": 50,
   "metadata": {},
   "outputs": [
    {
     "data": {
      "text/plain": [
       "0.042134981854809246"
      ]
     },
     "execution_count": 50,
     "metadata": {},
     "output_type": "execute_result"
    }
   ],
   "source": [
    "# Monthly data\n",
    "r_monthly.std()"
   ]
  },
  {
   "cell_type": "code",
   "execution_count": 52,
   "metadata": {},
   "outputs": [
    {
     "data": {
      "text/plain": [
       "0.14595985869704467"
      ]
     },
     "execution_count": 52,
     "metadata": {},
     "output_type": "execute_result"
    }
   ],
   "source": [
    "r_monthly.std() * 12**.5"
   ]
  },
  {
   "cell_type": "code",
   "execution_count": 51,
   "metadata": {},
   "outputs": [
    {
     "data": {
      "text/plain": [
       "0.011891927785880132"
      ]
     },
     "execution_count": 51,
     "metadata": {},
     "output_type": "execute_result"
    }
   ],
   "source": [
    "# Daily data:\n",
    "r_daily.std()"
   ]
  },
  {
   "cell_type": "code",
   "execution_count": 53,
   "metadata": {},
   "outputs": [
    {
     "data": {
      "text/plain": [
       "0.18877850118346676"
      ]
     },
     "execution_count": 53,
     "metadata": {},
     "output_type": "execute_result"
    }
   ],
   "source": [
    "r_daily.std() * 252**.5"
   ]
  },
  {
   "cell_type": "markdown",
   "metadata": {},
   "source": [
    "Get U.S. treasury rates from Quandl:\n",
    "\n",
    "https://www.quandl.com/data/FRED/DGS10-10-Year-Treasury-Constant-Maturity-Rate"
   ]
  },
  {
   "cell_type": "code",
   "execution_count": 54,
   "metadata": {},
   "outputs": [
    {
     "data": {
      "text/html": [
       "<div>\n",
       "<style scoped>\n",
       "    .dataframe tbody tr th:only-of-type {\n",
       "        vertical-align: middle;\n",
       "    }\n",
       "\n",
       "    .dataframe tbody tr th {\n",
       "        vertical-align: top;\n",
       "    }\n",
       "\n",
       "    .dataframe thead th {\n",
       "        text-align: right;\n",
       "    }\n",
       "</style>\n",
       "<table border=\"1\" class=\"dataframe\">\n",
       "  <thead>\n",
       "    <tr style=\"text-align: right;\">\n",
       "      <th></th>\n",
       "      <th>FRED/DGS10 - Value</th>\n",
       "    </tr>\n",
       "    <tr>\n",
       "      <th>Date</th>\n",
       "      <th></th>\n",
       "    </tr>\n",
       "  </thead>\n",
       "  <tbody>\n",
       "    <tr>\n",
       "      <th>1962-01-02</th>\n",
       "      <td>4.06</td>\n",
       "    </tr>\n",
       "    <tr>\n",
       "      <th>1962-01-03</th>\n",
       "      <td>4.03</td>\n",
       "    </tr>\n",
       "    <tr>\n",
       "      <th>1962-01-04</th>\n",
       "      <td>3.99</td>\n",
       "    </tr>\n",
       "    <tr>\n",
       "      <th>1962-01-05</th>\n",
       "      <td>4.02</td>\n",
       "    </tr>\n",
       "    <tr>\n",
       "      <th>1962-01-08</th>\n",
       "      <td>4.03</td>\n",
       "    </tr>\n",
       "    <tr>\n",
       "      <th>...</th>\n",
       "      <td>...</td>\n",
       "    </tr>\n",
       "    <tr>\n",
       "      <th>2021-02-24</th>\n",
       "      <td>1.38</td>\n",
       "    </tr>\n",
       "    <tr>\n",
       "      <th>2021-02-25</th>\n",
       "      <td>1.54</td>\n",
       "    </tr>\n",
       "    <tr>\n",
       "      <th>2021-02-26</th>\n",
       "      <td>1.44</td>\n",
       "    </tr>\n",
       "    <tr>\n",
       "      <th>2021-03-01</th>\n",
       "      <td>1.45</td>\n",
       "    </tr>\n",
       "    <tr>\n",
       "      <th>2021-03-02</th>\n",
       "      <td>1.42</td>\n",
       "    </tr>\n",
       "  </tbody>\n",
       "</table>\n",
       "<p>14775 rows × 1 columns</p>\n",
       "</div>"
      ],
      "text/plain": [
       "            FRED/DGS10 - Value\n",
       "Date                          \n",
       "1962-01-02                4.06\n",
       "1962-01-03                4.03\n",
       "1962-01-04                3.99\n",
       "1962-01-05                4.02\n",
       "1962-01-08                4.03\n",
       "...                        ...\n",
       "2021-02-24                1.38\n",
       "2021-02-25                1.54\n",
       "2021-02-26                1.44\n",
       "2021-03-01                1.45\n",
       "2021-03-02                1.42\n",
       "\n",
       "[14775 rows x 1 columns]"
      ]
     },
     "execution_count": 54,
     "metadata": {},
     "output_type": "execute_result"
    }
   ],
   "source": [
    "quandl.get(['FRED/DGS10']) "
   ]
  },
  {
   "cell_type": "markdown",
   "metadata": {},
   "source": [
    "Get multiple rates:"
   ]
  },
  {
   "cell_type": "code",
   "execution_count": 55,
   "metadata": {},
   "outputs": [
    {
     "data": {
      "text/html": [
       "<div>\n",
       "<style scoped>\n",
       "    .dataframe tbody tr th:only-of-type {\n",
       "        vertical-align: middle;\n",
       "    }\n",
       "\n",
       "    .dataframe tbody tr th {\n",
       "        vertical-align: top;\n",
       "    }\n",
       "\n",
       "    .dataframe thead th {\n",
       "        text-align: right;\n",
       "    }\n",
       "</style>\n",
       "<table border=\"1\" class=\"dataframe\">\n",
       "  <thead>\n",
       "    <tr style=\"text-align: right;\">\n",
       "      <th></th>\n",
       "      <th>FRED/FEDFUNDS - Value</th>\n",
       "      <th>FRED/DGS1 - Value</th>\n",
       "      <th>FRED/DGS5 - Value</th>\n",
       "      <th>FRED/DGS10 - Value</th>\n",
       "      <th>FRED/DGS30 - Value</th>\n",
       "    </tr>\n",
       "    <tr>\n",
       "      <th>Date</th>\n",
       "      <th></th>\n",
       "      <th></th>\n",
       "      <th></th>\n",
       "      <th></th>\n",
       "      <th></th>\n",
       "    </tr>\n",
       "  </thead>\n",
       "  <tbody>\n",
       "    <tr>\n",
       "      <th>1954-07-01</th>\n",
       "      <td>0.0080</td>\n",
       "      <td>NaN</td>\n",
       "      <td>NaN</td>\n",
       "      <td>NaN</td>\n",
       "      <td>NaN</td>\n",
       "    </tr>\n",
       "    <tr>\n",
       "      <th>1954-08-01</th>\n",
       "      <td>0.0122</td>\n",
       "      <td>NaN</td>\n",
       "      <td>NaN</td>\n",
       "      <td>NaN</td>\n",
       "      <td>NaN</td>\n",
       "    </tr>\n",
       "    <tr>\n",
       "      <th>1954-09-01</th>\n",
       "      <td>0.0107</td>\n",
       "      <td>NaN</td>\n",
       "      <td>NaN</td>\n",
       "      <td>NaN</td>\n",
       "      <td>NaN</td>\n",
       "    </tr>\n",
       "    <tr>\n",
       "      <th>1954-10-01</th>\n",
       "      <td>0.0085</td>\n",
       "      <td>NaN</td>\n",
       "      <td>NaN</td>\n",
       "      <td>NaN</td>\n",
       "      <td>NaN</td>\n",
       "    </tr>\n",
       "    <tr>\n",
       "      <th>1954-11-01</th>\n",
       "      <td>0.0083</td>\n",
       "      <td>NaN</td>\n",
       "      <td>NaN</td>\n",
       "      <td>NaN</td>\n",
       "      <td>NaN</td>\n",
       "    </tr>\n",
       "    <tr>\n",
       "      <th>...</th>\n",
       "      <td>...</td>\n",
       "      <td>...</td>\n",
       "      <td>...</td>\n",
       "      <td>...</td>\n",
       "      <td>...</td>\n",
       "    </tr>\n",
       "    <tr>\n",
       "      <th>2021-02-24</th>\n",
       "      <td>NaN</td>\n",
       "      <td>0.0008</td>\n",
       "      <td>0.0062</td>\n",
       "      <td>0.0138</td>\n",
       "      <td>0.0224</td>\n",
       "    </tr>\n",
       "    <tr>\n",
       "      <th>2021-02-25</th>\n",
       "      <td>NaN</td>\n",
       "      <td>0.0009</td>\n",
       "      <td>0.0081</td>\n",
       "      <td>0.0154</td>\n",
       "      <td>0.0233</td>\n",
       "    </tr>\n",
       "    <tr>\n",
       "      <th>2021-02-26</th>\n",
       "      <td>NaN</td>\n",
       "      <td>0.0008</td>\n",
       "      <td>0.0075</td>\n",
       "      <td>0.0144</td>\n",
       "      <td>0.0217</td>\n",
       "    </tr>\n",
       "    <tr>\n",
       "      <th>2021-03-01</th>\n",
       "      <td>NaN</td>\n",
       "      <td>0.0008</td>\n",
       "      <td>0.0071</td>\n",
       "      <td>0.0145</td>\n",
       "      <td>0.0223</td>\n",
       "    </tr>\n",
       "    <tr>\n",
       "      <th>2021-03-02</th>\n",
       "      <td>NaN</td>\n",
       "      <td>0.0008</td>\n",
       "      <td>0.0067</td>\n",
       "      <td>0.0142</td>\n",
       "      <td>0.0221</td>\n",
       "    </tr>\n",
       "  </tbody>\n",
       "</table>\n",
       "<p>15123 rows × 5 columns</p>\n",
       "</div>"
      ],
      "text/plain": [
       "            FRED/FEDFUNDS - Value  FRED/DGS1 - Value  FRED/DGS5 - Value  \\\n",
       "Date                                                                      \n",
       "1954-07-01                 0.0080                NaN                NaN   \n",
       "1954-08-01                 0.0122                NaN                NaN   \n",
       "1954-09-01                 0.0107                NaN                NaN   \n",
       "1954-10-01                 0.0085                NaN                NaN   \n",
       "1954-11-01                 0.0083                NaN                NaN   \n",
       "...                           ...                ...                ...   \n",
       "2021-02-24                    NaN             0.0008             0.0062   \n",
       "2021-02-25                    NaN             0.0009             0.0081   \n",
       "2021-02-26                    NaN             0.0008             0.0075   \n",
       "2021-03-01                    NaN             0.0008             0.0071   \n",
       "2021-03-02                    NaN             0.0008             0.0067   \n",
       "\n",
       "            FRED/DGS10 - Value  FRED/DGS30 - Value  \n",
       "Date                                                \n",
       "1954-07-01                 NaN                 NaN  \n",
       "1954-08-01                 NaN                 NaN  \n",
       "1954-09-01                 NaN                 NaN  \n",
       "1954-10-01                 NaN                 NaN  \n",
       "1954-11-01                 NaN                 NaN  \n",
       "...                        ...                 ...  \n",
       "2021-02-24              0.0138              0.0224  \n",
       "2021-02-25              0.0154              0.0233  \n",
       "2021-02-26              0.0144              0.0217  \n",
       "2021-03-01              0.0145              0.0223  \n",
       "2021-03-02              0.0142              0.0221  \n",
       "\n",
       "[15123 rows x 5 columns]"
      ]
     },
     "execution_count": 55,
     "metadata": {},
     "output_type": "execute_result"
    }
   ],
   "source": [
    "rates = quandl.get(['FRED/FEDFUNDS','FRED/DGS1','FRED/DGS5','FRED/DGS10','FRED/DGS30']) / 100\n",
    "rates"
   ]
  },
  {
   "cell_type": "markdown",
   "metadata": {},
   "source": [
    "Forward-fill missing values:"
   ]
  },
  {
   "cell_type": "code",
   "execution_count": 56,
   "metadata": {},
   "outputs": [
    {
     "data": {
      "text/html": [
       "<div>\n",
       "<style scoped>\n",
       "    .dataframe tbody tr th:only-of-type {\n",
       "        vertical-align: middle;\n",
       "    }\n",
       "\n",
       "    .dataframe tbody tr th {\n",
       "        vertical-align: top;\n",
       "    }\n",
       "\n",
       "    .dataframe thead th {\n",
       "        text-align: right;\n",
       "    }\n",
       "</style>\n",
       "<table border=\"1\" class=\"dataframe\">\n",
       "  <thead>\n",
       "    <tr style=\"text-align: right;\">\n",
       "      <th></th>\n",
       "      <th>FRED/FEDFUNDS - Value</th>\n",
       "      <th>FRED/DGS1 - Value</th>\n",
       "      <th>FRED/DGS5 - Value</th>\n",
       "      <th>FRED/DGS10 - Value</th>\n",
       "      <th>FRED/DGS30 - Value</th>\n",
       "    </tr>\n",
       "    <tr>\n",
       "      <th>Date</th>\n",
       "      <th></th>\n",
       "      <th></th>\n",
       "      <th></th>\n",
       "      <th></th>\n",
       "      <th></th>\n",
       "    </tr>\n",
       "  </thead>\n",
       "  <tbody>\n",
       "    <tr>\n",
       "      <th>2021-02-24</th>\n",
       "      <td>0.0008</td>\n",
       "      <td>0.0008</td>\n",
       "      <td>0.0062</td>\n",
       "      <td>0.0138</td>\n",
       "      <td>0.0224</td>\n",
       "    </tr>\n",
       "    <tr>\n",
       "      <th>2021-02-25</th>\n",
       "      <td>0.0008</td>\n",
       "      <td>0.0009</td>\n",
       "      <td>0.0081</td>\n",
       "      <td>0.0154</td>\n",
       "      <td>0.0233</td>\n",
       "    </tr>\n",
       "    <tr>\n",
       "      <th>2021-02-26</th>\n",
       "      <td>0.0008</td>\n",
       "      <td>0.0008</td>\n",
       "      <td>0.0075</td>\n",
       "      <td>0.0144</td>\n",
       "      <td>0.0217</td>\n",
       "    </tr>\n",
       "    <tr>\n",
       "      <th>2021-03-01</th>\n",
       "      <td>0.0008</td>\n",
       "      <td>0.0008</td>\n",
       "      <td>0.0071</td>\n",
       "      <td>0.0145</td>\n",
       "      <td>0.0223</td>\n",
       "    </tr>\n",
       "    <tr>\n",
       "      <th>2021-03-02</th>\n",
       "      <td>0.0008</td>\n",
       "      <td>0.0008</td>\n",
       "      <td>0.0067</td>\n",
       "      <td>0.0142</td>\n",
       "      <td>0.0221</td>\n",
       "    </tr>\n",
       "  </tbody>\n",
       "</table>\n",
       "</div>"
      ],
      "text/plain": [
       "            FRED/FEDFUNDS - Value  FRED/DGS1 - Value  FRED/DGS5 - Value  \\\n",
       "Date                                                                      \n",
       "2021-02-24                 0.0008             0.0008             0.0062   \n",
       "2021-02-25                 0.0008             0.0009             0.0081   \n",
       "2021-02-26                 0.0008             0.0008             0.0075   \n",
       "2021-03-01                 0.0008             0.0008             0.0071   \n",
       "2021-03-02                 0.0008             0.0008             0.0067   \n",
       "\n",
       "            FRED/DGS10 - Value  FRED/DGS30 - Value  \n",
       "Date                                                \n",
       "2021-02-24              0.0138              0.0224  \n",
       "2021-02-25              0.0154              0.0233  \n",
       "2021-02-26              0.0144              0.0217  \n",
       "2021-03-01              0.0145              0.0223  \n",
       "2021-03-02              0.0142              0.0221  "
      ]
     },
     "execution_count": 56,
     "metadata": {},
     "output_type": "execute_result"
    }
   ],
   "source": [
    "rates = rates.ffill()\n",
    "rates[-5:]"
   ]
  },
  {
   "cell_type": "markdown",
   "metadata": {},
   "source": [
    "Plot this table:"
   ]
  },
  {
   "cell_type": "code",
   "execution_count": 57,
   "metadata": {},
   "outputs": [
    {
     "data": {
      "text/plain": [
       "<matplotlib.axes._subplots.AxesSubplot at 0x7fd0a6caef50>"
      ]
     },
     "execution_count": 57,
     "metadata": {},
     "output_type": "execute_result"
    },
    {
     "data": {
      "image/png": "[encoded data removed]",
      "text/plain": [
       "<Figure size 432x288 with 1 Axes>"
      ]
     },
     "metadata": {},
     "output_type": "display_data"
    }
   ],
   "source": [
    "rates.plot()"
   ]
  },
  {
   "cell_type": "markdown",
   "metadata": {},
   "source": [
    "Plot recent rates:"
   ]
  },
  {
   "cell_type": "code",
   "execution_count": 58,
   "metadata": {},
   "outputs": [
    {
     "data": {
      "text/plain": [
       "<matplotlib.axes._subplots.AxesSubplot at 0x7fd0a76bcf50>"
      ]
     },
     "execution_count": 58,
     "metadata": {},
     "output_type": "execute_result"
    },
    {
     "data": {
      "image/png": "[encoded data removed]",
      "text/plain": [
       "<Figure size 432x288 with 1 Axes>"
      ]
     },
     "metadata": {},
     "output_type": "display_data"
    }
   ],
   "source": [
    "rates.loc['2017':].plot()"
   ]
  },
  {
   "cell_type": "markdown",
   "metadata": {},
   "source": [
    "Annual 1-year rate::"
   ]
  },
  {
   "cell_type": "code",
   "execution_count": 61,
   "metadata": {},
   "outputs": [
    {
     "data": {
      "text/plain": [
       "Date\n",
       "1954-12-31       NaN\n",
       "1955-12-31       NaN\n",
       "1956-12-31       NaN\n",
       "1957-12-31       NaN\n",
       "1958-12-31       NaN\n",
       "               ...  \n",
       "2017-12-31    0.0085\n",
       "2018-12-31    0.0176\n",
       "2019-12-31    0.0263\n",
       "2020-12-31    0.0159\n",
       "2021-12-31    0.0010\n",
       "Freq: A-DEC, Name: FRED/DGS1 - Value, Length: 68, dtype: float64"
      ]
     },
     "execution_count": 61,
     "metadata": {},
     "output_type": "execute_result"
    }
   ],
   "source": [
    "rates['FRED/DGS1 - Value'].resample('A').first()"
   ]
  },
  {
   "cell_type": "markdown",
   "metadata": {},
   "source": [
    "Annual market excess returns:"
   ]
  },
  {
   "cell_type": "code",
   "execution_count": 62,
   "metadata": {},
   "outputs": [
    {
     "data": {
      "text/plain": [
       "1954-12-31         NaN\n",
       "1955-12-31         NaN\n",
       "1956-12-31         NaN\n",
       "1957-12-31         NaN\n",
       "1958-12-31         NaN\n",
       "                ...   \n",
       "2017-12-31    0.208503\n",
       "2018-12-31   -0.063171\n",
       "2019-12-31    0.285917\n",
       "2020-12-31    0.167832\n",
       "2021-12-31    0.019167\n",
       "Freq: A-DEC, Length: 68, dtype: float64"
      ]
     },
     "execution_count": 62,
     "metadata": {},
     "output_type": "execute_result"
    }
   ],
   "source": [
    "rx_annual = r_annual - rates['FRED/DGS1 - Value'].resample('A').first()\n",
    "rx_annual"
   ]
  },
  {
   "cell_type": "markdown",
   "metadata": {},
   "source": [
    "Historical risk premium:"
   ]
  },
  {
   "cell_type": "code",
   "execution_count": 64,
   "metadata": {},
   "outputs": [
    {
     "data": {
      "text/plain": [
       "0.08552159372632122"
      ]
     },
     "execution_count": 64,
     "metadata": {},
     "output_type": "execute_result"
    }
   ],
   "source": [
    "rx_annual.mean()"
   ]
  },
  {
   "cell_type": "code",
   "execution_count": 66,
   "metadata": {},
   "outputs": [
    {
     "data": {
      "text/plain": [
       "0.07180435234701087"
      ]
     },
     "execution_count": 66,
     "metadata": {},
     "output_type": "execute_result"
    }
   ],
   "source": [
    "(r_annual - rates['FRED/DGS10 - Value'].resample('A').first()).mean()"
   ]
  },
  {
   "cell_type": "code",
   "execution_count": null,
   "metadata": {},
   "outputs": [],
   "source": []
  }
 ],
 "metadata": {
  "kernelspec": {
   "display_name": "Python 3",
   "language": "python",
   "name": "python3"
  },
  "language_info": {
   "codemirror_mode": {
    "name": "ipython",
    "version": 3
   },
   "file_extension": ".py",
   "mimetype": "text/x-python",
   "name": "python",
   "nbconvert_exporter": "python",
   "pygments_lexer": "ipython3",
   "version": "3.7.6"
  }
 },
 "nbformat": 4,
 "nbformat_minor": 5
}
