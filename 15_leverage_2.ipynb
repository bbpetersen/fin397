{
 "cells": [
  {
   "cell_type": "markdown",
   "metadata": {},
   "source": [
    "## Leverage II: Rebalancing"
   ]
  },
  {
   "cell_type": "code",
   "execution_count": 1,
   "metadata": {},
   "outputs": [],
   "source": [
    "# Working with data:\n",
    "import numpy  as np                                   # For scientific computing.\n",
    "import pandas as pd                                   # Working with tables.\n",
    "\n",
    "# Downloading files:\n",
    "import requests, zipfile, io                          # To access websites.\n",
    "\n",
    "# Specific data providers:\n",
    "from tiingo import TiingoClient                       # Stock prices.\n",
    "import quandl                                         # Economic data, futures prices, ...\n",
    "\n",
    "# API keys:\n",
    "tiingo = TiingoClient({'api_key':'f10f5d79cf2567b045cc7e9b595a6fec0f5321d2'})\n",
    "quandl.ApiConfig.api_key = 'EqpCyveK1jFmUkmzpPjz'\n",
    "\n",
    "# Plotting:\n",
    "import matplotlib.pyplot as plt                        # Basic plot library.\n",
    "plt.style.use('ggplot')                                # Make plots look nice"
   ]
  },
  {
   "cell_type": "markdown",
   "metadata": {},
   "source": [
    "Get prices:"
   ]
  },
  {
   "cell_type": "code",
   "execution_count": 2,
   "metadata": {},
   "outputs": [],
   "source": [
    "PRICE       = tiingo.get_dataframe(['SPY'],'1900-01-01', metric_name='adjClose')\n",
    "PRICE.index = pd.to_datetime(PRICE.index).tz_convert(None)"
   ]
  },
  {
   "cell_type": "code",
   "execution_count": 5,
   "metadata": {},
   "outputs": [
    {
     "data": {
      "text/html": [
       "<div>\n",
       "<style scoped>\n",
       "    .dataframe tbody tr th:only-of-type {\n",
       "        vertical-align: middle;\n",
       "    }\n",
       "\n",
       "    .dataframe tbody tr th {\n",
       "        vertical-align: top;\n",
       "    }\n",
       "\n",
       "    .dataframe thead th {\n",
       "        text-align: right;\n",
       "    }\n",
       "</style>\n",
       "<table border=\"1\" class=\"dataframe\">\n",
       "  <thead>\n",
       "    <tr style=\"text-align: right;\">\n",
       "      <th></th>\n",
       "      <th>SPY</th>\n",
       "    </tr>\n",
       "  </thead>\n",
       "  <tbody>\n",
       "    <tr>\n",
       "      <th>2021-03-29</th>\n",
       "      <td>-0.000505</td>\n",
       "    </tr>\n",
       "    <tr>\n",
       "      <th>2021-03-30</th>\n",
       "      <td>-0.002653</td>\n",
       "    </tr>\n",
       "    <tr>\n",
       "      <th>2021-03-31</th>\n",
       "      <td>0.004053</td>\n",
       "    </tr>\n",
       "  </tbody>\n",
       "</table>\n",
       "</div>"
      ],
      "text/plain": [
       "                 SPY\n",
       "2021-03-29 -0.000505\n",
       "2021-03-30 -0.002653\n",
       "2021-03-31  0.004053"
      ]
     },
     "execution_count": 5,
     "metadata": {},
     "output_type": "execute_result"
    }
   ],
   "source": [
    "RET = PRICE.pct_change()\n",
    "RET[-3:]"
   ]
  },
  {
   "cell_type": "code",
   "execution_count": 6,
   "metadata": {},
   "outputs": [
    {
     "data": {
      "text/html": [
       "<div>\n",
       "<style scoped>\n",
       "    .dataframe tbody tr th:only-of-type {\n",
       "        vertical-align: middle;\n",
       "    }\n",
       "\n",
       "    .dataframe tbody tr th {\n",
       "        vertical-align: top;\n",
       "    }\n",
       "\n",
       "    .dataframe thead th {\n",
       "        text-align: right;\n",
       "    }\n",
       "</style>\n",
       "<table border=\"1\" class=\"dataframe\">\n",
       "  <thead>\n",
       "    <tr style=\"text-align: right;\">\n",
       "      <th></th>\n",
       "      <th>Fedfunds</th>\n",
       "    </tr>\n",
       "    <tr>\n",
       "      <th>Date</th>\n",
       "      <th></th>\n",
       "    </tr>\n",
       "  </thead>\n",
       "  <tbody>\n",
       "    <tr>\n",
       "      <th>2020-12-01</th>\n",
       "      <td>0.000004</td>\n",
       "    </tr>\n",
       "    <tr>\n",
       "      <th>2021-01-01</th>\n",
       "      <td>0.000004</td>\n",
       "    </tr>\n",
       "    <tr>\n",
       "      <th>2021-02-01</th>\n",
       "      <td>0.000003</td>\n",
       "    </tr>\n",
       "  </tbody>\n",
       "</table>\n",
       "</div>"
      ],
      "text/plain": [
       "            Fedfunds\n",
       "Date                \n",
       "2020-12-01  0.000004\n",
       "2021-01-01  0.000004\n",
       "2021-02-01  0.000003"
      ]
     },
     "execution_count": 6,
     "metadata": {},
     "output_type": "execute_result"
    }
   ],
   "source": [
    "fedfunds = quandl.get(['FRED/FEDFUNDS']).rename(columns={'FRED/FEDFUNDS - Value':'Fedfunds'}) / 100 / 252\n",
    "fedfunds[-3:]"
   ]
  },
  {
   "cell_type": "markdown",
   "metadata": {},
   "source": [
    "Assume margin rate equals fed funds rate + 100 basis points (1%):"
   ]
  },
  {
   "cell_type": "code",
   "execution_count": 7,
   "metadata": {},
   "outputs": [
    {
     "data": {
      "text/html": [
       "<div>\n",
       "<style scoped>\n",
       "    .dataframe tbody tr th:only-of-type {\n",
       "        vertical-align: middle;\n",
       "    }\n",
       "\n",
       "    .dataframe tbody tr th {\n",
       "        vertical-align: top;\n",
       "    }\n",
       "\n",
       "    .dataframe thead th {\n",
       "        text-align: right;\n",
       "    }\n",
       "</style>\n",
       "<table border=\"1\" class=\"dataframe\">\n",
       "  <thead>\n",
       "    <tr style=\"text-align: right;\">\n",
       "      <th></th>\n",
       "      <th>SPY</th>\n",
       "      <th>Fedfunds</th>\n",
       "      <th>MarginRate</th>\n",
       "    </tr>\n",
       "  </thead>\n",
       "  <tbody>\n",
       "    <tr>\n",
       "      <th>1993-02-01</th>\n",
       "      <td>0.007112</td>\n",
       "      <td>0.000120</td>\n",
       "      <td>0.000160</td>\n",
       "    </tr>\n",
       "    <tr>\n",
       "      <th>1993-02-02</th>\n",
       "      <td>0.002118</td>\n",
       "      <td>0.000120</td>\n",
       "      <td>0.000160</td>\n",
       "    </tr>\n",
       "    <tr>\n",
       "      <th>1993-02-03</th>\n",
       "      <td>0.010572</td>\n",
       "      <td>0.000120</td>\n",
       "      <td>0.000160</td>\n",
       "    </tr>\n",
       "    <tr>\n",
       "      <th>1993-02-04</th>\n",
       "      <td>0.004184</td>\n",
       "      <td>0.000120</td>\n",
       "      <td>0.000160</td>\n",
       "    </tr>\n",
       "    <tr>\n",
       "      <th>1993-02-05</th>\n",
       "      <td>-0.000696</td>\n",
       "      <td>0.000120</td>\n",
       "      <td>0.000160</td>\n",
       "    </tr>\n",
       "    <tr>\n",
       "      <th>...</th>\n",
       "      <td>...</td>\n",
       "      <td>...</td>\n",
       "      <td>...</td>\n",
       "    </tr>\n",
       "    <tr>\n",
       "      <th>2021-03-25</th>\n",
       "      <td>0.005626</td>\n",
       "      <td>0.000003</td>\n",
       "      <td>0.000043</td>\n",
       "    </tr>\n",
       "    <tr>\n",
       "      <th>2021-03-26</th>\n",
       "      <td>0.016115</td>\n",
       "      <td>0.000003</td>\n",
       "      <td>0.000043</td>\n",
       "    </tr>\n",
       "    <tr>\n",
       "      <th>2021-03-29</th>\n",
       "      <td>-0.000505</td>\n",
       "      <td>0.000003</td>\n",
       "      <td>0.000043</td>\n",
       "    </tr>\n",
       "    <tr>\n",
       "      <th>2021-03-30</th>\n",
       "      <td>-0.002653</td>\n",
       "      <td>0.000003</td>\n",
       "      <td>0.000043</td>\n",
       "    </tr>\n",
       "    <tr>\n",
       "      <th>2021-03-31</th>\n",
       "      <td>0.004053</td>\n",
       "      <td>0.000003</td>\n",
       "      <td>0.000043</td>\n",
       "    </tr>\n",
       "  </tbody>\n",
       "</table>\n",
       "<p>7093 rows × 3 columns</p>\n",
       "</div>"
      ],
      "text/plain": [
       "                 SPY  Fedfunds  MarginRate\n",
       "1993-02-01  0.007112  0.000120    0.000160\n",
       "1993-02-02  0.002118  0.000120    0.000160\n",
       "1993-02-03  0.010572  0.000120    0.000160\n",
       "1993-02-04  0.004184  0.000120    0.000160\n",
       "1993-02-05 -0.000696  0.000120    0.000160\n",
       "...              ...       ...         ...\n",
       "2021-03-25  0.005626  0.000003    0.000043\n",
       "2021-03-26  0.016115  0.000003    0.000043\n",
       "2021-03-29 -0.000505  0.000003    0.000043\n",
       "2021-03-30 -0.002653  0.000003    0.000043\n",
       "2021-03-31  0.004053  0.000003    0.000043\n",
       "\n",
       "[7093 rows x 3 columns]"
      ]
     },
     "execution_count": 7,
     "metadata": {},
     "output_type": "execute_result"
    }
   ],
   "source": [
    "RET = RET.join(fedfunds, how='outer')\n",
    "RET['Fedfunds']   = RET.Fedfunds.ffill()\n",
    "RET['MarginRate'] = RET.Fedfunds + 0.01/252\n",
    "RET = RET.dropna()\n",
    "RET"
   ]
  },
  {
   "cell_type": "code",
   "execution_count": 9,
   "metadata": {},
   "outputs": [
    {
     "data": {
      "text/plain": [
       "SPY           1.5\n",
       "MarginRate   -0.5\n",
       "dtype: float64"
      ]
     },
     "execution_count": 9,
     "metadata": {},
     "output_type": "execute_result"
    }
   ],
   "source": [
    "weights = pd.Series({'SPY':1.5, 'MarginRate':-.5})\n",
    "weights"
   ]
  },
  {
   "cell_type": "markdown",
   "metadata": {},
   "source": [
    "Compound weighted average returns:"
   ]
  },
  {
   "cell_type": "code",
   "execution_count": 15,
   "metadata": {},
   "outputs": [
    {
     "data": {
      "text/plain": [
       "1993-02-01     1.010589\n",
       "1993-02-02     1.013718\n",
       "1993-02-03     1.029712\n",
       "1993-02-04     1.036092\n",
       "1993-02-05     1.034929\n",
       "                ...    \n",
       "2021-03-25    24.536645\n",
       "2021-03-26    25.129230\n",
       "2021-03-29    25.109653\n",
       "2021-03-30    25.009192\n",
       "2021-03-31    25.160715\n",
       "Length: 7093, dtype: float64"
      ]
     },
     "execution_count": 15,
     "metadata": {},
     "output_type": "execute_result"
    }
   ],
   "source": [
    "RET.multiply(weights).sum('columns').add(1).cumprod()"
   ]
  },
  {
   "cell_type": "markdown",
   "metadata": {},
   "source": [
    "Weighted average of compound returns:"
   ]
  },
  {
   "cell_type": "code",
   "execution_count": 17,
   "metadata": {},
   "outputs": [
    {
     "data": {
      "text/html": [
       "<div>\n",
       "<style scoped>\n",
       "    .dataframe tbody tr th:only-of-type {\n",
       "        vertical-align: middle;\n",
       "    }\n",
       "\n",
       "    .dataframe tbody tr th {\n",
       "        vertical-align: top;\n",
       "    }\n",
       "\n",
       "    .dataframe thead th {\n",
       "        text-align: right;\n",
       "    }\n",
       "</style>\n",
       "<table border=\"1\" class=\"dataframe\">\n",
       "  <thead>\n",
       "    <tr style=\"text-align: right;\">\n",
       "      <th></th>\n",
       "      <th>SPY</th>\n",
       "      <th>Fedfunds</th>\n",
       "      <th>MarginRate</th>\n",
       "    </tr>\n",
       "  </thead>\n",
       "  <tbody>\n",
       "    <tr>\n",
       "      <th>1993-02-01</th>\n",
       "      <td>1.007112</td>\n",
       "      <td>1.000120</td>\n",
       "      <td>1.000160</td>\n",
       "    </tr>\n",
       "    <tr>\n",
       "      <th>1993-02-02</th>\n",
       "      <td>1.009245</td>\n",
       "      <td>1.000240</td>\n",
       "      <td>1.000320</td>\n",
       "    </tr>\n",
       "    <tr>\n",
       "      <th>1993-02-03</th>\n",
       "      <td>1.019915</td>\n",
       "      <td>1.000361</td>\n",
       "      <td>1.000480</td>\n",
       "    </tr>\n",
       "    <tr>\n",
       "      <th>1993-02-04</th>\n",
       "      <td>1.024182</td>\n",
       "      <td>1.000481</td>\n",
       "      <td>1.000640</td>\n",
       "    </tr>\n",
       "    <tr>\n",
       "      <th>1993-02-05</th>\n",
       "      <td>1.023470</td>\n",
       "      <td>1.000601</td>\n",
       "      <td>1.000800</td>\n",
       "    </tr>\n",
       "    <tr>\n",
       "      <th>...</th>\n",
       "      <td>...</td>\n",
       "      <td>...</td>\n",
       "      <td>...</td>\n",
       "    </tr>\n",
       "    <tr>\n",
       "      <th>2021-03-25</th>\n",
       "      <td>15.059675</td>\n",
       "      <td>2.013265</td>\n",
       "      <td>2.667213</td>\n",
       "    </tr>\n",
       "    <tr>\n",
       "      <th>2021-03-26</th>\n",
       "      <td>15.302362</td>\n",
       "      <td>2.013272</td>\n",
       "      <td>2.667328</td>\n",
       "    </tr>\n",
       "    <tr>\n",
       "      <th>2021-03-29</th>\n",
       "      <td>15.294633</td>\n",
       "      <td>2.013278</td>\n",
       "      <td>2.667442</td>\n",
       "    </tr>\n",
       "    <tr>\n",
       "      <th>2021-03-30</th>\n",
       "      <td>15.254056</td>\n",
       "      <td>2.013285</td>\n",
       "      <td>2.667556</td>\n",
       "    </tr>\n",
       "    <tr>\n",
       "      <th>2021-03-31</th>\n",
       "      <td>15.315887</td>\n",
       "      <td>2.013291</td>\n",
       "      <td>2.667670</td>\n",
       "    </tr>\n",
       "  </tbody>\n",
       "</table>\n",
       "<p>7093 rows × 3 columns</p>\n",
       "</div>"
      ],
      "text/plain": [
       "                  SPY  Fedfunds  MarginRate\n",
       "1993-02-01   1.007112  1.000120    1.000160\n",
       "1993-02-02   1.009245  1.000240    1.000320\n",
       "1993-02-03   1.019915  1.000361    1.000480\n",
       "1993-02-04   1.024182  1.000481    1.000640\n",
       "1993-02-05   1.023470  1.000601    1.000800\n",
       "...               ...       ...         ...\n",
       "2021-03-25  15.059675  2.013265    2.667213\n",
       "2021-03-26  15.302362  2.013272    2.667328\n",
       "2021-03-29  15.294633  2.013278    2.667442\n",
       "2021-03-30  15.254056  2.013285    2.667556\n",
       "2021-03-31  15.315887  2.013291    2.667670\n",
       "\n",
       "[7093 rows x 3 columns]"
      ]
     },
     "execution_count": 17,
     "metadata": {},
     "output_type": "execute_result"
    }
   ],
   "source": [
    "RET.add(1).cumprod()"
   ]
  },
  {
   "cell_type": "code",
   "execution_count": 18,
   "metadata": {},
   "outputs": [
    {
     "data": {
      "text/html": [
       "<div>\n",
       "<style scoped>\n",
       "    .dataframe tbody tr th:only-of-type {\n",
       "        vertical-align: middle;\n",
       "    }\n",
       "\n",
       "    .dataframe tbody tr th {\n",
       "        vertical-align: top;\n",
       "    }\n",
       "\n",
       "    .dataframe thead th {\n",
       "        text-align: right;\n",
       "    }\n",
       "</style>\n",
       "<table border=\"1\" class=\"dataframe\">\n",
       "  <thead>\n",
       "    <tr style=\"text-align: right;\">\n",
       "      <th></th>\n",
       "      <th>Fedfunds</th>\n",
       "      <th>MarginRate</th>\n",
       "      <th>SPY</th>\n",
       "    </tr>\n",
       "  </thead>\n",
       "  <tbody>\n",
       "    <tr>\n",
       "      <th>1993-02-01</th>\n",
       "      <td>NaN</td>\n",
       "      <td>-0.500080</td>\n",
       "      <td>1.510669</td>\n",
       "    </tr>\n",
       "    <tr>\n",
       "      <th>1993-02-02</th>\n",
       "      <td>NaN</td>\n",
       "      <td>-0.500160</td>\n",
       "      <td>1.513867</td>\n",
       "    </tr>\n",
       "    <tr>\n",
       "      <th>1993-02-03</th>\n",
       "      <td>NaN</td>\n",
       "      <td>-0.500240</td>\n",
       "      <td>1.529872</td>\n",
       "    </tr>\n",
       "    <tr>\n",
       "      <th>1993-02-04</th>\n",
       "      <td>NaN</td>\n",
       "      <td>-0.500320</td>\n",
       "      <td>1.536273</td>\n",
       "    </tr>\n",
       "    <tr>\n",
       "      <th>1993-02-05</th>\n",
       "      <td>NaN</td>\n",
       "      <td>-0.500400</td>\n",
       "      <td>1.535205</td>\n",
       "    </tr>\n",
       "    <tr>\n",
       "      <th>...</th>\n",
       "      <td>...</td>\n",
       "      <td>...</td>\n",
       "      <td>...</td>\n",
       "    </tr>\n",
       "    <tr>\n",
       "      <th>2021-03-25</th>\n",
       "      <td>NaN</td>\n",
       "      <td>-1.333607</td>\n",
       "      <td>22.589513</td>\n",
       "    </tr>\n",
       "    <tr>\n",
       "      <th>2021-03-26</th>\n",
       "      <td>NaN</td>\n",
       "      <td>-1.333664</td>\n",
       "      <td>22.953542</td>\n",
       "    </tr>\n",
       "    <tr>\n",
       "      <th>2021-03-29</th>\n",
       "      <td>NaN</td>\n",
       "      <td>-1.333721</td>\n",
       "      <td>22.941949</td>\n",
       "    </tr>\n",
       "    <tr>\n",
       "      <th>2021-03-30</th>\n",
       "      <td>NaN</td>\n",
       "      <td>-1.333778</td>\n",
       "      <td>22.881084</td>\n",
       "    </tr>\n",
       "    <tr>\n",
       "      <th>2021-03-31</th>\n",
       "      <td>NaN</td>\n",
       "      <td>-1.333835</td>\n",
       "      <td>22.973831</td>\n",
       "    </tr>\n",
       "  </tbody>\n",
       "</table>\n",
       "<p>7093 rows × 3 columns</p>\n",
       "</div>"
      ],
      "text/plain": [
       "            Fedfunds  MarginRate        SPY\n",
       "1993-02-01       NaN   -0.500080   1.510669\n",
       "1993-02-02       NaN   -0.500160   1.513867\n",
       "1993-02-03       NaN   -0.500240   1.529872\n",
       "1993-02-04       NaN   -0.500320   1.536273\n",
       "1993-02-05       NaN   -0.500400   1.535205\n",
       "...              ...         ...        ...\n",
       "2021-03-25       NaN   -1.333607  22.589513\n",
       "2021-03-26       NaN   -1.333664  22.953542\n",
       "2021-03-29       NaN   -1.333721  22.941949\n",
       "2021-03-30       NaN   -1.333778  22.881084\n",
       "2021-03-31       NaN   -1.333835  22.973831\n",
       "\n",
       "[7093 rows x 3 columns]"
      ]
     },
     "execution_count": 18,
     "metadata": {},
     "output_type": "execute_result"
    }
   ],
   "source": [
    "RET.add(1).cumprod().multiply(weights)"
   ]
  },
  {
   "cell_type": "code",
   "execution_count": 19,
   "metadata": {},
   "outputs": [
    {
     "data": {
      "text/plain": [
       "1993-02-01     1.010589\n",
       "1993-02-02     1.013707\n",
       "1993-02-03     1.029632\n",
       "1993-02-04     1.035953\n",
       "1993-02-05     1.034805\n",
       "                ...    \n",
       "2021-03-25    21.255907\n",
       "2021-03-26    21.619879\n",
       "2021-03-29    21.608228\n",
       "2021-03-30    21.547306\n",
       "2021-03-31    21.639995\n",
       "Length: 7093, dtype: float64"
      ]
     },
     "execution_count": 19,
     "metadata": {},
     "output_type": "execute_result"
    }
   ],
   "source": [
    "RET.add(1).cumprod().multiply(weights).sum('columns')"
   ]
  },
  {
   "cell_type": "markdown",
   "metadata": {},
   "source": [
    "Compare these two strategies:"
   ]
  },
  {
   "cell_type": "code",
   "execution_count": 22,
   "metadata": {},
   "outputs": [
    {
     "data": {
      "text/plain": [
       "<matplotlib.axes._subplots.AxesSubplot at 0x7f877bcb0310>"
      ]
     },
     "execution_count": 22,
     "metadata": {},
     "output_type": "execute_result"
    },
    {
     "data": {
      "image/png": "[encoded data removed]",
      "text/plain": [
       "<Figure size 432x288 with 1 Axes>"
      ]
     },
     "metadata": {},
     "output_type": "display_data"
    }
   ],
   "source": [
    "t = pd.DataFrame()\n",
    "\n",
    "t['SPY']          = RET.SPY.add(1).cumprod()\n",
    "t['Rebalance']    = RET.multiply(weights).sum('columns').add(1).cumprod()\n",
    "t['No_rebalance'] = RET.add(1).cumprod().multiply(weights).sum('columns')\n",
    "\n",
    "t.plot(logy=True)"
   ]
  },
  {
   "cell_type": "markdown",
   "metadata": {},
   "source": [
    "Portfolio positions (dollars invested):"
   ]
  },
  {
   "cell_type": "code",
   "execution_count": 23,
   "metadata": {},
   "outputs": [
    {
     "data": {
      "text/html": [
       "<div>\n",
       "<style scoped>\n",
       "    .dataframe tbody tr th:only-of-type {\n",
       "        vertical-align: middle;\n",
       "    }\n",
       "\n",
       "    .dataframe tbody tr th {\n",
       "        vertical-align: top;\n",
       "    }\n",
       "\n",
       "    .dataframe thead th {\n",
       "        text-align: right;\n",
       "    }\n",
       "</style>\n",
       "<table border=\"1\" class=\"dataframe\">\n",
       "  <thead>\n",
       "    <tr style=\"text-align: right;\">\n",
       "      <th></th>\n",
       "      <th>Fedfunds</th>\n",
       "      <th>MarginRate</th>\n",
       "      <th>SPY</th>\n",
       "    </tr>\n",
       "  </thead>\n",
       "  <tbody>\n",
       "    <tr>\n",
       "      <th>1993-02-01</th>\n",
       "      <td>NaN</td>\n",
       "      <td>-0.500080</td>\n",
       "      <td>1.510669</td>\n",
       "    </tr>\n",
       "    <tr>\n",
       "      <th>1993-02-02</th>\n",
       "      <td>NaN</td>\n",
       "      <td>-0.500160</td>\n",
       "      <td>1.513867</td>\n",
       "    </tr>\n",
       "    <tr>\n",
       "      <th>1993-02-03</th>\n",
       "      <td>NaN</td>\n",
       "      <td>-0.500240</td>\n",
       "      <td>1.529872</td>\n",
       "    </tr>\n",
       "    <tr>\n",
       "      <th>1993-02-04</th>\n",
       "      <td>NaN</td>\n",
       "      <td>-0.500320</td>\n",
       "      <td>1.536273</td>\n",
       "    </tr>\n",
       "    <tr>\n",
       "      <th>1993-02-05</th>\n",
       "      <td>NaN</td>\n",
       "      <td>-0.500400</td>\n",
       "      <td>1.535205</td>\n",
       "    </tr>\n",
       "    <tr>\n",
       "      <th>...</th>\n",
       "      <td>...</td>\n",
       "      <td>...</td>\n",
       "      <td>...</td>\n",
       "    </tr>\n",
       "    <tr>\n",
       "      <th>2021-03-25</th>\n",
       "      <td>NaN</td>\n",
       "      <td>-1.333607</td>\n",
       "      <td>22.589513</td>\n",
       "    </tr>\n",
       "    <tr>\n",
       "      <th>2021-03-26</th>\n",
       "      <td>NaN</td>\n",
       "      <td>-1.333664</td>\n",
       "      <td>22.953542</td>\n",
       "    </tr>\n",
       "    <tr>\n",
       "      <th>2021-03-29</th>\n",
       "      <td>NaN</td>\n",
       "      <td>-1.333721</td>\n",
       "      <td>22.941949</td>\n",
       "    </tr>\n",
       "    <tr>\n",
       "      <th>2021-03-30</th>\n",
       "      <td>NaN</td>\n",
       "      <td>-1.333778</td>\n",
       "      <td>22.881084</td>\n",
       "    </tr>\n",
       "    <tr>\n",
       "      <th>2021-03-31</th>\n",
       "      <td>NaN</td>\n",
       "      <td>-1.333835</td>\n",
       "      <td>22.973831</td>\n",
       "    </tr>\n",
       "  </tbody>\n",
       "</table>\n",
       "<p>7093 rows × 3 columns</p>\n",
       "</div>"
      ],
      "text/plain": [
       "            Fedfunds  MarginRate        SPY\n",
       "1993-02-01       NaN   -0.500080   1.510669\n",
       "1993-02-02       NaN   -0.500160   1.513867\n",
       "1993-02-03       NaN   -0.500240   1.529872\n",
       "1993-02-04       NaN   -0.500320   1.536273\n",
       "1993-02-05       NaN   -0.500400   1.535205\n",
       "...              ...         ...        ...\n",
       "2021-03-25       NaN   -1.333607  22.589513\n",
       "2021-03-26       NaN   -1.333664  22.953542\n",
       "2021-03-29       NaN   -1.333721  22.941949\n",
       "2021-03-30       NaN   -1.333778  22.881084\n",
       "2021-03-31       NaN   -1.333835  22.973831\n",
       "\n",
       "[7093 rows x 3 columns]"
      ]
     },
     "execution_count": 23,
     "metadata": {},
     "output_type": "execute_result"
    }
   ],
   "source": [
    "positions = RET.add(1).cumprod().multiply(weights)\n",
    "positions"
   ]
  },
  {
   "cell_type": "markdown",
   "metadata": {},
   "source": [
    "Leverage ratio:"
   ]
  },
  {
   "cell_type": "code",
   "execution_count": 28,
   "metadata": {},
   "outputs": [
    {
     "data": {
      "text/plain": [
       "1993-02-01    1.494840\n",
       "1993-02-02    1.493397\n",
       "1993-02-03    1.485843\n",
       "1993-02-04    1.482956\n",
       "1993-02-05    1.483569\n",
       "                ...   \n",
       "2021-03-25    1.062741\n",
       "2021-03-26    1.061687\n",
       "2021-03-29    1.061723\n",
       "2021-03-30    1.061900\n",
       "2021-03-31    1.061638\n",
       "Length: 7093, dtype: float64"
      ]
     },
     "execution_count": 28,
     "metadata": {},
     "output_type": "execute_result"
    }
   ],
   "source": [
    "(positions.SPY / positions.sum('columns'))"
   ]
  },
  {
   "cell_type": "code",
   "execution_count": 27,
   "metadata": {},
   "outputs": [
    {
     "data": {
      "text/plain": [
       "<matplotlib.axes._subplots.AxesSubplot at 0x7f877c4b5890>"
      ]
     },
     "execution_count": 27,
     "metadata": {},
     "output_type": "execute_result"
    },
    {
     "data": {
      "image/png": "[encoded data removed]",
      "text/plain": [
       "<Figure size 432x288 with 1 Axes>"
      ]
     },
     "metadata": {},
     "output_type": "display_data"
    }
   ],
   "source": [
    "(positions.SPY / positions.sum('columns')).plot()"
   ]
  },
  {
   "cell_type": "markdown",
   "metadata": {},
   "source": [
    "High water mark:"
   ]
  },
  {
   "cell_type": "code",
   "execution_count": 29,
   "metadata": {},
   "outputs": [
    {
     "data": {
      "text/plain": [
       "SPY             15.315887\n",
       "Rebalance       25.160715\n",
       "No_rebalance    21.639995\n",
       "dtype: float64"
      ]
     },
     "execution_count": 29,
     "metadata": {},
     "output_type": "execute_result"
    }
   ],
   "source": [
    "t.max()"
   ]
  },
  {
   "cell_type": "code",
   "execution_count": 31,
   "metadata": {},
   "outputs": [
    {
     "data": {
      "text/html": [
       "<div>\n",
       "<style scoped>\n",
       "    .dataframe tbody tr th:only-of-type {\n",
       "        vertical-align: middle;\n",
       "    }\n",
       "\n",
       "    .dataframe tbody tr th {\n",
       "        vertical-align: top;\n",
       "    }\n",
       "\n",
       "    .dataframe thead th {\n",
       "        text-align: right;\n",
       "    }\n",
       "</style>\n",
       "<table border=\"1\" class=\"dataframe\">\n",
       "  <thead>\n",
       "    <tr style=\"text-align: right;\">\n",
       "      <th></th>\n",
       "      <th>SPY</th>\n",
       "      <th>Rebalance</th>\n",
       "      <th>No_rebalance</th>\n",
       "    </tr>\n",
       "  </thead>\n",
       "  <tbody>\n",
       "    <tr>\n",
       "      <th>1993-02-01</th>\n",
       "      <td>1.007112</td>\n",
       "      <td>1.010589</td>\n",
       "      <td>1.010589</td>\n",
       "    </tr>\n",
       "    <tr>\n",
       "      <th>1993-02-02</th>\n",
       "      <td>1.009245</td>\n",
       "      <td>1.013718</td>\n",
       "      <td>1.013707</td>\n",
       "    </tr>\n",
       "    <tr>\n",
       "      <th>1993-02-03</th>\n",
       "      <td>1.019915</td>\n",
       "      <td>1.029712</td>\n",
       "      <td>1.029632</td>\n",
       "    </tr>\n",
       "    <tr>\n",
       "      <th>1993-02-04</th>\n",
       "      <td>1.024182</td>\n",
       "      <td>1.036092</td>\n",
       "      <td>1.035953</td>\n",
       "    </tr>\n",
       "    <tr>\n",
       "      <th>1993-02-05</th>\n",
       "      <td>1.024182</td>\n",
       "      <td>1.036092</td>\n",
       "      <td>1.035953</td>\n",
       "    </tr>\n",
       "    <tr>\n",
       "      <th>...</th>\n",
       "      <td>...</td>\n",
       "      <td>...</td>\n",
       "      <td>...</td>\n",
       "    </tr>\n",
       "    <tr>\n",
       "      <th>2021-03-25</th>\n",
       "      <td>15.301625</td>\n",
       "      <td>25.137373</td>\n",
       "      <td>21.619174</td>\n",
       "    </tr>\n",
       "    <tr>\n",
       "      <th>2021-03-26</th>\n",
       "      <td>15.302362</td>\n",
       "      <td>25.137373</td>\n",
       "      <td>21.619879</td>\n",
       "    </tr>\n",
       "    <tr>\n",
       "      <th>2021-03-29</th>\n",
       "      <td>15.302362</td>\n",
       "      <td>25.137373</td>\n",
       "      <td>21.619879</td>\n",
       "    </tr>\n",
       "    <tr>\n",
       "      <th>2021-03-30</th>\n",
       "      <td>15.302362</td>\n",
       "      <td>25.137373</td>\n",
       "      <td>21.619879</td>\n",
       "    </tr>\n",
       "    <tr>\n",
       "      <th>2021-03-31</th>\n",
       "      <td>15.315887</td>\n",
       "      <td>25.160715</td>\n",
       "      <td>21.639995</td>\n",
       "    </tr>\n",
       "  </tbody>\n",
       "</table>\n",
       "<p>7093 rows × 3 columns</p>\n",
       "</div>"
      ],
      "text/plain": [
       "                  SPY  Rebalance  No_rebalance\n",
       "1993-02-01   1.007112   1.010589      1.010589\n",
       "1993-02-02   1.009245   1.013718      1.013707\n",
       "1993-02-03   1.019915   1.029712      1.029632\n",
       "1993-02-04   1.024182   1.036092      1.035953\n",
       "1993-02-05   1.024182   1.036092      1.035953\n",
       "...               ...        ...           ...\n",
       "2021-03-25  15.301625  25.137373     21.619174\n",
       "2021-03-26  15.302362  25.137373     21.619879\n",
       "2021-03-29  15.302362  25.137373     21.619879\n",
       "2021-03-30  15.302362  25.137373     21.619879\n",
       "2021-03-31  15.315887  25.160715     21.639995\n",
       "\n",
       "[7093 rows x 3 columns]"
      ]
     },
     "execution_count": 31,
     "metadata": {},
     "output_type": "execute_result"
    }
   ],
   "source": [
    "hwm = t.cummax()\n",
    "hwm"
   ]
  },
  {
   "cell_type": "code",
   "execution_count": 32,
   "metadata": {},
   "outputs": [
    {
     "data": {
      "text/plain": [
       "<matplotlib.axes._subplots.AxesSubplot at 0x7f877c768210>"
      ]
     },
     "execution_count": 32,
     "metadata": {},
     "output_type": "execute_result"
    },
    {
     "data": {
      "image/png": "[encoded data removed]",
      "text/plain": [
       "<Figure size 432x288 with 1 Axes>"
      ]
     },
     "metadata": {},
     "output_type": "display_data"
    }
   ],
   "source": [
    "hwm.plot()"
   ]
  },
  {
   "cell_type": "code",
   "execution_count": null,
   "metadata": {},
   "outputs": [],
   "source": []
  },
  {
   "cell_type": "markdown",
   "metadata": {},
   "source": [
    "Portfolio drawdown:"
   ]
  },
  {
   "cell_type": "code",
   "execution_count": 34,
   "metadata": {},
   "outputs": [
    {
     "data": {
      "text/html": [
       "<div>\n",
       "<style scoped>\n",
       "    .dataframe tbody tr th:only-of-type {\n",
       "        vertical-align: middle;\n",
       "    }\n",
       "\n",
       "    .dataframe tbody tr th {\n",
       "        vertical-align: top;\n",
       "    }\n",
       "\n",
       "    .dataframe thead th {\n",
       "        text-align: right;\n",
       "    }\n",
       "</style>\n",
       "<table border=\"1\" class=\"dataframe\">\n",
       "  <thead>\n",
       "    <tr style=\"text-align: right;\">\n",
       "      <th></th>\n",
       "      <th>SPY</th>\n",
       "      <th>Rebalance</th>\n",
       "      <th>No_rebalance</th>\n",
       "    </tr>\n",
       "  </thead>\n",
       "  <tbody>\n",
       "    <tr>\n",
       "      <th>1993-02-01</th>\n",
       "      <td>1.000000</td>\n",
       "      <td>1.000000</td>\n",
       "      <td>1.000000</td>\n",
       "    </tr>\n",
       "    <tr>\n",
       "      <th>1993-02-02</th>\n",
       "      <td>1.000000</td>\n",
       "      <td>1.000000</td>\n",
       "      <td>1.000000</td>\n",
       "    </tr>\n",
       "    <tr>\n",
       "      <th>1993-02-03</th>\n",
       "      <td>1.000000</td>\n",
       "      <td>1.000000</td>\n",
       "      <td>1.000000</td>\n",
       "    </tr>\n",
       "    <tr>\n",
       "      <th>1993-02-04</th>\n",
       "      <td>1.000000</td>\n",
       "      <td>1.000000</td>\n",
       "      <td>1.000000</td>\n",
       "    </tr>\n",
       "    <tr>\n",
       "      <th>1993-02-05</th>\n",
       "      <td>0.999304</td>\n",
       "      <td>0.998877</td>\n",
       "      <td>0.998891</td>\n",
       "    </tr>\n",
       "    <tr>\n",
       "      <th>...</th>\n",
       "      <td>...</td>\n",
       "      <td>...</td>\n",
       "      <td>...</td>\n",
       "    </tr>\n",
       "    <tr>\n",
       "      <th>2021-03-25</th>\n",
       "      <td>0.984188</td>\n",
       "      <td>0.976102</td>\n",
       "      <td>0.983197</td>\n",
       "    </tr>\n",
       "    <tr>\n",
       "      <th>2021-03-26</th>\n",
       "      <td>1.000000</td>\n",
       "      <td>0.999676</td>\n",
       "      <td>1.000000</td>\n",
       "    </tr>\n",
       "    <tr>\n",
       "      <th>2021-03-29</th>\n",
       "      <td>0.999495</td>\n",
       "      <td>0.998897</td>\n",
       "      <td>0.999461</td>\n",
       "    </tr>\n",
       "    <tr>\n",
       "      <th>2021-03-30</th>\n",
       "      <td>0.996843</td>\n",
       "      <td>0.994901</td>\n",
       "      <td>0.996643</td>\n",
       "    </tr>\n",
       "    <tr>\n",
       "      <th>2021-03-31</th>\n",
       "      <td>1.000000</td>\n",
       "      <td>1.000000</td>\n",
       "      <td>1.000000</td>\n",
       "    </tr>\n",
       "  </tbody>\n",
       "</table>\n",
       "<p>7093 rows × 3 columns</p>\n",
       "</div>"
      ],
      "text/plain": [
       "                 SPY  Rebalance  No_rebalance\n",
       "1993-02-01  1.000000   1.000000      1.000000\n",
       "1993-02-02  1.000000   1.000000      1.000000\n",
       "1993-02-03  1.000000   1.000000      1.000000\n",
       "1993-02-04  1.000000   1.000000      1.000000\n",
       "1993-02-05  0.999304   0.998877      0.998891\n",
       "...              ...        ...           ...\n",
       "2021-03-25  0.984188   0.976102      0.983197\n",
       "2021-03-26  1.000000   0.999676      1.000000\n",
       "2021-03-29  0.999495   0.998897      0.999461\n",
       "2021-03-30  0.996843   0.994901      0.996643\n",
       "2021-03-31  1.000000   1.000000      1.000000\n",
       "\n",
       "[7093 rows x 3 columns]"
      ]
     },
     "execution_count": 34,
     "metadata": {},
     "output_type": "execute_result"
    }
   ],
   "source": [
    "drawdown = t/hwm\n",
    "drawdown"
   ]
  },
  {
   "cell_type": "code",
   "execution_count": 35,
   "metadata": {},
   "outputs": [
    {
     "data": {
      "text/plain": [
       "<matplotlib.axes._subplots.AxesSubplot at 0x7f877cb48590>"
      ]
     },
     "execution_count": 35,
     "metadata": {},
     "output_type": "execute_result"
    },
    {
     "data": {
      "image/png": "[encoded data removed]",
      "text/plain": [
       "<Figure size 432x288 with 1 Axes>"
      ]
     },
     "metadata": {},
     "output_type": "display_data"
    }
   ],
   "source": [
    "drawdown.plot()"
   ]
  },
  {
   "cell_type": "markdown",
   "metadata": {},
   "source": [
    "#### With rebalance loop:"
   ]
  },
  {
   "cell_type": "code",
   "execution_count": 52,
   "metadata": {},
   "outputs": [
    {
     "data": {
      "text/plain": [
       "<matplotlib.axes._subplots.AxesSubplot at 0x7f877df7c090>"
      ]
     },
     "execution_count": 52,
     "metadata": {},
     "output_type": "execute_result"
    },
    {
     "data": {
      "image/png": "[encoded data removed]",
      "text/plain": [
       "<Figure size 432x288 with 1 Axes>"
      ]
     },
     "metadata": {},
     "output_type": "display_data"
    }
   ],
   "source": [
    "def get_rebalance_dates(frequency):\n",
    "    group = getattr(PRICE.index, frequency) \n",
    "    return PRICE[:1].index.union(PRICE.groupby([PRICE.index.year, group]).tail(1).index)\n",
    "\n",
    "\n",
    "\n",
    "def run_backtest(frequency):   \n",
    "\n",
    "    weights = pd.Series({'SPY':1.5, 'MarginRate':-0.5})\n",
    "    \n",
    "    rebalance_dates = get_rebalance_dates(frequency)\n",
    "\n",
    "    portfolio_value = pd.Series(1,                        index=[rebalance_dates[0]])    \n",
    "    leverage        = pd.Series(weights.SPY,                        index=[rebalance_dates[0]])\n",
    "    \n",
    "    trades          = pd.DataFrame(columns=weights.index, index=[rebalance_dates[0]])\n",
    "    previous_positions = weights\n",
    "    \n",
    "    for i in range(len(rebalance_dates)-1):\n",
    "        start_date = rebalance_dates[i]\n",
    "        end_date   = rebalance_dates[i+1]\n",
    "\n",
    "        cum_ret = RET[start_date:end_date][1:].add(1).cumprod()\n",
    "        \n",
    "        new_positions = portfolio_value.iloc[-1] * weights     \n",
    "\n",
    "        start_to_end_positions = new_positions  * cum_ret\n",
    "\n",
    "        portfolio_value = portfolio_value.append(start_to_end_positions.sum('columns'))                  \n",
    "        leverage = leverage.append(start_to_end_positions.SPY / start_to_end_positions.sum('columns'))\n",
    "        \n",
    "        trades.loc[start_date] = new_positions - previous_positions \n",
    "        previous_positions     = start_to_end_positions.iloc[-1]      # Previous positions for the next rebalance round\n",
    "\n",
    "    return portfolio_value, leverage, trades\n",
    "\n",
    "\n",
    "portfolio_value, leverage, trades = run_backtest('month')\n",
    "\n",
    "portfolio_value.to_frame('Portfolio').join(RET.SPY.add(1).cumprod()).plot(logy=True)"
   ]
  },
  {
   "cell_type": "markdown",
   "metadata": {},
   "source": [
    "Leverage:"
   ]
  },
  {
   "cell_type": "code",
   "execution_count": 53,
   "metadata": {},
   "outputs": [
    {
     "data": {
      "text/plain": [
       "1993-01-29    1.500000\n",
       "1993-02-02    1.498536\n",
       "1993-02-03    1.490878\n",
       "1993-02-04    1.487951\n",
       "1993-02-05    1.488573\n",
       "                ...   \n",
       "2021-03-25    1.480483\n",
       "2021-03-26    1.469316\n",
       "2021-03-29    1.469694\n",
       "2021-03-30    1.471562\n",
       "2021-03-31    1.468796\n",
       "Length: 7093, dtype: float64"
      ]
     },
     "execution_count": 53,
     "metadata": {},
     "output_type": "execute_result"
    }
   ],
   "source": [
    "leverage"
   ]
  },
  {
   "cell_type": "code",
   "execution_count": 54,
   "metadata": {},
   "outputs": [
    {
     "data": {
      "text/plain": [
       "<matplotlib.axes._subplots.AxesSubplot at 0x7f877f0cf150>"
      ]
     },
     "execution_count": 54,
     "metadata": {},
     "output_type": "execute_result"
    },
    {
     "data": {
      "image/png": "[encoded data removed]",
      "text/plain": [
       "<Figure size 432x288 with 1 Axes>"
      ]
     },
     "metadata": {},
     "output_type": "display_data"
    }
   ],
   "source": [
    "leverage.plot()"
   ]
  },
  {
   "cell_type": "markdown",
   "metadata": {},
   "source": [
    "Cumulative trades:"
   ]
  },
  {
   "cell_type": "code",
   "execution_count": 56,
   "metadata": {},
   "outputs": [
    {
     "data": {
      "text/html": [
       "<div>\n",
       "<style scoped>\n",
       "    .dataframe tbody tr th:only-of-type {\n",
       "        vertical-align: middle;\n",
       "    }\n",
       "\n",
       "    .dataframe tbody tr th {\n",
       "        vertical-align: top;\n",
       "    }\n",
       "\n",
       "    .dataframe thead th {\n",
       "        text-align: right;\n",
       "    }\n",
       "</style>\n",
       "<table border=\"1\" class=\"dataframe\">\n",
       "  <thead>\n",
       "    <tr style=\"text-align: right;\">\n",
       "      <th></th>\n",
       "      <th>SPY</th>\n",
       "      <th>MarginRate</th>\n",
       "    </tr>\n",
       "  </thead>\n",
       "  <tbody>\n",
       "    <tr>\n",
       "      <th>1993-01-29</th>\n",
       "      <td>0</td>\n",
       "      <td>0</td>\n",
       "    </tr>\n",
       "    <tr>\n",
       "      <th>1993-02-26</th>\n",
       "      <td>0.000485592</td>\n",
       "      <td>-0.000485592</td>\n",
       "    </tr>\n",
       "    <tr>\n",
       "      <th>1993-03-31</th>\n",
       "      <td>0.0145576</td>\n",
       "      <td>-0.0145576</td>\n",
       "    </tr>\n",
       "    <tr>\n",
       "      <th>1993-04-30</th>\n",
       "      <td>-0.00788733</td>\n",
       "      <td>0.00788733</td>\n",
       "    </tr>\n",
       "    <tr>\n",
       "      <th>1993-05-28</th>\n",
       "      <td>0.00985297</td>\n",
       "      <td>-0.00985297</td>\n",
       "    </tr>\n",
       "    <tr>\n",
       "      <th>...</th>\n",
       "      <td>...</td>\n",
       "      <td>...</td>\n",
       "    </tr>\n",
       "    <tr>\n",
       "      <th>2020-10-30</th>\n",
       "      <td>7.72968</td>\n",
       "      <td>-7.72968</td>\n",
       "    </tr>\n",
       "    <tr>\n",
       "      <th>2020-11-30</th>\n",
       "      <td>9.45901</td>\n",
       "      <td>-9.45901</td>\n",
       "    </tr>\n",
       "    <tr>\n",
       "      <th>2020-12-31</th>\n",
       "      <td>10.1319</td>\n",
       "      <td>-10.1319</td>\n",
       "    </tr>\n",
       "    <tr>\n",
       "      <th>2021-01-29</th>\n",
       "      <td>9.91542</td>\n",
       "      <td>-9.91542</td>\n",
       "    </tr>\n",
       "    <tr>\n",
       "      <th>2021-02-26</th>\n",
       "      <td>10.4378</td>\n",
       "      <td>-10.4378</td>\n",
       "    </tr>\n",
       "  </tbody>\n",
       "</table>\n",
       "<p>338 rows × 2 columns</p>\n",
       "</div>"
      ],
      "text/plain": [
       "                    SPY   MarginRate\n",
       "1993-01-29            0            0\n",
       "1993-02-26  0.000485592 -0.000485592\n",
       "1993-03-31    0.0145576   -0.0145576\n",
       "1993-04-30  -0.00788733   0.00788733\n",
       "1993-05-28   0.00985297  -0.00985297\n",
       "...                 ...          ...\n",
       "2020-10-30      7.72968     -7.72968\n",
       "2020-11-30      9.45901     -9.45901\n",
       "2020-12-31      10.1319     -10.1319\n",
       "2021-01-29      9.91542     -9.91542\n",
       "2021-02-26      10.4378     -10.4378\n",
       "\n",
       "[338 rows x 2 columns]"
      ]
     },
     "execution_count": 56,
     "metadata": {},
     "output_type": "execute_result"
    }
   ],
   "source": [
    "trades.cumsum()"
   ]
  },
  {
   "cell_type": "code",
   "execution_count": 57,
   "metadata": {},
   "outputs": [
    {
     "data": {
      "text/plain": [
       "<matplotlib.axes._subplots.AxesSubplot at 0x7f877fbb8650>"
      ]
     },
     "execution_count": 57,
     "metadata": {},
     "output_type": "execute_result"
    },
    {
     "data": {
      "image/png": "[encoded data removed]",
      "text/plain": [
       "<Figure size 432x288 with 1 Axes>"
      ]
     },
     "metadata": {},
     "output_type": "display_data"
    }
   ],
   "source": [
    "trades.cumsum().plot()"
   ]
  },
  {
   "cell_type": "markdown",
   "metadata": {},
   "source": [
    "Annual turnover ratio:"
   ]
  },
  {
   "cell_type": "code",
   "execution_count": 58,
   "metadata": {},
   "outputs": [
    {
     "data": {
      "text/plain": [
       "<matplotlib.axes._subplots.AxesSubplot at 0x7f878002c410>"
      ]
     },
     "execution_count": 58,
     "metadata": {},
     "output_type": "execute_result"
    },
    {
     "data": {
      "image/png": "[encoded data removed]",
      "text/plain": [
       "<Figure size 432x288 with 1 Axes>"
      ]
     },
     "metadata": {},
     "output_type": "display_data"
    }
   ],
   "source": [
    "turnover = trades.abs().sum('columns').div(2)\n",
    "turnover.resample('A').sum().div( portfolio_value.resample('A').mean() ).plot.bar()"
   ]
  },
  {
   "cell_type": "markdown",
   "metadata": {},
   "source": [
    "Rebalance only when leverage too far away from target weights:\n",
    "- leverage > 1.7: rebalance back to 1.5\n",
    "- leverage < 1.3: rebalance back to 1.5\n",
    "- else: do nothing"
   ]
  },
  {
   "cell_type": "code",
   "execution_count": 65,
   "metadata": {},
   "outputs": [
    {
     "data": {
      "text/plain": [
       "<matplotlib.axes._subplots.AxesSubplot at 0x7f878039f850>"
      ]
     },
     "execution_count": 65,
     "metadata": {},
     "output_type": "execute_result"
    },
    {
     "data": {
      "image/png": "[encoded data removed]",
      "text/plain": [
       "<Figure size 432x288 with 1 Axes>"
      ]
     },
     "metadata": {},
     "output_type": "display_data"
    }
   ],
   "source": [
    "def get_rebalance_dates(frequency):\n",
    "    group = getattr(PRICE.index, frequency) \n",
    "    return PRICE[:1].index.union(PRICE.groupby([PRICE.index.year, group]).tail(1).index)\n",
    "\n",
    "\n",
    "\n",
    "def run_backtest(frequency):   \n",
    "\n",
    "    weights = pd.Series({'SPY':1.5, 'MarginRate':-0.5})\n",
    "    \n",
    "    rebalance_dates = get_rebalance_dates(frequency)\n",
    "\n",
    "    portfolio_value = pd.Series(1,                        index=[rebalance_dates[0]])    \n",
    "    leverage        = pd.Series(weights.SPY,                        index=[rebalance_dates[0]])\n",
    "    \n",
    "    trades          = pd.DataFrame(columns=weights.index, index=[rebalance_dates[0]])\n",
    "    previous_positions = weights\n",
    "    \n",
    "    for i in range(len(rebalance_dates)-1):\n",
    "        start_date = rebalance_dates[i]\n",
    "        end_date   = rebalance_dates[i+1]\n",
    "\n",
    "        cum_ret = RET[start_date:end_date][1:].add(1).cumprod()\n",
    "        \n",
    "             \n",
    "        if (leverage.iloc[-1]< 1.3) | (leverage.iloc[-1]>1.7):\n",
    "            new_positions = portfolio_value.iloc[-1] * weights\n",
    "        \n",
    "        else:\n",
    "            new_positions = previous_positions\n",
    "            \n",
    "\n",
    "        start_to_end_positions = new_positions  * cum_ret\n",
    "\n",
    "        portfolio_value = portfolio_value.append(start_to_end_positions.sum('columns'))                  \n",
    "        leverage = leverage.append(start_to_end_positions.SPY / start_to_end_positions.sum('columns'))\n",
    "        \n",
    "        trades.loc[start_date] = new_positions - previous_positions \n",
    "        previous_positions     = start_to_end_positions.iloc[-1]      # Previous positions for the next rebalance round\n",
    "\n",
    "    return portfolio_value, leverage, trades\n",
    "\n",
    "\n",
    "portfolio_value, leverage, trades = run_backtest('month')\n",
    "\n",
    "portfolio_value.to_frame('Portfolio').join(RET.SPY.add(1).cumprod()).plot(logy=True)"
   ]
  },
  {
   "cell_type": "code",
   "execution_count": 66,
   "metadata": {},
   "outputs": [
    {
     "data": {
      "text/plain": [
       "<matplotlib.axes._subplots.AxesSubplot at 0x7f87807b0290>"
      ]
     },
     "execution_count": 66,
     "metadata": {},
     "output_type": "execute_result"
    },
    {
     "data": {
      "image/png": "[encoded data removed]",
      "text/plain": [
       "<Figure size 432x288 with 1 Axes>"
      ]
     },
     "metadata": {},
     "output_type": "display_data"
    }
   ],
   "source": [
    "leverage.plot()"
   ]
  },
  {
   "cell_type": "code",
   "execution_count": 67,
   "metadata": {},
   "outputs": [
    {
     "data": {
      "text/plain": [
       "<matplotlib.axes._subplots.AxesSubplot at 0x7f8780a4fad0>"
      ]
     },
     "execution_count": 67,
     "metadata": {},
     "output_type": "execute_result"
    },
    {
     "data": {
      "image/png": "[encoded data removed]",
      "text/plain": [
       "<Figure size 432x288 with 1 Axes>"
      ]
     },
     "metadata": {},
     "output_type": "display_data"
    }
   ],
   "source": [
    "turnover = trades.abs().sum('columns').div(2)\n",
    "turnover.resample('A').sum().div( portfolio_value.resample('A').mean() ).plot.bar()"
   ]
  },
  {
   "cell_type": "code",
   "execution_count": null,
   "metadata": {},
   "outputs": [],
   "source": []
  },
  {
   "cell_type": "code",
   "execution_count": null,
   "metadata": {},
   "outputs": [],
   "source": []
  },
  {
   "cell_type": "code",
   "execution_count": null,
   "metadata": {},
   "outputs": [],
   "source": []
  }
 ],
 "metadata": {
  "kernelspec": {
   "display_name": "Python 3",
   "language": "python",
   "name": "python3"
  },
  "language_info": {
   "codemirror_mode": {
    "name": "ipython",
    "version": 3
   },
   "file_extension": ".py",
   "mimetype": "text/x-python",
   "name": "python",
   "nbconvert_exporter": "python",
   "pygments_lexer": "ipython3",
   "version": "3.7.6"
  }
 },
 "nbformat": 4,
 "nbformat_minor": 5
}
