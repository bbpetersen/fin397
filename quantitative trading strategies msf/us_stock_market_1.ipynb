{
 "cells": [
  {
   "cell_type": "markdown",
   "id": "vietnamese-capture",
   "metadata": {},
   "source": [
    "# U.S. Stock Market I: Matching SEC Data to Trading Days and Ticker Symbols"
   ]
  },
  {
   "cell_type": "code",
   "execution_count": null,
   "id": "characteristic-gossip",
   "metadata": {},
   "outputs": [],
   "source": [
    "from tiingo import TiingoClient                       \n",
    "tiingo = TiingoClient({'api_key':'XXXX'})"
   ]
  },
  {
   "cell_type": "code",
   "execution_count": null,
   "id": "elementary-publication",
   "metadata": {},
   "outputs": [],
   "source": [
    "import pandas as pd\n",
    "import numpy as np\n",
    "import requests, zipfile, io\n",
    "import os\n",
    "from pathlib import Path"
   ]
  },
  {
   "cell_type": "code",
   "execution_count": null,
   "id": "painful-desperate",
   "metadata": {},
   "outputs": [],
   "source": [
    "def get_items_from_SEC_files(tags, filename=None):                # Function input: list of tags, optional filename.\n",
    "\n",
    "    directory = 'data/sec/merged/'                                # Read data from here.\n",
    "    filenames = [filename] if filename else os.listdir(directory) # Supplied filename or all files in \"merged\" directory.\n",
    "    filenames = [f for f in filenames if not f.startswith(\".\")]   # Exclude hidden files from file list.\n",
    "\n",
    "    results   = {t:pd.DataFrame() for t in tags}                  # Dictionary of tables (1 table for each tag)\n",
    "\n",
    "    for filename in filenames:                                    # Loop over all files.\n",
    "        print(filename)\n",
    "        data = pd.read_csv(directory+filename, parse_dates=['filed','ddate'])  # Read the file.\n",
    "        \n",
    "        for t in tags:                                            # Loop over all tags.\n",
    "            item  = data[data.tag==t]                             # Select all data for this tag.\n",
    "            short = item.sort_values(['cik','filed','ddate','qtrs'], ascending=[True,True,True,False]) # Samllest qrts.\n",
    "            long  = item.sort_values(['cik','filed','ddate','qtrs'], ascending=[True,True,True,True])  # Largest  qtrs.\n",
    "            short = short.groupby(['cik','filed']).last()[['value','qtrs']]     # One value for each firm and filing.\n",
    "            long  = long .groupby(['cik','filed']).last()[['value','qtrs']]     \n",
    "            short_long = short.join(long, lsuffix='_shortest', rsuffix='_longest') # Put shortest and longest next to each other.\n",
    "            results[t] = results[t].append( short_long )  \n",
    "                        \n",
    "    for t in tags:                                                # Now sort all tables by filing date.\n",
    "        if not results[t].empty: results[t] = results[t].sort_index(level='filed')            \n",
    "\n",
    "    return results\n",
    "\n",
    "\n",
    "\n",
    "def calculate_quarterly_annual_values(item):                        # item: table with shortest and longest values and quarters.\n",
    "    result           = pd.DataFrame()                               # Results go here.\n",
    "    all_firms        = item.index.get_level_values('cik').unique()  # All CIKs.\n",
    "    all_filing_dates = pd.read_csv('data/sec/dates/filing_dates.csv', index_col='cik', parse_dates=['filed'])\n",
    "    \n",
    "    for cik in all_firms:                                           # Loop over all firms.  \n",
    "        filing_dates = pd.Series(all_filing_dates.filed[cik])       # All filing dates for this firm.\n",
    "\n",
    "        # Quarterly values:\n",
    "        valuesQ = item.loc[cik].value_shortest.reindex(filing_dates) # Values with shortest reported quarters.\n",
    "        qtrsQ   = item.loc[cik].qtrs_shortest.astype(int)           # Number of quarters for each value.\n",
    "        for date,q in qtrsQ[qtrsQ>1].iteritems():                   # Loop over all dates with > 1 quarters. \n",
    "            previous_values = valuesQ[:date][-q:-1]                 # Example: for q=3 we need to subtract 2 previous quarters.            \n",
    "            if len(previous_values) == q-1:                         # If all previous values available.\n",
    "                valuesQ[date] -= previous_values.sum(skipna=False)  # Subtract previous values to get quarterly value.\n",
    "            else:\n",
    "                valuesQ[date]  = np.nan                  \n",
    "\n",
    "        # Annual values:\n",
    "        valuesA = item.loc[cik].value_longest.reindex(filing_dates) # Values with longest reported quarters.\n",
    "        qtrsA   = item.loc[cik].qtrs_longest.astype(int)            # Number of quarters for each value.\n",
    "        for date,q in qtrsA[qtrsA<4].iteritems():                   # Loop over all dates with < 4 quarters. \n",
    "            previous_values = valuesQ[:date][-4:-q]                 # Example: for q=2 we need to add quarters -3 and -4.\n",
    "            if len(previous_values) == 4-q:                         # If all previous data available.     \n",
    "                valuesA[date] += previous_values.sum(skipna=False)  # Add previous values to get annual values.\n",
    "            else:\n",
    "                valuesA[date]  = np.nan        \n",
    "        \n",
    "        result = result.append( pd.DataFrame({'cik':cik, 'filed':filing_dates, 'valueQ':valuesQ.values, 'valueA':valuesA.values}) )\n",
    "\n",
    "    return result.set_index(['cik','filed'])                        # Return a table with columns 'valueQ' and 'valueA'."
   ]
  },
  {
   "cell_type": "markdown",
   "id": "postal-feedback",
   "metadata": {},
   "source": [
    "Get R&D values:"
   ]
  },
  {
   "cell_type": "code",
   "execution_count": null,
   "id": "american-whale",
   "metadata": {},
   "outputs": [],
   "source": [
    "tags  = ['ResearchAndDevelopmentExpense'] \n",
    "items = get_items_from_SEC_files(tags)\n",
    "item  = items[tags[0]]\n",
    "\n",
    "rnd = calculate_quarterly_annual_values(item)\n",
    "rnd"
   ]
  },
  {
   "cell_type": "markdown",
   "id": "certified-enlargement",
   "metadata": {},
   "source": [
    "Save this table:"
   ]
  },
  {
   "cell_type": "code",
   "execution_count": null,
   "id": "weighted-apple",
   "metadata": {},
   "outputs": [],
   "source": [
    "rnd.to_csv('data/sec/items/RnD.csv')"
   ]
  },
  {
   "cell_type": "markdown",
   "id": "still-sullivan",
   "metadata": {},
   "source": [
    "And now we can read the file like this:"
   ]
  },
  {
   "cell_type": "code",
   "execution_count": null,
   "id": "classical-compiler",
   "metadata": {},
   "outputs": [],
   "source": [
    "rnd = pd.read_csv('data/sec/items/RnD.csv',parse_dates=['filed'], index_col=['cik','filed'])\n",
    "rnd"
   ]
  },
  {
   "cell_type": "markdown",
   "id": "violent-interest",
   "metadata": {},
   "source": [
    "Unstack the quarterly table (put cik as column):"
   ]
  },
  {
   "cell_type": "code",
   "execution_count": null,
   "id": "specified-nelson",
   "metadata": {},
   "outputs": [],
   "source": [
    "rndQ = \n",
    "rndQ"
   ]
  },
  {
   "cell_type": "markdown",
   "id": "guided-tennessee",
   "metadata": {},
   "source": [
    "Get data for SPY:"
   ]
  },
  {
   "cell_type": "code",
   "execution_count": null,
   "id": "eligible-conditions",
   "metadata": {},
   "outputs": [],
   "source": [
    "tiingo.get_dataframe('', '2009-04-1')"
   ]
  },
  {
   "cell_type": "markdown",
   "id": "answering-instrumentation",
   "metadata": {},
   "source": [
    "Use these dates as \"trading days\":"
   ]
  },
  {
   "cell_type": "code",
   "execution_count": null,
   "id": "accurate-pocket",
   "metadata": {},
   "outputs": [],
   "source": [
    "trading_days = \n",
    "trading_days"
   ]
  },
  {
   "cell_type": "markdown",
   "id": "romance-fiction",
   "metadata": {},
   "source": [
    "Combine the trading days and the dates from the R&D table:"
   ]
  },
  {
   "cell_type": "code",
   "execution_count": null,
   "id": "traditional-america",
   "metadata": {},
   "outputs": [],
   "source": [
    "trading_days.union(rndQ.index)"
   ]
  },
  {
   "cell_type": "markdown",
   "id": "frozen-calendar",
   "metadata": {},
   "source": [
    "Add these dates to the R&D table:"
   ]
  },
  {
   "cell_type": "code",
   "execution_count": null,
   "id": "medical-roulette",
   "metadata": {},
   "outputs": [],
   "source": [
    "rndQ = rndQ.reindex( trading_days.union(rndQ.index) ).sort_index()\n",
    "rndQ"
   ]
  },
  {
   "cell_type": "markdown",
   "id": "spectacular-transcript",
   "metadata": {},
   "source": [
    "Get all filing dates (we saved this file previously):"
   ]
  },
  {
   "cell_type": "code",
   "execution_count": null,
   "id": "professional-capital",
   "metadata": {},
   "outputs": [],
   "source": [
    "filing_dates = pd.read_csv('data/sec/dates/filing_dates.csv', index_col='cik', parse_dates=['filed']).filed\n",
    "filing_dates"
   ]
  },
  {
   "cell_type": "markdown",
   "id": "declared-meeting",
   "metadata": {},
   "source": [
    "Last filing date for our data:"
   ]
  },
  {
   "cell_type": "code",
   "execution_count": null,
   "id": "collaborative-tomorrow",
   "metadata": {},
   "outputs": [],
   "source": [
    "last_filing_date_all_firms = \n",
    "last_filing_date_all_firms"
   ]
  },
  {
   "cell_type": "markdown",
   "id": "neither-shoulder",
   "metadata": {},
   "source": [
    "When was the last filing date for Red Hat?"
   ]
  },
  {
   "cell_type": "code",
   "execution_count": null,
   "id": "whole-stupid",
   "metadata": {},
   "outputs": [],
   "source": [
    "symbols = pd.read_json('https://www.sec.gov/files/company_tickers.json').transpose().set_index('cik_str')"
   ]
  },
  {
   "cell_type": "code",
   "execution_count": null,
   "id": "public-principle",
   "metadata": {},
   "outputs": [],
   "source": [
    "cik = symbols[symbols.ticker==''].index[0]    # Red Hat\n",
    "\n",
    "last_filing_date =  \n",
    "last_filing_date"
   ]
  },
  {
   "cell_type": "markdown",
   "id": "inappropriate-restriction",
   "metadata": {},
   "source": [
    "How many days since Red Hat last filed?"
   ]
  },
  {
   "cell_type": "code",
   "execution_count": null,
   "id": "urban-integral",
   "metadata": {},
   "outputs": [],
   "source": [
    "days_since_last_filed = \n",
    "days_since_last_filed"
   ]
  },
  {
   "cell_type": "markdown",
   "id": "decimal-issue",
   "metadata": {},
   "source": [
    "Assumption: if firm filed within last 120 days, then firm still active:"
   ]
  },
  {
   "cell_type": "code",
   "execution_count": null,
   "id": "supposed-intelligence",
   "metadata": {},
   "outputs": [],
   "source": [
    "last_date_this_firm = trading_days[-1] if days_since_last_filed < 120 else last_filing_date\n",
    "last_date_this_firm"
   ]
  },
  {
   "cell_type": "markdown",
   "id": "bibliographic-mileage",
   "metadata": {},
   "source": [
    "Forward fill R&D values until last date:"
   ]
  },
  {
   "cell_type": "code",
   "execution_count": null,
   "id": "desperate-segment",
   "metadata": {},
   "outputs": [],
   "source": [
    "rndQ.loc[:last_date_this_firm, cik]"
   ]
  },
  {
   "cell_type": "markdown",
   "id": "happy-companion",
   "metadata": {},
   "source": [
    "Last filing date for Microsoft:"
   ]
  },
  {
   "cell_type": "code",
   "execution_count": null,
   "id": "dedicated-minutes",
   "metadata": {},
   "outputs": [],
   "source": [
    "cik = symbols[symbols.ticker=='MSFT'].index[0]\n",
    "\n",
    "last_filing_date = filing_dates[cik].iloc[-1] \n",
    "last_filing_date"
   ]
  },
  {
   "cell_type": "markdown",
   "id": "vital-haven",
   "metadata": {},
   "source": [
    "How many days sincce Microsoft last filed?"
   ]
  },
  {
   "cell_type": "code",
   "execution_count": null,
   "id": "mobile-turning",
   "metadata": {},
   "outputs": [],
   "source": [
    "days_since_last_filed = (last_filing_date_all_firms - last_filing_date).days\n",
    "days_since_last_filed"
   ]
  },
  {
   "cell_type": "markdown",
   "id": "institutional-density",
   "metadata": {},
   "source": [
    "Last date for Microsoft:"
   ]
  },
  {
   "cell_type": "code",
   "execution_count": null,
   "id": "upset-quest",
   "metadata": {},
   "outputs": [],
   "source": [
    "last_date_this_firm = trading_days[-1] if days_since_last_filed < 120 else last_filing_date\n",
    "last_date_this_firm"
   ]
  },
  {
   "cell_type": "markdown",
   "id": "numeric-treasury",
   "metadata": {},
   "source": [
    "Forward fill R&D values:"
   ]
  },
  {
   "cell_type": "code",
   "execution_count": null,
   "id": "wireless-remedy",
   "metadata": {},
   "outputs": [],
   "source": [
    "rndQ.loc[:last_date_this_firm, cik].ffill()#.plot()"
   ]
  },
  {
   "cell_type": "markdown",
   "id": "respiratory-musician",
   "metadata": {},
   "source": [
    "Put this into a function:"
   ]
  },
  {
   "cell_type": "code",
   "execution_count": null,
   "id": "powered-doctrine",
   "metadata": {},
   "outputs": [],
   "source": [
    "def ffill_values(item, dates):                                          \n",
    "    data = item.unstack('cik')\n",
    "    data = data.reindex(dates.union(data.index)).sort_index()           # Add specified dates to index.\n",
    "    filing_dates = pd.read_csv('data/sec/dates/filing_dates.csv', index_col='cik', parse_dates=['filed']).filed\n",
    "    last_filing_date_all_firms = filing_dates.max()                     # Most recent date where at least 1 firm filed.\n",
    "     \n",
    "    for cik in data.columns:                                            # Loop over all firms.\n",
    "        last_filing_date      = pd.Series(filing_dates[cik]).iloc[-1]   # Last date where this firm filed\n",
    "        days_since_last_filed = (last_filing_date_all_firms - last_filing_date).days\n",
    "        last_date_this_firm   = dates[-1] if days_since_last_filed < 120 else last_filing_date\n",
    "        data.loc[:last_date_this_firm, cik].ffill(inplace=True)         # Forward fill all the values.\n",
    "\n",
    "    return data.loc[dates]                                              # Return only specified dates.  "
   ]
  },
  {
   "cell_type": "markdown",
   "id": "existing-grill",
   "metadata": {},
   "source": [
    "Use function like this:"
   ]
  },
  {
   "cell_type": "code",
   "execution_count": null,
   "id": "banner-cornwall",
   "metadata": {},
   "outputs": [],
   "source": [
    "rndQ = ffill_values(  )\n",
    "rndQ"
   ]
  },
  {
   "cell_type": "markdown",
   "id": "anonymous-orchestra",
   "metadata": {},
   "source": [
    "Total R&D for U.S. stock market:"
   ]
  },
  {
   "cell_type": "code",
   "execution_count": null,
   "id": "yellow-minister",
   "metadata": {},
   "outputs": [],
   "source": []
  },
  {
   "cell_type": "code",
   "execution_count": null,
   "id": "unknown-passport",
   "metadata": {},
   "outputs": [],
   "source": []
  },
  {
   "cell_type": "markdown",
   "id": "sunrise-dialogue",
   "metadata": {},
   "source": [
    "#### Match CIKs to ticker symbols"
   ]
  },
  {
   "cell_type": "markdown",
   "id": "invalid-individual",
   "metadata": {},
   "source": [
    "Ticker symbol file from SEC:"
   ]
  },
  {
   "cell_type": "code",
   "execution_count": null,
   "id": "greater-batch",
   "metadata": {},
   "outputs": [],
   "source": [
    "sec = pd.read_json('https://www.sec.gov/files/company_tickers.json').transpose()\n",
    "sec = sec.rename(columns={'cik_str':'cik'})\n",
    "sec"
   ]
  },
  {
   "cell_type": "markdown",
   "id": "passive-conviction",
   "metadata": {},
   "source": [
    "Get Google CIK:"
   ]
  },
  {
   "cell_type": "code",
   "execution_count": null,
   "id": "immediate-necklace",
   "metadata": {},
   "outputs": [],
   "source": [
    "sec[sec.ticker=='GOOG']"
   ]
  },
  {
   "cell_type": "markdown",
   "id": "engaging-affairs",
   "metadata": {},
   "source": [
    "Get all rows for this CIK:"
   ]
  },
  {
   "cell_type": "code",
   "execution_count": null,
   "id": "thousand-memory",
   "metadata": {},
   "outputs": [],
   "source": []
  },
  {
   "cell_type": "markdown",
   "id": "unable-cedar",
   "metadata": {},
   "source": [
    "Get ticker symbol file from tiingo:"
   ]
  },
  {
   "cell_type": "code",
   "execution_count": null,
   "id": "traditional-bunny",
   "metadata": {},
   "outputs": [],
   "source": [
    "r = requests.get('https://apimedia.tiingo.com/docs/tiingo/daily/supported_tickers.zip')\n",
    "\n",
    "z = zipfile.ZipFile(io.BytesIO(r.content))\n",
    "\n",
    "z.namelist() "
   ]
  },
  {
   "cell_type": "markdown",
   "id": "fleet-scene",
   "metadata": {},
   "source": [
    "Open this file:"
   ]
  },
  {
   "cell_type": "code",
   "execution_count": null,
   "id": "dress-canadian",
   "metadata": {},
   "outputs": [],
   "source": [
    "tngo = pd.read_csv(z.open('supported_tickers.csv'))\n",
    "tngo"
   ]
  },
  {
   "cell_type": "markdown",
   "id": "missing-surname",
   "metadata": {},
   "source": [
    "Merge the SEC and the tiingo table:"
   ]
  },
  {
   "cell_type": "code",
   "execution_count": null,
   "id": "accompanied-franklin",
   "metadata": {},
   "outputs": [],
   "source": [
    "all_shares = sec.merge(tngo, on='ticker', how='outer')\n",
    "all_shares"
   ]
  },
  {
   "cell_type": "markdown",
   "id": "confused-pressing",
   "metadata": {},
   "source": [
    "Check SPY:"
   ]
  },
  {
   "cell_type": "code",
   "execution_count": null,
   "id": "viral-particular",
   "metadata": {},
   "outputs": [],
   "source": [
    "all_shares[all_shares.ticker=='']"
   ]
  },
  {
   "cell_type": "markdown",
   "id": "increasing-league",
   "metadata": {},
   "source": [
    "Exclude ETFs:"
   ]
  },
  {
   "cell_type": "code",
   "execution_count": null,
   "id": "pursuant-redhead",
   "metadata": {},
   "outputs": [],
   "source": [
    "all_shares = "
   ]
  },
  {
   "cell_type": "markdown",
   "id": "worldwide-niagara",
   "metadata": {},
   "source": [
    "Check Alphabet again:"
   ]
  },
  {
   "cell_type": "code",
   "execution_count": null,
   "id": "democratic-revelation",
   "metadata": {},
   "outputs": [],
   "source": [
    "all_shares[all_shares.cik==1652044]  # CIK Alphabet"
   ]
  },
  {
   "cell_type": "markdown",
   "id": "applicable-concern",
   "metadata": {},
   "source": [
    "Lets select the first share for each firm:"
   ]
  },
  {
   "cell_type": "code",
   "execution_count": null,
   "id": "completed-renewal",
   "metadata": {},
   "outputs": [],
   "source": [
    "symbols = all_shares.sort_values(['cik','startDate']).groupby('cik',as_index=False).first().set_index('cik')\n",
    "symbols"
   ]
  },
  {
   "cell_type": "markdown",
   "id": "multiple-language",
   "metadata": {},
   "source": [
    "Check Alphabet:"
   ]
  },
  {
   "cell_type": "code",
   "execution_count": null,
   "id": "golden-conjunction",
   "metadata": {},
   "outputs": [],
   "source": [
    "symbols.loc[[1652044]]"
   ]
  },
  {
   "cell_type": "markdown",
   "id": "legitimate-hampton",
   "metadata": {},
   "source": [
    "Save the symbols table:"
   ]
  },
  {
   "cell_type": "code",
   "execution_count": 1,
   "id": "latest-catch",
   "metadata": {},
   "outputs": [],
   "source": [
    "Path('data/ticker_symbols/').mkdir(parents=True, exist_ok=True)  # Generate the folder:\n",
    "\n",
    "symbols.to_csv('data/ticker_symbols/symbols.csv')"
   ]
  },
  {
   "cell_type": "markdown",
   "id": "varied-supervisor",
   "metadata": {},
   "source": [
    "What are the top 10 firms with higest most recent R&D?"
   ]
  },
  {
   "cell_type": "code",
   "execution_count": null,
   "id": "apart-aluminum",
   "metadata": {},
   "outputs": [],
   "source": []
  },
  {
   "cell_type": "markdown",
   "id": "indoor-metro",
   "metadata": {},
   "source": [
    "Put this into a dataFrame:"
   ]
  },
  {
   "cell_type": "code",
   "execution_count": null,
   "id": "encouraging-jenny",
   "metadata": {},
   "outputs": [],
   "source": [
    "top_10 = \n",
    "top_10"
   ]
  },
  {
   "cell_type": "markdown",
   "id": "vulnerable-hometown",
   "metadata": {},
   "source": [
    "Which firms are these?"
   ]
  },
  {
   "cell_type": "code",
   "execution_count": null,
   "id": "digital-billy",
   "metadata": {},
   "outputs": [],
   "source": []
  },
  {
   "cell_type": "code",
   "execution_count": null,
   "id": "junior-assault",
   "metadata": {},
   "outputs": [],
   "source": []
  }
 ],
 "metadata": {
  "kernelspec": {
   "display_name": "Python 3",
   "language": "python",
   "name": "python3"
  },
  "language_info": {
   "codemirror_mode": {
    "name": "ipython",
    "version": 3
   },
   "file_extension": ".py",
   "mimetype": "text/x-python",
   "name": "python",
   "nbconvert_exporter": "python",
   "pygments_lexer": "ipython3",
   "version": "3.7.9"
  }
 },
 "nbformat": 4,
 "nbformat_minor": 5
}
