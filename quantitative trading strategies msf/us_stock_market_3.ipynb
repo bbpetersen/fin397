{
 "cells": [
  {
   "cell_type": "markdown",
   "id": "verbal-packaging",
   "metadata": {},
   "source": [
    "# U.S. Stock Market III: Industries"
   ]
  },
  {
   "cell_type": "code",
   "execution_count": null,
   "id": "suffering-peeing",
   "metadata": {},
   "outputs": [],
   "source": [
    "import pandas as pd\n",
    "import numpy as np\n",
    "import requests, zipfile, io\n",
    "import os\n",
    "from pathlib import Path\n",
    "\n",
    "from tiingo import TiingoClient                       \n",
    "tiingo = TiingoClient({'api_key':'XXXX'})\n",
    "\n",
    "import matplotlib.pyplot as plt                        # Basic plot library.\n",
    "plt.style.use('ggplot')                                # Make plots look nice."
   ]
  },
  {
   "cell_type": "code",
   "execution_count": null,
   "id": "recreational-imperial",
   "metadata": {},
   "outputs": [],
   "source": [
    "def ffill_values(item, dates):                                          \n",
    "    data = item.unstack('cik')\n",
    "    data = data.reindex(dates.union(data.index)).sort_index()           # Add specified dates to index.\n",
    "    filing_dates = pd.read_csv('data/sec/dates/filing_dates.csv', index_col='cik', parse_dates=['filed']).filed\n",
    "    last_filing_date_all_firms = filing_dates.max()                     # Most recent date where at least 1 firm filed.\n",
    "     \n",
    "    for cik in data.columns:                                            # Loop over all firms.\n",
    "        last_filing_date      = pd.Series(filing_dates[cik]).iloc[-1]   # Last date where this firm filed\n",
    "        days_since_last_filed = (last_filing_date_all_firms - last_filing_date).days\n",
    "        last_date_this_firm   = dates[-1] if days_since_last_filed < 120 else last_filing_date\n",
    "        data.loc[:last_date_this_firm, cik].ffill(inplace=True)         # Forward fill all the values.\n",
    "\n",
    "    return data.loc[dates]                                              # Return only specified dates.   "
   ]
  },
  {
   "cell_type": "code",
   "execution_count": null,
   "id": "beneficial-mistake",
   "metadata": {},
   "outputs": [],
   "source": [
    "# Read the files\n",
    "sales           = pd.read_csv('data/sec/items/Sales.csv',           parse_dates=['filed'], index_col=['cik','filed'])\n",
    "earnings        = pd.read_csv('data/sec/items/Earnings.csv',        parse_dates=['filed'], index_col=['cik','filed'])\n",
    "operatingIncome = pd.read_csv('data/sec/items/OperatingIncome.csv', parse_dates=['filed'], index_col=['cik','filed'])\n",
    "\n",
    "earnings[:5]"
   ]
  },
  {
   "cell_type": "markdown",
   "id": "iraqi-workshop",
   "metadata": {},
   "source": [
    "Forward fill table for annual earnings:"
   ]
  },
  {
   "cell_type": "code",
   "execution_count": null,
   "id": "aerial-packet",
   "metadata": {},
   "outputs": [],
   "source": [
    "trading_days = tiingo.get_dataframe('SPY','2009-04-15').index.tz_convert(None)\n",
    "\n",
    "earningsA = ffill_values( earnings.valueA, trading_days ) / 10**9    # In USD billion"
   ]
  },
  {
   "cell_type": "markdown",
   "id": "generous-onion",
   "metadata": {},
   "source": [
    "We want to get th industry codes from the merged files.     \n",
    "Example:"
   ]
  },
  {
   "cell_type": "code",
   "execution_count": null,
   "id": "clinical-courtesy",
   "metadata": {},
   "outputs": [],
   "source": [
    "directory = 'data/sec/merged/'\n",
    "filename  = '2021_01.csv'\n",
    "data = pd.read_csv(directory+filename, parse_dates=['filed','ddate'])\n",
    "data[:3]"
   ]
  },
  {
   "cell_type": "code",
   "execution_count": null,
   "id": "wireless-illustration",
   "metadata": {},
   "outputs": [],
   "source": [
    "def get_attributes_from_SEC_files(attributes, filename=None):         # Function input: optional filename.\n",
    "    \n",
    "    directory = 'data/sec/merged/'                                    # Read data from here.\n",
    "    filenames = [filename] if filename else os.listdir(directory)     # Supplied filename or all files in \"merged\" directory.\n",
    "    filenames = [f for f in filenames if not f.startswith(\".\")]       # Exclude hidden files from file list. \n",
    "    \n",
    "    results = {a:pd.DataFrame() for a in attributes}                  # Dictionary of dataFrames (one table for each attribute).\n",
    "\n",
    "    for filename in filenames:                                        # Loop over all files.\n",
    "        print(filename)\n",
    "        data = pd.read_csv(directory+filename, parse_dates=['filed','ddate'])\n",
    "                \n",
    "        for a in attributes:                                          # Loop over all attributes.\n",
    "            item =  data.groupby(['cik','filed'])[[a]].first()        # Get attributes value for each firm, filing.\n",
    "            results[a] = results[a].append( item )\n",
    "            \n",
    "    for a in attributes: \n",
    "        results[a] = results[a].sort_index(level='filed')             # Sort each attribute table by filing date.\n",
    "\n",
    "    return results"
   ]
  },
  {
   "cell_type": "code",
   "execution_count": null,
   "id": "future-research",
   "metadata": {},
   "outputs": [],
   "source": [
    "attributes = get_attributes_from_SEC_files(['countryinc','sic'])"
   ]
  },
  {
   "cell_type": "code",
   "execution_count": null,
   "id": "civilian-schedule",
   "metadata": {},
   "outputs": [],
   "source": [
    "# Save data\n",
    "Path('data/sec/attributes/').mkdir(parents=True, exist_ok=True)  # Generate the folder:\n",
    "\n",
    "attributes['sic']       .to_csv('data/sec/attributes/sic.csv')\n",
    "attributes['countryinc'].to_csv('data/sec/attributes/countryinc.csv')"
   ]
  },
  {
   "cell_type": "code",
   "execution_count": null,
   "id": "mighty-punch",
   "metadata": {},
   "outputs": [],
   "source": [
    "# Read data\n",
    "sic = pd.read_csv('data/sec/attributes/sic.csv', parse_dates=['filed'], xindex_col=['filed','cik'])\n",
    "sic[:2]"
   ]
  },
  {
   "cell_type": "code",
   "execution_count": null,
   "id": "infinite-chrome",
   "metadata": {},
   "outputs": [],
   "source": [
    "# Forward fill the table:\n",
    "sic = ffill_values(attributes.sic, trading_days)"
   ]
  },
  {
   "cell_type": "code",
   "execution_count": null,
   "id": "dense-newark",
   "metadata": {},
   "outputs": [],
   "source": [
    "sic_current = sic.iloc[-1].to_frame('sic')\n",
    "sic_current"
   ]
  },
  {
   "cell_type": "code",
   "execution_count": null,
   "id": "magnetic-outdoors",
   "metadata": {},
   "outputs": [],
   "source": [
    "symbols = pd.read_csv('data/ticker_symbols/symbols.csv',index_col=0)\n",
    "symbols[:3]"
   ]
  },
  {
   "cell_type": "markdown",
   "id": "chronic-importance",
   "metadata": {},
   "source": [
    "Top 10 Earnings with title and SIC:"
   ]
  },
  {
   "cell_type": "code",
   "execution_count": null,
   "id": "centered-flexibility",
   "metadata": {},
   "outputs": [],
   "source": [
    "earningsA.iloc[-1].nlargest(10).to_frame('Earnings')"
   ]
  },
  {
   "cell_type": "markdown",
   "id": "secret-belfast",
   "metadata": {},
   "source": [
    "https://www.osha.gov/data/sic-manual     "
   ]
  },
  {
   "cell_type": "markdown",
   "id": "supposed-diagram",
   "metadata": {},
   "source": [
    "How to select a specific SIC:"
   ]
  },
  {
   "cell_type": "code",
   "execution_count": null,
   "id": "answering-guest",
   "metadata": {},
   "outputs": [],
   "source": [
    "t = pd.DataFrame({'A':[7372, 6000, 7385],'B':[8000,2200,7372]})\n",
    "t"
   ]
  },
  {
   "cell_type": "markdown",
   "id": "cutting-spare",
   "metadata": {},
   "source": [
    "Get 7372:"
   ]
  },
  {
   "cell_type": "code",
   "execution_count": null,
   "id": "visible-panel",
   "metadata": {},
   "outputs": [],
   "source": []
  },
  {
   "cell_type": "code",
   "execution_count": null,
   "id": "civic-peripheral",
   "metadata": {},
   "outputs": [],
   "source": []
  },
  {
   "cell_type": "code",
   "execution_count": null,
   "id": "traditional-combining",
   "metadata": {},
   "outputs": [],
   "source": [
    "# Get specific sic\n",
    "codes    = sic\n",
    "industry = codes[codes==7372].notnull()\n",
    "\n",
    "earningsA[industry]"
   ]
  },
  {
   "cell_type": "markdown",
   "id": "governing-rhythm",
   "metadata": {},
   "source": [
    "Top 10 earnings in this industry:"
   ]
  },
  {
   "cell_type": "code",
   "execution_count": null,
   "id": "fifteen-optimization",
   "metadata": {},
   "outputs": [],
   "source": []
  },
  {
   "cell_type": "markdown",
   "id": "assigned-musician",
   "metadata": {},
   "source": [
    "Get all 7300 sic:"
   ]
  },
  {
   "cell_type": "code",
   "execution_count": null,
   "id": "signed-university",
   "metadata": {},
   "outputs": [],
   "source": [
    "t"
   ]
  },
  {
   "cell_type": "code",
   "execution_count": null,
   "id": "delayed-superior",
   "metadata": {},
   "outputs": [],
   "source": [
    "codes = t.div(100).apply(np.floor)\n",
    "codes"
   ]
  },
  {
   "cell_type": "code",
   "execution_count": null,
   "id": "early-beginning",
   "metadata": {},
   "outputs": [],
   "source": [
    "codes[codes==73]"
   ]
  },
  {
   "cell_type": "code",
   "execution_count": null,
   "id": "searching-seven",
   "metadata": {},
   "outputs": [],
   "source": [
    "codes[codes==73].notnull()"
   ]
  },
  {
   "cell_type": "code",
   "execution_count": null,
   "id": "knowing-newman",
   "metadata": {},
   "outputs": [],
   "source": [
    "# get all 5800 sic:\n",
    "codes    = sic.div(100).apply(np.floor)\n",
    "industry = codes[codes==58].notnull()"
   ]
  },
  {
   "cell_type": "code",
   "execution_count": null,
   "id": "further-mustang",
   "metadata": {},
   "outputs": [],
   "source": []
  }
 ],
 "metadata": {
  "kernelspec": {
   "display_name": "Python 3",
   "language": "python",
   "name": "python3"
  },
  "language_info": {
   "codemirror_mode": {
    "name": "ipython",
    "version": 3
   },
   "file_extension": ".py",
   "mimetype": "text/x-python",
   "name": "python",
   "nbconvert_exporter": "python",
   "pygments_lexer": "ipython3",
   "version": "3.7.9"
  }
 },
 "nbformat": 4,
 "nbformat_minor": 5
}
