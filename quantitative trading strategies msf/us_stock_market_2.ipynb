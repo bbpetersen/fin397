{
 "cells": [
  {
   "cell_type": "markdown",
   "id": "invisible-harassment",
   "metadata": {},
   "source": [
    "# U.S. Stock Market II: Income vs Revenue"
   ]
  },
  {
   "cell_type": "code",
   "execution_count": null,
   "id": "potential-feeding",
   "metadata": {},
   "outputs": [],
   "source": [
    "import pandas as pd\n",
    "import numpy as np\n",
    "import requests, zipfile, io\n",
    "import os\n",
    "from pathlib import Path\n",
    "\n",
    "from tiingo import TiingoClient                       \n",
    "tiingo = TiingoClient({'api_key':'XXXX'})\n",
    "\n",
    "# Plotting:\n",
    "import matplotlib.pyplot as plt                        # Basic plot library.\n",
    "plt.style.use('ggplot')                                # Make plots look nice."
   ]
  },
  {
   "cell_type": "code",
   "execution_count": null,
   "id": "genuine-wings",
   "metadata": {},
   "outputs": [],
   "source": [
    "ef get_items_from_SEC_files(tags, filename=None):                # Function input: list of tags, optional filename.\n",
    "\n",
    "    directory = 'data/sec/merged/'                                # Read data from here.\n",
    "    filenames = [filename] if filename else os.listdir(directory) # Supplied filename or all files in \"merged\" directory.\n",
    "    filenames = [f for f in filenames if not f.startswith(\".\")]   # Exclude hidden files from file list.\n",
    "\n",
    "    results   = {t:pd.DataFrame() for t in tags}                  # Dictionary of tables (1 table for each tag)\n",
    "\n",
    "    for filename in filenames:                                    # Loop over all files.\n",
    "        print(filename)\n",
    "        data = pd.read_csv(directory+filename, parse_dates=['filed','ddate'])  # Read the file.\n",
    "        \n",
    "        for t in tags:                                            # Loop over all tags.\n",
    "            item  = data[data.tag==t]                             # Select all data for this tag.\n",
    "            short = item.sort_values(['cik','filed','ddate','qtrs'], ascending=[True,True,True,False]) # Samllest qrts.\n",
    "            long  = item.sort_values(['cik','filed','ddate','qtrs'], ascending=[True,True,True,True])  # Largest  qtrs.\n",
    "            short = short.groupby(['cik','filed']).last()[['value','qtrs']]     # One value for each firm and filing.\n",
    "            long  = long .groupby(['cik','filed']).last()[['value','qtrs']]     \n",
    "            short_long = short.join(long, lsuffix='_shortest', rsuffix='_longest') # Put shortest and longest next to each other.\n",
    "            results[t] = results[t].append( short_long )  \n",
    "                        \n",
    "    for t in tags:                                                # Now sort all tables by filing date.\n",
    "        if not results[t].empty: results[t] = results[t].sort_index(level='filed')            \n",
    "\n",
    "    return results\n",
    "\n",
    "\n",
    "\n",
    "def combine_items(tags, items):\n",
    "    result = items[tags[0]]\n",
    "    for tag in tags[1:]:  result = result.combine_first( items[tag] )\n",
    "    return result\n",
    "\n",
    "\n",
    "\n",
    "def calculate_quarterly_annual_values(item):                        # item: table with shortest and longest values and quarters.\n",
    "    result           = pd.DataFrame()                               # Results go here.\n",
    "    all_firms        = item.index.get_level_values('cik').unique()  # All CIKs.\n",
    "    all_filing_dates = pd.read_csv('data/sec/dates/filing_dates.csv', index_col='cik', parse_dates=['filed'])\n",
    "    \n",
    "    for cik in all_firms:                                           # Loop over all firms.  \n",
    "        filing_dates = pd.Series(all_filing_dates.filed[cik])       # All filing dates for this firm.\n",
    "\n",
    "        # Quarterly values:\n",
    "        valuesQ = item.loc[cik].value_shortest.reindex(filing_dates) # Values with shortest reported quarters.\n",
    "        qtrsQ   = item.loc[cik].qtrs_shortest.astype(int)           # Number of quarters for each value.\n",
    "        for date,q in qtrsQ[qtrsQ>1].iteritems():                   # Loop over all dates with > 1 quarters. \n",
    "            previous_values = valuesQ[:date][-q:-1]                 # Example: for q=3 we need to subtract 2 previous quarters.            \n",
    "            if len(previous_values) == q-1:                         # If all previous values available.\n",
    "                valuesQ[date] -= previous_values.sum(skipna=False)  # Subtract previous values to get quarterly value.\n",
    "            else:\n",
    "                valuesQ[date]  = np.nan                  \n",
    "\n",
    "        # Annual values:\n",
    "        valuesA = item.loc[cik].value_longest.reindex(filing_dates) # Values with longest reported quarters.\n",
    "        qtrsA   = item.loc[cik].qtrs_longest.astype(int)            # Number of quarters for each value.\n",
    "        for date,q in qtrsA[qtrsA<4].iteritems():                   # Loop over all dates with < 4 quarters. \n",
    "            previous_values = valuesQ[:date][-4:-q]                 # Example: for q=2 we need to add quarters -3 and -4.\n",
    "            if len(previous_values) == 4-q:                         # If all previous data available.     \n",
    "                valuesA[date] += previous_values.sum(skipna=False)  # Add previous values to get annual values.\n",
    "            else:\n",
    "                valuesA[date]  = np.nan        \n",
    "        \n",
    "        result = result.append( pd.DataFrame({'cik':cik, 'filed':filing_dates, 'valueQ':valuesQ.values, 'valueA':valuesA.values}) )\n",
    "\n",
    "    return result.set_index(['cik','filed'])                        # Return a table with columns 'valueQ' and 'valueA'.\n",
    "\n",
    "\n",
    "\n",
    "def ffill_values(item, dates):                                          \n",
    "    data = item.unstack('cik')\n",
    "    data = data.reindex(dates.union(data.index)).sort_index()           # Add specified dates to index.\n",
    "    filing_dates = pd.read_csv('data/sec/dates/filing_dates.csv', index_col='cik', parse_dates=['filed']).filed\n",
    "    last_filing_date_all_firms = filing_dates.max()                     # Most recent date where at least 1 firm filed.\n",
    "     \n",
    "    for cik in data.columns:                                            # Loop over all firms.\n",
    "        last_filing_date      = pd.Series(filing_dates[cik]).iloc[-1]   # Last date where this firm filed\n",
    "        days_since_last_filed = (last_filing_date_all_firms - last_filing_date).days\n",
    "        last_date_this_firm   = dates[-1] if days_since_last_filed < 120 else last_filing_date\n",
    "        data.loc[:last_date_this_firm, cik].ffill(inplace=True)         # Forward fill all the values.\n",
    "\n",
    "    return data.loc[dates]                                              # Return only specified dates.   "
   ]
  },
  {
   "cell_type": "code",
   "execution_count": null,
   "id": "liquid-child",
   "metadata": {},
   "outputs": [],
   "source": [
    "tags_sales           = ['RevenueFromContractWithCustomerExcludingAssessedTax','SalesRevenueNet','Revenues',\n",
    "                        'SalesAndOtherOperatingRevenueIncludingSalesBasedTaxes','TotalRevenuesAndOtherIncome']\n",
    "\n",
    "tags_earnings        = ['NetIncomeLossAvailableToCommonStockholdersBasic','NetIncomeLoss','ProfitLoss']\n",
    "\n",
    "tags_operatingIncome = ['OperatingIncomeLoss']"
   ]
  },
  {
   "cell_type": "code",
   "execution_count": null,
   "id": "square-mother",
   "metadata": {},
   "outputs": [],
   "source": [
    "items = get_items_from_SEC_files( tags_sales + tags_earnings + tags_operatingIncome )"
   ]
  },
  {
   "cell_type": "markdown",
   "id": "impossible-notebook",
   "metadata": {},
   "source": [
    "Fix data errors:"
   ]
  },
  {
   "cell_type": "code",
   "execution_count": null,
   "id": "divine-plumbing",
   "metadata": {},
   "outputs": [],
   "source": [
    "# RUN THIS CELL ONLY ONCE!\n",
    "\n",
    "# MKSI cik: 1049502\n",
    "tag = 'RevenueFromContractWithCustomerExcludingAssessedTax'\n",
    "t = items[tag].reset_index()\n",
    "t.loc[(t.cik==1049502) & (t.filed=='2018-05-08'), 'value_longest']  /= 1000\n",
    "t.loc[(t.cik==1049502) & (t.filed=='2018-05-08'), 'value_shortest'] /= 1000\n",
    "items[tag] = t.set_index(['cik','filed'])\n",
    "\n",
    "# CRAWA cik: 1049502: Income, 6 Months Ended 2013-3-31 = $263,235\n",
    "# https://www.sec.gov/cgi-bin/viewer?action=view&cik=47307&accession_number=0000047307-13-000009&xbrl_type=v#\n",
    "tag = 'NetIncomeLossAvailableToCommonStockholdersBasic'\n",
    "t = items[tag].reset_index()\n",
    "t.loc[(t.cik==47307) & (t.filed=='2013-5-15'), 'value_longest'] /= 10**6\n",
    "items[tag] = t.set_index(['cik','filed'])\n",
    "\n",
    "# Bonanza Creek Energy, Inc; CIK=1509589 -> OperatingIncomeLoss 2013-03-15 = 3.666547e+7 (/1000 )\n",
    "# WMT CIK=104169, 2017-08-31 values missing, source: https://www.sec.gov/cgi-bin/viewer?action=view&cik=104169&accession_number=0000104169-17-000057&xbrl_type=v#\n",
    "tag = 'OperatingIncomeLoss'\n",
    "t = items[tag].reset_index()\n",
    "t.loc[(t.cik==1509589) & (t.filed=='2013-03-15'), 'value_shortest'] /= 1000\n",
    "t.loc[(t.cik==104169)  & (t.filed=='2017-08-31'), ['value_shortest','qtrs_shortest','value_longest','qtrs_longest']] = [5969*10**6, 1, 11440, 2]\n",
    "items[tag] = t.set_index(['cik','filed'])"
   ]
  },
  {
   "cell_type": "markdown",
   "id": "above-warehouse",
   "metadata": {},
   "source": [
    "Combine items:"
   ]
  },
  {
   "cell_type": "code",
   "execution_count": null,
   "id": "beginning-prairie",
   "metadata": {},
   "outputs": [],
   "source": [
    "items['Sales']    = combine_items(tags_sales,    items)\n",
    "items['Earnings'] = combine_items(tags_earnings, items)"
   ]
  },
  {
   "cell_type": "markdown",
   "id": "mexican-school",
   "metadata": {},
   "source": [
    "Calculate quarterly and annual values:"
   ]
  },
  {
   "cell_type": "code",
   "execution_count": null,
   "id": "certified-executive",
   "metadata": {},
   "outputs": [],
   "source": [
    "sales            = calculate_quarterly_annual_values(items['Sales'])\n",
    "earnings         = calculate_quarterly_annual_values(items['Earnings'])\n",
    "operatingIncome  = calculate_quarterly_annual_values(items['OperatingIncomeLoss'])\n",
    "\n",
    "sales[:5]"
   ]
  },
  {
   "cell_type": "markdown",
   "id": "working-transportation",
   "metadata": {},
   "source": [
    "Save the results:"
   ]
  },
  {
   "cell_type": "code",
   "execution_count": null,
   "id": "local-behalf",
   "metadata": {},
   "outputs": [],
   "source": [
    "sales          .to_csv('data/sec/items/Sales.csv')\n",
    "earnings       .to_csv('data/sec/items/Earnings.csv')\n",
    "operatingIncome.to_csv('data/sec/items/OperatingIncome.csv')"
   ]
  },
  {
   "cell_type": "code",
   "execution_count": null,
   "id": "known-humanity",
   "metadata": {},
   "outputs": [],
   "source": [
    "trading_days = tiingo.get_dataframe('SPY','2009-04-15').index.tz_convert(None)\n",
    "\n",
    "salesQ = ffill_values(sales.valueQ, trading_days)\n",
    "salesA = ffill_values(sales.valueA, trading_days)\n",
    "\n",
    "earningsQ = ffill_values( earnings.valueQ, trading_days )  \n",
    "earningsA = ffill_values( earnings.valueA, trading_days )\n",
    "\n",
    "operatingIncomeQ = ffill_values( operatingIncome.valueQ, trading_days )  \n",
    "operatingIncomeA = ffill_values( operatingIncome.valueA, trading_days )\n",
    "\n",
    "salesA[:5]"
   ]
  },
  {
   "cell_type": "markdown",
   "id": "trained-redhead",
   "metadata": {},
   "source": [
    "Which 10 firms have the most recent highest annual sales?"
   ]
  },
  {
   "cell_type": "code",
   "execution_count": null,
   "id": "senior-platform",
   "metadata": {},
   "outputs": [],
   "source": [
    "symbols = pd.read_csv('data/ticker_symbols/symbols.csv',index_col=0)\n",
    "symbols[:2]"
   ]
  },
  {
   "cell_type": "code",
   "execution_count": null,
   "id": "adopted-jones",
   "metadata": {},
   "outputs": [],
   "source": []
  },
  {
   "cell_type": "markdown",
   "id": "filled-technician",
   "metadata": {},
   "source": [
    "Which 10 firms have the most recent highest annual earnings?"
   ]
  },
  {
   "cell_type": "code",
   "execution_count": null,
   "id": "sunrise-monday",
   "metadata": {},
   "outputs": [],
   "source": []
  },
  {
   "cell_type": "markdown",
   "id": "simple-greene",
   "metadata": {},
   "source": [
    "Aggregate quarterly earnings:"
   ]
  },
  {
   "cell_type": "code",
   "execution_count": null,
   "id": "instructional-terminal",
   "metadata": {},
   "outputs": [],
   "source": []
  },
  {
   "cell_type": "markdown",
   "id": "amateur-fundamental",
   "metadata": {},
   "source": [
    "Earnings relative to sales for a specific firm:"
   ]
  },
  {
   "cell_type": "code",
   "execution_count": null,
   "id": "statistical-siemens",
   "metadata": {},
   "outputs": [],
   "source": [
    "cik = symbols[symbols.ticker==''].index[0]\n",
    "\n"
   ]
  },
  {
   "cell_type": "markdown",
   "id": "fatty-drill",
   "metadata": {},
   "source": [
    "Earnings relative to operating income for the entire market:"
   ]
  },
  {
   "cell_type": "code",
   "execution_count": null,
   "id": "clear-scotland",
   "metadata": {},
   "outputs": [],
   "source": []
  },
  {
   "cell_type": "code",
   "execution_count": null,
   "id": "humanitarian-timeline",
   "metadata": {},
   "outputs": [],
   "source": []
  },
  {
   "cell_type": "markdown",
   "id": "assigned-springfield",
   "metadata": {},
   "source": [
    "Earnings relative to operating income:"
   ]
  },
  {
   "cell_type": "code",
   "execution_count": null,
   "id": "floral-moral",
   "metadata": {},
   "outputs": [],
   "source": []
  },
  {
   "cell_type": "markdown",
   "id": "sticky-thailand",
   "metadata": {},
   "source": [
    "How to select values that multiple tables have in common:"
   ]
  },
  {
   "cell_type": "code",
   "execution_count": null,
   "id": "appointed-parish",
   "metadata": {},
   "outputs": [],
   "source": [
    "t1 = pd.DataFrame({'A':[1,2,3],'B':[4,5,np.nan],'C':[7,8,9]}, index=['a','b','c'])\n",
    "t1"
   ]
  },
  {
   "cell_type": "code",
   "execution_count": null,
   "id": "chemical-links",
   "metadata": {},
   "outputs": [],
   "source": [
    "t2 = pd.DataFrame({'B':[1,2,3],'C':[np.nan,5,6],'D':[7,8,9]}, index=['b','c','d'])\n",
    "t2"
   ]
  },
  {
   "cell_type": "code",
   "execution_count": null,
   "id": "continent-russia",
   "metadata": {},
   "outputs": [],
   "source": []
  },
  {
   "cell_type": "code",
   "execution_count": null,
   "id": "plain-stereo",
   "metadata": {},
   "outputs": [],
   "source": []
  },
  {
   "cell_type": "code",
   "execution_count": null,
   "id": "brilliant-circuit",
   "metadata": {},
   "outputs": [],
   "source": [
    "mask = \n",
    "\n",
    "total_operatingIncome = operatingIncomeQ[mask].sum('columns')\n",
    "total_earnings        = earningsQ       [mask].sum('columns')\n",
    "\n",
    "(total_earnings / total_operatingIncome)['2012':].plot()"
   ]
  },
  {
   "cell_type": "markdown",
   "id": "ordered-stadium",
   "metadata": {},
   "source": [
    "Same for sales:"
   ]
  },
  {
   "cell_type": "code",
   "execution_count": null,
   "id": "constant-current",
   "metadata": {},
   "outputs": [],
   "source": [
    "mask = \n",
    "\n",
    "total_sales     = salesQ   [mask].sum('columns')\n",
    "total_earnings  = earningsQ[mask].sum('columns')\n",
    "\n",
    "(total_earnings / total_sales)['2012':].plot()"
   ]
  }
 ],
 "metadata": {
  "kernelspec": {
   "display_name": "Python 3",
   "language": "python",
   "name": "python3"
  },
  "language_info": {
   "codemirror_mode": {
    "name": "ipython",
    "version": 3
   },
   "file_extension": ".py",
   "mimetype": "text/x-python",
   "name": "python",
   "nbconvert_exporter": "python",
   "pygments_lexer": "ipython3",
   "version": "3.7.9"
  }
 },
 "nbformat": 4,
 "nbformat_minor": 5
}
