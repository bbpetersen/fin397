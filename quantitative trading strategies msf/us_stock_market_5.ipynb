{
 "cells": [
  {
   "cell_type": "markdown",
   "id": "behavioral-tribe",
   "metadata": {},
   "source": [
    "# U.S. Stock Market V: Shares Outstanding"
   ]
  },
  {
   "cell_type": "code",
   "execution_count": null,
   "id": "gorgeous-clear",
   "metadata": {},
   "outputs": [],
   "source": [
    "import pandas as pd\n",
    "import numpy as np\n",
    "import requests, zipfile, io\n",
    "import os\n",
    "from pathlib import Path\n",
    "\n",
    "from tiingo import TiingoClient                       \n",
    "tiingo = TiingoClient({'api_key':'XXXX'})\n",
    "\n",
    "import matplotlib.pyplot as plt                        # Basic plot library.\n",
    "plt.style.use('ggplot')                                # Make plots look nice."
   ]
  },
  {
   "cell_type": "markdown",
   "id": "informative-junior",
   "metadata": {},
   "source": [
    "Get shares:"
   ]
  },
  {
   "cell_type": "code",
   "execution_count": null,
   "id": "constant-instruction",
   "metadata": {},
   "outputs": [],
   "source": [
    "# Example:\n",
    "directory = 'data/sec/merged/'\n",
    "filename  = '2020q1.csv'\n",
    "data = pd.read_csv(directory+filename, parse_dates=['filed','ddate'])\n",
    "\n",
    "tag  = 'EntityCommonStockSharesOutstanding'\n",
    "item = data[data.tag==tag] \n",
    "\n",
    "sort = item.sort_values(['cik','filed','ddate'], ascending=[True,True,True])  [:3]\n",
    "sort"
   ]
  },
  {
   "cell_type": "markdown",
   "id": "incorporate-attendance",
   "metadata": {},
   "source": [
    "For each firm and each filing date and each ddate, sum all shares and get value column (possibly multiplt share classes):"
   ]
  },
  {
   "cell_type": "code",
   "execution_count": null,
   "id": "hundred-tiffany",
   "metadata": {},
   "outputs": [],
   "source": [
    "sort.groupby(['cik','filed','ddate']).sum()[['value']]"
   ]
  },
  {
   "cell_type": "markdown",
   "id": "mathematical-forum",
   "metadata": {},
   "source": [
    "Put this into a function:"
   ]
  },
  {
   "cell_type": "code",
   "execution_count": null,
   "id": "diagnostic-victor",
   "metadata": {},
   "outputs": [],
   "source": [
    "def get_shares_from_SEC_files(tags, filename=None):               # Function input: list of tags, optional filename.\n",
    "\n",
    "    directory = 'data/sec/merged/'                                # Read data from here.\n",
    "    filenames = [filename] if filename else os.listdir(directory) # Supplied filename or all files in \"merged\" directory.\n",
    "    filenames = [f for f in filenames if not f.startswith(\".\")]   # Exclude hidden files from file list.\n",
    "\n",
    "\n",
    "    results   = {t:pd.DataFrame() for t in tags}                  # Dictionary of tables (1 table for each tag)\n",
    "\n",
    "    for filename in filenames:                                    # Loop over all files.\n",
    "        print(filename)\n",
    "        data = pd.read_csv(directory+filename, parse_dates=['filed','ddate'])  # Read the file.\n",
    "        \n",
    "        for t in tags:                                            # Loop over all tags.\n",
    "            item   = data[data.tag==t]                             # Select all data for this tag.\n",
    "            sort   = item.sort_values(['cik','filed','ddate'], ascending=[True,True,True])\n",
    "            total  = sort.groupby(['cik','filed','ddate']).sum()\n",
    "            latest = total.groupby(['cik','filed']).last()\n",
    "            results[t] = results[t].append( latest )  \n",
    "                        \n",
    "    for t in tags:                                                # Now sort all tables by filing date.\n",
    "        if not results[t].empty: results[t] = results[t].sort_index(level='filed')[['value']]            \n",
    "\n",
    "    return results"
   ]
  },
  {
   "cell_type": "code",
   "execution_count": null,
   "id": "prostate-intelligence",
   "metadata": {},
   "outputs": [],
   "source": [
    "tags = ['EntityCommonStockSharesOutstanding','CommonStockSharesOutstanding']\n",
    "\n",
    "items = get_shares_from_SEC_files(tags)"
   ]
  },
  {
   "cell_type": "markdown",
   "id": "personal-breath",
   "metadata": {},
   "source": [
    "EntityCommonStockSharesOutstanding:"
   ]
  },
  {
   "cell_type": "code",
   "execution_count": null,
   "id": "virtual-aquatic",
   "metadata": {},
   "outputs": [],
   "source": []
  },
  {
   "cell_type": "markdown",
   "id": "opened-chosen",
   "metadata": {},
   "source": [
    "Set zero shares to missing:"
   ]
  },
  {
   "cell_type": "code",
   "execution_count": null,
   "id": "consistent-thinking",
   "metadata": {},
   "outputs": [],
   "source": [
    "items['EntityCommonStockSharesOutstanding'] = items['EntityCommonStockSharesOutstanding'].replace(0, np.nan) \n",
    "items['CommonStockSharesOutstanding']       = items['CommonStockSharesOutstanding']      .replace(0, np.nan)  "
   ]
  },
  {
   "cell_type": "markdown",
   "id": "accurate-ultimate",
   "metadata": {},
   "source": [
    "Combine these two tags (replace missing EntityCommonStockSharesOutstanding with CommonStockSharesOutstanding):"
   ]
  },
  {
   "cell_type": "code",
   "execution_count": null,
   "id": "cutting-coupon",
   "metadata": {},
   "outputs": [],
   "source": [
    "def combine_items(tags, items):\n",
    "    result = items[tags[0]]\n",
    "    for tag in tags[1:]:  result = result.combine_first( items[tag] )\n",
    "    return result\n",
    "\n",
    "\n",
    "shares = combine_items(tags, items)\n",
    "shares"
   ]
  },
  {
   "cell_type": "code",
   "execution_count": null,
   "id": "renewable-concert",
   "metadata": {},
   "outputs": [],
   "source": [
    "# Save this table:\n",
    "shares.to_csv('data/sec/items/SharesOutstanding.csv')"
   ]
  },
  {
   "cell_type": "code",
   "execution_count": null,
   "id": "fatty-brisbane",
   "metadata": {},
   "outputs": [],
   "source": [
    "# Read the table we just saved:\n",
    "shares = pd.read_csv('data/sec/items/SharesOutstanding.csv', parse_dates=['filed'], index_col=['cik','filed'])\n",
    "shares"
   ]
  },
  {
   "cell_type": "markdown",
   "id": "catholic-simon",
   "metadata": {},
   "source": [
    "Forward-fill shares to all trading days:"
   ]
  },
  {
   "cell_type": "code",
   "execution_count": null,
   "id": "applicable-warning",
   "metadata": {},
   "outputs": [],
   "source": [
    "def ffill_values(item, dates):                                          \n",
    "    data = item.unstack('cik')\n",
    "    data = data.reindex(dates.union(data.index)).sort_index()           # Add specified dates to index.\n",
    "    filing_dates = pd.read_csv('data/sec/dates/filing_dates.csv', index_col='cik', parse_dates=['filed']).filed\n",
    "    last_filing_date_all_firms = filing_dates.max()                     # Most recent date where at least 1 firm filed.\n",
    "     \n",
    "    for cik in data.columns:                                            # Loop over all firms.\n",
    "        last_filing_date      = pd.Series(filing_dates[cik]).iloc[-1]   # Last date where this firm filed\n",
    "        days_since_last_filed = (last_filing_date_all_firms - last_filing_date).days\n",
    "        last_date_this_firm   = dates[-1] if days_since_last_filed < 120 else last_filing_date\n",
    "        data.loc[:last_date_this_firm, cik].ffill(inplace=True)         # Forward fill all the values.\n",
    "\n",
    "    return data.loc[dates]                                              # Return only specified dates.   \n",
    "\n",
    "\n",
    "\n",
    "trading_days = pd.to_datetime( tiingo.get_dataframe('SPY','2009-04-15').index ).tz_convert(None)\n",
    "\n",
    "shares = ffill_values(shares.value, trading_days)\n",
    "\n",
    "shares[-3:]"
   ]
  },
  {
   "cell_type": "markdown",
   "id": "conscious-container",
   "metadata": {},
   "source": [
    "Shares outstanding for specific firm:"
   ]
  },
  {
   "cell_type": "code",
   "execution_count": null,
   "id": "regulated-opening",
   "metadata": {},
   "outputs": [],
   "source": [
    "symbols = pd.read_csv('data/ticker_symbols/symbols.csv',index_col=0)"
   ]
  },
  {
   "cell_type": "code",
   "execution_count": null,
   "id": "hollywood-abuse",
   "metadata": {},
   "outputs": [],
   "source": [
    "cik = symbols[symbols.ticker==''].index[0]  \n",
    "\n"
   ]
  },
  {
   "cell_type": "markdown",
   "id": "sunrise-marijuana",
   "metadata": {},
   "source": [
    "Get some prices:"
   ]
  },
  {
   "cell_type": "code",
   "execution_count": null,
   "id": "solid-excuse",
   "metadata": {},
   "outputs": [],
   "source": [
    "close = tiingo.get_dataframe(['AAPL','MSFT','AMZN','TSLA'], '2009-01-01', metric_name='close')\n",
    "close.index = pd.to_datetime(close.index).tz_convert(None)\n",
    "close"
   ]
  },
  {
   "cell_type": "markdown",
   "id": "beginning-lesbian",
   "metadata": {},
   "source": [
    "Plot Apple close price:"
   ]
  },
  {
   "cell_type": "code",
   "execution_count": null,
   "id": "dynamic-clause",
   "metadata": {},
   "outputs": [],
   "source": []
  },
  {
   "cell_type": "markdown",
   "id": "understanding-lindsay",
   "metadata": {},
   "source": [
    "Calculate market cap for single firm:"
   ]
  },
  {
   "cell_type": "code",
   "execution_count": null,
   "id": "internal-registrar",
   "metadata": {},
   "outputs": [],
   "source": [
    "shares = shares.rename( columns=symbols.ticker )\n",
    "shares[-3:]"
   ]
  },
  {
   "cell_type": "code",
   "execution_count": null,
   "id": "virgin-warrant",
   "metadata": {},
   "outputs": [],
   "source": [
    "ticker = 'AAPL'\n",
    "\n"
   ]
  },
  {
   "cell_type": "markdown",
   "id": "weighted-agriculture",
   "metadata": {},
   "source": [
    "Compare shares and price of Apple from 2020-5 to 2020-11:"
   ]
  },
  {
   "cell_type": "code",
   "execution_count": null,
   "id": "continued-prime",
   "metadata": {},
   "outputs": [],
   "source": [
    "pd.DataFrame({'Shares':shares[ticker]/10**8, 'Price':close[ticker]})"
   ]
  },
  {
   "cell_type": "markdown",
   "id": "broadband-bracelet",
   "metadata": {},
   "source": [
    "Get stock splits for these firms:"
   ]
  },
  {
   "cell_type": "code",
   "execution_count": null,
   "id": "downtown-charity",
   "metadata": {},
   "outputs": [],
   "source": [
    "splitFactor = tiingo.get_dataframe(['AAPL','MSFT','AMZN','TSLA'], '2009-01-01', metric_name='splitFactor')\n",
    "splitFactor.index = pd.to_datetime(splitFactor.index).tz_convert(None)\n",
    "splitFactor"
   ]
  },
  {
   "cell_type": "markdown",
   "id": "exclusive-science",
   "metadata": {},
   "source": [
    "Generate table with split adjustments:"
   ]
  },
  {
   "cell_type": "code",
   "execution_count": null,
   "id": "controlled-stylus",
   "metadata": {},
   "outputs": [],
   "source": [
    "filing_dates = pd.read_csv('data/sec/dates/filing_dates.csv', index_col='cik', parse_dates=['filed']).filed\n",
    "\n",
    "ones = pd.DataFrame({'date':filing_dates, 'one':1})\n",
    "ones = ones.set_index([ones.index,ones.date]).one.unstack('cik')\n",
    "ones = ones.rename( columns=symbols.ticker )\n",
    "ones = ones.reindex( trading_days.union(ones.index) )\n",
    "\n",
    "split_adjustments = ones.fillna( splitFactor[splitFactor!=1] )\n",
    "split_adjustments = split_adjustments.ffill()\n",
    "\n",
    "split_adjustments"
   ]
  },
  {
   "cell_type": "markdown",
   "id": "elementary-covering",
   "metadata": {},
   "source": [
    "Plot these values for specific firm:"
   ]
  },
  {
   "cell_type": "code",
   "execution_count": null,
   "id": "formal-experiment",
   "metadata": {},
   "outputs": [],
   "source": []
  },
  {
   "cell_type": "markdown",
   "id": "stainless-mayor",
   "metadata": {},
   "source": [
    "Market cap for this firm:"
   ]
  },
  {
   "cell_type": "code",
   "execution_count": null,
   "id": "armed-clerk",
   "metadata": {},
   "outputs": [],
   "source": [
    "ticker = ''\n",
    "\n"
   ]
  },
  {
   "cell_type": "markdown",
   "id": "roman-vintage",
   "metadata": {},
   "source": [
    "Caculate market cap for all firms:"
   ]
  },
  {
   "cell_type": "code",
   "execution_count": null,
   "id": "stuffed-tuner",
   "metadata": {},
   "outputs": [],
   "source": [
    "mcap = \n",
    "mcap"
   ]
  },
  {
   "cell_type": "markdown",
   "id": "experimental-session",
   "metadata": {},
   "source": [
    "Check market cap of specific firm:"
   ]
  },
  {
   "cell_type": "code",
   "execution_count": null,
   "id": "loved-hardwood",
   "metadata": {},
   "outputs": [],
   "source": []
  },
  {
   "cell_type": "markdown",
   "id": "advanced-minimum",
   "metadata": {},
   "source": [
    "Get sales and earnings:"
   ]
  },
  {
   "cell_type": "code",
   "execution_count": null,
   "id": "military-mexican",
   "metadata": {},
   "outputs": [],
   "source": [
    "trading_days = tiingo.get_dataframe('SPY','2009-04-15').index.tz_convert(None)\n",
    "\n",
    "sales    = pd.read_csv('data/sec/items/Sales.csv',    parse_dates=['filed'], index_col=['cik','filed'])\n",
    "earnings = pd.read_csv('data/sec/items/Earnings.csv', parse_dates=['filed'], index_col=['cik','filed'])\n",
    "\n",
    "salesQ = ffill_values(sales.valueQ, trading_days)\n",
    "salesA = ffill_values(sales.valueA, trading_days)\n",
    "\n",
    "earningsQ = ffill_values( earnings.valueQ, trading_days )  \n",
    "earningsA = ffill_values( earnings.valueA, trading_days )"
   ]
  },
  {
   "cell_type": "markdown",
   "id": "sticky-civilization",
   "metadata": {},
   "source": [
    "Price-earnings ratio"
   ]
  },
  {
   "cell_type": "code",
   "execution_count": null,
   "id": "alike-silicon",
   "metadata": {},
   "outputs": [],
   "source": [
    "ticker = ''\n",
    "\n",
    "cik = symbols[symbols.ticker==ticker].index[0]  \n",
    "\n",
    "t = pd.DataFrame()\n",
    "t['PE quarterly'] =\n",
    "t['PE annual']    = \n",
    "\n",
    "t"
   ]
  },
  {
   "cell_type": "code",
   "execution_count": null,
   "id": "massive-trunk",
   "metadata": {},
   "outputs": [],
   "source": []
  }
 ],
 "metadata": {
  "kernelspec": {
   "display_name": "Python 3",
   "language": "python",
   "name": "python3"
  },
  "language_info": {
   "codemirror_mode": {
    "name": "ipython",
    "version": 3
   },
   "file_extension": ".py",
   "mimetype": "text/x-python",
   "name": "python",
   "nbconvert_exporter": "python",
   "pygments_lexer": "ipython3",
   "version": "3.7.9"
  }
 },
 "nbformat": 4,
 "nbformat_minor": 5
}
