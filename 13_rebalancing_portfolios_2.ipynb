{
 "cells": [
  {
   "cell_type": "markdown",
   "metadata": {},
   "source": [
    "## Rebalancing Portfolios II"
   ]
  },
  {
   "cell_type": "code",
   "execution_count": 21,
   "metadata": {},
   "outputs": [],
   "source": [
    "import pandas as pd\n",
    "import numpy  as np\n",
    "\n",
    "from tiingo import TiingoClient                       \n",
    "tiingo = TiingoClient({'api_key':'f10f5d79cf2567b045cc7e9b595a6fec0f5321d2'})\n",
    "\n",
    "import matplotlib.pyplot as plt                        # Basic plot library.\n",
    "plt.style.use('ggplot')                                # Make plots look nice."
   ]
  },
  {
   "cell_type": "markdown",
   "metadata": {},
   "source": [
    "Get S&P500 [sector ETFs](https://www.sectorspdr.com/sectorspdr/) for technology, consumer staples and financials:"
   ]
  },
  {
   "cell_type": "code",
   "execution_count": 22,
   "metadata": {},
   "outputs": [
    {
     "data": {
      "text/html": [
       "<div>\n",
       "<style scoped>\n",
       "    .dataframe tbody tr th:only-of-type {\n",
       "        vertical-align: middle;\n",
       "    }\n",
       "\n",
       "    .dataframe tbody tr th {\n",
       "        vertical-align: top;\n",
       "    }\n",
       "\n",
       "    .dataframe thead th {\n",
       "        text-align: right;\n",
       "    }\n",
       "</style>\n",
       "<table border=\"1\" class=\"dataframe\">\n",
       "  <thead>\n",
       "    <tr style=\"text-align: right;\">\n",
       "      <th></th>\n",
       "      <th>XLK</th>\n",
       "      <th>XLP</th>\n",
       "      <th>XLF</th>\n",
       "    </tr>\n",
       "  </thead>\n",
       "  <tbody>\n",
       "    <tr>\n",
       "      <th>2021-03-22</th>\n",
       "      <td>0.019623</td>\n",
       "      <td>0.010499</td>\n",
       "      <td>-0.012822</td>\n",
       "    </tr>\n",
       "    <tr>\n",
       "      <th>2021-03-23</th>\n",
       "      <td>-0.006218</td>\n",
       "      <td>0.004197</td>\n",
       "      <td>-0.013976</td>\n",
       "    </tr>\n",
       "    <tr>\n",
       "      <th>2021-03-24</th>\n",
       "      <td>-0.012133</td>\n",
       "      <td>-0.003881</td>\n",
       "      <td>0.003619</td>\n",
       "    </tr>\n",
       "  </tbody>\n",
       "</table>\n",
       "</div>"
      ],
      "text/plain": [
       "                 XLK       XLP       XLF\n",
       "2021-03-22  0.019623  0.010499 -0.012822\n",
       "2021-03-23 -0.006218  0.004197 -0.013976\n",
       "2021-03-24 -0.012133 -0.003881  0.003619"
      ]
     },
     "execution_count": 22,
     "metadata": {},
     "output_type": "execute_result"
    }
   ],
   "source": [
    "PRICE       = tiingo.get_dataframe(['XLK', 'XLP', 'XLF'],'2000-01-01', metric_name='adjClose')\n",
    "PRICE.index = pd.to_datetime(PRICE.index).tz_convert(None)\n",
    "\n",
    "RET = PRICE.pct_change()\n",
    "RET[-3:]"
   ]
  },
  {
   "cell_type": "code",
   "execution_count": 23,
   "metadata": {},
   "outputs": [
    {
     "data": {
      "text/plain": [
       "<matplotlib.axes._subplots.AxesSubplot at 0x7fda9e1eda90>"
      ]
     },
     "execution_count": 23,
     "metadata": {},
     "output_type": "execute_result"
    },
    {
     "data": {
      "image/png": "[encoded data removed]",
      "text/plain": [
       "<Figure size 432x288 with 1 Axes>"
      ]
     },
     "metadata": {},
     "output_type": "display_data"
    }
   ],
   "source": [
    "RET.add(1).cumprod().plot(logy=True)"
   ]
  },
  {
   "cell_type": "markdown",
   "metadata": {},
   "source": [
    "### Rebalance Loop"
   ]
  },
  {
   "cell_type": "markdown",
   "metadata": {},
   "source": [
    "Equal-weight portfolio:"
   ]
  },
  {
   "cell_type": "code",
   "execution_count": 24,
   "metadata": {},
   "outputs": [],
   "source": [
    "weights = pd.Series({'XLK':1/3, 'XLP':1/3, 'XLF':1/3})"
   ]
  },
  {
   "cell_type": "markdown",
   "metadata": {},
   "source": [
    "Suppose we rebalance at the end of each month:"
   ]
  },
  {
   "cell_type": "code",
   "execution_count": 25,
   "metadata": {},
   "outputs": [
    {
     "data": {
      "text/plain": [
       "DatetimeIndex(['2000-01-03', '2000-01-31', '2000-02-29', '2000-03-31',\n",
       "               '2000-04-28', '2000-05-31', '2000-06-30', '2000-07-31',\n",
       "               '2000-08-31', '2000-09-29',\n",
       "               ...\n",
       "               '2020-06-30', '2020-07-31', '2020-08-31', '2020-09-30',\n",
       "               '2020-10-30', '2020-11-30', '2020-12-31', '2021-01-29',\n",
       "               '2021-02-26', '2021-03-24'],\n",
       "              dtype='datetime64[ns]', length=256, freq=None)"
      ]
     },
     "execution_count": 25,
     "metadata": {},
     "output_type": "execute_result"
    }
   ],
   "source": [
    "def get_rebalance_dates(frequency):\n",
    "    group = getattr(PRICE.index, frequency) \n",
    "    return PRICE[:1].index.union(PRICE.groupby([PRICE.index.year, group]).tail(1).index)\n",
    "\n",
    "\n",
    "rebalance_dates = get_rebalance_dates('month') \n",
    "rebalance_dates"
   ]
  },
  {
   "cell_type": "markdown",
   "metadata": {},
   "source": [
    "We use a series to store the daily portfolio values.     \n",
    "Our portfolio value equals $1 on the first trading date:"
   ]
  },
  {
   "cell_type": "code",
   "execution_count": 26,
   "metadata": {},
   "outputs": [
    {
     "data": {
      "text/plain": [
       "2000-01-03    1\n",
       "dtype: int64"
      ]
     },
     "execution_count": 26,
     "metadata": {},
     "output_type": "execute_result"
    }
   ],
   "source": [
    "portfolio_value = pd.Series(1, index= [rebalance_dates [0]])\n",
    "portfolio_value"
   ]
  },
  {
   "cell_type": "markdown",
   "metadata": {},
   "source": [
    "First holding period:"
   ]
  },
  {
   "cell_type": "code",
   "execution_count": 27,
   "metadata": {},
   "outputs": [
    {
     "name": "stdout",
     "output_type": "stream",
     "text": [
      "start: 2000-01-03 00:00:00 end: 2000-01-31 00:00:00\n"
     ]
    }
   ],
   "source": [
    "start_date = rebalance_dates [0]\n",
    "end_date   = rebalance_dates [1]\n",
    "\n",
    "print('start:', start_date, 'end:', end_date)"
   ]
  },
  {
   "cell_type": "markdown",
   "metadata": {},
   "source": [
    "Compound return of the assets during this holding period:"
   ]
  },
  {
   "cell_type": "code",
   "execution_count": 28,
   "metadata": {},
   "outputs": [
    {
     "data": {
      "text/html": [
       "<div>\n",
       "<style scoped>\n",
       "    .dataframe tbody tr th:only-of-type {\n",
       "        vertical-align: middle;\n",
       "    }\n",
       "\n",
       "    .dataframe tbody tr th {\n",
       "        vertical-align: top;\n",
       "    }\n",
       "\n",
       "    .dataframe thead th {\n",
       "        text-align: right;\n",
       "    }\n",
       "</style>\n",
       "<table border=\"1\" class=\"dataframe\">\n",
       "  <thead>\n",
       "    <tr style=\"text-align: right;\">\n",
       "      <th></th>\n",
       "      <th>XLK</th>\n",
       "      <th>XLP</th>\n",
       "      <th>XLF</th>\n",
       "    </tr>\n",
       "  </thead>\n",
       "  <tbody>\n",
       "    <tr>\n",
       "      <th>2000-01-04</th>\n",
       "      <td>0.949315</td>\n",
       "      <td>0.971868</td>\n",
       "      <td>0.956294</td>\n",
       "    </tr>\n",
       "    <tr>\n",
       "      <th>2000-01-05</th>\n",
       "      <td>0.949856</td>\n",
       "      <td>0.986374</td>\n",
       "      <td>0.956731</td>\n",
       "    </tr>\n",
       "    <tr>\n",
       "      <th>2000-01-06</th>\n",
       "      <td>0.904221</td>\n",
       "      <td>1.007473</td>\n",
       "      <td>0.990385</td>\n",
       "    </tr>\n",
       "    <tr>\n",
       "      <th>2000-01-07</th>\n",
       "      <td>0.919913</td>\n",
       "      <td>1.071648</td>\n",
       "      <td>1.006556</td>\n",
       "    </tr>\n",
       "    <tr>\n",
       "      <th>2000-01-10</th>\n",
       "      <td>0.954906</td>\n",
       "      <td>1.047473</td>\n",
       "      <td>0.989073</td>\n",
       "    </tr>\n",
       "    <tr>\n",
       "      <th>2000-01-11</th>\n",
       "      <td>0.927850</td>\n",
       "      <td>1.047473</td>\n",
       "      <td>0.972465</td>\n",
       "    </tr>\n",
       "    <tr>\n",
       "      <th>2000-01-12</th>\n",
       "      <td>0.923882</td>\n",
       "      <td>1.052747</td>\n",
       "      <td>0.991696</td>\n",
       "    </tr>\n",
       "    <tr>\n",
       "      <th>2000-01-13</th>\n",
       "      <td>0.932359</td>\n",
       "      <td>1.058462</td>\n",
       "      <td>1.021853</td>\n",
       "    </tr>\n",
       "    <tr>\n",
       "      <th>2000-01-14</th>\n",
       "      <td>0.953824</td>\n",
       "      <td>1.061978</td>\n",
       "      <td>1.045455</td>\n",
       "    </tr>\n",
       "    <tr>\n",
       "      <th>2000-01-18</th>\n",
       "      <td>0.958874</td>\n",
       "      <td>1.043956</td>\n",
       "      <td>1.010927</td>\n",
       "    </tr>\n",
       "    <tr>\n",
       "      <th>2000-01-19</th>\n",
       "      <td>0.960498</td>\n",
       "      <td>1.051429</td>\n",
       "      <td>1.007430</td>\n",
       "    </tr>\n",
       "    <tr>\n",
       "      <th>2000-01-20</th>\n",
       "      <td>0.966089</td>\n",
       "      <td>1.036923</td>\n",
       "      <td>0.989073</td>\n",
       "    </tr>\n",
       "    <tr>\n",
       "      <th>2000-01-21</th>\n",
       "      <td>0.967352</td>\n",
       "      <td>1.025495</td>\n",
       "      <td>0.976399</td>\n",
       "    </tr>\n",
       "    <tr>\n",
       "      <th>2000-01-24</th>\n",
       "      <td>0.935786</td>\n",
       "      <td>0.996044</td>\n",
       "      <td>0.958916</td>\n",
       "    </tr>\n",
       "    <tr>\n",
       "      <th>2000-01-25</th>\n",
       "      <td>0.955628</td>\n",
       "      <td>0.983736</td>\n",
       "      <td>0.968969</td>\n",
       "    </tr>\n",
       "    <tr>\n",
       "      <th>2000-01-26</th>\n",
       "      <td>0.924423</td>\n",
       "      <td>0.992527</td>\n",
       "      <td>1.005245</td>\n",
       "    </tr>\n",
       "    <tr>\n",
       "      <th>2000-01-27</th>\n",
       "      <td>0.915404</td>\n",
       "      <td>1.010989</td>\n",
       "      <td>1.016171</td>\n",
       "    </tr>\n",
       "    <tr>\n",
       "      <th>2000-01-28</th>\n",
       "      <td>0.882756</td>\n",
       "      <td>1.002637</td>\n",
       "      <td>0.980769</td>\n",
       "    </tr>\n",
       "    <tr>\n",
       "      <th>2000-01-31</th>\n",
       "      <td>0.911977</td>\n",
       "      <td>1.021099</td>\n",
       "      <td>1.007867</td>\n",
       "    </tr>\n",
       "  </tbody>\n",
       "</table>\n",
       "</div>"
      ],
      "text/plain": [
       "                 XLK       XLP       XLF\n",
       "2000-01-04  0.949315  0.971868  0.956294\n",
       "2000-01-05  0.949856  0.986374  0.956731\n",
       "2000-01-06  0.904221  1.007473  0.990385\n",
       "2000-01-07  0.919913  1.071648  1.006556\n",
       "2000-01-10  0.954906  1.047473  0.989073\n",
       "2000-01-11  0.927850  1.047473  0.972465\n",
       "2000-01-12  0.923882  1.052747  0.991696\n",
       "2000-01-13  0.932359  1.058462  1.021853\n",
       "2000-01-14  0.953824  1.061978  1.045455\n",
       "2000-01-18  0.958874  1.043956  1.010927\n",
       "2000-01-19  0.960498  1.051429  1.007430\n",
       "2000-01-20  0.966089  1.036923  0.989073\n",
       "2000-01-21  0.967352  1.025495  0.976399\n",
       "2000-01-24  0.935786  0.996044  0.958916\n",
       "2000-01-25  0.955628  0.983736  0.968969\n",
       "2000-01-26  0.924423  0.992527  1.005245\n",
       "2000-01-27  0.915404  1.010989  1.016171\n",
       "2000-01-28  0.882756  1.002637  0.980769\n",
       "2000-01-31  0.911977  1.021099  1.007867"
      ]
     },
     "execution_count": 28,
     "metadata": {},
     "output_type": "execute_result"
    }
   ],
   "source": [
    "cum_ret = RET[start_date:end_date][1:].add(1).cumprod()\n",
    "cum_ret"
   ]
  },
  {
   "cell_type": "markdown",
   "metadata": {},
   "source": [
    "At the start of each period, our current portfolio value equals the most recent value of the last period:"
   ]
  },
  {
   "cell_type": "code",
   "execution_count": 29,
   "metadata": {},
   "outputs": [
    {
     "data": {
      "text/plain": [
       "1"
      ]
     },
     "execution_count": 29,
     "metadata": {},
     "output_type": "execute_result"
    }
   ],
   "source": [
    "portfolio_value.iloc[-1]"
   ]
  },
  {
   "cell_type": "markdown",
   "metadata": {},
   "source": [
    "Dollar amounts we invest in the assets at the start of the current holding period:"
   ]
  },
  {
   "cell_type": "code",
   "execution_count": 30,
   "metadata": {},
   "outputs": [
    {
     "data": {
      "text/plain": [
       "XLK    0.333333\n",
       "XLP    0.333333\n",
       "XLF    0.333333\n",
       "dtype: float64"
      ]
     },
     "execution_count": 30,
     "metadata": {},
     "output_type": "execute_result"
    }
   ],
   "source": [
    "new_positions = portfolio_value.iloc[-1] * weights \n",
    "new_positions"
   ]
  },
  {
   "cell_type": "markdown",
   "metadata": {},
   "source": [
    "Dollar amounts we have in these assets during the current holding period:"
   ]
  },
  {
   "cell_type": "code",
   "execution_count": 31,
   "metadata": {},
   "outputs": [
    {
     "data": {
      "text/html": [
       "<div>\n",
       "<style scoped>\n",
       "    .dataframe tbody tr th:only-of-type {\n",
       "        vertical-align: middle;\n",
       "    }\n",
       "\n",
       "    .dataframe tbody tr th {\n",
       "        vertical-align: top;\n",
       "    }\n",
       "\n",
       "    .dataframe thead th {\n",
       "        text-align: right;\n",
       "    }\n",
       "</style>\n",
       "<table border=\"1\" class=\"dataframe\">\n",
       "  <thead>\n",
       "    <tr style=\"text-align: right;\">\n",
       "      <th></th>\n",
       "      <th>XLK</th>\n",
       "      <th>XLP</th>\n",
       "      <th>XLF</th>\n",
       "    </tr>\n",
       "  </thead>\n",
       "  <tbody>\n",
       "    <tr>\n",
       "      <th>2000-01-04</th>\n",
       "      <td>0.316438</td>\n",
       "      <td>0.323956</td>\n",
       "      <td>0.318765</td>\n",
       "    </tr>\n",
       "    <tr>\n",
       "      <th>2000-01-05</th>\n",
       "      <td>0.316619</td>\n",
       "      <td>0.328791</td>\n",
       "      <td>0.318910</td>\n",
       "    </tr>\n",
       "    <tr>\n",
       "      <th>2000-01-06</th>\n",
       "      <td>0.301407</td>\n",
       "      <td>0.335824</td>\n",
       "      <td>0.330128</td>\n",
       "    </tr>\n",
       "    <tr>\n",
       "      <th>2000-01-07</th>\n",
       "      <td>0.306638</td>\n",
       "      <td>0.357216</td>\n",
       "      <td>0.335519</td>\n",
       "    </tr>\n",
       "    <tr>\n",
       "      <th>2000-01-10</th>\n",
       "      <td>0.318302</td>\n",
       "      <td>0.349158</td>\n",
       "      <td>0.329691</td>\n",
       "    </tr>\n",
       "    <tr>\n",
       "      <th>2000-01-11</th>\n",
       "      <td>0.309283</td>\n",
       "      <td>0.349158</td>\n",
       "      <td>0.324155</td>\n",
       "    </tr>\n",
       "    <tr>\n",
       "      <th>2000-01-12</th>\n",
       "      <td>0.307961</td>\n",
       "      <td>0.350916</td>\n",
       "      <td>0.330565</td>\n",
       "    </tr>\n",
       "    <tr>\n",
       "      <th>2000-01-13</th>\n",
       "      <td>0.310786</td>\n",
       "      <td>0.352821</td>\n",
       "      <td>0.340618</td>\n",
       "    </tr>\n",
       "    <tr>\n",
       "      <th>2000-01-14</th>\n",
       "      <td>0.317941</td>\n",
       "      <td>0.353993</td>\n",
       "      <td>0.348485</td>\n",
       "    </tr>\n",
       "    <tr>\n",
       "      <th>2000-01-18</th>\n",
       "      <td>0.319625</td>\n",
       "      <td>0.347985</td>\n",
       "      <td>0.336976</td>\n",
       "    </tr>\n",
       "    <tr>\n",
       "      <th>2000-01-19</th>\n",
       "      <td>0.320166</td>\n",
       "      <td>0.350476</td>\n",
       "      <td>0.335810</td>\n",
       "    </tr>\n",
       "    <tr>\n",
       "      <th>2000-01-20</th>\n",
       "      <td>0.322030</td>\n",
       "      <td>0.345641</td>\n",
       "      <td>0.329691</td>\n",
       "    </tr>\n",
       "    <tr>\n",
       "      <th>2000-01-21</th>\n",
       "      <td>0.322451</td>\n",
       "      <td>0.341832</td>\n",
       "      <td>0.325466</td>\n",
       "    </tr>\n",
       "    <tr>\n",
       "      <th>2000-01-24</th>\n",
       "      <td>0.311929</td>\n",
       "      <td>0.332015</td>\n",
       "      <td>0.319639</td>\n",
       "    </tr>\n",
       "    <tr>\n",
       "      <th>2000-01-25</th>\n",
       "      <td>0.318543</td>\n",
       "      <td>0.327912</td>\n",
       "      <td>0.322990</td>\n",
       "    </tr>\n",
       "    <tr>\n",
       "      <th>2000-01-26</th>\n",
       "      <td>0.308141</td>\n",
       "      <td>0.330842</td>\n",
       "      <td>0.335082</td>\n",
       "    </tr>\n",
       "    <tr>\n",
       "      <th>2000-01-27</th>\n",
       "      <td>0.305135</td>\n",
       "      <td>0.336996</td>\n",
       "      <td>0.338724</td>\n",
       "    </tr>\n",
       "    <tr>\n",
       "      <th>2000-01-28</th>\n",
       "      <td>0.294252</td>\n",
       "      <td>0.334212</td>\n",
       "      <td>0.326923</td>\n",
       "    </tr>\n",
       "    <tr>\n",
       "      <th>2000-01-31</th>\n",
       "      <td>0.303992</td>\n",
       "      <td>0.340366</td>\n",
       "      <td>0.335956</td>\n",
       "    </tr>\n",
       "  </tbody>\n",
       "</table>\n",
       "</div>"
      ],
      "text/plain": [
       "                 XLK       XLP       XLF\n",
       "2000-01-04  0.316438  0.323956  0.318765\n",
       "2000-01-05  0.316619  0.328791  0.318910\n",
       "2000-01-06  0.301407  0.335824  0.330128\n",
       "2000-01-07  0.306638  0.357216  0.335519\n",
       "2000-01-10  0.318302  0.349158  0.329691\n",
       "2000-01-11  0.309283  0.349158  0.324155\n",
       "2000-01-12  0.307961  0.350916  0.330565\n",
       "2000-01-13  0.310786  0.352821  0.340618\n",
       "2000-01-14  0.317941  0.353993  0.348485\n",
       "2000-01-18  0.319625  0.347985  0.336976\n",
       "2000-01-19  0.320166  0.350476  0.335810\n",
       "2000-01-20  0.322030  0.345641  0.329691\n",
       "2000-01-21  0.322451  0.341832  0.325466\n",
       "2000-01-24  0.311929  0.332015  0.319639\n",
       "2000-01-25  0.318543  0.327912  0.322990\n",
       "2000-01-26  0.308141  0.330842  0.335082\n",
       "2000-01-27  0.305135  0.336996  0.338724\n",
       "2000-01-28  0.294252  0.334212  0.326923\n",
       "2000-01-31  0.303992  0.340366  0.335956"
      ]
     },
     "execution_count": 31,
     "metadata": {},
     "output_type": "execute_result"
    }
   ],
   "source": [
    "start_to_end_positions = new_positions * cum_ret\n",
    "start_to_end_positions"
   ]
  },
  {
   "cell_type": "markdown",
   "metadata": {},
   "source": [
    "Total portfolio value during the current holding period:"
   ]
  },
  {
   "cell_type": "code",
   "execution_count": 32,
   "metadata": {},
   "outputs": [
    {
     "data": {
      "text/plain": [
       "2000-01-04    0.959159\n",
       "2000-01-05    0.964320\n",
       "2000-01-06    0.967359\n",
       "2000-01-07    0.999373\n",
       "2000-01-10    0.997151\n",
       "2000-01-11    0.982596\n",
       "2000-01-12    0.989442\n",
       "2000-01-13    1.004225\n",
       "2000-01-14    1.020419\n",
       "2000-01-18    1.004586\n",
       "2000-01-19    1.006452\n",
       "2000-01-20    0.997362\n",
       "2000-01-21    0.989748\n",
       "2000-01-24    0.963582\n",
       "2000-01-25    0.969444\n",
       "2000-01-26    0.974065\n",
       "2000-01-27    0.980855\n",
       "2000-01-28    0.955388\n",
       "2000-01-31    0.980314\n",
       "dtype: float64"
      ]
     },
     "execution_count": 32,
     "metadata": {},
     "output_type": "execute_result"
    }
   ],
   "source": [
    "start_to_end_positions.sum('columns')"
   ]
  },
  {
   "cell_type": "markdown",
   "metadata": {},
   "source": [
    "Now append these values to the previous portfolio value:"
   ]
  },
  {
   "cell_type": "code",
   "execution_count": 33,
   "metadata": {},
   "outputs": [
    {
     "data": {
      "text/plain": [
       "2000-01-03    1.000000\n",
       "2000-01-04    0.959159\n",
       "2000-01-05    0.964320\n",
       "2000-01-06    0.967359\n",
       "2000-01-07    0.999373\n",
       "2000-01-10    0.997151\n",
       "2000-01-11    0.982596\n",
       "2000-01-12    0.989442\n",
       "2000-01-13    1.004225\n",
       "2000-01-14    1.020419\n",
       "2000-01-18    1.004586\n",
       "2000-01-19    1.006452\n",
       "2000-01-20    0.997362\n",
       "2000-01-21    0.989748\n",
       "2000-01-24    0.963582\n",
       "2000-01-25    0.969444\n",
       "2000-01-26    0.974065\n",
       "2000-01-27    0.980855\n",
       "2000-01-28    0.955388\n",
       "2000-01-31    0.980314\n",
       "dtype: float64"
      ]
     },
     "execution_count": 33,
     "metadata": {},
     "output_type": "execute_result"
    }
   ],
   "source": [
    "portfolio_value = portfolio_value.append(start_to_end_positions.sum('columns'))\n",
    "portfolio_value"
   ]
  },
  {
   "cell_type": "markdown",
   "metadata": {},
   "source": [
    "And now repeat this procedure for the next holding period:"
   ]
  },
  {
   "cell_type": "code",
   "execution_count": 35,
   "metadata": {},
   "outputs": [
    {
     "name": "stdout",
     "output_type": "stream",
     "text": [
      "start: 2000-01-31 00:00:00 end: 2000-02-29 00:00:00\n"
     ]
    }
   ],
   "source": [
    "start_date = rebalance_dates[1]\n",
    "end_date   = rebalance_dates[2]\n",
    "\n",
    "print('start:', start_date, 'end:', end_date)"
   ]
  },
  {
   "cell_type": "code",
   "execution_count": 37,
   "metadata": {},
   "outputs": [],
   "source": [
    "cum_ret = RET[start_date:end_date][1:].add(1).cumprod()"
   ]
  },
  {
   "cell_type": "code",
   "execution_count": 38,
   "metadata": {},
   "outputs": [
    {
     "data": {
      "text/plain": [
       "0.9803143153152252"
      ]
     },
     "execution_count": 38,
     "metadata": {},
     "output_type": "execute_result"
    }
   ],
   "source": [
    "portfolio_value.iloc[-1]"
   ]
  },
  {
   "cell_type": "code",
   "execution_count": 39,
   "metadata": {},
   "outputs": [
    {
     "data": {
      "text/html": [
       "<div>\n",
       "<style scoped>\n",
       "    .dataframe tbody tr th:only-of-type {\n",
       "        vertical-align: middle;\n",
       "    }\n",
       "\n",
       "    .dataframe tbody tr th {\n",
       "        vertical-align: top;\n",
       "    }\n",
       "\n",
       "    .dataframe thead th {\n",
       "        text-align: right;\n",
       "    }\n",
       "</style>\n",
       "<table border=\"1\" class=\"dataframe\">\n",
       "  <thead>\n",
       "    <tr style=\"text-align: right;\">\n",
       "      <th></th>\n",
       "      <th>XLK</th>\n",
       "      <th>XLP</th>\n",
       "      <th>XLF</th>\n",
       "    </tr>\n",
       "  </thead>\n",
       "  <tbody>\n",
       "    <tr>\n",
       "      <th>2000-01-31</th>\n",
       "      <td>0.303992</td>\n",
       "      <td>0.340366</td>\n",
       "      <td>0.335956</td>\n",
       "    </tr>\n",
       "  </tbody>\n",
       "</table>\n",
       "</div>"
      ],
      "text/plain": [
       "                 XLK       XLP       XLF\n",
       "2000-01-31  0.303992  0.340366  0.335956"
      ]
     },
     "execution_count": 39,
     "metadata": {},
     "output_type": "execute_result"
    }
   ],
   "source": [
    "start_to_end_positions[-1:]"
   ]
  },
  {
   "cell_type": "code",
   "execution_count": 40,
   "metadata": {},
   "outputs": [
    {
     "data": {
      "text/plain": [
       "XLK    0.326771\n",
       "XLP    0.326771\n",
       "XLF    0.326771\n",
       "dtype: float64"
      ]
     },
     "execution_count": 40,
     "metadata": {},
     "output_type": "execute_result"
    }
   ],
   "source": [
    "new_positions = portfolio_value.iloc[-1] * weights  # dollars invested at start of this period\n",
    "new_positions"
   ]
  },
  {
   "cell_type": "code",
   "execution_count": 41,
   "metadata": {},
   "outputs": [
    {
     "data": {
      "text/html": [
       "<div>\n",
       "<style scoped>\n",
       "    .dataframe tbody tr th:only-of-type {\n",
       "        vertical-align: middle;\n",
       "    }\n",
       "\n",
       "    .dataframe tbody tr th {\n",
       "        vertical-align: top;\n",
       "    }\n",
       "\n",
       "    .dataframe thead th {\n",
       "        text-align: right;\n",
       "    }\n",
       "</style>\n",
       "<table border=\"1\" class=\"dataframe\">\n",
       "  <thead>\n",
       "    <tr style=\"text-align: right;\">\n",
       "      <th></th>\n",
       "      <th>XLK</th>\n",
       "      <th>XLP</th>\n",
       "      <th>XLF</th>\n",
       "    </tr>\n",
       "  </thead>\n",
       "  <tbody>\n",
       "    <tr>\n",
       "      <th>2000-02-01</th>\n",
       "      <td>0.333687</td>\n",
       "      <td>0.323536</td>\n",
       "      <td>0.328614</td>\n",
       "    </tr>\n",
       "    <tr>\n",
       "      <th>2000-02-02</th>\n",
       "      <td>0.336078</td>\n",
       "      <td>0.324239</td>\n",
       "      <td>0.325213</td>\n",
       "    </tr>\n",
       "    <tr>\n",
       "      <th>2000-02-03</th>\n",
       "      <td>0.345773</td>\n",
       "      <td>0.319738</td>\n",
       "      <td>0.323229</td>\n",
       "    </tr>\n",
       "    <tr>\n",
       "      <th>2000-02-04</th>\n",
       "      <td>0.349780</td>\n",
       "      <td>0.321285</td>\n",
       "      <td>0.319970</td>\n",
       "    </tr>\n",
       "    <tr>\n",
       "      <th>2000-02-07</th>\n",
       "      <td>0.353852</td>\n",
       "      <td>0.319175</td>\n",
       "      <td>0.316569</td>\n",
       "    </tr>\n",
       "    <tr>\n",
       "      <th>2000-02-08</th>\n",
       "      <td>0.357083</td>\n",
       "      <td>0.323114</td>\n",
       "      <td>0.320111</td>\n",
       "    </tr>\n",
       "    <tr>\n",
       "      <th>2000-02-09</th>\n",
       "      <td>0.352624</td>\n",
       "      <td>0.320301</td>\n",
       "      <td>0.312601</td>\n",
       "    </tr>\n",
       "    <tr>\n",
       "      <th>2000-02-10</th>\n",
       "      <td>0.361026</td>\n",
       "      <td>0.309469</td>\n",
       "      <td>0.303957</td>\n",
       "    </tr>\n",
       "    <tr>\n",
       "      <th>2000-02-11</th>\n",
       "      <td>0.351460</td>\n",
       "      <td>0.303561</td>\n",
       "      <td>0.304665</td>\n",
       "    </tr>\n",
       "    <tr>\n",
       "      <th>2000-02-14</th>\n",
       "      <td>0.351654</td>\n",
       "      <td>0.305109</td>\n",
       "      <td>0.307358</td>\n",
       "    </tr>\n",
       "    <tr>\n",
       "      <th>2000-02-15</th>\n",
       "      <td>0.352624</td>\n",
       "      <td>0.311861</td>\n",
       "      <td>0.307783</td>\n",
       "    </tr>\n",
       "    <tr>\n",
       "      <th>2000-02-16</th>\n",
       "      <td>0.350814</td>\n",
       "      <td>0.307500</td>\n",
       "      <td>0.301406</td>\n",
       "    </tr>\n",
       "    <tr>\n",
       "      <th>2000-02-17</th>\n",
       "      <td>0.358699</td>\n",
       "      <td>0.302858</td>\n",
       "      <td>0.297580</td>\n",
       "    </tr>\n",
       "    <tr>\n",
       "      <th>2000-02-18</th>\n",
       "      <td>0.346613</td>\n",
       "      <td>0.299341</td>\n",
       "      <td>0.286952</td>\n",
       "    </tr>\n",
       "    <tr>\n",
       "      <th>2000-02-22</th>\n",
       "      <td>0.345773</td>\n",
       "      <td>0.304265</td>\n",
       "      <td>0.289645</td>\n",
       "    </tr>\n",
       "    <tr>\n",
       "      <th>2000-02-23</th>\n",
       "      <td>0.356308</td>\n",
       "      <td>0.297653</td>\n",
       "      <td>0.288511</td>\n",
       "    </tr>\n",
       "    <tr>\n",
       "      <th>2000-02-24</th>\n",
       "      <td>0.360702</td>\n",
       "      <td>0.291464</td>\n",
       "      <td>0.282560</td>\n",
       "    </tr>\n",
       "    <tr>\n",
       "      <th>2000-02-25</th>\n",
       "      <td>0.357277</td>\n",
       "      <td>0.284149</td>\n",
       "      <td>0.280717</td>\n",
       "    </tr>\n",
       "    <tr>\n",
       "      <th>2000-02-28</th>\n",
       "      <td>0.353076</td>\n",
       "      <td>0.289635</td>\n",
       "      <td>0.289786</td>\n",
       "    </tr>\n",
       "    <tr>\n",
       "      <th>2000-02-29</th>\n",
       "      <td>0.361155</td>\n",
       "      <td>0.288650</td>\n",
       "      <td>0.291770</td>\n",
       "    </tr>\n",
       "  </tbody>\n",
       "</table>\n",
       "</div>"
      ],
      "text/plain": [
       "                 XLK       XLP       XLF\n",
       "2000-02-01  0.333687  0.323536  0.328614\n",
       "2000-02-02  0.336078  0.324239  0.325213\n",
       "2000-02-03  0.345773  0.319738  0.323229\n",
       "2000-02-04  0.349780  0.321285  0.319970\n",
       "2000-02-07  0.353852  0.319175  0.316569\n",
       "2000-02-08  0.357083  0.323114  0.320111\n",
       "2000-02-09  0.352624  0.320301  0.312601\n",
       "2000-02-10  0.361026  0.309469  0.303957\n",
       "2000-02-11  0.351460  0.303561  0.304665\n",
       "2000-02-14  0.351654  0.305109  0.307358\n",
       "2000-02-15  0.352624  0.311861  0.307783\n",
       "2000-02-16  0.350814  0.307500  0.301406\n",
       "2000-02-17  0.358699  0.302858  0.297580\n",
       "2000-02-18  0.346613  0.299341  0.286952\n",
       "2000-02-22  0.345773  0.304265  0.289645\n",
       "2000-02-23  0.356308  0.297653  0.288511\n",
       "2000-02-24  0.360702  0.291464  0.282560\n",
       "2000-02-25  0.357277  0.284149  0.280717\n",
       "2000-02-28  0.353076  0.289635  0.289786\n",
       "2000-02-29  0.361155  0.288650  0.291770"
      ]
     },
     "execution_count": 41,
     "metadata": {},
     "output_type": "execute_result"
    }
   ],
   "source": [
    "start_to_end_positions = new_positions  * cum_ret\n",
    "start_to_end_positions"
   ]
  },
  {
   "cell_type": "markdown",
   "metadata": {},
   "source": [
    "Sum the positions and append them to the portfolio value:"
   ]
  },
  {
   "cell_type": "code",
   "execution_count": 42,
   "metadata": {},
   "outputs": [
    {
     "data": {
      "text/plain": [
       "2000-01-03    1.000000\n",
       "2000-01-04    0.959159\n",
       "2000-01-05    0.964320\n",
       "2000-01-06    0.967359\n",
       "2000-01-07    0.999373\n",
       "2000-01-10    0.997151\n",
       "2000-01-11    0.982596\n",
       "2000-01-12    0.989442\n",
       "2000-01-13    1.004225\n",
       "2000-01-14    1.020419\n",
       "2000-01-18    1.004586\n",
       "2000-01-19    1.006452\n",
       "2000-01-20    0.997362\n",
       "2000-01-21    0.989748\n",
       "2000-01-24    0.963582\n",
       "2000-01-25    0.969444\n",
       "2000-01-26    0.974065\n",
       "2000-01-27    0.980855\n",
       "2000-01-28    0.955388\n",
       "2000-01-31    0.980314\n",
       "2000-02-01    0.985837\n",
       "2000-02-02    0.985530\n",
       "2000-02-03    0.988740\n",
       "2000-02-04    0.991035\n",
       "2000-02-07    0.989596\n",
       "2000-02-08    1.000308\n",
       "2000-02-09    0.985525\n",
       "2000-02-10    0.974452\n",
       "2000-02-11    0.959687\n",
       "2000-02-14    0.964121\n",
       "2000-02-15    0.972267\n",
       "2000-02-16    0.959720\n",
       "2000-02-17    0.959137\n",
       "2000-02-18    0.932907\n",
       "2000-02-22    0.939682\n",
       "2000-02-23    0.942472\n",
       "2000-02-24    0.934726\n",
       "2000-02-25    0.922143\n",
       "2000-02-28    0.932498\n",
       "2000-02-29    0.941576\n",
       "dtype: float64"
      ]
     },
     "execution_count": 42,
     "metadata": {},
     "output_type": "execute_result"
    }
   ],
   "source": [
    "portfolio_value = portfolio_value.append(start_to_end_positions.sum('columns'))  \n",
    "portfolio_value"
   ]
  },
  {
   "cell_type": "markdown",
   "metadata": {},
   "source": [
    "And now loop over all rebalance dates:"
   ]
  },
  {
   "cell_type": "code",
   "execution_count": 49,
   "metadata": {},
   "outputs": [
    {
     "data": {
      "text/plain": [
       "<matplotlib.axes._subplots.AxesSubplot at 0x7fdaa096fc50>"
      ]
     },
     "execution_count": 49,
     "metadata": {},
     "output_type": "execute_result"
    },
    {
     "data": {
      "image/png": "[encoded data removed]",
      "text/plain": [
       "<Figure size 432x288 with 1 Axes>"
      ]
     },
     "metadata": {},
     "output_type": "display_data"
    }
   ],
   "source": [
    "def run_backtest(frequency):\n",
    "    rebalance_dates = get_rebalance_dates(frequency)    \n",
    "    weights         = pd.Series({'XLK':1/3, 'XLP':1/3, 'XLF':1/3})\n",
    "    portfolio_value = pd.Series(1,index=[rebalance_dates[0]])\n",
    "\n",
    "    for i in range(len(rebalance_dates)-1):\n",
    "        start_date = rebalance_dates[i]\n",
    "        end_date   = rebalance_dates[i+1]\n",
    "        \n",
    "        cum_ret = RET[start_date:end_date][1:].add(1).cumprod()\n",
    "        \n",
    "        new_positions = portfolio_value.iloc[-1] * weights\n",
    "        \n",
    "        start_to_end_positions = new_positions  * cum_ret\n",
    "        \n",
    "        portfolio_value = portfolio_value.append(start_to_end_positions.sum('columns'))  \n",
    "        \n",
    "    return portfolio_value\n",
    "\n",
    "value = run_backtest('quarter')\n",
    "\n",
    "value.to_frame('Portfolio').join(RET.add(1).cumprod()).plot()  #turn series to DataFrame, the name given becomes the column label...then join table"
   ]
  },
  {
   "cell_type": "code",
   "execution_count": 50,
   "metadata": {},
   "outputs": [
    {
     "data": {
      "text/html": [
       "<div>\n",
       "<style scoped>\n",
       "    .dataframe tbody tr th:only-of-type {\n",
       "        vertical-align: middle;\n",
       "    }\n",
       "\n",
       "    .dataframe tbody tr th {\n",
       "        vertical-align: top;\n",
       "    }\n",
       "\n",
       "    .dataframe thead th {\n",
       "        text-align: right;\n",
       "    }\n",
       "</style>\n",
       "<table border=\"1\" class=\"dataframe\">\n",
       "  <thead>\n",
       "    <tr style=\"text-align: right;\">\n",
       "      <th></th>\n",
       "      <th>XLK</th>\n",
       "      <th>XLP</th>\n",
       "      <th>XLF</th>\n",
       "    </tr>\n",
       "  </thead>\n",
       "  <tbody>\n",
       "    <tr>\n",
       "      <th>2000-01-03</th>\n",
       "      <td>NaN</td>\n",
       "      <td>NaN</td>\n",
       "      <td>NaN</td>\n",
       "    </tr>\n",
       "  </tbody>\n",
       "</table>\n",
       "</div>"
      ],
      "text/plain": [
       "            XLK  XLP  XLF\n",
       "2000-01-03  NaN  NaN  NaN"
      ]
     },
     "execution_count": 50,
     "metadata": {},
     "output_type": "execute_result"
    }
   ],
   "source": [
    "pd.DataFrame(columns=weights.index, index=[rebalance_dates[0]])"
   ]
  },
  {
   "cell_type": "markdown",
   "metadata": {},
   "source": [
    "### Portfolio turnover"
   ]
  },
  {
   "cell_type": "code",
   "execution_count": 55,
   "metadata": {},
   "outputs": [
    {
     "data": {
      "text/plain": [
       "2000-01-03    1.000000\n",
       "2000-01-04    0.959159\n",
       "2000-01-05    0.964320\n",
       "2000-01-06    0.967359\n",
       "2000-01-07    0.999373\n",
       "                ...   \n",
       "2021-03-18    4.004622\n",
       "2021-03-19    3.989523\n",
       "2021-03-22    4.011263\n",
       "2021-03-23    3.990086\n",
       "2021-03-24    3.973880\n",
       "Length: 5340, dtype: float64"
      ]
     },
     "execution_count": 55,
     "metadata": {},
     "output_type": "execute_result"
    }
   ],
   "source": [
    "def run_backtest(frequency):   \n",
    "    rebalance_dates = get_rebalance_dates(frequency)\n",
    "    weights         = pd.Series({'XLK':1/3, 'XLP':1/3, 'XLF':1/3})\n",
    "    portfolio_value = pd.Series(1,                        index=[rebalance_dates[0]])    \n",
    "    trades          = pd.DataFrame(columns=weights.index, index=[rebalance_dates[0]])\n",
    "    previous_positions = weights\n",
    "\n",
    "    for i in range(len(rebalance_dates)-1):\n",
    "        start_date = rebalance_dates[i]\n",
    "        end_date   = rebalance_dates[i+1]\n",
    "        \n",
    "        cum_ret = RET[start_date:end_date][1:].add(1).cumprod()\n",
    "        \n",
    "        new_positions = portfolio_value.iloc[-1] * weights\n",
    "        \n",
    "        start_to_end_positions = new_positions  * cum_ret\n",
    "        \n",
    "        portfolio_value = portfolio_value.append(start_to_end_positions.sum('columns'))  \n",
    "\n",
    "\n",
    "            \n",
    "        trades.loc[start_date]  = new_positions - previous_positions\n",
    "        previous_positions      = start_to_end_positions.iloc[-1]\n",
    "\n",
    "    return portfolio_value, trades\n",
    "\n",
    "value, trades = run_backtest('month')\n",
    "value"
   ]
  },
  {
   "cell_type": "markdown",
   "metadata": {},
   "source": [
    "Daily trades:"
   ]
  },
  {
   "cell_type": "code",
   "execution_count": 56,
   "metadata": {},
   "outputs": [
    {
     "data": {
      "text/html": [
       "<div>\n",
       "<style scoped>\n",
       "    .dataframe tbody tr th:only-of-type {\n",
       "        vertical-align: middle;\n",
       "    }\n",
       "\n",
       "    .dataframe tbody tr th {\n",
       "        vertical-align: top;\n",
       "    }\n",
       "\n",
       "    .dataframe thead th {\n",
       "        text-align: right;\n",
       "    }\n",
       "</style>\n",
       "<table border=\"1\" class=\"dataframe\">\n",
       "  <thead>\n",
       "    <tr style=\"text-align: right;\">\n",
       "      <th></th>\n",
       "      <th>XLK</th>\n",
       "      <th>XLP</th>\n",
       "      <th>XLF</th>\n",
       "    </tr>\n",
       "  </thead>\n",
       "  <tbody>\n",
       "    <tr>\n",
       "      <th>2000-01-03</th>\n",
       "      <td>0</td>\n",
       "      <td>0</td>\n",
       "      <td>0</td>\n",
       "    </tr>\n",
       "    <tr>\n",
       "      <th>2000-01-31</th>\n",
       "      <td>0.0227791</td>\n",
       "      <td>-0.0135949</td>\n",
       "      <td>-0.00918427</td>\n",
       "    </tr>\n",
       "    <tr>\n",
       "      <th>2000-02-29</th>\n",
       "      <td>-0.0472963</td>\n",
       "      <td>0.0252081</td>\n",
       "      <td>0.0220882</td>\n",
       "    </tr>\n",
       "    <tr>\n",
       "      <th>2000-03-31</th>\n",
       "      <td>0.00554506</td>\n",
       "      <td>0.0200727</td>\n",
       "      <td>-0.0256178</td>\n",
       "    </tr>\n",
       "    <tr>\n",
       "      <th>2000-04-28</th>\n",
       "      <td>0.0283323</td>\n",
       "      <td>-0.021651</td>\n",
       "      <td>-0.00668135</td>\n",
       "    </tr>\n",
       "    <tr>\n",
       "      <th>...</th>\n",
       "      <td>...</td>\n",
       "      <td>...</td>\n",
       "      <td>...</td>\n",
       "    </tr>\n",
       "    <tr>\n",
       "      <th>2020-10-30</th>\n",
       "      <td>0.0233821</td>\n",
       "      <td>-0.000506447</td>\n",
       "      <td>-0.0228757</td>\n",
       "    </tr>\n",
       "    <tr>\n",
       "      <th>2020-11-30</th>\n",
       "      <td>0.00561389</td>\n",
       "      <td>0.0481667</td>\n",
       "      <td>-0.0537806</td>\n",
       "    </tr>\n",
       "    <tr>\n",
       "      <th>2020-12-31</th>\n",
       "      <td>-0.0126606</td>\n",
       "      <td>0.0345331</td>\n",
       "      <td>-0.0218725</td>\n",
       "    </tr>\n",
       "    <tr>\n",
       "      <th>2021-01-29</th>\n",
       "      <td>-0.0216179</td>\n",
       "      <td>0.0310407</td>\n",
       "      <td>-0.00942282</td>\n",
       "    </tr>\n",
       "    <tr>\n",
       "      <th>2021-02-26</th>\n",
       "      <td>0.0315599</td>\n",
       "      <td>0.0637381</td>\n",
       "      <td>-0.095298</td>\n",
       "    </tr>\n",
       "  </tbody>\n",
       "</table>\n",
       "<p>255 rows × 3 columns</p>\n",
       "</div>"
      ],
      "text/plain": [
       "                   XLK          XLP         XLF\n",
       "2000-01-03           0            0           0\n",
       "2000-01-31   0.0227791   -0.0135949 -0.00918427\n",
       "2000-02-29  -0.0472963    0.0252081   0.0220882\n",
       "2000-03-31  0.00554506    0.0200727  -0.0256178\n",
       "2000-04-28   0.0283323    -0.021651 -0.00668135\n",
       "...                ...          ...         ...\n",
       "2020-10-30   0.0233821 -0.000506447  -0.0228757\n",
       "2020-11-30  0.00561389    0.0481667  -0.0537806\n",
       "2020-12-31  -0.0126606    0.0345331  -0.0218725\n",
       "2021-01-29  -0.0216179    0.0310407 -0.00942282\n",
       "2021-02-26   0.0315599    0.0637381   -0.095298\n",
       "\n",
       "[255 rows x 3 columns]"
      ]
     },
     "execution_count": 56,
     "metadata": {},
     "output_type": "execute_result"
    }
   ],
   "source": [
    "trades"
   ]
  },
  {
   "cell_type": "markdown",
   "metadata": {},
   "source": [
    "Turnover example:"
   ]
  },
  {
   "cell_type": "code",
   "execution_count": 57,
   "metadata": {},
   "outputs": [],
   "source": [
    "# Before rebalancing:\n",
    "position_A = 80\n",
    "position_B = 40\n",
    "position_C = 30\n",
    "\n",
    "# After rebalancing:\n",
    "position_A = 50\n",
    "position_B = 50\n",
    "position_C = 50"
   ]
  },
  {
   "cell_type": "markdown",
   "metadata": {},
   "source": [
    "Total dollar amount traded:"
   ]
  },
  {
   "cell_type": "code",
   "execution_count": 58,
   "metadata": {},
   "outputs": [
    {
     "data": {
      "text/plain": [
       "60"
      ]
     },
     "execution_count": 58,
     "metadata": {},
     "output_type": "execute_result"
    }
   ],
   "source": [
    "total_trade = abs(-30) + 10 + 20\n",
    "total_trade "
   ]
  },
  {
   "cell_type": "markdown",
   "metadata": {},
   "source": [
    "Turnover:"
   ]
  },
  {
   "cell_type": "code",
   "execution_count": 59,
   "metadata": {},
   "outputs": [
    {
     "data": {
      "text/plain": [
       "30.0"
      ]
     },
     "execution_count": 59,
     "metadata": {},
     "output_type": "execute_result"
    }
   ],
   "source": [
    "total_trade/2"
   ]
  },
  {
   "cell_type": "markdown",
   "metadata": {},
   "source": [
    "Daily portfolio turnover (total dollar amount realloacted):      "
   ]
  },
  {
   "cell_type": "code",
   "execution_count": 66,
   "metadata": {},
   "outputs": [
    {
     "data": {
      "text/plain": [
       "2000-01-03    0.000000\n",
       "2000-01-31    0.022779\n",
       "2000-02-29    0.047296\n",
       "2000-03-31    0.025618\n",
       "2000-04-28    0.028332\n",
       "                ...   \n",
       "2020-10-30    0.023382\n",
       "2020-11-30    0.053781\n",
       "2020-12-31    0.034533\n",
       "2021-01-29    0.031041\n",
       "2021-02-26    0.095298\n",
       "Length: 255, dtype: float64"
      ]
     },
     "execution_count": 66,
     "metadata": {},
     "output_type": "execute_result"
    }
   ],
   "source": [
    "turnover = trades.abs().sum('columns').div(2)\n",
    "turnover"
   ]
  },
  {
   "cell_type": "markdown",
   "metadata": {},
   "source": [
    "Cumulative trades:"
   ]
  },
  {
   "cell_type": "code",
   "execution_count": 70,
   "metadata": {},
   "outputs": [
    {
     "data": {
      "text/plain": [
       "<matplotlib.axes._subplots.AxesSubplot at 0x7fdaa0ff0a50>"
      ]
     },
     "execution_count": 70,
     "metadata": {},
     "output_type": "execute_result"
    },
    {
     "data": {
      "image/png": "[encoded data removed]",
      "text/plain": [
       "<Figure size 432x288 with 1 Axes>"
      ]
     },
     "metadata": {},
     "output_type": "display_data"
    }
   ],
   "source": [
    "trades.cumsum().plot()"
   ]
  },
  {
   "cell_type": "markdown",
   "metadata": {},
   "source": [
    "Plot the turnover:"
   ]
  },
  {
   "cell_type": "code",
   "execution_count": 71,
   "metadata": {},
   "outputs": [
    {
     "data": {
      "text/plain": [
       "<matplotlib.axes._subplots.AxesSubplot at 0x7fda9efee390>"
      ]
     },
     "execution_count": 71,
     "metadata": {},
     "output_type": "execute_result"
    },
    {
     "data": {
      "image/png": "[encoded data removed]",
      "text/plain": [
       "<Figure size 432x288 with 1 Axes>"
      ]
     },
     "metadata": {},
     "output_type": "display_data"
    }
   ],
   "source": [
    "turnover.plot()"
   ]
  },
  {
   "cell_type": "markdown",
   "metadata": {},
   "source": [
    "Total turnover per year:"
   ]
  },
  {
   "cell_type": "code",
   "execution_count": 77,
   "metadata": {},
   "outputs": [
    {
     "data": {
      "text/plain": [
       "<matplotlib.axes._subplots.AxesSubplot at 0x7fdaa141a7d0>"
      ]
     },
     "execution_count": 77,
     "metadata": {},
     "output_type": "execute_result"
    },
    {
     "data": {
      "image/png": "[encoded data removed]",
      "text/plain": [
       "<Figure size 432x288 with 1 Axes>"
      ]
     },
     "metadata": {},
     "output_type": "display_data"
    }
   ],
   "source": [
    "turnover.resample('A').sum().plot.bar()"
   ]
  },
  {
   "cell_type": "markdown",
   "metadata": {},
   "source": [
    "Turnover ratio:"
   ]
  },
  {
   "cell_type": "code",
   "execution_count": 81,
   "metadata": {},
   "outputs": [
    {
     "data": {
      "text/plain": [
       "2000-12-31    1.035880\n",
       "2001-12-31    0.913510\n",
       "2002-12-31    0.757511\n",
       "2003-12-31    0.742409\n",
       "2004-12-31    0.871715\n",
       "2005-12-31    0.912546\n",
       "2006-12-31    1.005653\n",
       "2007-12-31    1.136991\n",
       "2008-12-31    0.927793\n",
       "2009-12-31    0.743322\n",
       "2010-12-31    0.914488\n",
       "2011-12-31    0.996438\n",
       "2012-12-31    1.122922\n",
       "2013-12-31    1.359668\n",
       "2014-12-31    1.610194\n",
       "2015-12-31    1.791237\n",
       "2016-12-31    1.904853\n",
       "2017-12-31    2.333505\n",
       "2018-12-31    2.615181\n",
       "2019-12-31    2.864844\n",
       "2020-12-31    3.232009\n",
       "2021-12-31    3.901797\n",
       "Freq: A-DEC, dtype: float64"
      ]
     },
     "execution_count": 81,
     "metadata": {},
     "output_type": "execute_result"
    }
   ],
   "source": [
    "value.resample('A').mean() # average value of portfolio throughout the year"
   ]
  },
  {
   "cell_type": "code",
   "execution_count": 82,
   "metadata": {},
   "outputs": [
    {
     "data": {
      "text/plain": [
       "<matplotlib.axes._subplots.AxesSubplot at 0x7fdaa157e850>"
      ]
     },
     "execution_count": 82,
     "metadata": {},
     "output_type": "execute_result"
    },
    {
     "data": {
      "image/png": "[encoded data removed]",
      "text/plain": [
       "<Figure size 432x288 with 1 Axes>"
      ]
     },
     "metadata": {},
     "output_type": "display_data"
    }
   ],
   "source": [
    "turnover.resample('A').sum().div( value.resample('A').mean()).plot.bar()"
   ]
  },
  {
   "cell_type": "code",
   "execution_count": null,
   "metadata": {},
   "outputs": [],
   "source": []
  },
  {
   "cell_type": "code",
   "execution_count": null,
   "metadata": {},
   "outputs": [],
   "source": []
  }
 ],
 "metadata": {
  "kernelspec": {
   "display_name": "Python 3",
   "language": "python",
   "name": "python3"
  },
  "language_info": {
   "codemirror_mode": {
    "name": "ipython",
    "version": 3
   },
   "file_extension": ".py",
   "mimetype": "text/x-python",
   "name": "python",
   "nbconvert_exporter": "python",
   "pygments_lexer": "ipython3",
   "version": "3.7.6"
  }
 },
 "nbformat": 4,
 "nbformat_minor": 5
}
