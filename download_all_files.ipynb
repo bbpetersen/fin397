{
 "cells": [
  {
   "cell_type": "markdown",
   "id": "recovered-indianapolis",
   "metadata": {},
   "source": [
    "# Download and merge all SEC files"
   ]
  },
  {
   "cell_type": "markdown",
   "id": "seeing-cabinet",
   "metadata": {},
   "source": [
    "We download SEC company filing data from this website: https://www.sec.gov/dera/data/financial-statement-and-notes-data-set.html \n",
    "\n",
    "\n",
    "You need to generate the following directory (folder) structure:\n",
    "- inside current directory (where you run this notebook): folder \"data\"\n",
    "- inside data folder: folder \"sec\"\n",
    "- inside sec folder: folder \"downloads\" and folder \"merged\""
   ]
  },
  {
   "cell_type": "markdown",
   "id": "challenging-salmon",
   "metadata": {},
   "source": [
    "Now import these libraries"
   ]
  },
  {
   "cell_type": "code",
   "execution_count": 1,
   "id": "handed-worse",
   "metadata": {},
   "outputs": [],
   "source": [
    "import pandas as pd\n",
    "import requests, zipfile, io\n",
    "import os\n",
    "from pathlib import Path"
   ]
  },
  {
   "cell_type": "markdown",
   "id": "competent-relay",
   "metadata": {},
   "source": [
    "Our download function:"
   ]
  },
  {
   "cell_type": "code",
   "execution_count": 2,
   "id": "requested-croatia",
   "metadata": {},
   "outputs": [],
   "source": [
    "def download_file(period):\n",
    "    url = 'https://www.sec.gov/files/dera/data/financial-statement-and-notes-data-sets/'+period+'_notes.zip'\n",
    "    \n",
    "    unzip_folder_name = 'data/sec/downloads/' + period                           # Where to put contents of unzipped file  \n",
    "    \n",
    "    r = requests.get(url)\n",
    "    if r.ok:                                                                     # If download worked\n",
    "        print('Downloaded:', url, 'to:', unzip_folder_name)\n",
    "        Path(unzip_folder_name).mkdir(parents=True, exist_ok=True)               # Make the folder where we unzip the file to   \n",
    "        z = zipfile.ZipFile(io.BytesIO(r.content))\n",
    "        z.extractall(members=['sub.tsv','num.tsv'], path=unzip_folder_name)      # Unzip file to the folder we just made\n",
    "    else:\n",
    "        print('File not found:', period)"
   ]
  },
  {
   "cell_type": "markdown",
   "id": "deadly-swiss",
   "metadata": {},
   "source": [
    "If you previously had trouble downloading the files, and you are worried about running out of space:\n",
    "1. delete all files in your \"downloads\" folder\n",
    "1. empty your trash to make sure that memory is free\n",
    "1. check available memory, you need about 40 GB\n",
    "\n",
    "Now download **all files** from 2010 to 2020:"
   ]
  },
  {
   "cell_type": "code",
   "execution_count": 4,
   "id": "hidden-chosen",
   "metadata": {},
   "outputs": [
    {
     "name": "stdout",
     "output_type": "stream",
     "text": [
      "Downloaded: https://www.sec.gov/files/dera/data/financial-statement-and-notes-data-sets/2010q1_notes.zip to: data/sec/downloads/2010q1\n",
      "Downloaded: https://www.sec.gov/files/dera/data/financial-statement-and-notes-data-sets/2010q2_notes.zip to: data/sec/downloads/2010q2\n",
      "Downloaded: https://www.sec.gov/files/dera/data/financial-statement-and-notes-data-sets/2010q3_notes.zip to: data/sec/downloads/2010q3\n",
      "Downloaded: https://www.sec.gov/files/dera/data/financial-statement-and-notes-data-sets/2010q4_notes.zip to: data/sec/downloads/2010q4\n",
      "Downloaded: https://www.sec.gov/files/dera/data/financial-statement-and-notes-data-sets/2011q1_notes.zip to: data/sec/downloads/2011q1\n",
      "Downloaded: https://www.sec.gov/files/dera/data/financial-statement-and-notes-data-sets/2011q2_notes.zip to: data/sec/downloads/2011q2\n",
      "Downloaded: https://www.sec.gov/files/dera/data/financial-statement-and-notes-data-sets/2011q3_notes.zip to: data/sec/downloads/2011q3\n",
      "Downloaded: https://www.sec.gov/files/dera/data/financial-statement-and-notes-data-sets/2011q4_notes.zip to: data/sec/downloads/2011q4\n",
      "Downloaded: https://www.sec.gov/files/dera/data/financial-statement-and-notes-data-sets/2012q1_notes.zip to: data/sec/downloads/2012q1\n",
      "Downloaded: https://www.sec.gov/files/dera/data/financial-statement-and-notes-data-sets/2012q2_notes.zip to: data/sec/downloads/2012q2\n",
      "Downloaded: https://www.sec.gov/files/dera/data/financial-statement-and-notes-data-sets/2012q3_notes.zip to: data/sec/downloads/2012q3\n",
      "Downloaded: https://www.sec.gov/files/dera/data/financial-statement-and-notes-data-sets/2012q4_notes.zip to: data/sec/downloads/2012q4\n",
      "Downloaded: https://www.sec.gov/files/dera/data/financial-statement-and-notes-data-sets/2013q1_notes.zip to: data/sec/downloads/2013q1\n",
      "Downloaded: https://www.sec.gov/files/dera/data/financial-statement-and-notes-data-sets/2013q2_notes.zip to: data/sec/downloads/2013q2\n",
      "Downloaded: https://www.sec.gov/files/dera/data/financial-statement-and-notes-data-sets/2013q3_notes.zip to: data/sec/downloads/2013q3\n",
      "Downloaded: https://www.sec.gov/files/dera/data/financial-statement-and-notes-data-sets/2013q4_notes.zip to: data/sec/downloads/2013q4\n",
      "Downloaded: https://www.sec.gov/files/dera/data/financial-statement-and-notes-data-sets/2014q1_notes.zip to: data/sec/downloads/2014q1\n",
      "Downloaded: https://www.sec.gov/files/dera/data/financial-statement-and-notes-data-sets/2014q2_notes.zip to: data/sec/downloads/2014q2\n",
      "Downloaded: https://www.sec.gov/files/dera/data/financial-statement-and-notes-data-sets/2014q3_notes.zip to: data/sec/downloads/2014q3\n",
      "Downloaded: https://www.sec.gov/files/dera/data/financial-statement-and-notes-data-sets/2014q4_notes.zip to: data/sec/downloads/2014q4\n",
      "Downloaded: https://www.sec.gov/files/dera/data/financial-statement-and-notes-data-sets/2015q1_notes.zip to: data/sec/downloads/2015q1\n",
      "Downloaded: https://www.sec.gov/files/dera/data/financial-statement-and-notes-data-sets/2015q2_notes.zip to: data/sec/downloads/2015q2\n",
      "Downloaded: https://www.sec.gov/files/dera/data/financial-statement-and-notes-data-sets/2015q3_notes.zip to: data/sec/downloads/2015q3\n",
      "Downloaded: https://www.sec.gov/files/dera/data/financial-statement-and-notes-data-sets/2015q4_notes.zip to: data/sec/downloads/2015q4\n",
      "Downloaded: https://www.sec.gov/files/dera/data/financial-statement-and-notes-data-sets/2016q1_notes.zip to: data/sec/downloads/2016q1\n",
      "Downloaded: https://www.sec.gov/files/dera/data/financial-statement-and-notes-data-sets/2016q2_notes.zip to: data/sec/downloads/2016q2\n",
      "Downloaded: https://www.sec.gov/files/dera/data/financial-statement-and-notes-data-sets/2016q3_notes.zip to: data/sec/downloads/2016q3\n",
      "Downloaded: https://www.sec.gov/files/dera/data/financial-statement-and-notes-data-sets/2016q4_notes.zip to: data/sec/downloads/2016q4\n",
      "Downloaded: https://www.sec.gov/files/dera/data/financial-statement-and-notes-data-sets/2017q1_notes.zip to: data/sec/downloads/2017q1\n",
      "Downloaded: https://www.sec.gov/files/dera/data/financial-statement-and-notes-data-sets/2017q2_notes.zip to: data/sec/downloads/2017q2\n",
      "Downloaded: https://www.sec.gov/files/dera/data/financial-statement-and-notes-data-sets/2017q3_notes.zip to: data/sec/downloads/2017q3\n",
      "Downloaded: https://www.sec.gov/files/dera/data/financial-statement-and-notes-data-sets/2017q4_notes.zip to: data/sec/downloads/2017q4\n",
      "Downloaded: https://www.sec.gov/files/dera/data/financial-statement-and-notes-data-sets/2018q1_notes.zip to: data/sec/downloads/2018q1\n",
      "Downloaded: https://www.sec.gov/files/dera/data/financial-statement-and-notes-data-sets/2018q2_notes.zip to: data/sec/downloads/2018q2\n",
      "Downloaded: https://www.sec.gov/files/dera/data/financial-statement-and-notes-data-sets/2018q3_notes.zip to: data/sec/downloads/2018q3\n",
      "Downloaded: https://www.sec.gov/files/dera/data/financial-statement-and-notes-data-sets/2018q4_notes.zip to: data/sec/downloads/2018q4\n",
      "Downloaded: https://www.sec.gov/files/dera/data/financial-statement-and-notes-data-sets/2019q1_notes.zip to: data/sec/downloads/2019q1\n",
      "Downloaded: https://www.sec.gov/files/dera/data/financial-statement-and-notes-data-sets/2019q2_notes.zip to: data/sec/downloads/2019q2\n",
      "Downloaded: https://www.sec.gov/files/dera/data/financial-statement-and-notes-data-sets/2019q3_notes.zip to: data/sec/downloads/2019q3\n",
      "Downloaded: https://www.sec.gov/files/dera/data/financial-statement-and-notes-data-sets/2019q4_notes.zip to: data/sec/downloads/2019q4\n",
      "Downloaded: https://www.sec.gov/files/dera/data/financial-statement-and-notes-data-sets/2020q1_notes.zip to: data/sec/downloads/2020q1\n",
      "Downloaded: https://www.sec.gov/files/dera/data/financial-statement-and-notes-data-sets/2020q2_notes.zip to: data/sec/downloads/2020q2\n",
      "Downloaded: https://www.sec.gov/files/dera/data/financial-statement-and-notes-data-sets/2020q3_notes.zip to: data/sec/downloads/2020q3\n",
      "Downloaded: https://www.sec.gov/files/dera/data/financial-statement-and-notes-data-sets/2020q4_notes.zip to: data/sec/downloads/2020q4\n",
      "Downloaded: https://www.sec.gov/files/dera/data/financial-statement-and-notes-data-sets/2020_10_notes.zip to: data/sec/downloads/2020_10\n",
      "Downloaded: https://www.sec.gov/files/dera/data/financial-statement-and-notes-data-sets/2020_11_notes.zip to: data/sec/downloads/2020_11\n",
      "Downloaded: https://www.sec.gov/files/dera/data/financial-statement-and-notes-data-sets/2020_12_notes.zip to: data/sec/downloads/2020_12\n"
     ]
    }
   ],
   "source": [
    "for year in range(2010,2021):                # Get the quarterly files\n",
    "    for quarter in [1,2,3,4]:\n",
    "        period = str(year)+'q'+str(quarter)\n",
    "        download_file(period)\n",
    "        \n",
    "for year in range(2020,2021):                # Get the monthly files\n",
    "    for month in [10,11,12]:\n",
    "        period = str(year)+'_'+str(month)\n",
    "        download_file(period)"
   ]
  },
  {
   "cell_type": "markdown",
   "id": "organized-jenny",
   "metadata": {},
   "source": [
    "Now download the **most rescent file** (you can do this every month, for example in March, dowload '2021_02'):"
   ]
  },
  {
   "cell_type": "code",
   "execution_count": 6,
   "id": "specified-breakdown",
   "metadata": {},
   "outputs": [
    {
     "name": "stdout",
     "output_type": "stream",
     "text": [
      "Downloaded: https://www.sec.gov/files/dera/data/financial-statement-and-notes-data-sets/2021_01_notes.zip to: data/sec/downloads/2021_01\n"
     ]
    }
   ],
   "source": [
    "download_file('2021_01')"
   ]
  },
  {
   "cell_type": "markdown",
   "id": "stone-shepherd",
   "metadata": {},
   "source": [
    "Now use this function to merge all the files:"
   ]
  },
  {
   "cell_type": "code",
   "execution_count": 7,
   "id": "aboriginal-universal",
   "metadata": {},
   "outputs": [],
   "source": [
    "def merge_sec_files(folder):\n",
    "\n",
    "    keep_these_columns = ['cik','sic','countryinc','tag','filed','ddate','qtrs','value']\n",
    "\n",
    "    filings = pd.read_table('data/sec/downloads/'+folder+'/sub.tsv')\n",
    "    numbers = pd.read_table('data/sec/downloads/'+folder+'/num.tsv', encoding='ISO-8859-1', error_bad_lines=False) \n",
    "\n",
    "    filings = filings[filings.form.isin(['10-Q','10-K']) & filings.cik.notnull()]\n",
    "    numbers = numbers[(numbers.dimh=='0x00000000')]                                     # keep only non-segment data\n",
    "\n",
    "    merged = numbers.merge(filings, on='adsh', how='inner')[keep_these_columns]\n",
    "\n",
    "    merged['filed'] = pd.to_datetime(merged.filed, format='%Y%m%d', errors='coerce')    #  ‘coerce’: invalid parsing set as NaT.\n",
    "    merged['ddate'] = pd.to_datetime(merged.ddate, format='%Y%m%d', errors='coerce')    \n",
    "\n",
    "    merged = merged[merged.filed.notnull() & merged.ddate.notnull()].drop_duplicates()\n",
    "\n",
    "    merged.to_csv('data/sec/merged/'+folder+'.csv', index=False)\n",
    "    \n",
    "    return merged   "
   ]
  },
  {
   "cell_type": "markdown",
   "id": "oriented-dependence",
   "metadata": {},
   "source": [
    "Merge **all files** in your downloads folder (ignore the warnings):     \n",
    "(this will take a while)"
   ]
  },
  {
   "cell_type": "code",
   "execution_count": 8,
   "id": "realistic-speaking",
   "metadata": {},
   "outputs": [
    {
     "name": "stdout",
     "output_type": "stream",
     "text": [
      "2020_11\n"
     ]
    },
    {
     "name": "stderr",
     "output_type": "stream",
     "text": [
      "/Users/janschneider/opt/anaconda3/lib/python3.7/site-packages/IPython/core/interactiveshell.py:3338: DtypeWarning: Columns (12) have mixed types.Specify dtype option on import or set low_memory=False.\n",
      "  if (await self.run_code(code, result,  async_=asy)):\n"
     ]
    },
    {
     "name": "stdout",
     "output_type": "stream",
     "text": [
      "2020_10\n",
      "2014q3\n",
      "2014q4\n",
      "2018q1\n",
      "2010q2\n",
      "2012q1\n"
     ]
    },
    {
     "name": "stderr",
     "output_type": "stream",
     "text": [
      "/Users/janschneider/opt/anaconda3/lib/python3.7/site-packages/IPython/core/interactiveshell.py:3338: DtypeWarning: Columns (9) have mixed types.Specify dtype option on import or set low_memory=False.\n",
      "  if (await self.run_code(code, result,  async_=asy)):\n"
     ]
    },
    {
     "name": "stdout",
     "output_type": "stream",
     "text": [
      "2016q1\n",
      "2014q2\n",
      "2010q3\n",
      "2010q4\n",
      "2020q1\n",
      "2009q3\n"
     ]
    },
    {
     "name": "stderr",
     "output_type": "stream",
     "text": [
      "/Users/janschneider/opt/anaconda3/lib/python3.7/site-packages/IPython/core/interactiveshell.py:3338: DtypeWarning: Columns (9,12) have mixed types.Specify dtype option on import or set low_memory=False.\n",
      "  if (await self.run_code(code, result,  async_=asy)):\n"
     ]
    },
    {
     "name": "stdout",
     "output_type": "stream",
     "text": [
      "2009q4\n",
      "2009q2\n",
      "2013q2\n",
      "2011q1\n",
      "2019q2\n",
      "2017q3\n",
      "2017q4\n",
      "2019q3\n",
      "2019q4\n",
      "2013q3\n",
      "2013q4\n",
      "2015q1\n",
      "2017q2\n",
      "2020_12\n",
      "2018q2\n",
      "2010q1\n",
      "2012q2\n",
      "2016q4\n",
      "2016q3\n",
      "2012q4\n",
      "2012q3\n",
      "2018q4\n",
      "2018q3\n",
      "2016q2\n",
      "2014q1\n",
      "2021_01\n",
      "2020q2\n"
     ]
    },
    {
     "name": "stderr",
     "output_type": "stream",
     "text": [
      "/Users/janschneider/opt/anaconda3/lib/python3.7/site-packages/IPython/core/interactiveshell.py:3338: DtypeWarning: Columns (35,38) have mixed types.Specify dtype option on import or set low_memory=False.\n",
      "  if (await self.run_code(code, result,  async_=asy)):\n"
     ]
    },
    {
     "name": "stdout",
     "output_type": "stream",
     "text": [
      "2020q3\n",
      "2009q1\n",
      "2020q4\n",
      "2015q4\n",
      "2015q3\n",
      "2013q1\n",
      "2011q2\n",
      "2019q1\n",
      "2015q2\n",
      "2017q1\n",
      "2011q4\n",
      "2011q3\n"
     ]
    }
   ],
   "source": [
    "for folder in os.listdir('data/sec/downloads/'):  # Loop over all folders in \"downloads\" directory\n",
    "    print(folder)\n",
    "    merge_sec_files(folder)"
   ]
  },
  {
   "cell_type": "markdown",
   "id": "complex-reservoir",
   "metadata": {},
   "source": [
    "Or if you only want to merge **one** particular file:"
   ]
  },
  {
   "cell_type": "code",
   "execution_count": 10,
   "id": "fifty-costume",
   "metadata": {},
   "outputs": [
    {
     "data": {
      "text/html": [
       "<div>\n",
       "<style scoped>\n",
       "    .dataframe tbody tr th:only-of-type {\n",
       "        vertical-align: middle;\n",
       "    }\n",
       "\n",
       "    .dataframe tbody tr th {\n",
       "        vertical-align: top;\n",
       "    }\n",
       "\n",
       "    .dataframe thead th {\n",
       "        text-align: right;\n",
       "    }\n",
       "</style>\n",
       "<table border=\"1\" class=\"dataframe\">\n",
       "  <thead>\n",
       "    <tr style=\"text-align: right;\">\n",
       "      <th></th>\n",
       "      <th>cik</th>\n",
       "      <th>sic</th>\n",
       "      <th>countryinc</th>\n",
       "      <th>tag</th>\n",
       "      <th>filed</th>\n",
       "      <th>ddate</th>\n",
       "      <th>qtrs</th>\n",
       "      <th>value</th>\n",
       "    </tr>\n",
       "  </thead>\n",
       "  <tbody>\n",
       "    <tr>\n",
       "      <th>0</th>\n",
       "      <td>1517389</td>\n",
       "      <td>7371.0</td>\n",
       "      <td>US</td>\n",
       "      <td>AccountsPayableAndAccruedLiabilitiesCurrent</td>\n",
       "      <td>2021-01-06</td>\n",
       "      <td>2020-11-30</td>\n",
       "      <td>0</td>\n",
       "      <td>7094.0</td>\n",
       "    </tr>\n",
       "    <tr>\n",
       "      <th>1</th>\n",
       "      <td>1517389</td>\n",
       "      <td>7371.0</td>\n",
       "      <td>US</td>\n",
       "      <td>AccountsPayableAndAccruedLiabilitiesCurrent</td>\n",
       "      <td>2021-01-06</td>\n",
       "      <td>2020-02-29</td>\n",
       "      <td>0</td>\n",
       "      <td>8698.0</td>\n",
       "    </tr>\n",
       "    <tr>\n",
       "      <th>2</th>\n",
       "      <td>1517389</td>\n",
       "      <td>7371.0</td>\n",
       "      <td>US</td>\n",
       "      <td>AccountsReceivableNetCurrent</td>\n",
       "      <td>2021-01-06</td>\n",
       "      <td>2020-11-30</td>\n",
       "      <td>0</td>\n",
       "      <td>9384.0</td>\n",
       "    </tr>\n",
       "    <tr>\n",
       "      <th>3</th>\n",
       "      <td>1517389</td>\n",
       "      <td>7371.0</td>\n",
       "      <td>US</td>\n",
       "      <td>AccountsReceivableNetCurrent</td>\n",
       "      <td>2021-01-06</td>\n",
       "      <td>2020-02-29</td>\n",
       "      <td>0</td>\n",
       "      <td>9402.0</td>\n",
       "    </tr>\n",
       "    <tr>\n",
       "      <th>4</th>\n",
       "      <td>1517389</td>\n",
       "      <td>7371.0</td>\n",
       "      <td>US</td>\n",
       "      <td>AdditionalPaidInCapital</td>\n",
       "      <td>2021-01-06</td>\n",
       "      <td>2020-11-30</td>\n",
       "      <td>0</td>\n",
       "      <td>2449733.0</td>\n",
       "    </tr>\n",
       "    <tr>\n",
       "      <th>...</th>\n",
       "      <td>...</td>\n",
       "      <td>...</td>\n",
       "      <td>...</td>\n",
       "      <td>...</td>\n",
       "      <td>...</td>\n",
       "      <td>...</td>\n",
       "      <td>...</td>\n",
       "      <td>...</td>\n",
       "    </tr>\n",
       "    <tr>\n",
       "      <th>118256</th>\n",
       "      <td>1593812</td>\n",
       "      <td>6221.0</td>\n",
       "      <td>US</td>\n",
       "      <td>RedemptionsCostBasis</td>\n",
       "      <td>2021-01-29</td>\n",
       "      <td>2019-10-31</td>\n",
       "      <td>4</td>\n",
       "      <td>-6713.0</td>\n",
       "    </tr>\n",
       "    <tr>\n",
       "      <th>118257</th>\n",
       "      <td>1593812</td>\n",
       "      <td>6221.0</td>\n",
       "      <td>US</td>\n",
       "      <td>RedemptionsCostBasis</td>\n",
       "      <td>2021-01-29</td>\n",
       "      <td>2020-10-31</td>\n",
       "      <td>4</td>\n",
       "      <td>-203243901.0</td>\n",
       "    </tr>\n",
       "    <tr>\n",
       "      <th>118258</th>\n",
       "      <td>1593812</td>\n",
       "      <td>6221.0</td>\n",
       "      <td>US</td>\n",
       "      <td>WeightedAverageNumberOfGoldReceipts</td>\n",
       "      <td>2021-01-29</td>\n",
       "      <td>2018-10-31</td>\n",
       "      <td>4</td>\n",
       "      <td>194219.0</td>\n",
       "    </tr>\n",
       "    <tr>\n",
       "      <th>118259</th>\n",
       "      <td>1593812</td>\n",
       "      <td>6221.0</td>\n",
       "      <td>US</td>\n",
       "      <td>WeightedAverageNumberOfGoldReceipts</td>\n",
       "      <td>2021-01-29</td>\n",
       "      <td>2019-10-31</td>\n",
       "      <td>4</td>\n",
       "      <td>153340.0</td>\n",
       "    </tr>\n",
       "    <tr>\n",
       "      <th>118260</th>\n",
       "      <td>1593812</td>\n",
       "      <td>6221.0</td>\n",
       "      <td>US</td>\n",
       "      <td>WeightedAverageNumberOfGoldReceipts</td>\n",
       "      <td>2021-01-29</td>\n",
       "      <td>2020-10-31</td>\n",
       "      <td>4</td>\n",
       "      <td>44533.0</td>\n",
       "    </tr>\n",
       "  </tbody>\n",
       "</table>\n",
       "<p>106707 rows × 8 columns</p>\n",
       "</div>"
      ],
      "text/plain": [
       "            cik     sic countryinc  \\\n",
       "0       1517389  7371.0         US   \n",
       "1       1517389  7371.0         US   \n",
       "2       1517389  7371.0         US   \n",
       "3       1517389  7371.0         US   \n",
       "4       1517389  7371.0         US   \n",
       "...         ...     ...        ...   \n",
       "118256  1593812  6221.0         US   \n",
       "118257  1593812  6221.0         US   \n",
       "118258  1593812  6221.0         US   \n",
       "118259  1593812  6221.0         US   \n",
       "118260  1593812  6221.0         US   \n",
       "\n",
       "                                                tag      filed      ddate  \\\n",
       "0       AccountsPayableAndAccruedLiabilitiesCurrent 2021-01-06 2020-11-30   \n",
       "1       AccountsPayableAndAccruedLiabilitiesCurrent 2021-01-06 2020-02-29   \n",
       "2                      AccountsReceivableNetCurrent 2021-01-06 2020-11-30   \n",
       "3                      AccountsReceivableNetCurrent 2021-01-06 2020-02-29   \n",
       "4                           AdditionalPaidInCapital 2021-01-06 2020-11-30   \n",
       "...                                             ...        ...        ...   \n",
       "118256                         RedemptionsCostBasis 2021-01-29 2019-10-31   \n",
       "118257                         RedemptionsCostBasis 2021-01-29 2020-10-31   \n",
       "118258          WeightedAverageNumberOfGoldReceipts 2021-01-29 2018-10-31   \n",
       "118259          WeightedAverageNumberOfGoldReceipts 2021-01-29 2019-10-31   \n",
       "118260          WeightedAverageNumberOfGoldReceipts 2021-01-29 2020-10-31   \n",
       "\n",
       "        qtrs        value  \n",
       "0          0       7094.0  \n",
       "1          0       8698.0  \n",
       "2          0       9384.0  \n",
       "3          0       9402.0  \n",
       "4          0    2449733.0  \n",
       "...      ...          ...  \n",
       "118256     4      -6713.0  \n",
       "118257     4 -203243901.0  \n",
       "118258     4     194219.0  \n",
       "118259     4     153340.0  \n",
       "118260     4      44533.0  \n",
       "\n",
       "[106707 rows x 8 columns]"
      ]
     },
     "execution_count": 10,
     "metadata": {},
     "output_type": "execute_result"
    }
   ],
   "source": [
    "merge_sec_files('2021_01')"
   ]
  },
  {
   "cell_type": "markdown",
   "id": "racial-wireless",
   "metadata": {},
   "source": [
    "Now you have all the merged files in the \"merged\" folder. To free up memory, you can now:\n",
    "1. delete all files in \"downloads\" folder\n",
    "1. empty trash\n",
    "\n",
    "You need to keep  all the merged files (but they only take about 8 GB)."
   ]
  },
  {
   "cell_type": "markdown",
   "id": "rising-nursing",
   "metadata": {},
   "source": [
    "Now every month:\n",
    "1. download the lastest folder (once available on SEC website)\n",
    "1. merge the files\n",
    "1. (delete the downloaded folder if you need space)\n",
    "\n",
    "For example do this in early March 2021:"
   ]
  },
  {
   "cell_type": "code",
   "execution_count": null,
   "id": "public-marine",
   "metadata": {},
   "outputs": [],
   "source": [
    "download_file('2021_02')\n",
    "\n",
    "merge_sec_files('2021_02')\n",
    "\n",
    "# delete folder 'data/sec/downloads/2021_02'"
   ]
  },
  {
   "cell_type": "markdown",
   "id": "matched-retrieval",
   "metadata": {},
   "source": [
    "That's it!           \n",
    "\n",
    "Anyone who has problems with this: email me and tell me what is not working. We will need these data."
   ]
  }
 ],
 "metadata": {
  "kernelspec": {
   "display_name": "Python 3",
   "language": "python",
   "name": "python3"
  },
  "language_info": {
   "codemirror_mode": {
    "name": "ipython",
    "version": 3
   },
   "file_extension": ".py",
   "mimetype": "text/x-python",
   "name": "python",
   "nbconvert_exporter": "python",
   "pygments_lexer": "ipython3",
   "version": "3.7.9"
  }
 },
 "nbformat": 4,
 "nbformat_minor": 5
}
