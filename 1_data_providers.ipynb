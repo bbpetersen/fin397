{
 "cells": [
  {
   "cell_type": "markdown",
   "metadata": {},
   "source": [
    "# Data Providers"
   ]
  },
  {
   "cell_type": "markdown",
   "metadata": {},
   "source": [
    "We will use the following two data providers:\n",
    "- [Quandl](https://www.quandl.com/): macroeconomic data, interest rates, futures prices ...\n",
    "- [Tiingo](https://www.tiingo.com/welcome): stock market prices and dividends."
   ]
  },
  {
   "cell_type": "markdown",
   "metadata": {},
   "source": [
    " To access these servers we need to install the following two libraries:"
   ]
  },
  {
   "cell_type": "code",
   "execution_count": 1,
   "metadata": {},
   "outputs": [
    {
     "name": "stdout",
     "output_type": "stream",
     "text": [
      "Collecting package metadata (current_repodata.json): done\n",
      "Solving environment: done\n",
      "\n",
      "## Package Plan ##\n",
      "\n",
      "  environment location: /Users/bradpetersen/opt/anaconda3\n",
      "\n",
      "  added / updated specs:\n",
      "    - quandl\n",
      "\n",
      "\n",
      "The following packages will be downloaded:\n",
      "\n",
      "    package                    |            build\n",
      "    ---------------------------|-----------------\n",
      "    conda-4.9.2                |   py37hecd8cb5_0         2.9 MB\n",
      "    inflection-0.5.1           |   py37hecd8cb5_0          12 KB\n",
      "    ------------------------------------------------------------\n",
      "                                           Total:         2.9 MB\n",
      "\n",
      "The following NEW packages will be INSTALLED:\n",
      "\n",
      "  inflection         pkgs/main/osx-64::inflection-0.5.1-py37hecd8cb5_0\n",
      "  quandl             pkgs/main/osx-64::quandl-3.6.0-py37hecd8cb5_0\n",
      "\n",
      "The following packages will be UPDATED:\n",
      "\n",
      "  conda                                        4.8.2-py37_0 --> 4.9.2-py37hecd8cb5_0\n",
      "\n",
      "\n",
      "\n",
      "Downloading and Extracting Packages\n",
      "inflection-0.5.1     | 12 KB     | ##################################### | 100% \n",
      "conda-4.9.2          | 2.9 MB    | ##################################### | 100% \n",
      "Preparing transaction: done\n",
      "Verifying transaction: done\n",
      "Executing transaction: done\n",
      "Collecting tiingo\n",
      "  Downloading tiingo-0.13.0-py2.py3-none-any.whl (12 kB)\n",
      "Requirement already satisfied, skipping upgrade: requests in /Users/bradpetersen/opt/anaconda3/lib/python3.7/site-packages (from tiingo) (2.22.0)\n",
      "Requirement already satisfied, skipping upgrade: chardet<3.1.0,>=3.0.2 in /Users/bradpetersen/opt/anaconda3/lib/python3.7/site-packages (from requests->tiingo) (3.0.4)\n",
      "Requirement already satisfied, skipping upgrade: idna<2.9,>=2.5 in /Users/bradpetersen/opt/anaconda3/lib/python3.7/site-packages (from requests->tiingo) (2.8)\n",
      "Requirement already satisfied, skipping upgrade: certifi>=2017.4.17 in /Users/bradpetersen/opt/anaconda3/lib/python3.7/site-packages (from requests->tiingo) (2019.11.28)\n",
      "Requirement already satisfied, skipping upgrade: urllib3!=1.25.0,!=1.25.1,<1.26,>=1.21.1 in /Users/bradpetersen/opt/anaconda3/lib/python3.7/site-packages (from requests->tiingo) (1.25.8)\n",
      "Installing collected packages: tiingo\n",
      "Successfully installed tiingo-0.13.0\n"
     ]
    }
   ],
   "source": [
    "import sys\n",
    "!conda install --yes --prefix {sys.prefix} quandl\n",
    "!{sys.executable} -m pip install tiingo --upgrade --no-cache-dir"
   ]
  },
  {
   "cell_type": "markdown",
   "metadata": {},
   "source": [
    "Now get your API keys:\n",
    "- [Quandl](https://www.quandl.com/), sign up and then go to account setting page\n",
    "- [Tiingo](https://www.tiingo.com/welcome), sign up, go to [API docs](https://api.tiingo.com/docs/general/overview) and log in"
   ]
  },
  {
   "cell_type": "markdown",
   "metadata": {},
   "source": [
    "To connect to these services you need to run this cell (**with your own keys**) every time you start a notebook:"
   ]
  },
  {
   "cell_type": "code",
   "execution_count": 3,
   "metadata": {},
   "outputs": [],
   "source": [
    "from tiingo import TiingoClient                       \n",
    "import quandl                                        \n",
    "\n",
    "tiingo = TiingoClient({'api_key':'f10f5d79cf2567b045cc7e9b595a6fec0f5321d2'})\n",
    "\n",
    "quandl.ApiConfig.api_key = 'EqpCyveK1jFmUkmzpPjz' "
   ]
  },
  {
   "cell_type": "markdown",
   "metadata": {},
   "source": [
    "Test that tiingo is working:"
   ]
  },
  {
   "cell_type": "code",
   "execution_count": 4,
   "metadata": {},
   "outputs": [
    {
     "data": {
      "text/html": [
       "<div>\n",
       "<style scoped>\n",
       "    .dataframe tbody tr th:only-of-type {\n",
       "        vertical-align: middle;\n",
       "    }\n",
       "\n",
       "    .dataframe tbody tr th {\n",
       "        vertical-align: top;\n",
       "    }\n",
       "\n",
       "    .dataframe thead th {\n",
       "        text-align: right;\n",
       "    }\n",
       "</style>\n",
       "<table border=\"1\" class=\"dataframe\">\n",
       "  <thead>\n",
       "    <tr style=\"text-align: right;\">\n",
       "      <th></th>\n",
       "      <th>adjClose</th>\n",
       "      <th>adjHigh</th>\n",
       "      <th>adjLow</th>\n",
       "      <th>adjOpen</th>\n",
       "      <th>adjVolume</th>\n",
       "      <th>close</th>\n",
       "      <th>divCash</th>\n",
       "      <th>high</th>\n",
       "      <th>low</th>\n",
       "      <th>open</th>\n",
       "      <th>splitFactor</th>\n",
       "      <th>volume</th>\n",
       "    </tr>\n",
       "    <tr>\n",
       "      <th>date</th>\n",
       "      <th></th>\n",
       "      <th></th>\n",
       "      <th></th>\n",
       "      <th></th>\n",
       "      <th></th>\n",
       "      <th></th>\n",
       "      <th></th>\n",
       "      <th></th>\n",
       "      <th></th>\n",
       "      <th></th>\n",
       "      <th></th>\n",
       "      <th></th>\n",
       "    </tr>\n",
       "  </thead>\n",
       "  <tbody>\n",
       "    <tr>\n",
       "      <th>2021-01-15 00:00:00+00:00</th>\n",
       "      <td>212.65</td>\n",
       "      <td>214.51</td>\n",
       "      <td>212.03</td>\n",
       "      <td>213.52</td>\n",
       "      <td>31746512</td>\n",
       "      <td>212.65</td>\n",
       "      <td>0.0</td>\n",
       "      <td>214.51</td>\n",
       "      <td>212.03</td>\n",
       "      <td>213.52</td>\n",
       "      <td>1.0</td>\n",
       "      <td>31746512</td>\n",
       "    </tr>\n",
       "  </tbody>\n",
       "</table>\n",
       "</div>"
      ],
      "text/plain": [
       "                           adjClose  adjHigh  adjLow  adjOpen  adjVolume  \\\n",
       "date                                                                       \n",
       "2021-01-15 00:00:00+00:00    212.65   214.51  212.03   213.52   31746512   \n",
       "\n",
       "                            close  divCash    high     low    open  \\\n",
       "date                                                                 \n",
       "2021-01-15 00:00:00+00:00  212.65      0.0  214.51  212.03  213.52   \n",
       "\n",
       "                           splitFactor    volume  \n",
       "date                                              \n",
       "2021-01-15 00:00:00+00:00          1.0  31746512  "
      ]
     },
     "execution_count": 4,
     "metadata": {},
     "output_type": "execute_result"
    }
   ],
   "source": [
    "tiingo.get_dataframe('MSFT') # This should produce 1 line of output with adjClose, adjHigh, ..."
   ]
  },
  {
   "cell_type": "markdown",
   "metadata": {},
   "source": [
    "Test that Quandl is working:"
   ]
  },
  {
   "cell_type": "code",
   "execution_count": 5,
   "metadata": {},
   "outputs": [
    {
     "data": {
      "text/html": [
       "<div>\n",
       "<style scoped>\n",
       "    .dataframe tbody tr th:only-of-type {\n",
       "        vertical-align: middle;\n",
       "    }\n",
       "\n",
       "    .dataframe tbody tr th {\n",
       "        vertical-align: top;\n",
       "    }\n",
       "\n",
       "    .dataframe thead th {\n",
       "        text-align: right;\n",
       "    }\n",
       "</style>\n",
       "<table border=\"1\" class=\"dataframe\">\n",
       "  <thead>\n",
       "    <tr style=\"text-align: right;\">\n",
       "      <th></th>\n",
       "      <th>FRED/DGS1 - Value</th>\n",
       "    </tr>\n",
       "    <tr>\n",
       "      <th>Date</th>\n",
       "      <th></th>\n",
       "    </tr>\n",
       "  </thead>\n",
       "  <tbody>\n",
       "    <tr>\n",
       "      <th>1962-01-02</th>\n",
       "      <td>3.22</td>\n",
       "    </tr>\n",
       "    <tr>\n",
       "      <th>1962-01-03</th>\n",
       "      <td>3.24</td>\n",
       "    </tr>\n",
       "    <tr>\n",
       "      <th>1962-01-04</th>\n",
       "      <td>3.24</td>\n",
       "    </tr>\n",
       "    <tr>\n",
       "      <th>1962-01-05</th>\n",
       "      <td>3.26</td>\n",
       "    </tr>\n",
       "    <tr>\n",
       "      <th>1962-01-08</th>\n",
       "      <td>3.31</td>\n",
       "    </tr>\n",
       "    <tr>\n",
       "      <th>...</th>\n",
       "      <td>...</td>\n",
       "    </tr>\n",
       "    <tr>\n",
       "      <th>2021-01-08</th>\n",
       "      <td>0.10</td>\n",
       "    </tr>\n",
       "    <tr>\n",
       "      <th>2021-01-11</th>\n",
       "      <td>0.10</td>\n",
       "    </tr>\n",
       "    <tr>\n",
       "      <th>2021-01-12</th>\n",
       "      <td>0.11</td>\n",
       "    </tr>\n",
       "    <tr>\n",
       "      <th>2021-01-13</th>\n",
       "      <td>0.12</td>\n",
       "    </tr>\n",
       "    <tr>\n",
       "      <th>2021-01-14</th>\n",
       "      <td>0.10</td>\n",
       "    </tr>\n",
       "  </tbody>\n",
       "</table>\n",
       "<p>14744 rows × 1 columns</p>\n",
       "</div>"
      ],
      "text/plain": [
       "            FRED/DGS1 - Value\n",
       "Date                         \n",
       "1962-01-02               3.22\n",
       "1962-01-03               3.24\n",
       "1962-01-04               3.24\n",
       "1962-01-05               3.26\n",
       "1962-01-08               3.31\n",
       "...                       ...\n",
       "2021-01-08               0.10\n",
       "2021-01-11               0.10\n",
       "2021-01-12               0.11\n",
       "2021-01-13               0.12\n",
       "2021-01-14               0.10\n",
       "\n",
       "[14744 rows x 1 columns]"
      ]
     },
     "execution_count": 5,
     "metadata": {},
     "output_type": "execute_result"
    }
   ],
   "source": [
    "quandl.get(['FRED/DGS1'])  # This should produce a table with column 'FRED/DGS1 - Value'"
   ]
  },
  {
   "cell_type": "code",
   "execution_count": null,
   "metadata": {},
   "outputs": [],
   "source": []
  }
 ],
 "metadata": {
  "kernelspec": {
   "display_name": "Python 3 (ipykernel)",
   "language": "python",
   "name": "python3"
  },
  "language_info": {
   "codemirror_mode": {
    "name": "ipython",
    "version": 3
   },
   "file_extension": ".py",
   "mimetype": "text/x-python",
   "name": "python",
   "nbconvert_exporter": "python",
   "pygments_lexer": "ipython3",
   "version": "3.9.12"
  }
 },
 "nbformat": 4,
 "nbformat_minor": 4
}
