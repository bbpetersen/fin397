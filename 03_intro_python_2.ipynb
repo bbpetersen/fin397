{
 "cells": [
  {
   "cell_type": "markdown",
   "metadata": {},
   "source": [
    "## Introduction to Python II: Lists and Dictionaries"
   ]
  },
  {
   "cell_type": "markdown",
   "metadata": {},
   "source": [
    "### What we did last class:"
   ]
  },
  {
   "cell_type": "code",
   "execution_count": 1,
   "metadata": {},
   "outputs": [],
   "source": [
    "# Get ticker symbol file from SEC:\n",
    "\n",
    "import requests\n",
    "\n",
    "symbols = requests.get('https://www.sec.gov/files/company_tickers.json').text  "
   ]
  },
  {
   "cell_type": "markdown",
   "metadata": {},
   "source": [
    "What type is \"symbols\"?"
   ]
  },
  {
   "cell_type": "code",
   "execution_count": 2,
   "metadata": {},
   "outputs": [
    {
     "data": {
      "text/plain": [
       "str"
      ]
     },
     "execution_count": 2,
     "metadata": {},
     "output_type": "execute_result"
    }
   ],
   "source": [
    "type(symbols)"
   ]
  },
  {
   "cell_type": "markdown",
   "metadata": {},
   "source": [
    "Show first 200 characters:"
   ]
  },
  {
   "cell_type": "code",
   "execution_count": 4,
   "metadata": {},
   "outputs": [
    {
     "data": {
      "text/plain": [
       "'{\"0\":{\"cik_str\":320193,\"ticker\":\"AAPL\",\"title\":\"Apple Inc.\"},\"1\":{\"cik_str\":789019,\"ticker\":\"MSFT\",\"title\":\"MICROSOFT CORP\"},\"2\":{\"cik_str\":1018724,\"ticker\":\"AMZN\",\"title\":\"AMAZON COM INC\"},\"3\":{\"cik_'"
      ]
     },
     "execution_count": 4,
     "metadata": {},
     "output_type": "execute_result"
    }
   ],
   "source": [
    "symbols[:200]"
   ]
  },
  {
   "cell_type": "markdown",
   "metadata": {},
   "source": [
    "Our search function:"
   ]
  },
  {
   "cell_type": "code",
   "execution_count": 17,
   "metadata": {},
   "outputs": [],
   "source": [
    "def find_firm(name):\n",
    "    i = symbols.lower().find(name.lower())   \n",
    "    first = symbols[:i].rfind('{')\n",
    "    last  = i + symbols[i:].find('}')\n",
    "    return symbols[first:last+1]"
   ]
  },
  {
   "cell_type": "markdown",
   "metadata": {},
   "source": [
    "Find Uber:"
   ]
  },
  {
   "cell_type": "code",
   "execution_count": 18,
   "metadata": {},
   "outputs": [
    {
     "data": {
      "text/plain": [
       "'{\"cik_str\":1543151,\"ticker\":\"UBER\",\"title\":\"Uber Technologies, Inc\"}'"
      ]
     },
     "execution_count": 18,
     "metadata": {},
     "output_type": "execute_result"
    }
   ],
   "source": [
    "find_firm('Uber')"
   ]
  },
  {
   "cell_type": "markdown",
   "metadata": {},
   "source": [
    "### Python lists"
   ]
  },
  {
   "cell_type": "markdown",
   "metadata": {},
   "source": [
    "This is a list:"
   ]
  },
  {
   "cell_type": "code",
   "execution_count": 9,
   "metadata": {},
   "outputs": [],
   "source": [
    "x = ['a', 'b', 'c', 'd']"
   ]
  },
  {
   "cell_type": "markdown",
   "metadata": {},
   "source": [
    "What type is this?"
   ]
  },
  {
   "cell_type": "code",
   "execution_count": 10,
   "metadata": {},
   "outputs": [
    {
     "data": {
      "text/plain": [
       "list"
      ]
     },
     "execution_count": 10,
     "metadata": {},
     "output_type": "execute_result"
    }
   ],
   "source": [
    "type (x)"
   ]
  },
  {
   "cell_type": "markdown",
   "metadata": {},
   "source": [
    "Access elements of list exactly like strings:"
   ]
  },
  {
   "cell_type": "code",
   "execution_count": 12,
   "metadata": {},
   "outputs": [
    {
     "data": {
      "text/plain": [
       "'a'"
      ]
     },
     "execution_count": 12,
     "metadata": {},
     "output_type": "execute_result"
    }
   ],
   "source": [
    "x[0]          # First elemnt"
   ]
  },
  {
   "cell_type": "code",
   "execution_count": 26,
   "metadata": {},
   "outputs": [
    {
     "data": {
      "text/plain": [
       "['b', 'c', 'd']"
      ]
     },
     "execution_count": 26,
     "metadata": {},
     "output_type": "execute_result"
    }
   ],
   "source": [
    "x[1:]     # Elements from 2nd to 4th"
   ]
  },
  {
   "cell_type": "code",
   "execution_count": 14,
   "metadata": {},
   "outputs": [
    {
     "data": {
      "text/plain": [
       "['c', 'd']"
      ]
     },
     "execution_count": 14,
     "metadata": {},
     "output_type": "execute_result"
    }
   ],
   "source": [
    "x[-2:]        # Last 2 elements"
   ]
  },
  {
   "cell_type": "markdown",
   "metadata": {},
   "source": [
    "How long is the list?"
   ]
  },
  {
   "cell_type": "code",
   "execution_count": 16,
   "metadata": {},
   "outputs": [
    {
     "data": {
      "text/plain": [
       "4"
      ]
     },
     "execution_count": 16,
     "metadata": {},
     "output_type": "execute_result"
    }
   ],
   "source": [
    "len(x)"
   ]
  },
  {
   "cell_type": "markdown",
   "metadata": {},
   "source": [
    "List methods:"
   ]
  },
  {
   "cell_type": "code",
   "execution_count": 25,
   "metadata": {},
   "outputs": [],
   "source": [
    "x.reverse()    # Reverse the list "
   ]
  },
  {
   "cell_type": "code",
   "execution_count": 22,
   "metadata": {},
   "outputs": [
    {
     "data": {
      "text/plain": [
       "['d', 'c', 'b', 'a']"
      ]
     },
     "execution_count": 22,
     "metadata": {},
     "output_type": "execute_result"
    }
   ],
   "source": [
    "x"
   ]
  },
  {
   "cell_type": "markdown",
   "metadata": {},
   "source": [
    "This is different for strings:  ***METHODS FOR LISTS DO NOT HAVE TO BE REASSIGNED TO TAKE PERMANENT EFFECT, METHODS FOR STRINGS DO!***"
   ]
  },
  {
   "cell_type": "code",
   "execution_count": 30,
   "metadata": {},
   "outputs": [
    {
     "data": {
      "text/plain": [
       "'ABC'"
      ]
     },
     "execution_count": 30,
     "metadata": {},
     "output_type": "execute_result"
    }
   ],
   "source": [
    "y = 'abc'\n",
    "y = y.upper()\n",
    "\n",
    "y"
   ]
  },
  {
   "cell_type": "markdown",
   "metadata": {},
   "source": [
    "### Python dictionaries"
   ]
  },
  {
   "cell_type": "markdown",
   "metadata": {},
   "source": [
    "This is a dictionary:"
   ]
  },
  {
   "cell_type": "code",
   "execution_count": 31,
   "metadata": {},
   "outputs": [
    {
     "data": {
      "text/plain": [
       "{'name': 'Hank', 'age': 25, 'shape': 'needs more exercise'}"
      ]
     },
     "execution_count": 31,
     "metadata": {},
     "output_type": "execute_result"
    }
   ],
   "source": [
    "person = {'name':'Hank', 'age':25, 'shape':'needs more exercise'}\n",
    "person"
   ]
  },
  {
   "cell_type": "code",
   "execution_count": 40,
   "metadata": {},
   "outputs": [
    {
     "data": {
      "text/plain": [
       "dict"
      ]
     },
     "execution_count": 40,
     "metadata": {},
     "output_type": "execute_result"
    }
   ],
   "source": [
    "type(person)"
   ]
  },
  {
   "cell_type": "markdown",
   "metadata": {},
   "source": [
    "Access entries of dictionary:"
   ]
  },
  {
   "cell_type": "code",
   "execution_count": 42,
   "metadata": {},
   "outputs": [
    {
     "data": {
      "text/plain": [
       "'Hank'"
      ]
     },
     "execution_count": 42,
     "metadata": {},
     "output_type": "execute_result"
    }
   ],
   "source": [
    "person['name']"
   ]
  },
  {
   "cell_type": "code",
   "execution_count": 43,
   "metadata": {},
   "outputs": [
    {
     "data": {
      "text/plain": [
       "25"
      ]
     },
     "execution_count": 43,
     "metadata": {},
     "output_type": "execute_result"
    }
   ],
   "source": [
    "person['age']"
   ]
  },
  {
   "cell_type": "code",
   "execution_count": 44,
   "metadata": {},
   "outputs": [
    {
     "data": {
      "text/plain": [
       "'needs more exercise'"
      ]
     },
     "execution_count": 44,
     "metadata": {},
     "output_type": "execute_result"
    }
   ],
   "source": [
    "person['shape']"
   ]
  },
  {
   "cell_type": "markdown",
   "metadata": {},
   "source": [
    "Add another entry:"
   ]
  },
  {
   "cell_type": "code",
   "execution_count": 45,
   "metadata": {},
   "outputs": [],
   "source": [
    "person['parents'] = {'mom':'Bertha', 'dad': 'Albert'}"
   ]
  },
  {
   "cell_type": "code",
   "execution_count": 49,
   "metadata": {},
   "outputs": [
    {
     "data": {
      "text/plain": [
       "{'name': 'Hank',\n",
       " 'age': 25,\n",
       " 'shape': 'needs more exercise',\n",
       " 'parents': {'mom': 'Bertha', 'dad': 'Albert'}}"
      ]
     },
     "execution_count": 49,
     "metadata": {},
     "output_type": "execute_result"
    }
   ],
   "source": [
    "person"
   ]
  },
  {
   "cell_type": "markdown",
   "metadata": {},
   "source": [
    "Who is the persons mom?"
   ]
  },
  {
   "cell_type": "code",
   "execution_count": 59,
   "metadata": {},
   "outputs": [
    {
     "data": {
      "text/plain": [
       "'Bertha'"
      ]
     },
     "execution_count": 59,
     "metadata": {},
     "output_type": "execute_result"
    }
   ],
   "source": [
    "person['parents']['mom']"
   ]
  },
  {
   "cell_type": "markdown",
   "metadata": {},
   "source": [
    "Dictionaries consists of pairs of keys and values:"
   ]
  },
  {
   "cell_type": "code",
   "execution_count": 61,
   "metadata": {},
   "outputs": [
    {
     "data": {
      "text/plain": [
       "dict_keys(['name', 'age', 'shape', 'parents'])"
      ]
     },
     "execution_count": 61,
     "metadata": {},
     "output_type": "execute_result"
    }
   ],
   "source": [
    "person.keys()       # keys of person"
   ]
  },
  {
   "cell_type": "code",
   "execution_count": 63,
   "metadata": {},
   "outputs": [
    {
     "data": {
      "text/plain": [
       "['name', 'age', 'shape', 'parents']"
      ]
     },
     "execution_count": 63,
     "metadata": {},
     "output_type": "execute_result"
    }
   ],
   "source": [
    " list(person.keys())       # list of keys"
   ]
  },
  {
   "cell_type": "code",
   "execution_count": 65,
   "metadata": {},
   "outputs": [
    {
     "data": {
      "text/plain": [
       "['Hank', 25, 'needs more exercise', {'mom': 'Bertha', 'dad': 'Albert'}]"
      ]
     },
     "execution_count": 65,
     "metadata": {},
     "output_type": "execute_result"
    }
   ],
   "source": [
    "list(person.values())         # Values of person"
   ]
  },
  {
   "cell_type": "markdown",
   "metadata": {},
   "source": [
    "Keys and values of 'parents':"
   ]
  },
  {
   "cell_type": "code",
   "execution_count": 68,
   "metadata": {},
   "outputs": [
    {
     "data": {
      "text/plain": [
       "dict_keys(['mom', 'dad'])"
      ]
     },
     "execution_count": 68,
     "metadata": {},
     "output_type": "execute_result"
    }
   ],
   "source": [
    "person['parents'].keys()"
   ]
  },
  {
   "cell_type": "code",
   "execution_count": 69,
   "metadata": {},
   "outputs": [
    {
     "data": {
      "text/plain": [
       "dict_values(['Bertha', 'Albert'])"
      ]
     },
     "execution_count": 69,
     "metadata": {},
     "output_type": "execute_result"
    }
   ],
   "source": [
    "person['parents'].values()"
   ]
  },
  {
   "cell_type": "markdown",
   "metadata": {},
   "source": [
    "### SEC file as dictionary"
   ]
  },
  {
   "cell_type": "code",
   "execution_count": 73,
   "metadata": {},
   "outputs": [],
   "source": [
    "symbols = requests.get('https://www.sec.gov/files/company_tickers.json').json()"
   ]
  },
  {
   "cell_type": "markdown",
   "metadata": {},
   "source": [
    "What type is this:"
   ]
  },
  {
   "cell_type": "code",
   "execution_count": 74,
   "metadata": {},
   "outputs": [
    {
     "data": {
      "text/plain": [
       "dict"
      ]
     },
     "execution_count": 74,
     "metadata": {},
     "output_type": "execute_result"
    }
   ],
   "source": [
    "type(symbols)"
   ]
  },
  {
   "cell_type": "code",
   "execution_count": 81,
   "metadata": {},
   "outputs": [
    {
     "data": {
      "text/plain": [
       "['0', '1', '2', '3', '4', '5', '6', '7', '8', '9']"
      ]
     },
     "execution_count": 81,
     "metadata": {},
     "output_type": "execute_result"
    }
   ],
   "source": [
    "k = list(symbols.keys()) # list of first 10 keys\n",
    "k[:10]"
   ]
  },
  {
   "cell_type": "code",
   "execution_count": 83,
   "metadata": {},
   "outputs": [
    {
     "data": {
      "text/plain": [
       "[{'cik_str': 320193, 'ticker': 'AAPL', 'title': 'Apple Inc.'},\n",
       " {'cik_str': 789019, 'ticker': 'MSFT', 'title': 'MICROSOFT CORP'},\n",
       " {'cik_str': 1018724, 'ticker': 'AMZN', 'title': 'AMAZON COM INC'},\n",
       " {'cik_str': 1652044, 'ticker': 'GOOG', 'title': 'Alphabet Inc.'},\n",
       " {'cik_str': 1318605, 'ticker': 'TSLA', 'title': 'Tesla, Inc.'},\n",
       " {'cik_str': 1326801, 'ticker': 'FB', 'title': 'Facebook Inc'},\n",
       " {'cik_str': 1293451, 'ticker': 'TCEHY', 'title': 'Tencent Holdings Ltd'},\n",
       " {'cik_str': 1577552, 'ticker': 'BABA', 'title': 'Alibaba Group Holding Ltd'},\n",
       " {'cik_str': 1046179,\n",
       "  'ticker': 'TSM',\n",
       "  'title': 'TAIWAN SEMICONDUCTOR MANUFACTURING CO LTD'},\n",
       " {'cik_str': 1067983, 'ticker': 'BRK-A', 'title': 'BERKSHIRE HATHAWAY INC'}]"
      ]
     },
     "execution_count": 83,
     "metadata": {},
     "output_type": "execute_result"
    }
   ],
   "source": [
    "v = list(symbols.values()) # list of first 10 values\n",
    "v[:10]"
   ]
  },
  {
   "cell_type": "markdown",
   "metadata": {},
   "source": [
    "Select entries:"
   ]
  },
  {
   "cell_type": "code",
   "execution_count": 85,
   "metadata": {},
   "outputs": [
    {
     "data": {
      "text/plain": [
       "{'cik_str': 320193, 'ticker': 'AAPL', 'title': 'Apple Inc.'}"
      ]
     },
     "execution_count": 85,
     "metadata": {},
     "output_type": "execute_result"
    }
   ],
   "source": [
    "symbols['0']"
   ]
  },
  {
   "cell_type": "code",
   "execution_count": 87,
   "metadata": {},
   "outputs": [
    {
     "data": {
      "text/plain": [
       "{'cik_str': 789019, 'ticker': 'MSFT', 'title': 'MICROSOFT CORP'}"
      ]
     },
     "execution_count": 87,
     "metadata": {},
     "output_type": "execute_result"
    }
   ],
   "source": [
    "symbols['1']"
   ]
  },
  {
   "cell_type": "code",
   "execution_count": 86,
   "metadata": {},
   "outputs": [
    {
     "data": {
      "text/plain": [
       "'MSFT'"
      ]
     },
     "execution_count": 86,
     "metadata": {},
     "output_type": "execute_result"
    }
   ],
   "source": [
    "symbols['1']['ticker']"
   ]
  },
  {
   "cell_type": "code",
   "execution_count": null,
   "metadata": {},
   "outputs": [],
   "source": []
  },
  {
   "cell_type": "markdown",
   "metadata": {},
   "source": [
    "How many symbols:"
   ]
  },
  {
   "cell_type": "code",
   "execution_count": 88,
   "metadata": {},
   "outputs": [
    {
     "data": {
      "text/plain": [
       "11228"
      ]
     },
     "execution_count": 88,
     "metadata": {},
     "output_type": "execute_result"
    }
   ],
   "source": [
    "len(symbols)"
   ]
  },
  {
   "cell_type": "code",
   "execution_count": 91,
   "metadata": {},
   "outputs": [
    {
     "name": "stdout",
     "output_type": "stream",
     "text": [
      "2\n",
      "3\n",
      "4\n",
      "5\n",
      "a\n"
     ]
    }
   ],
   "source": [
    "for i in range (2,6):\n",
    "    print(i)"
   ]
  },
  {
   "cell_type": "code",
   "execution_count": 95,
   "metadata": {},
   "outputs": [
    {
     "name": "stdout",
     "output_type": "stream",
     "text": [
      "A\n",
      "B\n",
      "C\n",
      "D\n"
     ]
    }
   ],
   "source": [
    "for c in 'abcd':\n",
    "    print(c.upper())"
   ]
  },
  {
   "cell_type": "code",
   "execution_count": 120,
   "metadata": {},
   "outputs": [
    {
     "name": "stdout",
     "output_type": "stream",
     "text": [
      "1\n",
      "3\n",
      "5\n"
     ]
    }
   ],
   "source": [
    "for j in [1,3,5]:\n",
    "    print(j)"
   ]
  },
  {
   "cell_type": "code",
   "execution_count": 96,
   "metadata": {},
   "outputs": [
    {
     "name": "stdout",
     "output_type": "stream",
     "text": [
      "name\n",
      "age\n",
      "shape\n",
      "parents\n"
     ]
    }
   ],
   "source": [
    "for k in person.keys():\n",
    "    print(k)"
   ]
  },
  {
   "cell_type": "code",
   "execution_count": 98,
   "metadata": {},
   "outputs": [
    {
     "name": "stdout",
     "output_type": "stream",
     "text": [
      "Hank\n",
      "25\n",
      "needs more exercise\n",
      "{'mom': 'Bertha', 'dad': 'Albert'}\n"
     ]
    }
   ],
   "source": [
    "for k in person.values():\n",
    "    print(k)"
   ]
  },
  {
   "cell_type": "code",
   "execution_count": 103,
   "metadata": {},
   "outputs": [
    {
     "data": {
      "text/plain": [
       "True"
      ]
     },
     "execution_count": 103,
     "metadata": {},
     "output_type": "execute_result"
    }
   ],
   "source": [
    "k = '5'\n",
    "int(k) < 10"
   ]
  },
  {
   "cell_type": "code",
   "execution_count": 104,
   "metadata": {},
   "outputs": [
    {
     "name": "stdout",
     "output_type": "stream",
     "text": [
      "0\n",
      "1\n",
      "2\n",
      "3\n",
      "4\n",
      "5\n",
      "6\n",
      "7\n",
      "8\n",
      "9\n"
     ]
    }
   ],
   "source": [
    "for k in symbols.keys():\n",
    "    if int(k) < 10:\n",
    "        print(k)"
   ]
  },
  {
   "cell_type": "code",
   "execution_count": 116,
   "metadata": {},
   "outputs": [
    {
     "name": "stdout",
     "output_type": "stream",
     "text": [
      "{'cik_str': 19617, 'ticker': 'JPM', 'title': 'JPMORGAN CHASE & CO'}\n",
      "{'cik_str': 19617, 'ticker': 'JPM-PC', 'title': 'JPMORGAN CHASE & CO'}\n",
      "{'cik_str': 19617, 'ticker': 'JPM-PD', 'title': 'JPMORGAN CHASE & CO'}\n",
      "{'cik_str': 19617, 'ticker': 'AMJ', 'title': 'JPMORGAN CHASE & CO'}\n",
      "{'cik_str': 19617, 'ticker': 'PPLN', 'title': 'JPMORGAN CHASE & CO'}\n",
      "{'cik_str': 19617, 'ticker': 'JPM-PJ', 'title': 'JPMORGAN CHASE & CO'}\n",
      "{'cik_str': 19617, 'ticker': 'JPM-PG', 'title': 'JPMORGAN CHASE & CO'}\n",
      "{'cik_str': 19617, 'ticker': 'JPM-PH', 'title': 'JPMORGAN CHASE & CO'}\n"
     ]
    }
   ],
   "source": [
    "for v in symbols.values():\n",
    "    if v['title'] == 'JPMORGAN CHASE & CO':\n",
    "        print(v)"
   ]
  },
  {
   "cell_type": "code",
   "execution_count": 113,
   "metadata": {},
   "outputs": [
    {
     "data": {
      "text/plain": [
       "False"
      ]
     },
     "execution_count": 113,
     "metadata": {},
     "output_type": "execute_result"
    }
   ],
   "source": [
    "x = 4\n",
    "x == 5"
   ]
  },
  {
   "cell_type": "code",
   "execution_count": 114,
   "metadata": {},
   "outputs": [
    {
     "data": {
      "text/plain": [
       "2"
      ]
     },
     "execution_count": 114,
     "metadata": {},
     "output_type": "execute_result"
    }
   ],
   "source": [
    "'JPM'.find('M')"
   ]
  },
  {
   "cell_type": "code",
   "execution_count": 115,
   "metadata": {},
   "outputs": [
    {
     "data": {
      "text/plain": [
       "-1"
      ]
     },
     "execution_count": 115,
     "metadata": {},
     "output_type": "execute_result"
    }
   ],
   "source": [
    "'JPM'.find('-P')"
   ]
  },
  {
   "cell_type": "code",
   "execution_count": 122,
   "metadata": {},
   "outputs": [
    {
     "name": "stdout",
     "output_type": "stream",
     "text": [
      "{'cik_str': 30554, 'ticker': 'CTA-PA', 'title': 'DUPONT E I DE NEMOURS & CO'}\n",
      "{'cik_str': 1161154, 'ticker': 'ETP-PC', 'title': 'Energy Transfer Operating, L.P.'}\n",
      "{'cik_str': 201533, 'ticker': 'CMS-PB', 'title': 'CONSUMERS ENERGY CO'}\n",
      "{'cik_str': 1379661, 'ticker': 'NGLS-PA', 'title': 'Targa Resources Partners LP'}\n",
      "{'cik_str': 1267395, 'ticker': 'AHL-PC', 'title': 'ASPEN INSURANCE HOLDINGS LTD'}\n",
      "{'cik_str': 3153, 'ticker': 'ALP-PQ', 'title': 'ALABAMA POWER CO'}\n",
      "{'cik_str': 1554625, 'ticker': 'PRIF-PA', 'title': 'Priority Income Fund, Inc.'}\n",
      "{'cik_str': 1575311, 'ticker': 'DTLA-P', 'title': 'Brookfield DTLA Fund Office Trust Investor Inc.'}\n",
      "{'cik_str': 1382298, 'ticker': 'ALIN-PA', 'title': 'Altera Infrastructure L.P.'}\n",
      "{'cik_str': 1403528, 'ticker': 'OAK-PA', 'title': 'Oaktree Capital Group, LLC'}\n",
      "{'cik_str': 1427437, 'ticker': 'ETI-P', 'title': 'ENTERGY TEXAS, INC.'}\n",
      "{'cik_str': 1029831, 'ticker': 'HLM-P', 'title': 'HILLMAN COMPANIES INC'}\n",
      "{'cik_str': 1089113, 'ticker': 'HSBC-PA', 'title': 'HSBC HOLDINGS PLC'}\n",
      "{'cik_str': 891478, 'ticker': 'SAN-PB', 'title': 'Banco Santander, S.A.'}\n",
      "{'cik_str': 19617, 'ticker': 'JPM-PC', 'title': 'JPMORGAN CHASE & CO'}\n",
      "{'cik_str': 19617, 'ticker': 'JPM-PD', 'title': 'JPMORGAN CHASE & CO'}\n",
      "{'cik_str': 70858, 'ticker': 'BML-PL', 'title': 'BANK OF AMERICA CORP /DE/'}\n",
      "{'cik_str': 70858, 'ticker': 'BAC-PE', 'title': 'BANK OF AMERICA CORP /DE/'}\n",
      "{'cik_str': 70858, 'ticker': 'BML-PG', 'title': 'BANK OF AMERICA CORP /DE/'}\n",
      "{'cik_str': 70858, 'ticker': 'BML-PH', 'title': 'BANK OF AMERICA CORP /DE/'}\n",
      "{'cik_str': 70858, 'ticker': 'BML-PJ', 'title': 'BANK OF AMERICA CORP /DE/'}\n",
      "{'cik_str': 70858, 'ticker': 'BAC-PL', 'title': 'BANK OF AMERICA CORP /DE/'}\n",
      "{'cik_str': 70858, 'ticker': 'BAC-PB', 'title': 'BANK OF AMERICA CORP /DE/'}\n",
      "{'cik_str': 70858, 'ticker': 'BAC-PK', 'title': 'BANK OF AMERICA CORP /DE/'}\n",
      "{'cik_str': 70858, 'ticker': 'BAC-PC', 'title': 'BANK OF AMERICA CORP /DE/'}\n",
      "{'cik_str': 72971, 'ticker': 'WFC-PL', 'title': 'WELLS FARGO & COMPANY/MN'}\n",
      "{'cik_str': 72971, 'ticker': 'WFC-PX', 'title': 'WELLS FARGO & COMPANY/MN'}\n",
      "{'cik_str': 72971, 'ticker': 'WFC-PO', 'title': 'WELLS FARGO & COMPANY/MN'}\n",
      "{'cik_str': 72971, 'ticker': 'WFC-PN', 'title': 'WELLS FARGO & COMPANY/MN'}\n",
      "{'cik_str': 72971, 'ticker': 'WFC-PP', 'title': 'WELLS FARGO & COMPANY/MN'}\n",
      "{'cik_str': 72971, 'ticker': 'WFC-PQ', 'title': 'WELLS FARGO & COMPANY/MN'}\n",
      "{'cik_str': 72971, 'ticker': 'WFC-PY', 'title': 'WELLS FARGO & COMPANY/MN'}\n",
      "{'cik_str': 72971, 'ticker': 'WFC-PR', 'title': 'WELLS FARGO & COMPANY/MN'}\n",
      "{'cik_str': 72971, 'ticker': 'WFC-PT', 'title': 'WELLS FARGO & COMPANY/MN'}\n",
      "{'cik_str': 72971, 'ticker': 'WFC-PW', 'title': 'WELLS FARGO & COMPANY/MN'}\n",
      "{'cik_str': 72971, 'ticker': 'WFC-PV', 'title': 'WELLS FARGO & COMPANY/MN'}\n",
      "{'cik_str': 831001, 'ticker': 'C-PJ', 'title': 'CITIGROUP INC'}\n",
      "{'cik_str': 313616, 'ticker': 'DHR-PA', 'title': 'DANAHER CORP /DE/'}\n",
      "{'cik_str': 831001, 'ticker': 'C-PS', 'title': 'CITIGROUP INC'}\n",
      "{'cik_str': 886982, 'ticker': 'GS-PN', 'title': 'GOLDMAN SACHS GROUP INC'}\n",
      "{'cik_str': 36104, 'ticker': 'USB-PH', 'title': 'US BANCORP \\\\DE\\\\'}\n",
      "{'cik_str': 1000275, 'ticker': 'RY-PT', 'title': 'ROYAL BANK OF CANADA'}\n",
      "{'cik_str': 30554, 'ticker': 'CTA-PB', 'title': 'DUPONT E I DE NEMOURS & CO'}\n",
      "{'cik_str': 886982, 'ticker': 'GS-PA', 'title': 'GOLDMAN SACHS GROUP INC'}\n",
      "{'cik_str': 886982, 'ticker': 'GS-PD', 'title': 'GOLDMAN SACHS GROUP INC'}\n",
      "{'cik_str': 895421, 'ticker': 'MS-PA', 'title': 'MORGAN STANLEY'}\n",
      "{'cik_str': 36104, 'ticker': 'USB-PP', 'title': 'US BANCORP \\\\DE\\\\'}\n",
      "{'cik_str': 36104, 'ticker': 'USB-PO', 'title': 'US BANCORP \\\\DE\\\\'}\n",
      "{'cik_str': 36104, 'ticker': 'USB-PM', 'title': 'US BANCORP \\\\DE\\\\'}\n",
      "{'cik_str': 895421, 'ticker': 'MS-PK', 'title': 'MORGAN STANLEY'}\n",
      "{'cik_str': 895421, 'ticker': 'MS-PI', 'title': 'MORGAN STANLEY'}\n",
      "{'cik_str': 886982, 'ticker': 'GS-PK', 'title': 'GOLDMAN SACHS GROUP INC'}\n",
      "{'cik_str': 886982, 'ticker': 'GS-PJ', 'title': 'GOLDMAN SACHS GROUP INC'}\n",
      "{'cik_str': 895421, 'ticker': 'MS-PF', 'title': 'MORGAN STANLEY'}\n",
      "{'cik_str': 895421, 'ticker': 'MS-PE', 'title': 'MORGAN STANLEY'}\n",
      "{'cik_str': 1116578, 'ticker': 'PUK-PA', 'title': 'PRUDENTIAL PLC'}\n",
      "{'cik_str': 1326160, 'ticker': 'DUK-PA', 'title': 'Duke Energy CORP'}\n",
      "{'cik_str': 713676, 'ticker': 'PNC-PQ', 'title': 'PNC FINANCIAL SERVICES GROUP, INC.'}\n",
      "{'cik_str': 1063761, 'ticker': 'SPG-PJ', 'title': 'SIMON PROPERTY GROUP INC /DE/'}\n",
      "{'cik_str': 316709, 'ticker': 'SCHW-PD', 'title': 'SCHWAB CHARLES CORP'}\n",
      "{'cik_str': 316709, 'ticker': 'SCHW-PC', 'title': 'SCHWAB CHARLES CORP'}\n",
      "{'cik_str': 5272, 'ticker': 'AIG-PA', 'title': 'AMERICAN INTERNATIONAL GROUP INC'}\n",
      "{'cik_str': 1099219, 'ticker': 'MET-PA', 'title': 'METLIFE INC'}\n",
      "{'cik_str': 1099219, 'ticker': 'MET-PE', 'title': 'METLIFE INC'}\n",
      "{'cik_str': 1393311, 'ticker': 'PSA-PK', 'title': 'Public Storage'}\n",
      "{'cik_str': 1393311, 'ticker': 'PSA-PH', 'title': 'Public Storage'}\n",
      "{'cik_str': 927628, 'ticker': 'COF-PG', 'title': 'CAPITAL ONE FINANCIAL CORP'}\n",
      "{'cik_str': 927628, 'ticker': 'COF-PH', 'title': 'CAPITAL ONE FINANCIAL CORP'}\n",
      "{'cik_str': 927628, 'ticker': 'COF-PF', 'title': 'CAPITAL ONE FINANCIAL CORP'}\n",
      "{'cik_str': 1390777, 'ticker': 'BK-PC', 'title': 'Bank of New York Mellon Corp'}\n",
      "{'cik_str': 899051, 'ticker': 'ALL-PG', 'title': 'ALLSTATE CORP'}\n",
      "{'cik_str': 899051, 'ticker': 'ALL-PB', 'title': 'ALLSTATE CORP'}\n",
      "{'cik_str': 899051, 'ticker': 'ALL-PH', 'title': 'ALLSTATE CORP'}\n",
      "{'cik_str': 1297996, 'ticker': 'DLR-PK', 'title': 'DIGITAL REALTY TRUST, INC.'}\n",
      "{'cik_str': 1297996, 'ticker': 'DLR-PJ', 'title': 'DIGITAL REALTY TRUST, INC.'}\n",
      "{'cik_str': 1161154, 'ticker': 'ETP-PE', 'title': 'Energy Transfer Operating, L.P.'}\n",
      "{'cik_str': 1297996, 'ticker': 'DLR-PG', 'title': 'DIGITAL REALTY TRUST, INC.'}\n",
      "{'cik_str': 1659166, 'ticker': 'FTV-PA', 'title': 'Fortive Corp'}\n",
      "{'cik_str': 1297996, 'ticker': 'DLR-PI', 'title': 'DIGITAL REALTY TRUST, INC.'}\n",
      "{'cik_str': 1297996, 'ticker': 'DLR-PC', 'title': 'DIGITAL REALTY TRUST, INC.'}\n",
      "{'cik_str': 1161154, 'ticker': 'ETP-PD', 'title': 'Energy Transfer Operating, L.P.'}\n",
      "{'cik_str': 1404912, 'ticker': 'KKR-PA', 'title': 'KKR & Co. Inc.'}\n",
      "{'cik_str': 93751, 'ticker': 'STT-PD', 'title': 'STATE STREET CORP'}\n",
      "{'cik_str': 93751, 'ticker': 'STT-PG', 'title': 'STATE STREET CORP'}\n",
      "{'cik_str': 874766, 'ticker': 'HIG-PG', 'title': 'HARTFORD FINANCIAL SERVICES GROUP, INC.'}\n",
      "{'cik_str': 1404912, 'ticker': 'KKR-PB', 'title': 'KKR & Co. Inc.'}\n",
      "{'cik_str': 1132979, 'ticker': 'FRC-PH', 'title': 'FIRST REPUBLIC BANK'}\n",
      "{'cik_str': 1132979, 'ticker': 'FRC-PI', 'title': 'FIRST REPUBLIC BANK'}\n",
      "{'cik_str': 759944, 'ticker': 'CFG-PD', 'title': 'CITIZENS FINANCIAL GROUP INC/RI'}\n",
      "{'cik_str': 54480, 'ticker': 'KSU-P', 'title': 'KANSAS CITY SOUTHERN'}\n",
      "{'cik_str': 1132979, 'ticker': 'FRC-PG', 'title': 'FIRST REPUBLIC BANK'}\n",
      "{'cik_str': 1132979, 'ticker': 'FRC-PF', 'title': 'FIRST REPUBLIC BANK'}\n",
      "{'cik_str': 1722482, 'ticker': 'AVTR-PA', 'title': 'Avantor, Inc.'}\n",
      "{'cik_str': 899689, 'ticker': 'VNO-PM', 'title': 'VORNADO REALTY TRUST'}\n",
      "{'cik_str': 912595, 'ticker': 'MAA-PI', 'title': 'MID AMERICA APARTMENT COMMUNITIES INC.'}\n",
      "{'cik_str': 899689, 'ticker': 'VNO-PK', 'title': 'VORNADO REALTY TRUST'}\n",
      "{'cik_str': 899689, 'ticker': 'VNO-PL', 'title': 'VORNADO REALTY TRUST'}\n",
      "{'cik_str': 1411494, 'ticker': 'APO-PA', 'title': 'Apollo Global Management, Inc.'}\n",
      "{'cik_str': 1411494, 'ticker': 'APO-PB', 'title': 'Apollo Global Management, Inc.'}\n",
      "{'cik_str': 1043219, 'ticker': 'NLY-PG', 'title': 'ANNALY CAPITAL MANAGEMENT INC'}\n",
      "{'cik_str': 1043219, 'ticker': 'NLY-PD', 'title': 'ANNALY CAPITAL MANAGEMENT INC'}\n",
      "{'cik_str': 1043219, 'ticker': 'NLY-PF', 'title': 'ANNALY CAPITAL MANAGEMENT INC'}\n",
      "{'cik_str': 713676, 'ticker': 'PNC-PP', 'title': 'PNC FINANCIAL SERVICES GROUP, INC.'}\n",
      "{'cik_str': 92103, 'ticker': 'SCE-PD', 'title': 'SOUTHERN CALIFORNIA EDISON Co'}\n",
      "{'cik_str': 11544, 'ticker': 'WRB-PC', 'title': 'BERKLEY W R CORP'}\n",
      "{'cik_str': 1111711, 'ticker': 'NI-PB', 'title': 'NISOURCE INC.'}\n",
      "{'cik_str': 1130310, 'ticker': 'CNP-PB', 'title': 'CENTERPOINT ENERGY INC'}\n",
      "{'cik_str': 92103, 'ticker': 'SCE-PE', 'title': 'SOUTHERN CALIFORNIA EDISON Co'}\n",
      "{'cik_str': 92103, 'ticker': 'SCE-PC', 'title': 'SOUTHERN CALIFORNIA EDISON Co'}\n",
      "{'cik_str': 92103, 'ticker': 'SCE-PB', 'title': 'SOUTHERN CALIFORNIA EDISON Co'}\n",
      "{'cik_str': 34903, 'ticker': 'FRT-PC', 'title': 'FEDERAL REALTY INVESTMENT TRUST'}\n",
      "{'cik_str': 886982, 'ticker': 'GS-PC', 'title': 'GOLDMAN SACHS GROUP INC'}\n",
      "{'cik_str': 1507385, 'ticker': 'VER-PF', 'title': 'VEREIT, Inc.'}\n",
      "{'cik_str': 751364, 'ticker': 'NNN-PF', 'title': 'NATIONAL RETAIL PROPERTIES, INC.'}\n",
      "{'cik_str': 1562401, 'ticker': 'AMH-PH', 'title': 'American Homes 4 Rent'}\n",
      "{'cik_str': 1562401, 'ticker': 'AMH-PF', 'title': 'American Homes 4 Rent'}\n",
      "{'cik_str': 1527469, 'ticker': 'ATH-PA', 'title': 'Athene Holding Ltd'}\n",
      "{'cik_str': 1562401, 'ticker': 'AMH-PG', 'title': 'American Homes 4 Rent'}\n",
      "{'cik_str': 913144, 'ticker': 'RNR-PF', 'title': 'RENAISSANCERE HOLDINGS LTD'}\n",
      "{'cik_str': 1562401, 'ticker': 'AMH-PE', 'title': 'American Homes 4 Rent'}\n",
      "{'cik_str': 1535929, 'ticker': 'VOYA-PB', 'title': 'Voya Financial, Inc.'}\n",
      "{'cik_str': 1562401, 'ticker': 'AMH-PD', 'title': 'American Homes 4 Rent'}\n",
      "{'cik_str': 879101, 'ticker': 'KIM-PM', 'title': 'KIMCO REALTY CORP'}\n",
      "{'cik_str': 879101, 'ticker': 'KIM-PL', 'title': 'KIMCO REALTY CORP'}\n",
      "{'cik_str': 1004980, 'ticker': 'PCG-PA', 'title': 'PG&E Corp'}\n",
      "{'cik_str': 913144, 'ticker': 'RNR-PE', 'title': 'RENAISSANCERE HOLDINGS LTD'}\n",
      "{'cik_str': 1004980, 'ticker': 'PCG-PB', 'title': 'PG&E Corp'}\n",
      "{'cik_str': 1403528, 'ticker': 'OAK-PB', 'title': 'Oaktree Capital Group, LLC'}\n",
      "{'cik_str': 1004980, 'ticker': 'PCG-PC', 'title': 'PG&E Corp'}\n",
      "{'cik_str': 1004980, 'ticker': 'PCG-PD', 'title': 'PG&E Corp'}\n",
      "{'cik_str': 1004980, 'ticker': 'PCG-PE', 'title': 'PG&E Corp'}\n",
      "{'cik_str': 1004980, 'ticker': 'PCG-PG', 'title': 'PG&E Corp'}\n",
      "{'cik_str': 1004980, 'ticker': 'PCG-PH', 'title': 'PG&E Corp'}\n",
      "{'cik_str': 866368, 'ticker': 'PSB-PY', 'title': 'PS BUSINESS PARKS INC/CA'}\n",
      "{'cik_str': 866368, 'ticker': 'PSB-PW', 'title': 'PS BUSINESS PARKS INC/CA'}\n",
      "{'cik_str': 1004980, 'ticker': 'PCG-PI', 'title': 'PG&E Corp'}\n",
      "{'cik_str': 866368, 'ticker': 'PSB-PX', 'title': 'PS BUSINESS PARKS INC/CA'}\n",
      "{'cik_str': 1338065, 'ticker': 'DCP-PC', 'title': 'DCP Midstream, LP'}\n",
      "{'cik_str': 1176948, 'ticker': 'ARES-PA', 'title': 'Ares Management Corp'}\n",
      "{'cik_str': 794685, 'ticker': 'GAB-PG', 'title': 'GABELLI EQUITY TRUST INC'}\n",
      "{'cik_str': 1295810, 'ticker': 'SHO-PE', 'title': 'Sunstone Hotel Investors, Inc.'}\n",
      "{'cik_str': 18349, 'ticker': 'SNV-PD', 'title': 'SYNOVUS FINANCIAL CORP'}\n",
      "{'cik_str': 1295810, 'ticker': 'SHO-PF', 'title': 'Sunstone Hotel Investors, Inc.'}\n",
      "{'cik_str': 1214816, 'ticker': 'AXS-PE', 'title': 'AXIS CAPITAL HOLDINGS LTD'}\n",
      "{'cik_str': 910073, 'ticker': 'NYCB-PA', 'title': 'NEW YORK COMMUNITY BANCORP INC'}\n",
      "{'cik_str': 1126956, 'ticker': 'SR-PA', 'title': 'SPIRE INC'}\n",
      "{'cik_str': 36966, 'ticker': 'FHN-PA', 'title': 'FIRST HORIZON CORP'}\n",
      "{'cik_str': 803649, 'ticker': 'EQC-PD', 'title': 'Equity Commonwealth'}\n",
      "{'cik_str': 1487712, 'ticker': 'AL-PA', 'title': 'AIR LEASE CORP'}\n",
      "{'cik_str': 1571283, 'ticker': 'REXR-PB', 'title': 'Rexford Industrial Realty, Inc.'}\n",
      "{'cik_str': 1571283, 'ticker': 'REXR-PA', 'title': 'Rexford Industrial Realty, Inc.'}\n",
      "{'cik_str': 78814, 'ticker': 'PBI-PB', 'title': 'PITNEY BOWES INC /DE/'}\n",
      "{'cik_str': 720672, 'ticker': 'SF-PB', 'title': 'STIFEL FINANCIAL CORP'}\n",
      "{'cik_str': 1070154, 'ticker': 'STL-PA', 'title': 'STERLING BANCORP'}\n",
      "{'cik_str': 7789, 'ticker': 'ASB-PC', 'title': 'ASSOCIATED BANC-CORP'}\n",
      "{'cik_str': 37808, 'ticker': 'FNB-PE', 'title': 'FNB CORP/PA/'}\n",
      "{'cik_str': 890319, 'ticker': 'TCO-PJ', 'title': 'TAUBMAN CENTERS INC'}\n",
      "{'cik_str': 890319, 'ticker': 'TCO-PK', 'title': 'TAUBMAN CENTERS INC'}\n",
      "{'cik_str': 1479094, 'ticker': 'STAG-PC', 'title': 'STAG Industrial, Inc.'}\n",
      "{'cik_str': 1577368, 'ticker': 'QTS-PB', 'title': 'QTS Realty Trust, Inc.'}\n",
      "{'cik_str': 7789, 'ticker': 'ASB-PE', 'title': 'ASSOCIATED BANC-CORP'}\n",
      "{'cik_str': 7789, 'ticker': 'ASB-PD', 'title': 'ASSOCIATED BANC-CORP'}\n",
      "{'cik_str': 1474098, 'ticker': 'PEB-PE', 'title': 'Pebblebrook Hotel Trust'}\n",
      "{'cik_str': 1474098, 'ticker': 'PEB-PC', 'title': 'Pebblebrook Hotel Trust'}\n",
      "{'cik_str': 1474098, 'ticker': 'PEB-PF', 'title': 'Pebblebrook Hotel Trust'}\n",
      "{'cik_str': 1465740, 'ticker': 'TWO-PC', 'title': 'TWO HARBORS INVESTMENT CORP.'}\n",
      "{'cik_str': 1465740, 'ticker': 'TWO-PE', 'title': 'TWO HARBORS INVESTMENT CORP.'}\n",
      "{'cik_str': 1465740, 'ticker': 'TWO-PD', 'title': 'TWO HARBORS INVESTMENT CORP.'}\n",
      "{'cik_str': 11544, 'ticker': 'WRB-PE', 'title': 'BERKLEY W R CORP'}\n",
      "{'cik_str': 1474098, 'ticker': 'PEB-PD', 'title': 'Pebblebrook Hotel Trust'}\n",
      "{'cik_str': 1465740, 'ticker': 'TWO-PA', 'title': 'TWO HARBORS INVESTMENT CORP.'}\n",
      "{'cik_str': 1465740, 'ticker': 'TWO-PB', 'title': 'TWO HARBORS INVESTMENT CORP.'}\n",
      "{'cik_str': 11544, 'ticker': 'WRB-PD', 'title': 'BERKLEY W R CORP'}\n",
      "{'cik_str': 11544, 'ticker': 'WRB-PB', 'title': 'BERKLEY W R CORP'}\n",
      "{'cik_str': 1577368, 'ticker': 'QTS-PA', 'title': 'QTS Realty Trust, Inc.'}\n",
      "{'cik_str': 1632790, 'ticker': 'ENR-PA', 'title': 'ENERGIZER HOLDINGS, INC.'}\n",
      "{'cik_str': 1618563, 'ticker': 'NSA-PA', 'title': 'National Storage Affiliates Trust'}\n",
      "{'cik_str': 911421, 'ticker': 'PRE-PH', 'title': 'PARTNERRE LTD'}\n",
      "{'cik_str': 911421, 'ticker': 'PRE-PG', 'title': 'PARTNERRE LTD'}\n",
      "{'cik_str': 911421, 'ticker': 'PRE-PI', 'title': 'PARTNERRE LTD'}\n",
      "{'cik_str': 911421, 'ticker': 'PRE-PF', 'title': 'PARTNERRE LTD'}\n",
      "{'cik_str': 910108, 'ticker': 'LXP-PC', 'title': 'LEXINGTON REALTY TRUST'}\n",
      "{'cik_str': 1660734, 'ticker': 'TRTN-PA', 'title': 'Triton International Ltd'}\n",
      "{'cik_str': 894315, 'ticker': 'SITC-PA', 'title': 'SITE Centers Corp.'}\n",
      "{'cik_str': 894315, 'ticker': 'SITC-PK', 'title': 'SITE Centers Corp.'}\n",
      "{'cik_str': 1260729, 'ticker': 'GDV-PG', 'title': 'GABELLI DIVIDEND & INCOME TRUST'}\n",
      "{'cik_str': 1260729, 'ticker': 'GDV-PA', 'title': 'GABELLI DIVIDEND & INCOME TRUST'}\n",
      "{'cik_str': 1308106, 'ticker': 'TGP-PA', 'title': 'Teekay LNG Partners L.P.'}\n",
      "{'cik_str': 1437071, 'ticker': 'IVR-PA', 'title': 'Invesco Mortgage Capital Inc.'}\n",
      "{'cik_str': 1260729, 'ticker': 'GDV-PH', 'title': 'GABELLI DIVIDEND & INCOME TRUST'}\n",
      "{'cik_str': 1437071, 'ticker': 'IVR-PC', 'title': 'Invesco Mortgage Capital Inc.'}\n",
      "{'cik_str': 1437071, 'ticker': 'IVR-PB', 'title': 'Invesco Mortgage Capital Inc.'}\n",
      "{'cik_str': 1526113, 'ticker': 'GNL-PA', 'title': 'Global Net Lease, Inc.'}\n",
      "{'cik_str': 907254, 'ticker': 'BFS-PD', 'title': 'SAUL CENTERS, INC.'}\n",
      "{'cik_str': 720672, 'ticker': 'SF-PA', 'title': 'STIFEL FINANCIAL CORP'}\n",
      "{'cik_str': 794685, 'ticker': 'GAB-PH', 'title': 'GABELLI EQUITY TRUST INC'}\n",
      "{'cik_str': 1464423, 'ticker': 'PMT-PB', 'title': 'PennyMac Mortgage Investment Trust'}\n",
      "{'cik_str': 794685, 'ticker': 'GAB-PJ', 'title': 'GABELLI EQUITY TRUST INC'}\n",
      "{'cik_str': 1267395, 'ticker': 'AHL-PD', 'title': 'ASPEN INSURANCE HOLDINGS LTD'}\n",
      "{'cik_str': 1464423, 'ticker': 'PMT-PA', 'title': 'PennyMac Mortgage Investment Trust'}\n",
      "{'cik_str': 1253986, 'ticker': 'ABR-PC', 'title': 'ARBOR REALTY TRUST INC'}\n",
      "{'cik_str': 1253986, 'ticker': 'ABR-PA', 'title': 'ARBOR REALTY TRUST INC'}\n",
      "{'cik_str': 1253986, 'ticker': 'ABR-PB', 'title': 'ARBOR REALTY TRUST INC'}\n",
      "{'cik_str': 67625, 'ticker': 'MNR-PC', 'title': 'MONMOUTH REAL ESTATE INVESTMENT CORP'}\n",
      "{'cik_str': 1534126, 'ticker': 'GLOG-PA', 'title': 'GasLog Ltd.'}\n",
      "{'cik_str': 1345126, 'ticker': 'CODI-PA', 'title': 'Compass Diversified Holdings'}\n",
      "{'cik_str': 1345126, 'ticker': 'CODI-PB', 'title': 'Compass Diversified Holdings'}\n",
      "{'cik_str': 1677576, 'ticker': 'IIPR-PA', 'title': 'INNOVATIVE INDUSTRIAL PROPERTIES INC'}\n",
      "{'cik_str': 1030469, 'ticker': 'OFG-PA', 'title': 'OFG BANCORP'}\n",
      "{'cik_str': 1308106, 'ticker': 'TGP-PB', 'title': 'Teekay LNG Partners L.P.'}\n",
      "{'cik_str': 1030469, 'ticker': 'OFG-PD', 'title': 'OFG BANCORP'}\n",
      "{'cik_str': 719413, 'ticker': 'HL-PB', 'title': 'HECLA MINING CO/DE/'}\n",
      "{'cik_str': 1504461, 'ticker': 'NGL-PC', 'title': 'NGL Energy Partners LP'}\n",
      "{'cik_str': 40417, 'ticker': 'GAM-PB', 'title': 'GENERAL AMERICAN INVESTORS CO INC'}\n",
      "{'cik_str': 1504461, 'ticker': 'NGL-PB', 'title': 'NGL Energy Partners LP'}\n",
      "{'cik_str': 798359, 'ticker': 'IRET-PC', 'title': 'INVESTORS REAL ESTATE TRUST'}\n",
      "{'cik_str': 845877, 'ticker': 'AGM-PD', 'title': 'FEDERAL AGRICULTURAL MORTGAGE CORP'}\n",
      "{'cik_str': 1598655, 'ticker': 'GLOP-PA', 'title': 'GasLog Partners LP'}\n",
      "{'cik_str': 845877, 'ticker': 'AGM-PC', 'title': 'FEDERAL AGRICULTURAL MORTGAGE CORP'}\n",
      "{'cik_str': 1679049, 'ticker': 'INSW-PA', 'title': 'International Seaways, Inc.'}\n",
      "{'cik_str': 845877, 'ticker': 'AGM-PA', 'title': 'FEDERAL AGRICULTURAL MORTGAGE CORP'}\n",
      "{'cik_str': 1598655, 'ticker': 'GLOP-PB', 'title': 'GasLog Partners LP'}\n",
      "{'cik_str': 1598655, 'ticker': 'GLOP-PC', 'title': 'GasLog Partners LP'}\n",
      "{'cik_str': 1313510, 'ticker': 'GGN-PB', 'title': 'GAMCO Global Gold, Natural Resources & Income Trust'}\n",
      "{'cik_str': 1503584, 'ticker': 'CMRE-PB', 'title': 'Costamare Inc.'}\n",
      "{'cik_str': 921671, 'ticker': 'GGT-PE', 'title': 'GABELLI MULTIMEDIA TRUST INC.'}\n",
      "{'cik_str': 1503584, 'ticker': 'CMRE-PC', 'title': 'Costamare Inc.'}\n",
      "{'cik_str': 1488813, 'ticker': 'CUBI-PC', 'title': 'Customers Bancorp, Inc.'}\n",
      "{'cik_str': 1488813, 'ticker': 'CUBI-PF', 'title': 'Customers Bancorp, Inc.'}\n",
      "{'cik_str': 1488813, 'ticker': 'CUBI-PD', 'title': 'Customers Bancorp, Inc.'}\n",
      "{'cik_str': 1503584, 'ticker': 'CMRE-PD', 'title': 'Costamare Inc.'}\n",
      "{'cik_str': 1488813, 'ticker': 'CUBI-PE', 'title': 'Customers Bancorp, Inc.'}\n",
      "{'cik_str': 1503584, 'ticker': 'CMRE-PE', 'title': 'Costamare Inc.'}\n",
      "{'cik_str': 1603016, 'ticker': 'HMLP-PA', 'title': 'Hoegh LNG Partners LP'}\n",
      "{'cik_str': 1323468, 'ticker': 'GLP-PA', 'title': 'GLOBAL PARTNERS LP'}\n",
      "{'cik_str': 1214935, 'ticker': 'NCV-PA', 'title': 'AllianzGI Convertible & Income Fund'}\n",
      "{'cik_str': 752642, 'ticker': 'UMH-PD', 'title': 'UMH PROPERTIES, INC.'}\n",
      "{'cik_str': 752642, 'ticker': 'UMH-PC', 'title': 'UMH PROPERTIES, INC.'}\n",
      "{'cik_str': 752642, 'ticker': 'UMH-PB', 'title': 'UMH PROPERTIES, INC.'}\n",
      "{'cik_str': 1622353, 'ticker': 'JCAP-PB', 'title': 'Jernigan Capital, Inc.'}\n",
      "{'cik_str': 1533615, 'ticker': 'GMRE-PA', 'title': 'Global Medical REIT Inc.'}\n",
      "{'cik_str': 1227857, 'ticker': 'NCZ-PA', 'title': 'AllianzGI Convertible & Income Fund II'}\n",
      "{'cik_str': 1080720, 'ticker': 'GUT-PA', 'title': 'GABELLI UTILITY TRUST'}\n",
      "{'cik_str': 1080720, 'ticker': 'GUT-PC', 'title': 'GABELLI UTILITY TRUST'}\n",
      "{'cik_str': 1452857, 'ticker': 'SPLP-PA', 'title': 'STEEL PARTNERS HOLDINGS L.P.'}\n",
      "{'cik_str': 1574085, 'ticker': 'BHR-PB', 'title': 'Braemar Hotels & Resorts Inc.'}\n",
      "{'cik_str': 1332551, 'ticker': 'XAN-PC', 'title': 'Exantas Capital Corp.'}\n",
      "{'cik_str': 1166663, 'ticker': 'TNP-PD', 'title': 'TSAKOS ENERGY NAVIGATION LTD'}\n",
      "{'cik_str': 77281, 'ticker': 'PEI-PD', 'title': 'PENNSYLVANIA REAL ESTATE INVESTMENT TRUST'}\n",
      "{'cik_str': 1166663, 'ticker': 'TNP-PF', 'title': 'TSAKOS ENERGY NAVIGATION LTD'}\n",
      "{'cik_str': 1166663, 'ticker': 'TNP-PE', 'title': 'TSAKOS ENERGY NAVIGATION LTD'}\n",
      "{'cik_str': 77281, 'ticker': 'PEI-PB', 'title': 'PENNSYLVANIA REAL ESTATE INVESTMENT TRUST'}\n",
      "{'cik_str': 1574085, 'ticker': 'BHR-PD', 'title': 'Braemar Hotels & Resorts Inc.'}\n",
      "{'cik_str': 1166663, 'ticker': 'TNP-PC', 'title': 'TSAKOS ENERGY NAVIGATION LTD'}\n",
      "{'cik_str': 77281, 'ticker': 'PEI-PC', 'title': 'PENNSYLVANIA REAL ESTATE INVESTMENT TRUST'}\n",
      "{'cik_str': 1232582, 'ticker': 'AHT-PG', 'title': 'ASHFORD HOSPITALITY TRUST INC'}\n",
      "{'cik_str': 1232582, 'ticker': 'AHT-PF', 'title': 'ASHFORD HOSPITALITY TRUST INC'}\n",
      "{'cik_str': 1232582, 'ticker': 'AHT-PI', 'title': 'ASHFORD HOSPITALITY TRUST INC'}\n",
      "{'cik_str': 1232582, 'ticker': 'AHT-PD', 'title': 'ASHFORD HOSPITALITY TRUST INC'}\n",
      "{'cik_str': 1232582, 'ticker': 'AHT-PH', 'title': 'ASHFORD HOSPITALITY TRUST INC'}\n",
      "{'cik_str': 761648, 'ticker': 'CDR-PC', 'title': 'CEDAR REALTY TRUST, INC.'}\n",
      "{'cik_str': 1209028, 'ticker': 'AI-PC', 'title': 'Arlington Asset Investment Corp.'}\n",
      "{'cik_str': 761648, 'ticker': 'CDR-PB', 'title': 'CEDAR REALTY TRUST, INC.'}\n",
      "{'cik_str': 1209028, 'ticker': 'AI-PB', 'title': 'Arlington Asset Investment Corp.'}\n",
      "{'cik_str': 895126, 'ticker': 'CHK-PD', 'title': 'CHESAPEAKE ENERGY CORP'}\n",
      "{'cik_str': 1434754, 'ticker': 'SB-PC', 'title': 'SAFE BULKERS, INC.'}\n",
      "{'cik_str': 1578453, 'ticker': 'DLNG-PA', 'title': 'Dynagas LNG Partners LP'}\n",
      "{'cik_str': 1434754, 'ticker': 'SB-PD', 'title': 'SAFE BULKERS, INC.'}\n",
      "{'cik_str': 793040, 'ticker': 'ECF-PA', 'title': 'ELLSWORTH GROWTH & INCOME FUND LTD'}\n",
      "{'cik_str': 1412100, 'ticker': 'MH-PC', 'title': 'Maiden Holdings, Ltd.'}\n",
      "{'cik_str': 1412100, 'ticker': 'MH-PD', 'title': 'Maiden Holdings, Ltd.'}\n",
      "{'cik_str': 1412100, 'ticker': 'MH-PA', 'title': 'Maiden Holdings, Ltd.'}\n",
      "{'cik_str': 9521, 'ticker': 'BCV-PA', 'title': 'BANCROFT FUND LTD'}\n",
      "{'cik_str': 1302362, 'ticker': 'MTL-P', 'title': 'Mechel PAO'}\n",
      "{'cik_str': 1282957, 'ticker': 'GLU-PB', 'title': 'GABELLI GLOBAL UTILITY & INCOME TRUST'}\n",
      "{'cik_str': 1430725, 'ticker': 'GSL-PB', 'title': 'Global Ship Lease, Inc.'}\n",
      "{'cik_str': 1538789, 'ticker': 'JE-PA', 'title': 'Just Energy Group Inc.'}\n",
      "{'cik_str': 1578453, 'ticker': 'DLNG-PB', 'title': 'Dynagas LNG Partners LP'}\n",
      "{'cik_str': 1333172, 'ticker': 'NM-PG', 'title': 'Navios Maritime Holdings Inc.'}\n",
      "{'cik_str': 1333172, 'ticker': 'NM-PH', 'title': 'Navios Maritime Holdings Inc.'}\n",
      "{'cik_str': 910612, 'ticker': 'CBL-PD', 'title': 'CBL & ASSOCIATES PROPERTIES INC'}\n",
      "{'cik_str': 910612, 'ticker': 'CBL-PE', 'title': 'CBL & ASSOCIATES PROPERTIES INC'}\n",
      "{'cik_str': 1004724, 'ticker': 'RHE-PA', 'title': 'REGIONAL HEALTH PROPERTIES, INC'}\n",
      "{'cik_str': 842183, 'ticker': 'RPT-PD', 'title': 'RPT Realty'}\n",
      "{'cik_str': 1786248, 'ticker': 'NREF-PA', 'title': 'NexPoint Real Estate Finance, Inc.'}\n",
      "{'cik_str': 1759824, 'ticker': 'ALTG-PA', 'title': 'ALTA EQUIPMENT GROUP INC.'}\n",
      "{'cik_str': 1794846, 'ticker': 'ATCO-PD', 'title': 'Atlas Corp.'}\n",
      "{'cik_str': 1794846, 'ticker': 'ATCO-PE', 'title': 'Atlas Corp.'}\n",
      "{'cik_str': 1794846, 'ticker': 'ATCO-PG', 'title': 'Atlas Corp.'}\n",
      "{'cik_str': 1794846, 'ticker': 'ATCO-PH', 'title': 'Atlas Corp.'}\n",
      "{'cik_str': 1794846, 'ticker': 'ATCO-PI', 'title': 'Atlas Corp.'}\n",
      "{'cik_str': 910073, 'ticker': 'NYCB-PU', 'title': 'NEW YORK COMMUNITY BANCORP INC'}\n",
      "{'cik_str': 929008, 'ticker': 'WCC-PA', 'title': 'WESCO INTERNATIONAL INC'}\n",
      "{'cik_str': 927628, 'ticker': 'COF-PI', 'title': 'CAPITAL ONE FINANCIAL CORP'}\n",
      "{'cik_str': 927628, 'ticker': 'COF-PJ', 'title': 'CAPITAL ONE FINANCIAL CORP'}\n",
      "{'cik_str': 927628, 'ticker': 'COF-PK', 'title': 'CAPITAL ONE FINANCIAL CORP'}\n",
      "{'cik_str': 921671, 'ticker': 'GGT-PG', 'title': 'GABELLI MULTIMEDIA TRUST INC.'}\n",
      "{'cik_str': 1051470, 'ticker': 'CCI-PA', 'title': 'CROWN CASTLE INTERNATIONAL CORP'}\n",
      "{'cik_str': 1043219, 'ticker': 'NLY-PI', 'title': 'ANNALY CAPITAL MANAGEMENT INC'}\n",
      "{'cik_str': 1039828, 'ticker': 'AEL-PA', 'title': 'AMERICAN EQUITY INVESTMENT LIFE HOLDING CO'}\n",
      "{'cik_str': 1039828, 'ticker': 'AEL-PB', 'title': 'AMERICAN EQUITY INVESTMENT LIFE HOLDING CO'}\n",
      "{'cik_str': 1030469, 'ticker': 'OFG-PB', 'title': 'OFG BANCORP'}\n",
      "{'cik_str': 1099219, 'ticker': 'MET-PF', 'title': 'METLIFE INC'}\n",
      "{'cik_str': 1091748, 'ticker': 'ARGO-PA', 'title': 'Argo Group International Holdings, Ltd.'}\n",
      "{'cik_str': 1136352, 'ticker': 'CEQP-P', 'title': 'Crestwood Equity Partners LP'}\n",
      "{'cik_str': 1132979, 'ticker': 'FRC-PK', 'title': 'FIRST REPUBLIC BANK'}\n",
      "{'cik_str': 1132979, 'ticker': 'FRC-PJ', 'title': 'FIRST REPUBLIC BANK'}\n",
      "{'cik_str': 1171825, 'ticker': 'CIT-PB', 'title': 'CIT GROUP INC'}\n",
      "{'cik_str': 1209028, 'ticker': 'AAIC-PB', 'title': 'Arlington Asset Investment Corp.'}\n",
      "{'cik_str': 1209028, 'ticker': 'AAIC-PC', 'title': 'Arlington Asset Investment Corp.'}\n",
      "{'cik_str': 1224608, 'ticker': 'CNO-PA', 'title': 'CNO Financial Group, Inc.'}\n",
      "{'cik_str': 1267395, 'ticker': 'AHL-PE', 'title': 'ASPEN INSURANCE HOLDINGS LTD'}\n",
      "{'cik_str': 1282957, 'ticker': 'GLU-PA', 'title': 'GABELLI GLOBAL UTILITY & INCOME TRUST'}\n",
      "{'cik_str': 14930, 'ticker': 'BC-PA', 'title': 'BRUNSWICK CORP'}\n",
      "{'cik_str': 14930, 'ticker': 'BC-PB', 'title': 'BRUNSWICK CORP'}\n",
      "{'cik_str': 14930, 'ticker': 'BC-PC', 'title': 'BRUNSWICK CORP'}\n",
      "{'cik_str': 11544, 'ticker': 'WRB-PF', 'title': 'BERKLEY W R CORP'}\n",
      "{'cik_str': 11544, 'ticker': 'WRB-PG', 'title': 'BERKLEY W R CORP'}\n",
      "{'cik_str': 7789, 'ticker': 'ASB-PF', 'title': 'ASSOCIATED BANC-CORP'}\n",
      "{'cik_str': 4904, 'ticker': 'AEP-PB', 'title': 'AMERICAN ELECTRIC POWER CO INC'}\n",
      "{'cik_str': 4904, 'ticker': 'AEP-PC', 'title': 'AMERICAN ELECTRIC POWER CO INC'}\n",
      "{'cik_str': 36966, 'ticker': 'FHN-PB', 'title': 'FIRST HORIZON CORP'}\n",
      "{'cik_str': 36966, 'ticker': 'FHN-PC', 'title': 'FIRST HORIZON CORP'}\n",
      "{'cik_str': 36966, 'ticker': 'FHN-PD', 'title': 'FIRST HORIZON CORP'}\n",
      "{'cik_str': 36966, 'ticker': 'FHN-PE', 'title': 'FIRST HORIZON CORP'}\n",
      "{'cik_str': 37996, 'ticker': 'F-PB', 'title': 'FORD MOTOR CO'}\n",
      "{'cik_str': 37996, 'ticker': 'F-PC', 'title': 'FORD MOTOR CO'}\n",
      "{'cik_str': 36104, 'ticker': 'USB-PQ', 'title': 'US BANCORP \\\\DE\\\\'}\n",
      "{'cik_str': 36104, 'ticker': 'USB-PA', 'title': 'US BANCORP \\\\DE\\\\'}\n",
      "{'cik_str': 19617, 'ticker': 'JPM-PJ', 'title': 'JPMORGAN CHASE & CO'}\n",
      "{'cik_str': 19617, 'ticker': 'JPM-PG', 'title': 'JPMORGAN CHASE & CO'}\n",
      "{'cik_str': 19617, 'ticker': 'JPM-PH', 'title': 'JPMORGAN CHASE & CO'}\n",
      "{'cik_str': 70858, 'ticker': 'BAC-PM', 'title': 'BANK OF AMERICA CORP /DE/'}\n",
      "{'cik_str': 70858, 'ticker': 'BAC-PN', 'title': 'BANK OF AMERICA CORP /DE/'}\n",
      "{'cik_str': 70858, 'ticker': 'MER-PK', 'title': 'BANK OF AMERICA CORP /DE/'}\n",
      "{'cik_str': 70858, 'ticker': 'BAC-PO', 'title': 'BANK OF AMERICA CORP /DE/'}\n",
      "{'cik_str': 70858, 'ticker': 'BAC-PA', 'title': 'BANK OF AMERICA CORP /DE/'}\n",
      "{'cik_str': 72971, 'ticker': 'WFC-PZ', 'title': 'WELLS FARGO & COMPANY/MN'}\n",
      "{'cik_str': 72971, 'ticker': 'WFC-PA', 'title': 'WELLS FARGO & COMPANY/MN'}\n",
      "{'cik_str': 40729, 'ticker': 'ALLY-PA', 'title': 'Ally Financial Inc.'}\n",
      "{'cik_str': 39263, 'ticker': 'CFR-PB', 'title': 'CULLEN/FROST BANKERS, INC.'}\n",
      "{'cik_str': 720672, 'ticker': 'SF-PC', 'title': 'STIFEL FINANCIAL CORP'}\n",
      "{'cik_str': 313616, 'ticker': 'DHR-PB', 'title': 'DANAHER CORP /DE/'}\n",
      "{'cik_str': 92103, 'ticker': 'SCE-PL', 'title': 'SOUTHERN CALIFORNIA EDISON Co'}\n",
      "{'cik_str': 92103, 'ticker': 'SCE-PG', 'title': 'SOUTHERN CALIFORNIA EDISON Co'}\n",
      "{'cik_str': 92103, 'ticker': 'SCE-PH', 'title': 'SOUTHERN CALIFORNIA EDISON Co'}\n",
      "{'cik_str': 92103, 'ticker': 'SCE-PJ', 'title': 'SOUTHERN CALIFORNIA EDISON Co'}\n",
      "{'cik_str': 92103, 'ticker': 'SCE-PK', 'title': 'SOUTHERN CALIFORNIA EDISON Co'}\n",
      "{'cik_str': 92230, 'ticker': 'TFC-PF', 'title': 'TRUIST FINANCIAL CORP'}\n",
      "{'cik_str': 92230, 'ticker': 'TFC-PG', 'title': 'TRUIST FINANCIAL CORP'}\n",
      "{'cik_str': 92230, 'ticker': 'TFC-PH', 'title': 'TRUIST FINANCIAL CORP'}\n",
      "{'cik_str': 92230, 'ticker': 'TFC-PI', 'title': 'TRUIST FINANCIAL CORP'}\n",
      "{'cik_str': 92230, 'ticker': 'TFC-PO', 'title': 'TRUIST FINANCIAL CORP'}\n",
      "{'cik_str': 92230, 'ticker': 'TFC-PR', 'title': 'TRUIST FINANCIAL CORP'}\n",
      "{'cik_str': 845877, 'ticker': 'AGM-PE', 'title': 'FEDERAL AGRICULTURAL MORTGAGE CORP'}\n",
      "{'cik_str': 845877, 'ticker': 'AGM-PF', 'title': 'FEDERAL AGRICULTURAL MORTGAGE CORP'}\n",
      "{'cik_str': 866368, 'ticker': 'PSB-PZ', 'title': 'PS BUSINESS PARKS INC/CA'}\n",
      "{'cik_str': 907254, 'ticker': 'BFS-PE', 'title': 'SAUL CENTERS, INC.'}\n",
      "{'cik_str': 899689, 'ticker': 'VNO-PN', 'title': 'VORNADO REALTY TRUST'}\n",
      "{'cik_str': 899051, 'ticker': 'ALL-PI', 'title': 'ALLSTATE CORP'}\n",
      "{'cik_str': 895421, 'ticker': 'MS-PL', 'title': 'MORGAN STANLEY'}\n",
      "{'cik_str': 885725, 'ticker': 'BSX-PA', 'title': 'BOSTON SCIENTIFIC CORP'}\n",
      "{'cik_str': 732717, 'ticker': 'T-PA', 'title': 'AT&T INC.'}\n",
      "{'cik_str': 732717, 'ticker': 'T-PC', 'title': 'AT&T INC.'}\n",
      "{'cik_str': 753308, 'ticker': 'NEE-PO', 'title': 'NEXTERA ENERGY INC'}\n",
      "{'cik_str': 753308, 'ticker': 'NEE-PP', 'title': 'NEXTERA ENERGY INC'}\n",
      "{'cik_str': 753308, 'ticker': 'NEE-PQ', 'title': 'NEXTERA ENERGY INC'}\n",
      "{'cik_str': 759944, 'ticker': 'CFG-PE', 'title': 'CITIZENS FINANCIAL GROUP INC/RI'}\n",
      "{'cik_str': 794685, 'ticker': 'GAB-PK', 'title': 'GABELLI EQUITY TRUST INC'}\n",
      "{'cik_str': 798359, 'ticker': 'CSR-PC', 'title': 'INVESTORS REAL ESTATE TRUST'}\n",
      "{'cik_str': 831001, 'ticker': 'C-PK', 'title': 'CITIGROUP INC'}\n",
      "{'cik_str': 831001, 'ticker': 'C-PN', 'title': 'CITIGROUP INC'}\n",
      "{'cik_str': 808450, 'ticker': 'NAV-PD', 'title': 'NAVISTAR INTERNATIONAL CORP'}\n",
      "{'cik_str': 1660734, 'ticker': 'TRTN-PB', 'title': 'Triton International Ltd'}\n",
      "{'cik_str': 1660734, 'ticker': 'TRTN-PC', 'title': 'Triton International Ltd'}\n",
      "{'cik_str': 1660734, 'ticker': 'TRTN-PD', 'title': 'Triton International Ltd'}\n",
      "{'cik_str': 1644903, 'ticker': 'YCBD-PA', 'title': 'cbdMD, Inc.'}\n",
      "{'cik_str': 1678130, 'ticker': 'OPP-PA', 'title': 'RiverNorth/DoubleLine Strategic Opportunity Fund, Inc.'}\n",
      "{'cik_str': 1601712, 'ticker': 'SYF-PA', 'title': 'Synchrony Financial'}\n",
      "{'cik_str': 1635193, 'ticker': 'GGO-PA', 'title': 'Gabelli Go Anywhere Trust'}\n",
      "{'cik_str': 1554625, 'ticker': 'PRIF-PD', 'title': 'Priority Income Fund, Inc.'}\n",
      "{'cik_str': 1554625, 'ticker': 'PRIF-PE', 'title': 'Priority Income Fund, Inc.'}\n",
      "{'cik_str': 1554625, 'ticker': 'PRIF-PF', 'title': 'Priority Income Fund, Inc.'}\n",
      "{'cik_str': 1556593, 'ticker': 'NRZ-PA', 'title': 'New Residential Investment Corp.'}\n",
      "{'cik_str': 1556593, 'ticker': 'NRZ-PB', 'title': 'New Residential Investment Corp.'}\n",
      "{'cik_str': 1556593, 'ticker': 'NRZ-PC', 'title': 'New Residential Investment Corp.'}\n",
      "{'cik_str': 1554625, 'ticker': 'PRIF-PB', 'title': 'Priority Income Fund, Inc.'}\n",
      "{'cik_str': 1554625, 'ticker': 'PRIF-PC', 'title': 'Priority Income Fund, Inc.'}\n",
      "{'cik_str': 1571283, 'ticker': 'REXR-PC', 'title': 'Rexford Industrial Realty, Inc.'}\n",
      "{'cik_str': 1590364, 'ticker': 'FTAI-PA', 'title': 'Fortress Transportation & Infrastructure Investors LLC'}\n",
      "{'cik_str': 1590364, 'ticker': 'FTAI-PB', 'title': 'Fortress Transportation & Infrastructure Investors LLC'}\n",
      "{'cik_str': 1585855, 'ticker': 'GGZ-PA', 'title': 'Gabelli Global Small & Mid Cap Value Trust'}\n",
      "{'cik_str': 1521332, 'ticker': 'APTV-PA', 'title': 'Aptiv PLC'}\n",
      "{'cik_str': 1526113, 'ticker': 'GNL-PB', 'title': 'Global Net Lease, Inc.'}\n",
      "{'cik_str': 1527469, 'ticker': 'ATH-PB', 'title': 'Athene Holding Ltd'}\n",
      "{'cik_str': 1527469, 'ticker': 'ATH-PC', 'title': 'Athene Holding Ltd'}\n",
      "{'cik_str': 1527469, 'ticker': 'ATH-PD', 'title': 'Athene Holding Ltd'}\n",
      "{'cik_str': 1533232, 'ticker': 'BEP-PA', 'title': 'Brookfield Renewable Partners L.P.'}\n",
      "{'cik_str': 1506307, 'ticker': 'EP-PC', 'title': 'KINDER MORGAN, INC.'}\n",
      "{'cik_str': 1428205, 'ticker': 'ARR-PC', 'title': 'Armour Residential REIT, Inc.'}\n",
      "{'cik_str': 1438893, 'ticker': 'GNT-PA', 'title': 'GAMCO Natural Resources, Gold & Income Trust'}\n",
      "{'cik_str': 1393311, 'ticker': 'PSA-PN', 'title': 'Public Storage'}\n",
      "{'cik_str': 1393311, 'ticker': 'PSA-PO', 'title': 'Public Storage'}\n",
      "{'cik_str': 1393311, 'ticker': 'PSA-PW', 'title': 'Public Storage'}\n",
      "{'cik_str': 1393311, 'ticker': 'PSA-PX', 'title': 'Public Storage'}\n",
      "{'cik_str': 1393311, 'ticker': 'PSA-PI', 'title': 'Public Storage'}\n",
      "{'cik_str': 1393311, 'ticker': 'PSA-PJ', 'title': 'Public Storage'}\n",
      "{'cik_str': 1391437, 'ticker': 'GRX-PB', 'title': 'Gabelli Healthcare & WellnessRx Trust'}\n",
      "{'cik_str': 1393311, 'ticker': 'PSA-PL', 'title': 'Public Storage'}\n",
      "{'cik_str': 1393311, 'ticker': 'PSA-PM', 'title': 'Public Storage'}\n",
      "{'cik_str': 1393311, 'ticker': 'PSA-PB', 'title': 'Public Storage'}\n",
      "{'cik_str': 1393311, 'ticker': 'PSA-PC', 'title': 'Public Storage'}\n",
      "{'cik_str': 1393311, 'ticker': 'PSA-PD', 'title': 'Public Storage'}\n",
      "{'cik_str': 1393311, 'ticker': 'PSA-PE', 'title': 'Public Storage'}\n",
      "{'cik_str': 1393311, 'ticker': 'PSA-PF', 'title': 'Public Storage'}\n",
      "{'cik_str': 1393311, 'ticker': 'PSA-PG', 'title': 'Public Storage'}\n",
      "{'cik_str': 1404912, 'ticker': 'KKR-PC', 'title': 'KKR & Co. Inc.'}\n",
      "{'cik_str': 1406234, 'ticker': 'BIP-PA', 'title': 'Brookfield Infrastructure Partners L.P.'}\n",
      "{'cik_str': 1411342, 'ticker': 'EFC-PA', 'title': 'Ellington Financial Inc.'}\n",
      "{'cik_str': 1382298, 'ticker': 'ALIN-PB', 'title': 'Altera Infrastructure L.P.'}\n",
      "{'cik_str': 1382298, 'ticker': 'ALIN-PE', 'title': 'Altera Infrastructure L.P.'}\n",
      "{'cik_str': 1378701, 'ticker': 'GDL-PC', 'title': 'GDL FUND'}\n",
      "{'cik_str': 1298946, 'ticker': 'DRH-PA', 'title': 'DiamondRock Hospitality Co'}\n",
      "{'cik_str': 1297996, 'ticker': 'DLR-PL', 'title': 'DIGITAL REALTY TRUST, INC.'}\n",
      "{'cik_str': 1299939, 'ticker': 'BXS-PA', 'title': 'BancorpSouth Bank'}\n",
      "{'cik_str': 1345126, 'ticker': 'CODI-PC', 'title': 'Compass Diversified Holdings'}\n",
      "{'cik_str': 1333986, 'ticker': 'EQH-PA', 'title': 'Equitable Holdings, Inc.'}\n",
      "{'cik_str': 1338065, 'ticker': 'DCP-PB', 'title': 'DCP Midstream, LP'}\n"
     ]
    }
   ],
   "source": [
    "for v in symbols.values():\n",
    "    if v['ticker'].find('-P') != -1:\n",
    "        print(v)"
   ]
  },
  {
   "cell_type": "code",
   "execution_count": null,
   "metadata": {},
   "outputs": [],
   "source": []
  }
 ],
 "metadata": {
  "kernelspec": {
   "display_name": "Python 3",
   "language": "python",
   "name": "python3"
  },
  "language_info": {
   "codemirror_mode": {
    "name": "ipython",
    "version": 3
   },
   "file_extension": ".py",
   "mimetype": "text/x-python",
   "name": "python",
   "nbconvert_exporter": "python",
   "pygments_lexer": "ipython3",
   "version": "3.7.6"
  }
 },
 "nbformat": 4,
 "nbformat_minor": 4
}
