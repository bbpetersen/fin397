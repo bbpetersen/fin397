{
 "cells": [
  {
   "cell_type": "markdown",
   "id": "employed-performance",
   "metadata": {},
   "source": [
    "## Quiz 7 Answers"
   ]
  },
  {
   "cell_type": "code",
   "execution_count": 1,
   "id": "sound-cylinder",
   "metadata": {},
   "outputs": [],
   "source": [
    "import pandas as pd                                   # Working with tables.\n",
    "\n",
    "from tiingo import TiingoClient                       # Stock prices.\n",
    "import quandl                                         # Economic data, futures prices, ...\n",
    "\n",
    "# API keys:\n",
    "tiingo = TiingoClient({'api_key':'XXXX'})\n",
    "quandl.ApiConfig.api_key = 'YYYY'"
   ]
  },
  {
   "cell_type": "code",
   "execution_count": 2,
   "id": "spare-romantic",
   "metadata": {},
   "outputs": [
    {
     "data": {
      "text/html": [
       "<div>\n",
       "<style scoped>\n",
       "    .dataframe tbody tr th:only-of-type {\n",
       "        vertical-align: middle;\n",
       "    }\n",
       "\n",
       "    .dataframe tbody tr th {\n",
       "        vertical-align: top;\n",
       "    }\n",
       "\n",
       "    .dataframe thead th {\n",
       "        text-align: right;\n",
       "    }\n",
       "</style>\n",
       "<table border=\"1\" class=\"dataframe\">\n",
       "  <thead>\n",
       "    <tr style=\"text-align: right;\">\n",
       "      <th></th>\n",
       "      <th>CVX</th>\n",
       "      <th>COST</th>\n",
       "      <th>MSFT</th>\n",
       "      <th>JNJ</th>\n",
       "    </tr>\n",
       "  </thead>\n",
       "  <tbody>\n",
       "    <tr>\n",
       "      <th>2000-01-03</th>\n",
       "      <td>19.364171</td>\n",
       "      <td>31.352158</td>\n",
       "      <td>37.097350</td>\n",
       "      <td>26.893090</td>\n",
       "    </tr>\n",
       "    <tr>\n",
       "      <th>2000-01-04</th>\n",
       "      <td>19.364171</td>\n",
       "      <td>29.636596</td>\n",
       "      <td>35.843373</td>\n",
       "      <td>25.907098</td>\n",
       "    </tr>\n",
       "    <tr>\n",
       "      <th>2000-01-05</th>\n",
       "      <td>19.783269</td>\n",
       "      <td>30.140344</td>\n",
       "      <td>36.222113</td>\n",
       "      <td>26.309663</td>\n",
       "    </tr>\n",
       "  </tbody>\n",
       "</table>\n",
       "</div>"
      ],
      "text/plain": [
       "                  CVX       COST       MSFT        JNJ\n",
       "2000-01-03  19.364171  31.352158  37.097350  26.893090\n",
       "2000-01-04  19.364171  29.636596  35.843373  25.907098\n",
       "2000-01-05  19.783269  30.140344  36.222113  26.309663"
      ]
     },
     "execution_count": 2,
     "metadata": {},
     "output_type": "execute_result"
    }
   ],
   "source": [
    "PRICE       = tiingo.get_dataframe(['CVX','COST','MSFT','JNJ'],'2000-01-01', metric_name='adjClose')\n",
    "PRICE.index = pd.to_datetime(PRICE.index).tz_convert(None)\n",
    "RET = PRICE.pct_change()\n",
    "PRICE[:3]"
   ]
  },
  {
   "cell_type": "markdown",
   "id": "wooden-kenya",
   "metadata": {},
   "source": [
    "Question 4:"
   ]
  },
  {
   "cell_type": "code",
   "execution_count": 3,
   "id": "utility-correction",
   "metadata": {},
   "outputs": [
    {
     "data": {
      "text/plain": [
       "2000-01-03         NaN\n",
       "2000-01-04    0.972640\n",
       "2000-01-05    0.991496\n",
       "2000-01-06    1.020948\n",
       "2000-01-07    1.062747\n",
       "                ...   \n",
       "2020-12-24    7.976052\n",
       "2020-12-28    8.068240\n",
       "2020-12-29    8.087275\n",
       "2020-12-30    8.133148\n",
       "2020-12-31    8.147822\n",
       "Length: 5284, dtype: float64"
      ]
     },
     "execution_count": 3,
     "metadata": {},
     "output_type": "execute_result"
    }
   ],
   "source": [
    "(0.5 * RET.CVX.add(1).cumprod() + 0.5 * RET.COST.add(1).cumprod())[:'2020']"
   ]
  },
  {
   "cell_type": "markdown",
   "id": "controlling-square",
   "metadata": {},
   "source": [
    "Question 5:"
   ]
  },
  {
   "cell_type": "code",
   "execution_count": 4,
   "id": "disabled-punishment",
   "metadata": {},
   "outputs": [
    {
     "data": {
      "text/plain": [
       "2000-01-03         NaN\n",
       "2000-01-04    0.972640\n",
       "2000-01-05    0.991432\n",
       "2000-01-06    1.020602\n",
       "2000-01-07    1.063366\n",
       "                ...   \n",
       "2020-12-24    9.579737\n",
       "2020-12-28    9.640734\n",
       "2020-12-29    9.645834\n",
       "2020-12-30    9.709261\n",
       "2020-12-31    9.689403\n",
       "Length: 5284, dtype: float64"
      ]
     },
     "execution_count": 4,
     "metadata": {},
     "output_type": "execute_result"
    }
   ],
   "source": [
    "(0.5 * RET.CVX + 0.5 * RET.COST).add(1).cumprod()[:'2020']"
   ]
  },
  {
   "cell_type": "markdown",
   "id": "divine-honduras",
   "metadata": {},
   "source": [
    "Question 6:"
   ]
  },
  {
   "cell_type": "code",
   "execution_count": 5,
   "id": "acknowledged-intake",
   "metadata": {},
   "outputs": [
    {
     "data": {
      "text/html": [
       "<div>\n",
       "<style scoped>\n",
       "    .dataframe tbody tr th:only-of-type {\n",
       "        vertical-align: middle;\n",
       "    }\n",
       "\n",
       "    .dataframe tbody tr th {\n",
       "        vertical-align: top;\n",
       "    }\n",
       "\n",
       "    .dataframe thead th {\n",
       "        text-align: right;\n",
       "    }\n",
       "</style>\n",
       "<table border=\"1\" class=\"dataframe\">\n",
       "  <thead>\n",
       "    <tr style=\"text-align: right;\">\n",
       "      <th></th>\n",
       "      <th>COST</th>\n",
       "      <th>CVX</th>\n",
       "      <th>JNJ</th>\n",
       "      <th>MSFT</th>\n",
       "    </tr>\n",
       "  </thead>\n",
       "  <tbody>\n",
       "    <tr>\n",
       "      <th>2000-03-29</th>\n",
       "      <td>NaN</td>\n",
       "      <td>0.320122</td>\n",
       "      <td>0.154717</td>\n",
       "      <td>0.459806</td>\n",
       "    </tr>\n",
       "    <tr>\n",
       "      <th>2000-03-30</th>\n",
       "      <td>NaN</td>\n",
       "      <td>0.333469</td>\n",
       "      <td>0.154042</td>\n",
       "      <td>0.443420</td>\n",
       "    </tr>\n",
       "    <tr>\n",
       "      <th>2000-03-31</th>\n",
       "      <td>NaN</td>\n",
       "      <td>0.334374</td>\n",
       "      <td>0.152954</td>\n",
       "      <td>0.455774</td>\n",
       "    </tr>\n",
       "  </tbody>\n",
       "</table>\n",
       "</div>"
      ],
      "text/plain": [
       "            COST       CVX       JNJ      MSFT\n",
       "2000-03-29   NaN  0.320122  0.154717  0.459806\n",
       "2000-03-30   NaN  0.333469  0.154042  0.443420\n",
       "2000-03-31   NaN  0.334374  0.152954  0.455774"
      ]
     },
     "execution_count": 5,
     "metadata": {},
     "output_type": "execute_result"
    }
   ],
   "source": [
    "def get_rebalance_dates(frequency):\n",
    "    group = getattr(PRICE.index, frequency) \n",
    "    return PRICE[:1].index.union(PRICE.groupby([PRICE.index.year, group]).tail(1).index)\n",
    "\n",
    "frequency = 'quarter'\n",
    "\n",
    "rebalance_dates = get_rebalance_dates(frequency) \n",
    "\n",
    "\n",
    "weights = pd.Series({'CVX':0.3, 'MSFT':0.5, 'JNJ':0.2})\n",
    "\n",
    "start_date = rebalance_dates[0]\n",
    "end_date   = rebalance_dates[1]\n",
    "\n",
    "portfolio_value = pd.Series(1, index=[rebalance_dates[0]])\n",
    "\n",
    "cum_ret = RET[start_date:end_date][1:].add(1).cumprod()\n",
    "\n",
    "new_positions = portfolio_value.iloc[-1] * weights \n",
    "\n",
    "# Before rebalancing\n",
    "start_to_end_positions = new_positions  * cum_ret\n",
    "start_to_end_positions[-3:]"
   ]
  },
  {
   "cell_type": "markdown",
   "id": "prospective-tracy",
   "metadata": {},
   "source": [
    "Question 7:"
   ]
  },
  {
   "cell_type": "code",
   "execution_count": 6,
   "id": "extraordinary-drove",
   "metadata": {},
   "outputs": [
    {
     "data": {
      "text/plain": [
       "CVX     0.282930\n",
       "MSFT    0.471551\n",
       "JNJ     0.188620\n",
       "dtype: float64"
      ]
     },
     "execution_count": 6,
     "metadata": {},
     "output_type": "execute_result"
    }
   ],
   "source": [
    "# After rebalancing\n",
    "start_to_end_positions.sum('columns').iloc[-1] * weights"
   ]
  },
  {
   "cell_type": "markdown",
   "id": "endangered-questionnaire",
   "metadata": {},
   "source": [
    "Question 8:"
   ]
  },
  {
   "cell_type": "code",
   "execution_count": 7,
   "id": "instant-passage",
   "metadata": {},
   "outputs": [
    {
     "data": {
      "text/plain": [
       "2000-01-03    1.000000\n",
       "2000-01-04    0.975766\n",
       "2000-01-05    0.990358\n",
       "2000-01-06    0.991029\n",
       "2000-01-07    1.011350\n",
       "                ...   \n",
       "2000-09-25    0.772260\n",
       "2000-09-26    0.779545\n",
       "2000-09-27    0.775873\n",
       "2000-09-28    0.772531\n",
       "2000-09-29    0.771469\n",
       "Length: 189, dtype: float64"
      ]
     },
     "execution_count": 7,
     "metadata": {},
     "output_type": "execute_result"
    }
   ],
   "source": [
    "portfolio_value = portfolio_value.append( start_to_end_positions.sum('columns') ) \n",
    "\n",
    "start_date = rebalance_dates[1]\n",
    "end_date   = rebalance_dates[2]\n",
    "\n",
    "cum_ret = RET[start_date:end_date][1:].add(1).cumprod()\n",
    "\n",
    "new_positions = portfolio_value.iloc[-1] * weights   # initial dollar investments\n",
    "\n",
    "start_to_end_positions = new_positions  * cum_ret\n",
    "\n",
    "portfolio_value = portfolio_value.append( start_to_end_positions.sum('columns') ) \n",
    "\n",
    "\n",
    "start_date = rebalance_dates[2]\n",
    "end_date   = rebalance_dates[3]\n",
    "\n",
    "cum_ret = RET[start_date:end_date][1:].add(1).cumprod()\n",
    "\n",
    "new_positions = portfolio_value.iloc[-1] * weights   # initial dollar investments\n",
    "\n",
    "start_to_end_positions = new_positions  * cum_ret\n",
    "\n",
    "portfolio_value = portfolio_value.append( start_to_end_positions.sum('columns') ) \n",
    "portfolio_value"
   ]
  },
  {
   "cell_type": "code",
   "execution_count": 8,
   "id": "local-turkish",
   "metadata": {},
   "outputs": [
    {
     "data": {
      "text/plain": [
       "2000-08-31    0.818583\n",
       "dtype: float64"
      ]
     },
     "execution_count": 8,
     "metadata": {},
     "output_type": "execute_result"
    }
   ],
   "source": [
    "# Value end of August:\n",
    "portfolio_value.loc['2000-8'][-1:]"
   ]
  },
  {
   "cell_type": "markdown",
   "id": "scenic-reference",
   "metadata": {},
   "source": [
    "Question 10:"
   ]
  },
  {
   "cell_type": "code",
   "execution_count": 9,
   "id": "another-perfume",
   "metadata": {},
   "outputs": [
    {
     "data": {
      "text/plain": [
       "2000-12-31    0.341677\n",
       "2001-12-31    0.210833\n",
       "2002-12-31    0.159811\n",
       "2003-12-31    0.154611\n",
       "2004-12-31    0.084633\n",
       "2005-12-31    0.130947\n",
       "2006-12-31    0.111373\n",
       "2007-12-31    0.097075\n",
       "2008-12-31    0.134147\n",
       "2009-12-31    0.109480\n",
       "2010-12-31    0.085626\n",
       "2011-12-31    0.106011\n",
       "2012-12-31    0.105958\n",
       "2013-12-31    0.073154\n",
       "2014-12-31    0.110738\n",
       "2015-12-31    0.121993\n",
       "2016-12-31    0.110745\n",
       "2017-12-31    0.084451\n",
       "2018-12-31    0.096967\n",
       "2019-12-31    0.097872\n",
       "2020-12-31    0.178785\n",
       "2021-12-31         NaN\n",
       "Freq: A-DEC, dtype: float64"
      ]
     },
     "execution_count": 9,
     "metadata": {},
     "output_type": "execute_result"
    }
   ],
   "source": [
    "def run_backtest(frequency):   \n",
    "    rebalance_dates = get_rebalance_dates(frequency)\n",
    "    weights         = pd.Series({'CVX':1/4, 'COST':1/4, 'JNJ':1/4, 'MSFT':1/4})\n",
    "    portfolio_value = pd.Series(1,                        index=[rebalance_dates[0]])    \n",
    "    trades          = pd.DataFrame(columns=weights.index, index=[rebalance_dates[0]])\n",
    "    previous_positions = weights\n",
    "\n",
    "    for i in range(len(rebalance_dates)-1):\n",
    "        start_date = rebalance_dates[i]\n",
    "        end_date   = rebalance_dates[i+1]\n",
    "                \n",
    "        cum_ret = RET[start_date:end_date][1:].add(1).cumprod()\n",
    "        \n",
    "        new_positions          = portfolio_value.iloc[-1] * weights  # dollars invested at start of this period\n",
    "        start_to_end_positions = new_positions  * cum_ret\n",
    "        \n",
    "        portfolio_value = portfolio_value.append(start_to_end_positions.sum('columns'))  \n",
    "                           \n",
    "        trades.loc[start_date] = new_positions - previous_positions\n",
    "        previous_positions     = start_to_end_positions.iloc[-1]\n",
    "\n",
    "    return portfolio_value, trades\n",
    "\n",
    "\n",
    "\n",
    "value, trades = run_backtest('quarter')\n",
    "\n",
    "turnover = trades.abs().sum('columns').div(2)\n",
    "\n",
    "turnover.resample('A').sum().div( value.resample('A').mean() )"
   ]
  },
  {
   "cell_type": "markdown",
   "id": "commercial-executive",
   "metadata": {},
   "source": [
    "&rarr; 8.5% in 2010"
   ]
  },
  {
   "cell_type": "code",
   "execution_count": null,
   "id": "stuffed-engagement",
   "metadata": {},
   "outputs": [],
   "source": []
  }
 ],
 "metadata": {
  "kernelspec": {
   "display_name": "Python 3",
   "language": "python",
   "name": "python3"
  },
  "language_info": {
   "codemirror_mode": {
    "name": "ipython",
    "version": 3
   },
   "file_extension": ".py",
   "mimetype": "text/x-python",
   "name": "python",
   "nbconvert_exporter": "python",
   "pygments_lexer": "ipython3",
   "version": "3.7.9"
  }
 },
 "nbformat": 4,
 "nbformat_minor": 5
}
