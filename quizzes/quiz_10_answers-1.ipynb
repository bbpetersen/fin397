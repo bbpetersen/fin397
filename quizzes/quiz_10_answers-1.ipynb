{
 "cells": [
  {
   "cell_type": "markdown",
   "id": "enclosed-stamp",
   "metadata": {},
   "source": [
    "# Quiz 10 Answers"
   ]
  },
  {
   "cell_type": "code",
   "execution_count": 1,
   "id": "selected-armor",
   "metadata": {},
   "outputs": [],
   "source": [
    "# Working with data:\n",
    "import numpy  as np                                   # For scientific computing.\n",
    "import pandas as pd                                   # Working with tables.\n",
    "\n",
    "# Specific data providers:\n",
    "from tiingo import TiingoClient                       # Stock prices.\n",
    "import quandl                                         # Economic data, futures prices, ...\n",
    "\n",
    "# API keys:\n",
    "tiingo = TiingoClient({'api_key':'XXXX'})\n",
    "quandl.ApiConfig.api_key = 'YYYY'\n",
    "\n",
    "# Plotting:\n",
    "import matplotlib.pyplot as plt                        # Basic plot library.\n",
    "plt.style.use('ggplot')                                # Make plots look nice"
   ]
  },
  {
   "cell_type": "markdown",
   "id": "seasonal-dakota",
   "metadata": {},
   "source": [
    "Q1"
   ]
  },
  {
   "cell_type": "code",
   "execution_count": 3,
   "id": "elementary-taste",
   "metadata": {},
   "outputs": [],
   "source": [
    "sectors = ['XLU','XLY','XLF','XLV']   # utilities, consumer discretionary, financials, health care\n",
    "\n",
    "PRICE = tiingo.get_dataframe(sectors, '1999-1-1', metric_name='adjClose')\n",
    "PRICE.index = pd.to_datetime(PRICE.index).tz_convert(None)\n",
    "RET = PRICE.pct_change()\n",
    "\n",
    "\n",
    "RATES = quandl.get(['FRED/FEDFUNDS','FRED/DGS1']) / 100\n",
    "RATES.columns = ['FedFunds','Treasury_1']"
   ]
  },
  {
   "cell_type": "code",
   "execution_count": 4,
   "id": "exotic-fifty",
   "metadata": {},
   "outputs": [],
   "source": [
    "import cvxopt\n",
    "from cvxopt import matrix, solvers\n",
    "solvers.options['show_progress'] = False"
   ]
  },
  {
   "cell_type": "code",
   "execution_count": 5,
   "id": "accredited-blackjack",
   "metadata": {},
   "outputs": [
    {
     "data": {
      "text/plain": [
       "XLU    0.205526\n",
       "XLY    0.101074\n",
       "XLF    0.100161\n",
       "XLV    0.593239\n",
       "dtype: float64"
      ]
     },
     "execution_count": 5,
     "metadata": {},
     "output_type": "execute_result"
    }
   ],
   "source": [
    "# Constrained minimum:\n",
    "minimum_weight = 0.1\n",
    "cov = RET['2005':'2010'].cov()\n",
    "\n",
    "n = len(cov)\n",
    "P = matrix( cov.values )\n",
    "q = matrix( np.zeros(n) )\n",
    "G = matrix( -np.identity(n) ) \n",
    "h = matrix( -np.ones(n)*minimum_weight)\n",
    "A = matrix( np.ones(n), (1,n)) \n",
    "b = matrix(1.0)\n",
    "\n",
    "sol = solvers.qp(P, q, G, h, A, b)\n",
    "\n",
    "pd.Series({cov.index[i]:sol['x'][i] for i in range(n)})"
   ]
  },
  {
   "cell_type": "markdown",
   "id": "individual-mobile",
   "metadata": {},
   "source": [
    "Q2"
   ]
  },
  {
   "cell_type": "code",
   "execution_count": 6,
   "id": "racial-sender",
   "metadata": {},
   "outputs": [],
   "source": [
    "def get_rebalance_dates(frequency, start_date):\n",
    "    price = PRICE[PRICE.index>start_date]\n",
    "    group = getattr(price.index, frequency) \n",
    "    return price[:1].index.union(price.groupby([price.index.year, group]).tail(1).index)\n",
    "\n",
    "\n",
    "\n",
    "def compare_performance(t):\n",
    "    t.add(1).cumprod().plot()\n",
    "    t.add(1).cumprod().plot(logy=True)\n",
    "\n",
    "    annual_returns = t[:'2020'].add(1).resample('A').prod().sub(1)\n",
    "    r_annual_Tbill = RATES.Treasury_1.resample('A').first()\n",
    "\n",
    "    x = pd.DataFrame()                        \n",
    "    x['Average_returns']   = annual_returns.mean()\n",
    "    x['Geometric_average'] = annual_returns.add(1).prod().pow(1/len(annual_returns)).sub(1)\n",
    "    x['Risk_premium']      = annual_returns.sub(r_annual_Tbill, 'rows').dropna().mean()\n",
    "    x['Volatility']        = t[:'2020'].std() * 252**0.5    \n",
    "    x['Sharpe_ratio']      = x.Risk_premium / x.Volatility\n",
    "\n",
    "    return x\n",
    "\n",
    "\n",
    "\n",
    "\n",
    "def run_backtest(frequency, backtest_start='1900-1-1'):   \n",
    "    \n",
    "    rebalance_dates = get_rebalance_dates(frequency, backtest_start) \n",
    "\n",
    "    portfolio_value = pd.Series(1,                        index=[rebalance_dates[0]])    \n",
    "    weights         = pd.DataFrame(columns=PRICE.columns, index=[rebalance_dates[0]])\n",
    "    trades          = pd.DataFrame(columns=PRICE.columns, index=[rebalance_dates[0]])\n",
    "\n",
    "    previous_positions = weights.iloc[0]\n",
    "        \n",
    "    for i in range(1, len(rebalance_dates)-1):\n",
    "        start_date = rebalance_dates[i]\n",
    "        end_date   = rebalance_dates[i+1]\n",
    "\n",
    "        cum_ret = RET[start_date:end_date][1:].add(1).cumprod()\n",
    "                \n",
    "        start_weights = select_weights(start_date)      # Call \"select_weights()\" function to get the weights\n",
    "            \n",
    "        new_positions = portfolio_value.iloc[-1] * start_weights   \n",
    "\n",
    "        start_to_end_positions = new_positions  * cum_ret\n",
    "        start_to_end_value     = start_to_end_positions.sum('columns')\n",
    "\n",
    "        portfolio_value = portfolio_value.append(start_to_end_value) \n",
    "                \n",
    "        weights = weights.append(start_to_end_positions.div(start_to_end_value,'rows'))                 \n",
    "                \n",
    "        trades.loc[start_date] = new_positions - previous_positions \n",
    "        previous_positions     = start_to_end_positions.iloc[-1]      # Previous positions for the next rebalance round\n",
    "\n",
    "    return portfolio_value.pct_change(), weights, trades"
   ]
  },
  {
   "cell_type": "code",
   "execution_count": 11,
   "id": "alien-execution",
   "metadata": {},
   "outputs": [
    {
     "data": {
      "text/plain": [
       "2006-01-03         NaN\n",
       "2007-01-03    0.002631\n",
       "2007-01-04    0.001610\n",
       "2007-01-05   -0.009672\n",
       "2007-01-08    0.001787\n",
       "                ...   \n",
       "2021-04-13    0.003895\n",
       "2021-04-14    0.000173\n",
       "2021-04-15    0.008292\n",
       "2021-04-16    0.007589\n",
       "2021-04-19   -0.004728\n",
       "Length: 3599, dtype: float64"
      ]
     },
     "execution_count": 11,
     "metadata": {},
     "output_type": "execute_result"
    }
   ],
   "source": [
    "def select_weights(date):            \n",
    "    return pd.Series(1/len(sectors), index=sectors)   # Equal weights (1/n)\n",
    "\n",
    "\n",
    "portfolio, weights, trades = run_backtest('year', '2006-1-1')\n",
    "portfolio"
   ]
  },
  {
   "cell_type": "code",
   "execution_count": 12,
   "id": "isolated-printer",
   "metadata": {},
   "outputs": [
    {
     "data": {
      "text/plain": [
       "7388.03312375448"
      ]
     },
     "execution_count": 12,
     "metadata": {},
     "output_type": "execute_result"
    }
   ],
   "source": [
    "portfolio.add(1).cumprod().loc['2016-6-7'] * 4000"
   ]
  },
  {
   "cell_type": "markdown",
   "id": "powerful-participant",
   "metadata": {},
   "source": [
    "Q3"
   ]
  },
  {
   "cell_type": "code",
   "execution_count": 13,
   "id": "micro-speaking",
   "metadata": {},
   "outputs": [
    {
     "data": {
      "text/html": [
       "<div>\n",
       "<style scoped>\n",
       "    .dataframe tbody tr th:only-of-type {\n",
       "        vertical-align: middle;\n",
       "    }\n",
       "\n",
       "    .dataframe tbody tr th {\n",
       "        vertical-align: top;\n",
       "    }\n",
       "\n",
       "    .dataframe thead th {\n",
       "        text-align: right;\n",
       "    }\n",
       "</style>\n",
       "<table border=\"1\" class=\"dataframe\">\n",
       "  <thead>\n",
       "    <tr style=\"text-align: right;\">\n",
       "      <th></th>\n",
       "      <th>XLU</th>\n",
       "      <th>XLY</th>\n",
       "      <th>XLF</th>\n",
       "      <th>XLV</th>\n",
       "    </tr>\n",
       "  </thead>\n",
       "  <tbody>\n",
       "    <tr>\n",
       "      <th>2006-01-03</th>\n",
       "      <td>NaN</td>\n",
       "      <td>NaN</td>\n",
       "      <td>NaN</td>\n",
       "      <td>NaN</td>\n",
       "    </tr>\n",
       "    <tr>\n",
       "      <th>2006-12-29</th>\n",
       "      <td>NaN</td>\n",
       "      <td>NaN</td>\n",
       "      <td>NaN</td>\n",
       "      <td>NaN</td>\n",
       "    </tr>\n",
       "    <tr>\n",
       "      <th>2007-12-31</th>\n",
       "      <td>-202.687196</td>\n",
       "      <td>119.451260</td>\n",
       "      <td>173.343604</td>\n",
       "      <td>-90.107667</td>\n",
       "    </tr>\n",
       "    <tr>\n",
       "      <th>2008-12-31</th>\n",
       "      <td>-60.060472</td>\n",
       "      <td>-20.347288</td>\n",
       "      <td>195.576397</td>\n",
       "      <td>-115.168637</td>\n",
       "    </tr>\n",
       "    <tr>\n",
       "      <th>2009-12-31</th>\n",
       "      <td>67.835230</td>\n",
       "      <td>-116.160654</td>\n",
       "      <td>30.220655</td>\n",
       "      <td>18.104768</td>\n",
       "    </tr>\n",
       "    <tr>\n",
       "      <th>2010-12-31</th>\n",
       "      <td>52.208551</td>\n",
       "      <td>-120.665918</td>\n",
       "      <td>0.674951</td>\n",
       "      <td>67.782416</td>\n",
       "    </tr>\n",
       "    <tr>\n",
       "      <th>2011-12-30</th>\n",
       "      <td>-125.833567</td>\n",
       "      <td>-6.759928</td>\n",
       "      <td>195.332609</td>\n",
       "      <td>-62.739113</td>\n",
       "    </tr>\n",
       "    <tr>\n",
       "      <th>2012-12-31</th>\n",
       "      <td>152.263012</td>\n",
       "      <td>-55.070232</td>\n",
       "      <td>-99.342376</td>\n",
       "      <td>2.149595</td>\n",
       "    </tr>\n",
       "    <tr>\n",
       "      <th>2013-12-31</th>\n",
       "      <td>217.602767</td>\n",
       "      <td>-103.331553</td>\n",
       "      <td>-25.367060</td>\n",
       "      <td>-88.904154</td>\n",
       "    </tr>\n",
       "    <tr>\n",
       "      <th>2014-12-31</th>\n",
       "      <td>-131.535138</td>\n",
       "      <td>145.876326</td>\n",
       "      <td>65.422529</td>\n",
       "      <td>-79.763717</td>\n",
       "    </tr>\n",
       "    <tr>\n",
       "      <th>2015-12-31</th>\n",
       "      <td>128.045516</td>\n",
       "      <td>-127.212100</td>\n",
       "      <td>73.468833</td>\n",
       "      <td>-74.302249</td>\n",
       "    </tr>\n",
       "    <tr>\n",
       "      <th>2016-12-30</th>\n",
       "      <td>-99.348694</td>\n",
       "      <td>78.626513</td>\n",
       "      <td>-212.074133</td>\n",
       "      <td>232.796314</td>\n",
       "    </tr>\n",
       "    <tr>\n",
       "      <th>2017-12-29</th>\n",
       "      <td>148.551184</td>\n",
       "      <td>-61.672347</td>\n",
       "      <td>-45.692865</td>\n",
       "      <td>-41.185971</td>\n",
       "    </tr>\n",
       "    <tr>\n",
       "      <th>2018-12-31</th>\n",
       "      <td>-98.729886</td>\n",
       "      <td>-44.391134</td>\n",
       "      <td>296.942790</td>\n",
       "      <td>-153.821769</td>\n",
       "    </tr>\n",
       "    <tr>\n",
       "      <th>2019-12-31</th>\n",
       "      <td>17.267463</td>\n",
       "      <td>-40.359036</td>\n",
       "      <td>-121.354723</td>\n",
       "      <td>144.446297</td>\n",
       "    </tr>\n",
       "    <tr>\n",
       "      <th>2020-12-31</th>\n",
       "      <td>291.455687</td>\n",
       "      <td>-564.386804</td>\n",
       "      <td>357.551316</td>\n",
       "      <td>-84.620200</td>\n",
       "    </tr>\n",
       "  </tbody>\n",
       "</table>\n",
       "</div>"
      ],
      "text/plain": [
       "                   XLU         XLY         XLF         XLV\n",
       "2006-01-03         NaN         NaN         NaN         NaN\n",
       "2006-12-29         NaN         NaN         NaN         NaN\n",
       "2007-12-31 -202.687196  119.451260  173.343604  -90.107667\n",
       "2008-12-31  -60.060472  -20.347288  195.576397 -115.168637\n",
       "2009-12-31   67.835230 -116.160654   30.220655   18.104768\n",
       "2010-12-31   52.208551 -120.665918    0.674951   67.782416\n",
       "2011-12-30 -125.833567   -6.759928  195.332609  -62.739113\n",
       "2012-12-31  152.263012  -55.070232  -99.342376    2.149595\n",
       "2013-12-31  217.602767 -103.331553  -25.367060  -88.904154\n",
       "2014-12-31 -131.535138  145.876326   65.422529  -79.763717\n",
       "2015-12-31  128.045516 -127.212100   73.468833  -74.302249\n",
       "2016-12-30  -99.348694   78.626513 -212.074133  232.796314\n",
       "2017-12-29  148.551184  -61.672347  -45.692865  -41.185971\n",
       "2018-12-31  -98.729886  -44.391134  296.942790 -153.821769\n",
       "2019-12-31   17.267463  -40.359036 -121.354723  144.446297\n",
       "2020-12-31  291.455687 -564.386804  357.551316  -84.620200"
      ]
     },
     "execution_count": 13,
     "metadata": {},
     "output_type": "execute_result"
    }
   ],
   "source": [
    "trades * 4000     # (check 2015)"
   ]
  },
  {
   "cell_type": "markdown",
   "id": "wooden-duration",
   "metadata": {},
   "source": [
    "Check returns (we can answer this question without checking returns since we know we always sell assets that outperform and buy assets that underperform to rebalance to equal weights):"
   ]
  },
  {
   "cell_type": "code",
   "execution_count": 14,
   "id": "periodic-stuart",
   "metadata": {},
   "outputs": [
    {
     "data": {
      "text/html": [
       "<div>\n",
       "<style scoped>\n",
       "    .dataframe tbody tr th:only-of-type {\n",
       "        vertical-align: middle;\n",
       "    }\n",
       "\n",
       "    .dataframe tbody tr th {\n",
       "        vertical-align: top;\n",
       "    }\n",
       "\n",
       "    .dataframe thead th {\n",
       "        text-align: right;\n",
       "    }\n",
       "</style>\n",
       "<table border=\"1\" class=\"dataframe\">\n",
       "  <thead>\n",
       "    <tr style=\"text-align: right;\">\n",
       "      <th></th>\n",
       "      <th>XLU</th>\n",
       "      <th>XLY</th>\n",
       "      <th>XLF</th>\n",
       "      <th>XLV</th>\n",
       "    </tr>\n",
       "  </thead>\n",
       "  <tbody>\n",
       "    <tr>\n",
       "      <th>2015-12-31</th>\n",
       "      <td>-0.049107</td>\n",
       "      <td>0.099156</td>\n",
       "      <td>-0.017406</td>\n",
       "      <td>0.068424</td>\n",
       "    </tr>\n",
       "  </tbody>\n",
       "</table>\n",
       "</div>"
      ],
      "text/plain": [
       "                 XLU       XLY       XLF       XLV\n",
       "2015-12-31 -0.049107  0.099156 -0.017406  0.068424"
      ]
     },
     "execution_count": 14,
     "metadata": {},
     "output_type": "execute_result"
    }
   ],
   "source": [
    "RET.add(1).resample('A').prod().sub(1).loc['2015']"
   ]
  },
  {
   "cell_type": "markdown",
   "id": "exciting-cartoon",
   "metadata": {},
   "source": [
    "Q6:"
   ]
  },
  {
   "cell_type": "code",
   "execution_count": 15,
   "id": "going-poster",
   "metadata": {},
   "outputs": [
    {
     "data": {
      "text/plain": [
       "2005-12-31    0.934292\n",
       "2006-12-31    1.188433\n",
       "2007-12-31    0.861971\n",
       "2008-12-31    0.670312\n",
       "2009-12-31    1.405748\n",
       "2010-12-31    1.274627\n",
       "2011-12-31    1.059865\n",
       "2012-12-31    1.235985\n",
       "2013-12-31    1.427364\n",
       "2014-12-31    1.094633\n",
       "2015-12-31    1.099156\n",
       "2016-12-31    1.059715\n",
       "2017-12-31    1.228201\n",
       "2018-12-31    1.015919\n",
       "2019-12-31    1.283939\n",
       "Freq: A-DEC, Name: XLY, dtype: float64"
      ]
     },
     "execution_count": 15,
     "metadata": {},
     "output_type": "execute_result"
    }
   ],
   "source": [
    "x = RET['2005':'2019'].XLY.add(1).resample('A').prod()\n",
    "x"
   ]
  },
  {
   "cell_type": "code",
   "execution_count": 16,
   "id": "educational-configuration",
   "metadata": {},
   "outputs": [
    {
     "data": {
      "text/plain": [
       "0.10365609991617819"
      ]
     },
     "execution_count": 16,
     "metadata": {},
     "output_type": "execute_result"
    }
   ],
   "source": [
    "x.prod()**(1/len(x)) - 1"
   ]
  },
  {
   "cell_type": "markdown",
   "id": "immediate-beads",
   "metadata": {},
   "source": [
    "Q7:"
   ]
  },
  {
   "cell_type": "code",
   "execution_count": 17,
   "id": "accepted-plenty",
   "metadata": {},
   "outputs": [
    {
     "data": {
      "text/plain": [
       "XLU    50\n",
       "XLF    80\n",
       "XLV    40\n",
       "dtype: int64"
      ]
     },
     "execution_count": 17,
     "metadata": {},
     "output_type": "execute_result"
    }
   ],
   "source": [
    "positons = pd.Series({'XLU':50, 'XLF':80, 'XLV':40})\n",
    "positons"
   ]
  },
  {
   "cell_type": "code",
   "execution_count": 18,
   "id": "associate-judge",
   "metadata": {},
   "outputs": [
    {
     "data": {
      "text/html": [
       "<div>\n",
       "<style scoped>\n",
       "    .dataframe tbody tr th:only-of-type {\n",
       "        vertical-align: middle;\n",
       "    }\n",
       "\n",
       "    .dataframe tbody tr th {\n",
       "        vertical-align: top;\n",
       "    }\n",
       "\n",
       "    .dataframe thead th {\n",
       "        text-align: right;\n",
       "    }\n",
       "</style>\n",
       "<table border=\"1\" class=\"dataframe\">\n",
       "  <thead>\n",
       "    <tr style=\"text-align: right;\">\n",
       "      <th></th>\n",
       "      <th>XLU</th>\n",
       "      <th>XLY</th>\n",
       "      <th>XLF</th>\n",
       "      <th>XLV</th>\n",
       "    </tr>\n",
       "  </thead>\n",
       "  <tbody>\n",
       "    <tr>\n",
       "      <th>2010-01-04</th>\n",
       "      <td>1.001934</td>\n",
       "      <td>1.007726</td>\n",
       "      <td>1.020139</td>\n",
       "      <td>1.017380</td>\n",
       "    </tr>\n",
       "    <tr>\n",
       "      <th>2010-01-05</th>\n",
       "      <td>0.990006</td>\n",
       "      <td>1.011421</td>\n",
       "      <td>1.038889</td>\n",
       "      <td>1.007403</td>\n",
       "    </tr>\n",
       "    <tr>\n",
       "      <th>2010-01-06</th>\n",
       "      <td>0.995809</td>\n",
       "      <td>1.012765</td>\n",
       "      <td>1.040972</td>\n",
       "      <td>1.017702</td>\n",
       "    </tr>\n",
       "    <tr>\n",
       "      <th>2010-01-07</th>\n",
       "      <td>0.991296</td>\n",
       "      <td>1.021162</td>\n",
       "      <td>1.063194</td>\n",
       "      <td>1.021242</td>\n",
       "    </tr>\n",
       "    <tr>\n",
       "      <th>2010-01-08</th>\n",
       "      <td>0.990329</td>\n",
       "      <td>1.020826</td>\n",
       "      <td>1.056944</td>\n",
       "      <td>1.022852</td>\n",
       "    </tr>\n",
       "    <tr>\n",
       "      <th>...</th>\n",
       "      <td>...</td>\n",
       "      <td>...</td>\n",
       "      <td>...</td>\n",
       "      <td>...</td>\n",
       "    </tr>\n",
       "    <tr>\n",
       "      <th>2020-12-24</th>\n",
       "      <td>2.941845</td>\n",
       "      <td>6.196979</td>\n",
       "      <td>3.017244</td>\n",
       "      <td>4.349305</td>\n",
       "    </tr>\n",
       "    <tr>\n",
       "      <th>2020-12-28</th>\n",
       "      <td>2.954822</td>\n",
       "      <td>6.267631</td>\n",
       "      <td>3.031835</td>\n",
       "      <td>4.360230</td>\n",
       "    </tr>\n",
       "    <tr>\n",
       "      <th>2020-12-29</th>\n",
       "      <td>2.954341</td>\n",
       "      <td>6.269593</td>\n",
       "      <td>3.021413</td>\n",
       "      <td>4.380909</td>\n",
       "    </tr>\n",
       "    <tr>\n",
       "      <th>2020-12-30</th>\n",
       "      <td>2.969240</td>\n",
       "      <td>6.307275</td>\n",
       "      <td>3.034962</td>\n",
       "      <td>4.380129</td>\n",
       "    </tr>\n",
       "    <tr>\n",
       "      <th>2020-12-31</th>\n",
       "      <td>3.013457</td>\n",
       "      <td>6.310807</td>\n",
       "      <td>3.072482</td>\n",
       "      <td>4.426170</td>\n",
       "    </tr>\n",
       "  </tbody>\n",
       "</table>\n",
       "<p>2769 rows × 4 columns</p>\n",
       "</div>"
      ],
      "text/plain": [
       "                 XLU       XLY       XLF       XLV\n",
       "2010-01-04  1.001934  1.007726  1.020139  1.017380\n",
       "2010-01-05  0.990006  1.011421  1.038889  1.007403\n",
       "2010-01-06  0.995809  1.012765  1.040972  1.017702\n",
       "2010-01-07  0.991296  1.021162  1.063194  1.021242\n",
       "2010-01-08  0.990329  1.020826  1.056944  1.022852\n",
       "...              ...       ...       ...       ...\n",
       "2020-12-24  2.941845  6.196979  3.017244  4.349305\n",
       "2020-12-28  2.954822  6.267631  3.031835  4.360230\n",
       "2020-12-29  2.954341  6.269593  3.021413  4.380909\n",
       "2020-12-30  2.969240  6.307275  3.034962  4.380129\n",
       "2020-12-31  3.013457  6.310807  3.072482  4.426170\n",
       "\n",
       "[2769 rows x 4 columns]"
      ]
     },
     "execution_count": 18,
     "metadata": {},
     "output_type": "execute_result"
    }
   ],
   "source": [
    "# value of $1 in each asset:\n",
    "RET['2010':'2020'].add(1).cumprod()"
   ]
  },
  {
   "cell_type": "code",
   "execution_count": 19,
   "id": "pretty-aberdeen",
   "metadata": {},
   "outputs": [
    {
     "data": {
      "text/plain": [
       "2010-01-04    172.403027\n",
       "2010-01-05    172.907539\n",
       "2010-01-06    173.776314\n",
       "2010-01-07    175.470047\n",
       "2010-01-08    174.986062\n",
       "                 ...    \n",
       "2020-12-24    562.443977\n",
       "2020-12-28    564.697098\n",
       "2020-12-29    564.666463\n",
       "2020-12-30    566.464117\n",
       "2020-12-31    573.518193\n",
       "Length: 2769, dtype: float64"
      ]
     },
     "execution_count": 19,
     "metadata": {},
     "output_type": "execute_result"
    }
   ],
   "source": [
    "portfolio_value = RET['2010':'2020'].add(1).cumprod().multiply(positons).sum('columns')\n",
    "portfolio_value"
   ]
  },
  {
   "cell_type": "code",
   "execution_count": 20,
   "id": "surrounded-yellow",
   "metadata": {},
   "outputs": [
    {
     "data": {
      "text/plain": [
       "0.12095243171335067"
      ]
     },
     "execution_count": 20,
     "metadata": {},
     "output_type": "execute_result"
    }
   ],
   "source": [
    "portfolio_value.pct_change().add(1).resample('A').prod().sub(1).mean()"
   ]
  },
  {
   "cell_type": "code",
   "execution_count": 21,
   "id": "designed-quest",
   "metadata": {},
   "outputs": [
    {
     "data": {
      "text/plain": [
       "2010-12-31         NaN\n",
       "2011-12-31    0.000538\n",
       "2012-12-31    0.162316\n",
       "2013-12-31    0.303224\n",
       "2014-12-31    0.213865\n",
       "2015-12-31   -0.001578\n",
       "2016-12-31    0.130658\n",
       "2017-12-31    0.192671\n",
       "2018-12-31   -0.035808\n",
       "2019-12-31    0.268755\n",
       "2020-12-31    0.031489\n",
       "Freq: A-DEC, dtype: float64"
      ]
     },
     "execution_count": 21,
     "metadata": {},
     "output_type": "execute_result"
    }
   ],
   "source": [
    "# This calculation ignores the return of the the first year:\n",
    "portfolio_value.resample('A').last().pct_change()"
   ]
  },
  {
   "cell_type": "code",
   "execution_count": 22,
   "id": "opponent-proof",
   "metadata": {},
   "outputs": [
    {
     "data": {
      "text/plain": [
       "0.12661305479479024"
      ]
     },
     "execution_count": 22,
     "metadata": {},
     "output_type": "execute_result"
    }
   ],
   "source": [
    "# Mean, without the first year return:\n",
    "portfolio_value.resample('A').last().pct_change().mean()"
   ]
  },
  {
   "cell_type": "markdown",
   "id": "municipal-encyclopedia",
   "metadata": {},
   "source": [
    "Q8:"
   ]
  },
  {
   "cell_type": "code",
   "execution_count": 23,
   "id": "presidential-nevada",
   "metadata": {},
   "outputs": [
    {
     "data": {
      "text/html": [
       "<div>\n",
       "<style scoped>\n",
       "    .dataframe tbody tr th:only-of-type {\n",
       "        vertical-align: middle;\n",
       "    }\n",
       "\n",
       "    .dataframe tbody tr th {\n",
       "        vertical-align: top;\n",
       "    }\n",
       "\n",
       "    .dataframe thead th {\n",
       "        text-align: right;\n",
       "    }\n",
       "</style>\n",
       "<table border=\"1\" class=\"dataframe\">\n",
       "  <thead>\n",
       "    <tr style=\"text-align: right;\">\n",
       "      <th></th>\n",
       "      <th>MinVol_cvxopt</th>\n",
       "    </tr>\n",
       "  </thead>\n",
       "  <tbody>\n",
       "    <tr>\n",
       "      <th>2000-01-03</th>\n",
       "      <td>NaN</td>\n",
       "    </tr>\n",
       "    <tr>\n",
       "      <th>2000-04-03</th>\n",
       "      <td>0.008457</td>\n",
       "    </tr>\n",
       "    <tr>\n",
       "      <th>2000-04-04</th>\n",
       "      <td>0.001537</td>\n",
       "    </tr>\n",
       "    <tr>\n",
       "      <th>2000-04-05</th>\n",
       "      <td>0.005193</td>\n",
       "    </tr>\n",
       "    <tr>\n",
       "      <th>2000-04-06</th>\n",
       "      <td>0.010844</td>\n",
       "    </tr>\n",
       "    <tr>\n",
       "      <th>...</th>\n",
       "      <td>...</td>\n",
       "    </tr>\n",
       "    <tr>\n",
       "      <th>2015-12-24</th>\n",
       "      <td>-0.001506</td>\n",
       "    </tr>\n",
       "    <tr>\n",
       "      <th>2015-12-28</th>\n",
       "      <td>0.001609</td>\n",
       "    </tr>\n",
       "    <tr>\n",
       "      <th>2015-12-29</th>\n",
       "      <td>0.008886</td>\n",
       "    </tr>\n",
       "    <tr>\n",
       "      <th>2015-12-30</th>\n",
       "      <td>-0.004899</td>\n",
       "    </tr>\n",
       "    <tr>\n",
       "      <th>2015-12-31</th>\n",
       "      <td>-0.010288</td>\n",
       "    </tr>\n",
       "  </tbody>\n",
       "</table>\n",
       "<p>3963 rows × 1 columns</p>\n",
       "</div>"
      ],
      "text/plain": [
       "            MinVol_cvxopt\n",
       "2000-01-03            NaN\n",
       "2000-04-03       0.008457\n",
       "2000-04-04       0.001537\n",
       "2000-04-05       0.005193\n",
       "2000-04-06       0.010844\n",
       "...                   ...\n",
       "2015-12-24      -0.001506\n",
       "2015-12-28       0.001609\n",
       "2015-12-29       0.008886\n",
       "2015-12-30      -0.004899\n",
       "2015-12-31      -0.010288\n",
       "\n",
       "[3963 rows x 1 columns]"
      ]
     },
     "execution_count": 23,
     "metadata": {},
     "output_type": "execute_result"
    }
   ],
   "source": [
    "def select_weights(date):   \n",
    "    cov = RET[sectors][:date][-250:].cov()\n",
    "    minimum_weight = 0\n",
    "    n = len(cov)\n",
    "    P = matrix(  cov.values )\n",
    "    q = matrix(  np.zeros(n) )\n",
    "    G = matrix( -np.identity(n) )  \n",
    "    h = matrix( -np.ones(n)*minimum_weight )\n",
    "    A = matrix(  np.ones(n), (1,n))  \n",
    "    b = matrix(1.0)\n",
    "    sol = solvers.qp(P, q, G, h, A, b)\n",
    "    return pd.Series({cov.index[i]:sol['x'][i] for i in range(n)})\n",
    "\n",
    "\n",
    "mv_cvxopt, weights, trades = run_backtest('quarter', '2000-1-1')\n",
    "mv_cvxopt = mv_cvxopt.rename('MinVol_cvxopt')\n",
    "\n",
    "t = pd.DataFrame(mv_cvxopt)[:'2015']\n",
    "t"
   ]
  },
  {
   "cell_type": "code",
   "execution_count": 24,
   "id": "inappropriate-engineering",
   "metadata": {},
   "outputs": [
    {
     "data": {
      "text/html": [
       "<div>\n",
       "<style scoped>\n",
       "    .dataframe tbody tr th:only-of-type {\n",
       "        vertical-align: middle;\n",
       "    }\n",
       "\n",
       "    .dataframe tbody tr th {\n",
       "        vertical-align: top;\n",
       "    }\n",
       "\n",
       "    .dataframe thead th {\n",
       "        text-align: right;\n",
       "    }\n",
       "</style>\n",
       "<table border=\"1\" class=\"dataframe\">\n",
       "  <thead>\n",
       "    <tr style=\"text-align: right;\">\n",
       "      <th></th>\n",
       "      <th>Average_returns</th>\n",
       "      <th>Geometric_average</th>\n",
       "      <th>Risk_premium</th>\n",
       "      <th>Volatility</th>\n",
       "      <th>Sharpe_ratio</th>\n",
       "    </tr>\n",
       "  </thead>\n",
       "  <tbody>\n",
       "    <tr>\n",
       "      <th>MinVol_cvxopt</th>\n",
       "      <td>0.06585</td>\n",
       "      <td>0.055911</td>\n",
       "      <td>0.045013</td>\n",
       "      <td>0.165255</td>\n",
       "      <td>0.272382</td>\n",
       "    </tr>\n",
       "  </tbody>\n",
       "</table>\n",
       "</div>"
      ],
      "text/plain": [
       "               Average_returns  Geometric_average  Risk_premium  Volatility  \\\n",
       "MinVol_cvxopt          0.06585           0.055911      0.045013    0.165255   \n",
       "\n",
       "               Sharpe_ratio  \n",
       "MinVol_cvxopt      0.272382  "
      ]
     },
     "execution_count": 24,
     "metadata": {},
     "output_type": "execute_result"
    },
    {
     "data": {
      "image/png": "[encoded data removed]",
      "text/plain": [
       "<Figure size 432x288 with 1 Axes>"
      ]
     },
     "metadata": {},
     "output_type": "display_data"
    },
    {
     "data": {
      "image/png": "[encoded data removed]",
      "text/plain": [
       "<Figure size 432x288 with 1 Axes>"
      ]
     },
     "metadata": {},
     "output_type": "display_data"
    }
   ],
   "source": [
    "compare_performance(t)"
   ]
  },
  {
   "cell_type": "markdown",
   "id": "brazilian-legislature",
   "metadata": {},
   "source": [
    "Q9:"
   ]
  },
  {
   "cell_type": "code",
   "execution_count": 25,
   "id": "statistical-roberts",
   "metadata": {},
   "outputs": [
    {
     "data": {
      "text/html": [
       "<div>\n",
       "<style scoped>\n",
       "    .dataframe tbody tr th:only-of-type {\n",
       "        vertical-align: middle;\n",
       "    }\n",
       "\n",
       "    .dataframe tbody tr th {\n",
       "        vertical-align: top;\n",
       "    }\n",
       "\n",
       "    .dataframe thead th {\n",
       "        text-align: right;\n",
       "    }\n",
       "</style>\n",
       "<table border=\"1\" class=\"dataframe\">\n",
       "  <thead>\n",
       "    <tr style=\"text-align: right;\">\n",
       "      <th></th>\n",
       "      <th>XLU</th>\n",
       "      <th>XLY</th>\n",
       "      <th>XLF</th>\n",
       "      <th>XLV</th>\n",
       "      <th>MarginLoan</th>\n",
       "    </tr>\n",
       "  </thead>\n",
       "  <tbody>\n",
       "    <tr>\n",
       "      <th>1999-01-05</th>\n",
       "      <td>0.012101</td>\n",
       "      <td>0.016943</td>\n",
       "      <td>0.009386</td>\n",
       "      <td>0.015420</td>\n",
       "      <td>0.000223</td>\n",
       "    </tr>\n",
       "    <tr>\n",
       "      <th>1999-01-06</th>\n",
       "      <td>0.010296</td>\n",
       "      <td>0.028398</td>\n",
       "      <td>0.031699</td>\n",
       "      <td>0.016705</td>\n",
       "      <td>0.000223</td>\n",
       "    </tr>\n",
       "    <tr>\n",
       "      <th>1999-01-07</th>\n",
       "      <td>-0.003616</td>\n",
       "      <td>-0.001105</td>\n",
       "      <td>0.015158</td>\n",
       "      <td>-0.004481</td>\n",
       "      <td>0.000223</td>\n",
       "    </tr>\n",
       "    <tr>\n",
       "      <th>1999-01-08</th>\n",
       "      <td>0.005609</td>\n",
       "      <td>0.001106</td>\n",
       "      <td>0.006457</td>\n",
       "      <td>0.012003</td>\n",
       "      <td>0.000223</td>\n",
       "    </tr>\n",
       "    <tr>\n",
       "      <th>1999-01-11</th>\n",
       "      <td>-0.026575</td>\n",
       "      <td>-0.005155</td>\n",
       "      <td>-0.015237</td>\n",
       "      <td>0.002595</td>\n",
       "      <td>0.000223</td>\n",
       "    </tr>\n",
       "    <tr>\n",
       "      <th>...</th>\n",
       "      <td>...</td>\n",
       "      <td>...</td>\n",
       "      <td>...</td>\n",
       "      <td>...</td>\n",
       "      <td>...</td>\n",
       "    </tr>\n",
       "    <tr>\n",
       "      <th>2021-04-13</th>\n",
       "      <td>0.011868</td>\n",
       "      <td>0.010558</td>\n",
       "      <td>-0.009348</td>\n",
       "      <td>0.004150</td>\n",
       "      <td>0.000042</td>\n",
       "    </tr>\n",
       "    <tr>\n",
       "      <th>2021-04-14</th>\n",
       "      <td>0.004417</td>\n",
       "      <td>-0.009834</td>\n",
       "      <td>0.006005</td>\n",
       "      <td>-0.000084</td>\n",
       "      <td>0.000042</td>\n",
       "    </tr>\n",
       "    <tr>\n",
       "      <th>2021-04-15</th>\n",
       "      <td>0.011071</td>\n",
       "      <td>0.007166</td>\n",
       "      <td>-0.000853</td>\n",
       "      <td>0.017124</td>\n",
       "      <td>0.000042</td>\n",
       "    </tr>\n",
       "    <tr>\n",
       "      <th>2021-04-16</th>\n",
       "      <td>0.008100</td>\n",
       "      <td>0.007732</td>\n",
       "      <td>0.007112</td>\n",
       "      <td>0.007464</td>\n",
       "      <td>0.000042</td>\n",
       "    </tr>\n",
       "    <tr>\n",
       "      <th>2021-04-19</th>\n",
       "      <td>-0.005059</td>\n",
       "      <td>-0.011230</td>\n",
       "      <td>-0.002825</td>\n",
       "      <td>0.000247</td>\n",
       "      <td>0.000042</td>\n",
       "    </tr>\n",
       "  </tbody>\n",
       "</table>\n",
       "<p>5608 rows × 5 columns</p>\n",
       "</div>"
      ],
      "text/plain": [
       "                 XLU       XLY       XLF       XLV  MarginLoan\n",
       "1999-01-05  0.012101  0.016943  0.009386  0.015420    0.000223\n",
       "1999-01-06  0.010296  0.028398  0.031699  0.016705    0.000223\n",
       "1999-01-07 -0.003616 -0.001105  0.015158 -0.004481    0.000223\n",
       "1999-01-08  0.005609  0.001106  0.006457  0.012003    0.000223\n",
       "1999-01-11 -0.026575 -0.005155 -0.015237  0.002595    0.000223\n",
       "...              ...       ...       ...       ...         ...\n",
       "2021-04-13  0.011868  0.010558 -0.009348  0.004150    0.000042\n",
       "2021-04-14  0.004417 -0.009834  0.006005 -0.000084    0.000042\n",
       "2021-04-15  0.011071  0.007166 -0.000853  0.017124    0.000042\n",
       "2021-04-16  0.008100  0.007732  0.007112  0.007464    0.000042\n",
       "2021-04-19 -0.005059 -0.011230 -0.002825  0.000247    0.000042\n",
       "\n",
       "[5608 rows x 5 columns]"
      ]
     },
     "execution_count": 25,
     "metadata": {},
     "output_type": "execute_result"
    }
   ],
   "source": [
    "RET = RET.join(RATES.FedFunds.rename('MarginLoan'), how='outer')\n",
    "RET['MarginLoan'] = RET.MarginLoan.ffill()/252 + 0.01/252           # Assume margin rate = fed funds rate + 100 bsp\n",
    "RET = RET.dropna(subset=['XLF'])\n",
    "RET"
   ]
  },
  {
   "cell_type": "code",
   "execution_count": 26,
   "id": "banner-intensity",
   "metadata": {},
   "outputs": [
    {
     "data": {
      "text/html": [
       "<div>\n",
       "<style scoped>\n",
       "    .dataframe tbody tr th:only-of-type {\n",
       "        vertical-align: middle;\n",
       "    }\n",
       "\n",
       "    .dataframe tbody tr th {\n",
       "        vertical-align: top;\n",
       "    }\n",
       "\n",
       "    .dataframe thead th {\n",
       "        text-align: right;\n",
       "    }\n",
       "</style>\n",
       "<table border=\"1\" class=\"dataframe\">\n",
       "  <thead>\n",
       "    <tr style=\"text-align: right;\">\n",
       "      <th></th>\n",
       "      <th>MinVol_cvxopt</th>\n",
       "    </tr>\n",
       "  </thead>\n",
       "  <tbody>\n",
       "    <tr>\n",
       "      <th>2000-01-03</th>\n",
       "      <td>NaN</td>\n",
       "    </tr>\n",
       "    <tr>\n",
       "      <th>2000-04-03</th>\n",
       "      <td>1011.728021</td>\n",
       "    </tr>\n",
       "    <tr>\n",
       "      <th>2000-04-04</th>\n",
       "      <td>1013.787257</td>\n",
       "    </tr>\n",
       "    <tr>\n",
       "      <th>2000-04-05</th>\n",
       "      <td>1021.018325</td>\n",
       "    </tr>\n",
       "    <tr>\n",
       "      <th>2000-04-06</th>\n",
       "      <td>1036.319274</td>\n",
       "    </tr>\n",
       "    <tr>\n",
       "      <th>...</th>\n",
       "      <td>...</td>\n",
       "    </tr>\n",
       "    <tr>\n",
       "      <th>2015-12-24</th>\n",
       "      <td>2646.682495</td>\n",
       "    </tr>\n",
       "    <tr>\n",
       "      <th>2015-12-28</th>\n",
       "      <td>2652.503546</td>\n",
       "    </tr>\n",
       "    <tr>\n",
       "      <th>2015-12-29</th>\n",
       "      <td>2684.933378</td>\n",
       "    </tr>\n",
       "    <tr>\n",
       "      <th>2015-12-30</th>\n",
       "      <td>2666.819112</td>\n",
       "    </tr>\n",
       "    <tr>\n",
       "      <th>2015-12-31</th>\n",
       "      <td>2629.018333</td>\n",
       "    </tr>\n",
       "  </tbody>\n",
       "</table>\n",
       "<p>3963 rows × 1 columns</p>\n",
       "</div>"
      ],
      "text/plain": [
       "            MinVol_cvxopt\n",
       "2000-01-03            NaN\n",
       "2000-04-03    1011.728021\n",
       "2000-04-04    1013.787257\n",
       "2000-04-05    1021.018325\n",
       "2000-04-06    1036.319274\n",
       "...                   ...\n",
       "2015-12-24    2646.682495\n",
       "2015-12-28    2652.503546\n",
       "2015-12-29    2684.933378\n",
       "2015-12-30    2666.819112\n",
       "2015-12-31    2629.018333\n",
       "\n",
       "[3963 rows x 1 columns]"
      ]
     },
     "execution_count": 26,
     "metadata": {},
     "output_type": "execute_result"
    }
   ],
   "source": [
    "def select_weights(date):   \n",
    "    cov = RET[sectors][:date][-250:].cov()\n",
    "    minimum_weight = 0\n",
    "    n = len(cov)\n",
    "    P = matrix(  cov.values )\n",
    "    q = matrix(  np.zeros(n) )\n",
    "    G = matrix( -np.identity(n) )  \n",
    "    h = matrix( -np.ones(n)*minimum_weight )\n",
    "    A = matrix(  np.ones(n), (1,n))  \n",
    "    b = matrix(1.0)\n",
    "    sol = solvers.qp(P, q, G, h, A, b)\n",
    "    w = pd.Series({cov.index[i]:sol['x'][i] for i in range(n)})\n",
    "    w = w.multiply(1.4).append(pd.Series({'MarginLoan':-0.4}))   # Weights with leverage\n",
    "    return w\n",
    "\n",
    "\n",
    "mv_cvxopt, weights, trades = run_backtest('quarter', '2000-1-1')\n",
    "mv_cvxopt = mv_cvxopt.rename('MinVol_cvxopt')\n",
    "\n",
    "t = pd.DataFrame(mv_cvxopt)\n",
    "t[:'2015'].add(1).cumprod() * 1000"
   ]
  },
  {
   "cell_type": "markdown",
   "id": "verified-entity",
   "metadata": {},
   "source": [
    "Q10:"
   ]
  },
  {
   "cell_type": "code",
   "execution_count": 27,
   "id": "floating-complex",
   "metadata": {},
   "outputs": [
    {
     "data": {
      "text/plain": [
       "XLU    0.304868\n",
       "XLY    0.218401\n",
       "XLF    0.210320\n",
       "XLV    0.266412\n",
       "dtype: float64"
      ]
     },
     "execution_count": 27,
     "metadata": {},
     "output_type": "execute_result"
    }
   ],
   "source": [
    "vol = RET[sectors].loc['2000'].std()\n",
    "\n",
    "(1/vol) / (1/vol).sum()"
   ]
  },
  {
   "cell_type": "markdown",
   "id": "searching-conviction",
   "metadata": {},
   "source": [
    "Q11:"
   ]
  },
  {
   "cell_type": "code",
   "execution_count": 28,
   "id": "worst-consistency",
   "metadata": {},
   "outputs": [
    {
     "data": {
      "text/plain": [
       "2000-01-03             NaN\n",
       "2000-02-01     5060.037056\n",
       "2000-02-02     5056.892257\n",
       "2000-02-03     5062.597411\n",
       "2000-02-04     5042.095495\n",
       "                  ...     \n",
       "2020-12-24    25231.428939\n",
       "2020-12-28    25380.441601\n",
       "2020-12-29    25399.439534\n",
       "2020-12-30    25495.640773\n",
       "2020-12-31    25731.594430\n",
       "Length: 5265, dtype: float64"
      ]
     },
     "execution_count": 28,
     "metadata": {},
     "output_type": "execute_result"
    }
   ],
   "source": [
    "def select_weights(date):   \n",
    "    vol = RET[sectors][:date][-30:].std()\n",
    "    return (1/vol) / (1/vol).sum()\n",
    "\n",
    "\n",
    "v, weights, trades = run_backtest('month', '2000-1-1')\n",
    "v.add(1).cumprod()[:'2020'] * 5000"
   ]
  }
 ],
 "metadata": {
  "kernelspec": {
   "display_name": "Python 3",
   "language": "python",
   "name": "python3"
  },
  "language_info": {
   "codemirror_mode": {
    "name": "ipython",
    "version": 3
   },
   "file_extension": ".py",
   "mimetype": "text/x-python",
   "name": "python",
   "nbconvert_exporter": "python",
   "pygments_lexer": "ipython3",
   "version": "3.7.9"
  }
 },
 "nbformat": 4,
 "nbformat_minor": 5
}
