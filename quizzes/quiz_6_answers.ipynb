{
 "cells": [
  {
   "cell_type": "markdown",
   "id": "understanding-american",
   "metadata": {},
   "source": [
    "## Quiz 6 Answers"
   ]
  },
  {
   "cell_type": "code",
   "execution_count": 24,
   "id": "guided-aging",
   "metadata": {},
   "outputs": [],
   "source": [
    "import pandas as pd \n",
    "\n",
    "from tiingo import TiingoClient\n",
    "import quandl\n",
    "\n",
    "tiingo = TiingoClient({'api_key':'XXXX'})\n",
    "quandl.ApiConfig.api_key = 'YYYY'"
   ]
  },
  {
   "cell_type": "markdown",
   "id": "domestic-belize",
   "metadata": {},
   "source": [
    "Question 3:"
   ]
  },
  {
   "cell_type": "code",
   "execution_count": 3,
   "id": "chubby-rapid",
   "metadata": {},
   "outputs": [
    {
     "data": {
      "text/html": [
       "<div>\n",
       "<style scoped>\n",
       "    .dataframe tbody tr th:only-of-type {\n",
       "        vertical-align: middle;\n",
       "    }\n",
       "\n",
       "    .dataframe tbody tr th {\n",
       "        vertical-align: top;\n",
       "    }\n",
       "\n",
       "    .dataframe thead th {\n",
       "        text-align: right;\n",
       "    }\n",
       "</style>\n",
       "<table border=\"1\" class=\"dataframe\">\n",
       "  <thead>\n",
       "    <tr style=\"text-align: right;\">\n",
       "      <th></th>\n",
       "      <th>close</th>\n",
       "      <th>high</th>\n",
       "      <th>low</th>\n",
       "      <th>open</th>\n",
       "      <th>volume</th>\n",
       "      <th>adjClose</th>\n",
       "      <th>adjHigh</th>\n",
       "      <th>adjLow</th>\n",
       "      <th>adjOpen</th>\n",
       "      <th>adjVolume</th>\n",
       "      <th>divCash</th>\n",
       "      <th>splitFactor</th>\n",
       "    </tr>\n",
       "    <tr>\n",
       "      <th>date</th>\n",
       "      <th></th>\n",
       "      <th></th>\n",
       "      <th></th>\n",
       "      <th></th>\n",
       "      <th></th>\n",
       "      <th></th>\n",
       "      <th></th>\n",
       "      <th></th>\n",
       "      <th></th>\n",
       "      <th></th>\n",
       "      <th></th>\n",
       "      <th></th>\n",
       "    </tr>\n",
       "  </thead>\n",
       "  <tbody>\n",
       "    <tr>\n",
       "      <th>2021-03-25 00:00:00+00:00</th>\n",
       "      <td>640.39</td>\n",
       "      <td>645.50</td>\n",
       "      <td>609.50</td>\n",
       "      <td>613.00</td>\n",
       "      <td>39224850</td>\n",
       "      <td>640.39</td>\n",
       "      <td>645.50</td>\n",
       "      <td>609.50</td>\n",
       "      <td>613.00</td>\n",
       "      <td>39224850</td>\n",
       "      <td>0.0</td>\n",
       "      <td>1.0</td>\n",
       "    </tr>\n",
       "    <tr>\n",
       "      <th>2021-03-26 00:00:00+00:00</th>\n",
       "      <td>618.71</td>\n",
       "      <td>643.82</td>\n",
       "      <td>599.89</td>\n",
       "      <td>641.87</td>\n",
       "      <td>33852827</td>\n",
       "      <td>618.71</td>\n",
       "      <td>643.82</td>\n",
       "      <td>599.89</td>\n",
       "      <td>641.87</td>\n",
       "      <td>33852827</td>\n",
       "      <td>0.0</td>\n",
       "      <td>1.0</td>\n",
       "    </tr>\n",
       "    <tr>\n",
       "      <th>2021-03-29 00:00:00+00:00</th>\n",
       "      <td>611.29</td>\n",
       "      <td>616.48</td>\n",
       "      <td>596.02</td>\n",
       "      <td>615.64</td>\n",
       "      <td>28636985</td>\n",
       "      <td>611.29</td>\n",
       "      <td>616.48</td>\n",
       "      <td>596.02</td>\n",
       "      <td>615.64</td>\n",
       "      <td>28636985</td>\n",
       "      <td>0.0</td>\n",
       "      <td>1.0</td>\n",
       "    </tr>\n",
       "  </tbody>\n",
       "</table>\n",
       "</div>"
      ],
      "text/plain": [
       "                            close    high     low    open    volume  adjClose  \\\n",
       "date                                                                            \n",
       "2021-03-25 00:00:00+00:00  640.39  645.50  609.50  613.00  39224850    640.39   \n",
       "2021-03-26 00:00:00+00:00  618.71  643.82  599.89  641.87  33852827    618.71   \n",
       "2021-03-29 00:00:00+00:00  611.29  616.48  596.02  615.64  28636985    611.29   \n",
       "\n",
       "                           adjHigh  adjLow  adjOpen  adjVolume  divCash  \\\n",
       "date                                                                      \n",
       "2021-03-25 00:00:00+00:00   645.50  609.50   613.00   39224850      0.0   \n",
       "2021-03-26 00:00:00+00:00   643.82  599.89   641.87   33852827      0.0   \n",
       "2021-03-29 00:00:00+00:00   616.48  596.02   615.64   28636985      0.0   \n",
       "\n",
       "                           splitFactor  \n",
       "date                                    \n",
       "2021-03-25 00:00:00+00:00          1.0  \n",
       "2021-03-26 00:00:00+00:00          1.0  \n",
       "2021-03-29 00:00:00+00:00          1.0  "
      ]
     },
     "execution_count": 3,
     "metadata": {},
     "output_type": "execute_result"
    }
   ],
   "source": [
    "tsla = tiingo.get_dataframe('TSLA', '1990-1-1')\n",
    "tsla[-3:]"
   ]
  },
  {
   "cell_type": "code",
   "execution_count": 4,
   "id": "capable-drink",
   "metadata": {},
   "outputs": [
    {
     "data": {
      "text/plain": [
       "6615.138260869566"
      ]
     },
     "execution_count": 4,
     "metadata": {},
     "output_type": "execute_result"
    }
   ],
   "source": [
    "tsla.loc['2014-10','volume'].mean() / 1000"
   ]
  },
  {
   "cell_type": "markdown",
   "id": "hired-bleeding",
   "metadata": {},
   "source": [
    "Question 4:"
   ]
  },
  {
   "cell_type": "code",
   "execution_count": 5,
   "id": "animal-great",
   "metadata": {},
   "outputs": [
    {
     "data": {
      "text/plain": [
       "357.42"
      ]
     },
     "execution_count": 5,
     "metadata": {},
     "output_type": "execute_result"
    }
   ],
   "source": [
    "tsla.loc['2018'][:100].close.max()"
   ]
  },
  {
   "cell_type": "markdown",
   "id": "alternate-thomson",
   "metadata": {},
   "source": [
    "Question 6:"
   ]
  },
  {
   "cell_type": "code",
   "execution_count": 6,
   "id": "manual-chinese",
   "metadata": {},
   "outputs": [
    {
     "data": {
      "text/plain": [
       "132.51196175359027"
      ]
     },
     "execution_count": 6,
     "metadata": {},
     "output_type": "execute_result"
    }
   ],
   "source": [
    "tsla[tsla.volume<5*10**6].close.mean()"
   ]
  },
  {
   "cell_type": "markdown",
   "id": "upset-purchase",
   "metadata": {},
   "source": [
    "Question 8:"
   ]
  },
  {
   "cell_type": "code",
   "execution_count": 7,
   "id": "documentary-telephone",
   "metadata": {},
   "outputs": [
    {
     "data": {
      "text/html": [
       "<div>\n",
       "<style scoped>\n",
       "    .dataframe tbody tr th:only-of-type {\n",
       "        vertical-align: middle;\n",
       "    }\n",
       "\n",
       "    .dataframe tbody tr th {\n",
       "        vertical-align: top;\n",
       "    }\n",
       "\n",
       "    .dataframe thead th {\n",
       "        text-align: right;\n",
       "    }\n",
       "</style>\n",
       "<table border=\"1\" class=\"dataframe\">\n",
       "  <thead>\n",
       "    <tr style=\"text-align: right;\">\n",
       "      <th></th>\n",
       "      <th>close</th>\n",
       "      <th>high</th>\n",
       "      <th>low</th>\n",
       "      <th>open</th>\n",
       "      <th>volume</th>\n",
       "      <th>adjClose</th>\n",
       "      <th>adjHigh</th>\n",
       "      <th>adjLow</th>\n",
       "      <th>adjOpen</th>\n",
       "      <th>adjVolume</th>\n",
       "      <th>divCash</th>\n",
       "      <th>splitFactor</th>\n",
       "    </tr>\n",
       "    <tr>\n",
       "      <th>date</th>\n",
       "      <th></th>\n",
       "      <th></th>\n",
       "      <th></th>\n",
       "      <th></th>\n",
       "      <th></th>\n",
       "      <th></th>\n",
       "      <th></th>\n",
       "      <th></th>\n",
       "      <th></th>\n",
       "      <th></th>\n",
       "      <th></th>\n",
       "      <th></th>\n",
       "    </tr>\n",
       "  </thead>\n",
       "  <tbody>\n",
       "    <tr>\n",
       "      <th>2021-03-25 00:00:00+00:00</th>\n",
       "      <td>163.25</td>\n",
       "      <td>163.65</td>\n",
       "      <td>158.70</td>\n",
       "      <td>159.50</td>\n",
       "      <td>2944517</td>\n",
       "      <td>163.25</td>\n",
       "      <td>163.65</td>\n",
       "      <td>158.70</td>\n",
       "      <td>159.50</td>\n",
       "      <td>2944517</td>\n",
       "      <td>0.0</td>\n",
       "      <td>1.0</td>\n",
       "    </tr>\n",
       "    <tr>\n",
       "      <th>2021-03-26 00:00:00+00:00</th>\n",
       "      <td>167.98</td>\n",
       "      <td>168.10</td>\n",
       "      <td>163.79</td>\n",
       "      <td>164.50</td>\n",
       "      <td>3135491</td>\n",
       "      <td>167.98</td>\n",
       "      <td>168.10</td>\n",
       "      <td>163.79</td>\n",
       "      <td>164.50</td>\n",
       "      <td>3135491</td>\n",
       "      <td>0.0</td>\n",
       "      <td>1.0</td>\n",
       "    </tr>\n",
       "    <tr>\n",
       "      <th>2021-03-29 00:00:00+00:00</th>\n",
       "      <td>168.14</td>\n",
       "      <td>168.97</td>\n",
       "      <td>166.66</td>\n",
       "      <td>167.61</td>\n",
       "      <td>2702638</td>\n",
       "      <td>168.14</td>\n",
       "      <td>168.97</td>\n",
       "      <td>166.66</td>\n",
       "      <td>167.61</td>\n",
       "      <td>2702638</td>\n",
       "      <td>0.0</td>\n",
       "      <td>1.0</td>\n",
       "    </tr>\n",
       "  </tbody>\n",
       "</table>\n",
       "</div>"
      ],
      "text/plain": [
       "                            close    high     low    open   volume  adjClose  \\\n",
       "date                                                                           \n",
       "2021-03-25 00:00:00+00:00  163.25  163.65  158.70  159.50  2944517    163.25   \n",
       "2021-03-26 00:00:00+00:00  167.98  168.10  163.79  164.50  3135491    167.98   \n",
       "2021-03-29 00:00:00+00:00  168.14  168.97  166.66  167.61  2702638    168.14   \n",
       "\n",
       "                           adjHigh  adjLow  adjOpen  adjVolume  divCash  \\\n",
       "date                                                                      \n",
       "2021-03-25 00:00:00+00:00   163.65  158.70   159.50    2944517      0.0   \n",
       "2021-03-26 00:00:00+00:00   168.10  163.79   164.50    3135491      0.0   \n",
       "2021-03-29 00:00:00+00:00   168.97  166.66   167.61    2702638      0.0   \n",
       "\n",
       "                           splitFactor  \n",
       "date                                    \n",
       "2021-03-25 00:00:00+00:00          1.0  \n",
       "2021-03-26 00:00:00+00:00          1.0  \n",
       "2021-03-29 00:00:00+00:00          1.0  "
      ]
     },
     "execution_count": 7,
     "metadata": {},
     "output_type": "execute_result"
    }
   ],
   "source": [
    "ups = tiingo.get_dataframe('UPS','1950-01-01')\n",
    "ups[-3:]"
   ]
  },
  {
   "cell_type": "code",
   "execution_count": 8,
   "id": "permanent-tennessee",
   "metadata": {},
   "outputs": [
    {
     "data": {
      "text/plain": [
       "98.64"
      ]
     },
     "execution_count": 8,
     "metadata": {},
     "output_type": "execute_result"
    }
   ],
   "source": [
    "ups.close.loc['2015-8-28']"
   ]
  },
  {
   "cell_type": "markdown",
   "id": "bibliographic-istanbul",
   "metadata": {},
   "source": [
    "Question 11:"
   ]
  },
  {
   "cell_type": "code",
   "execution_count": 9,
   "id": "stylish-durham",
   "metadata": {},
   "outputs": [
    {
     "data": {
      "text/plain": [
       "2.0625"
      ]
     },
     "execution_count": 9,
     "metadata": {},
     "output_type": "execute_result"
    }
   ],
   "source": [
    "(1+2.5/80) * 2"
   ]
  },
  {
   "cell_type": "markdown",
   "id": "bizarre-malawi",
   "metadata": {},
   "source": [
    "Question 12:"
   ]
  },
  {
   "cell_type": "code",
   "execution_count": 10,
   "id": "medium-litigation",
   "metadata": {},
   "outputs": [
    {
     "data": {
      "text/html": [
       "<div>\n",
       "<style scoped>\n",
       "    .dataframe tbody tr th:only-of-type {\n",
       "        vertical-align: middle;\n",
       "    }\n",
       "\n",
       "    .dataframe tbody tr th {\n",
       "        vertical-align: top;\n",
       "    }\n",
       "\n",
       "    .dataframe thead th {\n",
       "        text-align: right;\n",
       "    }\n",
       "</style>\n",
       "<table border=\"1\" class=\"dataframe\">\n",
       "  <thead>\n",
       "    <tr style=\"text-align: right;\">\n",
       "      <th></th>\n",
       "      <th>close</th>\n",
       "      <th>high</th>\n",
       "      <th>low</th>\n",
       "      <th>open</th>\n",
       "      <th>volume</th>\n",
       "      <th>adjClose</th>\n",
       "      <th>adjHigh</th>\n",
       "      <th>adjLow</th>\n",
       "      <th>adjOpen</th>\n",
       "      <th>adjVolume</th>\n",
       "      <th>divCash</th>\n",
       "      <th>splitFactor</th>\n",
       "    </tr>\n",
       "    <tr>\n",
       "      <th>date</th>\n",
       "      <th></th>\n",
       "      <th></th>\n",
       "      <th></th>\n",
       "      <th></th>\n",
       "      <th></th>\n",
       "      <th></th>\n",
       "      <th></th>\n",
       "      <th></th>\n",
       "      <th></th>\n",
       "      <th></th>\n",
       "      <th></th>\n",
       "      <th></th>\n",
       "    </tr>\n",
       "  </thead>\n",
       "  <tbody>\n",
       "    <tr>\n",
       "      <th>1971-06-14 00:00:00+00:00</th>\n",
       "      <td>55.50</td>\n",
       "      <td>55.50</td>\n",
       "      <td>54.62</td>\n",
       "      <td>55.50</td>\n",
       "      <td>34930</td>\n",
       "      <td>0.360052</td>\n",
       "      <td>0.360052</td>\n",
       "      <td>0.354343</td>\n",
       "      <td>0.360052</td>\n",
       "      <td>2829330</td>\n",
       "      <td>0.0</td>\n",
       "      <td>1.5</td>\n",
       "    </tr>\n",
       "    <tr>\n",
       "      <th>1972-06-06 00:00:00+00:00</th>\n",
       "      <td>54.63</td>\n",
       "      <td>56.50</td>\n",
       "      <td>54.63</td>\n",
       "      <td>56.50</td>\n",
       "      <td>34015</td>\n",
       "      <td>0.708816</td>\n",
       "      <td>0.733079</td>\n",
       "      <td>0.708816</td>\n",
       "      <td>0.733079</td>\n",
       "      <td>1377607</td>\n",
       "      <td>0.0</td>\n",
       "      <td>2.0</td>\n",
       "    </tr>\n",
       "    <tr>\n",
       "      <th>1982-10-07 00:00:00+00:00</th>\n",
       "      <td>56.00</td>\n",
       "      <td>62.00</td>\n",
       "      <td>56.00</td>\n",
       "      <td>59.00</td>\n",
       "      <td>393244</td>\n",
       "      <td>1.089888</td>\n",
       "      <td>1.206661</td>\n",
       "      <td>1.089888</td>\n",
       "      <td>1.148274</td>\n",
       "      <td>10617588</td>\n",
       "      <td>0.0</td>\n",
       "      <td>1.5</td>\n",
       "    </tr>\n",
       "    <tr>\n",
       "      <th>1984-09-25 00:00:00+00:00</th>\n",
       "      <td>49.38</td>\n",
       "      <td>49.50</td>\n",
       "      <td>48.50</td>\n",
       "      <td>49.13</td>\n",
       "      <td>200296</td>\n",
       "      <td>1.441571</td>\n",
       "      <td>1.445074</td>\n",
       "      <td>1.415881</td>\n",
       "      <td>1.434273</td>\n",
       "      <td>3605328</td>\n",
       "      <td>0.0</td>\n",
       "      <td>1.5</td>\n",
       "    </tr>\n",
       "    <tr>\n",
       "      <th>1986-06-26 00:00:00+00:00</th>\n",
       "      <td>70.88</td>\n",
       "      <td>70.88</td>\n",
       "      <td>69.88</td>\n",
       "      <td>70.88</td>\n",
       "      <td>174933</td>\n",
       "      <td>3.103844</td>\n",
       "      <td>3.103844</td>\n",
       "      <td>3.060054</td>\n",
       "      <td>3.103844</td>\n",
       "      <td>2099196</td>\n",
       "      <td>0.0</td>\n",
       "      <td>1.5</td>\n",
       "    </tr>\n",
       "    <tr>\n",
       "      <th>1987-06-23 00:00:00+00:00</th>\n",
       "      <td>55.00</td>\n",
       "      <td>57.75</td>\n",
       "      <td>54.50</td>\n",
       "      <td>55.00</td>\n",
       "      <td>686667</td>\n",
       "      <td>3.612685</td>\n",
       "      <td>3.793320</td>\n",
       "      <td>3.579843</td>\n",
       "      <td>3.612685</td>\n",
       "      <td>5493336</td>\n",
       "      <td>0.0</td>\n",
       "      <td>1.5</td>\n",
       "    </tr>\n",
       "    <tr>\n",
       "      <th>1989-06-19 00:00:00+00:00</th>\n",
       "      <td>29.00</td>\n",
       "      <td>29.25</td>\n",
       "      <td>28.50</td>\n",
       "      <td>28.50</td>\n",
       "      <td>513750</td>\n",
       "      <td>3.892014</td>\n",
       "      <td>3.925566</td>\n",
       "      <td>3.824911</td>\n",
       "      <td>3.824911</td>\n",
       "      <td>2055000</td>\n",
       "      <td>0.0</td>\n",
       "      <td>2.0</td>\n",
       "    </tr>\n",
       "    <tr>\n",
       "      <th>1994-06-27 00:00:00+00:00</th>\n",
       "      <td>29.88</td>\n",
       "      <td>30.00</td>\n",
       "      <td>29.38</td>\n",
       "      <td>29.50</td>\n",
       "      <td>588800</td>\n",
       "      <td>8.409820</td>\n",
       "      <td>8.443595</td>\n",
       "      <td>8.269094</td>\n",
       "      <td>8.302868</td>\n",
       "      <td>1177600</td>\n",
       "      <td>0.0</td>\n",
       "      <td>2.0</td>\n",
       "    </tr>\n",
       "    <tr>\n",
       "      <th>1999-03-08 00:00:00+00:00</th>\n",
       "      <td>45.25</td>\n",
       "      <td>46.56</td>\n",
       "      <td>45.06</td>\n",
       "      <td>46.38</td>\n",
       "      <td>2778450</td>\n",
       "      <td>26.243033</td>\n",
       "      <td>27.002776</td>\n",
       "      <td>26.132841</td>\n",
       "      <td>26.898384</td>\n",
       "      <td>2778450</td>\n",
       "      <td>0.0</td>\n",
       "      <td>2.0</td>\n",
       "    </tr>\n",
       "  </tbody>\n",
       "</table>\n",
       "</div>"
      ],
      "text/plain": [
       "                           close   high    low   open   volume   adjClose  \\\n",
       "date                                                                        \n",
       "1971-06-14 00:00:00+00:00  55.50  55.50  54.62  55.50    34930   0.360052   \n",
       "1972-06-06 00:00:00+00:00  54.63  56.50  54.63  56.50    34015   0.708816   \n",
       "1982-10-07 00:00:00+00:00  56.00  62.00  56.00  59.00   393244   1.089888   \n",
       "1984-09-25 00:00:00+00:00  49.38  49.50  48.50  49.13   200296   1.441571   \n",
       "1986-06-26 00:00:00+00:00  70.88  70.88  69.88  70.88   174933   3.103844   \n",
       "1987-06-23 00:00:00+00:00  55.00  57.75  54.50  55.00   686667   3.612685   \n",
       "1989-06-19 00:00:00+00:00  29.00  29.25  28.50  28.50   513750   3.892014   \n",
       "1994-06-27 00:00:00+00:00  29.88  30.00  29.38  29.50   588800   8.409820   \n",
       "1999-03-08 00:00:00+00:00  45.25  46.56  45.06  46.38  2778450  26.243033   \n",
       "\n",
       "                             adjHigh     adjLow    adjOpen  adjVolume  \\\n",
       "date                                                                    \n",
       "1971-06-14 00:00:00+00:00   0.360052   0.354343   0.360052    2829330   \n",
       "1972-06-06 00:00:00+00:00   0.733079   0.708816   0.733079    1377607   \n",
       "1982-10-07 00:00:00+00:00   1.206661   1.089888   1.148274   10617588   \n",
       "1984-09-25 00:00:00+00:00   1.445074   1.415881   1.434273    3605328   \n",
       "1986-06-26 00:00:00+00:00   3.103844   3.060054   3.103844    2099196   \n",
       "1987-06-23 00:00:00+00:00   3.793320   3.579843   3.612685    5493336   \n",
       "1989-06-19 00:00:00+00:00   3.925566   3.824911   3.824911    2055000   \n",
       "1994-06-27 00:00:00+00:00   8.443595   8.269094   8.302868    1177600   \n",
       "1999-03-08 00:00:00+00:00  27.002776  26.132841  26.898384    2778450   \n",
       "\n",
       "                           divCash  splitFactor  \n",
       "date                                             \n",
       "1971-06-14 00:00:00+00:00      0.0          1.5  \n",
       "1972-06-06 00:00:00+00:00      0.0          2.0  \n",
       "1982-10-07 00:00:00+00:00      0.0          1.5  \n",
       "1984-09-25 00:00:00+00:00      0.0          1.5  \n",
       "1986-06-26 00:00:00+00:00      0.0          1.5  \n",
       "1987-06-23 00:00:00+00:00      0.0          1.5  \n",
       "1989-06-19 00:00:00+00:00      0.0          2.0  \n",
       "1994-06-27 00:00:00+00:00      0.0          2.0  \n",
       "1999-03-08 00:00:00+00:00      0.0          2.0  "
      ]
     },
     "execution_count": 10,
     "metadata": {},
     "output_type": "execute_result"
    }
   ],
   "source": [
    "mcd = tiingo.get_dataframe('MCD','1950-01-01')\n",
    "\n",
    "mcd[mcd.splitFactor!=1]"
   ]
  },
  {
   "cell_type": "markdown",
   "id": "wooden-aaron",
   "metadata": {},
   "source": [
    "Question 13:"
   ]
  },
  {
   "cell_type": "code",
   "execution_count": 11,
   "id": "checked-proposition",
   "metadata": {},
   "outputs": [
    {
     "data": {
      "text/plain": [
       "101.25"
      ]
     },
     "execution_count": 11,
     "metadata": {},
     "output_type": "execute_result"
    }
   ],
   "source": [
    "1.5 ** 4 * 2 * 10                 # see splits above"
   ]
  },
  {
   "cell_type": "markdown",
   "id": "false-manner",
   "metadata": {},
   "source": [
    "Question 14:"
   ]
  },
  {
   "cell_type": "code",
   "execution_count": 12,
   "id": "present-marks",
   "metadata": {},
   "outputs": [
    {
     "data": {
      "text/plain": [
       "date\n",
       "2020-07-31 00:00:00+00:00    23605.02\n",
       "Name: close, dtype: float64"
      ]
     },
     "execution_count": 12,
     "metadata": {},
     "output_type": "execute_result"
    }
   ],
   "source": [
    "mcd.splitFactor.prod() * mcd.close['2020-7'][-1:]"
   ]
  },
  {
   "cell_type": "markdown",
   "id": "herbal-thomson",
   "metadata": {},
   "source": [
    "Question 15:"
   ]
  },
  {
   "cell_type": "code",
   "execution_count": 14,
   "id": "israeli-timer",
   "metadata": {},
   "outputs": [
    {
     "data": {
      "text/plain": [
       "date\n",
       "1970-01-02 00:00:00+00:00             NaN\n",
       "1970-01-05 00:00:00+00:00       45.000000\n",
       "1970-01-06 00:00:00+00:00       45.250000\n",
       "1970-01-07 00:00:00+00:00       45.000000\n",
       "1970-01-08 00:00:00+00:00       45.000000\n",
       "                                 ...     \n",
       "2020-07-27 00:00:00+00:00    45702.658067\n",
       "2020-07-28 00:00:00+00:00    44564.917362\n",
       "2020-07-29 00:00:00+00:00    44558.104544\n",
       "2020-07-30 00:00:00+00:00    44376.429381\n",
       "2020-07-31 00:00:00+00:00    44119.813214\n",
       "Name: r, Length: 12758, dtype: float64"
      ]
     },
     "execution_count": 14,
     "metadata": {},
     "output_type": "execute_result"
    }
   ],
   "source": [
    "mcd['r'] = mcd.adjClose.pct_change()\n",
    "\n",
    "mcd.close.iloc[0] * mcd.r.add(1).cumprod()[:'2020-7']"
   ]
  },
  {
   "cell_type": "markdown",
   "id": "olympic-rogers",
   "metadata": {},
   "source": [
    "Question 16:"
   ]
  },
  {
   "cell_type": "code",
   "execution_count": 15,
   "id": "complex-brunei",
   "metadata": {},
   "outputs": [
    {
     "data": {
      "text/plain": [
       "date\n",
       "2010-01-04 00:00:00+00:00     50.705944\n",
       "2010-01-05 00:00:00+00:00     50.793097\n",
       "2010-01-06 00:00:00+00:00     50.418337\n",
       "2010-01-07 00:00:00+00:00     50.034861\n",
       "2010-01-08 00:00:00+00:00     52.440300\n",
       "                                ...    \n",
       "2018-12-24 00:00:00+00:00    102.078258\n",
       "2018-12-26 00:00:00+00:00    109.709429\n",
       "2018-12-27 00:00:00+00:00    111.038070\n",
       "2018-12-28 00:00:00+00:00    109.618581\n",
       "2018-12-31 00:00:00+00:00    110.754172\n",
       "Name: r, Length: 2264, dtype: float64"
      ]
     },
     "execution_count": 15,
     "metadata": {},
     "output_type": "execute_result"
    }
   ],
   "source": [
    "ups['r'] = ups.adjClose.pct_change()\n",
    "\n",
    "ups.r['2010':'2018'].add(1).cumprod() * 50"
   ]
  },
  {
   "cell_type": "markdown",
   "id": "little-albania",
   "metadata": {},
   "source": [
    "Question 17:"
   ]
  },
  {
   "cell_type": "code",
   "execution_count": 16,
   "id": "persistent-canberra",
   "metadata": {},
   "outputs": [
    {
     "data": {
      "text/plain": [
       "date\n",
       "2018-02-11 00:00:00+00:00   -0.346649\n",
       "2012-02-12 00:00:00+00:00   -0.317212\n",
       "Freq: -313W-SUN, Name: adjClose, dtype: float64"
      ]
     },
     "execution_count": 16,
     "metadata": {},
     "output_type": "execute_result"
    }
   ],
   "source": [
    "irbt = tiingo.get_dataframe('IRBT','1950-01-01')\n",
    "\n",
    "r_weekly = irbt.adjClose.resample('W').last().pct_change()\n",
    "r_weekly.nsmallest(2)"
   ]
  },
  {
   "cell_type": "markdown",
   "id": "recovered-letters",
   "metadata": {},
   "source": [
    "Question 18:"
   ]
  },
  {
   "cell_type": "code",
   "execution_count": 17,
   "id": "atomic-indian",
   "metadata": {},
   "outputs": [
    {
     "data": {
      "text/plain": [
       "0.23739837398373984"
      ]
     },
     "execution_count": 17,
     "metadata": {},
     "output_type": "execute_result"
    }
   ],
   "source": [
    "cvx = tiingo.get_dataframe('CVX', '1900')\n",
    "x = cvx.adjClose.resample('M').last().pct_change()\n",
    "len(x[x>0.05]) / len(x)"
   ]
  },
  {
   "cell_type": "markdown",
   "id": "occupied-applicant",
   "metadata": {},
   "source": [
    "Question 19:"
   ]
  },
  {
   "cell_type": "code",
   "execution_count": 21,
   "id": "executive-accommodation",
   "metadata": {},
   "outputs": [
    {
     "data": {
      "text/plain": [
       "Date\n",
       "2010-04-05    0.0401\n",
       "2010-04-06    0.0398\n",
       "2010-04-02    0.0396\n",
       "2010-03-25    0.0391\n",
       "2010-04-08    0.0391\n",
       "Name: FRED/DGS10 - Value, dtype: float64"
      ]
     },
     "execution_count": 21,
     "metadata": {},
     "output_type": "execute_result"
    }
   ],
   "source": [
    "rates = quandl.get(['FRED/DGS1','FRED/DGS5','FRED/DGS10','FRED/DGS30']) / 100\n",
    "rates['FRED/DGS10 - Value']['2010':'2020'].nlargest(5)"
   ]
  },
  {
   "cell_type": "markdown",
   "id": "technical-pastor",
   "metadata": {},
   "source": [
    "Question 20:"
   ]
  },
  {
   "cell_type": "code",
   "execution_count": 22,
   "id": "relative-consequence",
   "metadata": {},
   "outputs": [
    {
     "data": {
      "text/plain": [
       "2010-12-31    0.164077\n",
       "2011-12-31    0.004799\n",
       "2012-12-31    0.163166\n",
       "2013-12-31    0.328617\n",
       "2014-12-31    0.122595\n",
       "2015-12-31    0.000879\n",
       "2016-12-31    0.120292\n",
       "2017-12-31    0.200846\n",
       "2018-12-31   -0.072411\n",
       "2019-12-31    0.280600\n",
       "2020-12-31    0.189883\n",
       "Freq: A-DEC, dtype: float64"
      ]
     },
     "execution_count": 22,
     "metadata": {},
     "output_type": "execute_result"
    }
   ],
   "source": [
    "iwv = tiingo.get_dataframe('IWV', '1900')\n",
    "iwv.index = iwv.index.tz_convert(None)\n",
    "r_annual = iwv.adjClose.resample('A').last().pct_change()\n",
    "rx_annual = r_annual - rates['FRED/DGS1 - Value'].resample('A').first()\n",
    "rx_annual['2010':'2020']"
   ]
  },
  {
   "cell_type": "code",
   "execution_count": 23,
   "id": "worldwide-resistance",
   "metadata": {},
   "outputs": [
    {
     "data": {
      "text/plain": [
       "0.13666767521074732"
      ]
     },
     "execution_count": 23,
     "metadata": {},
     "output_type": "execute_result"
    }
   ],
   "source": [
    "rx_annual['2010':'2020'].mean()"
   ]
  }
 ],
 "metadata": {
  "kernelspec": {
   "display_name": "Python 3",
   "language": "python",
   "name": "python3"
  },
  "language_info": {
   "codemirror_mode": {
    "name": "ipython",
    "version": 3
   },
   "file_extension": ".py",
   "mimetype": "text/x-python",
   "name": "python",
   "nbconvert_exporter": "python",
   "pygments_lexer": "ipython3",
   "version": "3.7.9"
  }
 },
 "nbformat": 4,
 "nbformat_minor": 5
}
