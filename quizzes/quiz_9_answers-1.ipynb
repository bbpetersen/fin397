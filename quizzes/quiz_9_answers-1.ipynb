{
 "cells": [
  {
   "cell_type": "markdown",
   "metadata": {},
   "source": [
    "## Quiz 9 Answers"
   ]
  },
  {
   "cell_type": "code",
   "execution_count": 1,
   "metadata": {},
   "outputs": [],
   "source": [
    "# Working with data:\n",
    "import numpy  as np                                   # For scientific computing.\n",
    "import pandas as pd                                   # Working with tables.\n",
    "\n",
    "# Specific data providers:\n",
    "from tiingo import TiingoClient                       # Stock prices.\n",
    "import quandl                                         # Economic data, futures prices, ...\n",
    "\n",
    "# API keys:\n",
    "tiingo = TiingoClient({'api_key':'XXXX'})\n",
    "quandl.ApiConfig.api_key = 'YYYY'\n",
    "\n",
    "# Plotting:\n",
    "import matplotlib.pyplot as plt                        # Basic plot library.\n",
    "plt.style.use('ggplot')                                # Make plots look nice"
   ]
  },
  {
   "cell_type": "markdown",
   "metadata": {},
   "source": [
    "Q4: "
   ]
  },
  {
   "cell_type": "code",
   "execution_count": 2,
   "metadata": {},
   "outputs": [],
   "source": [
    "PRICE = tiingo.get_dataframe(['SPY','GLD','TLT'], '2005-1-1', metric_name='adjClose')\n",
    "PRICE.index = pd.to_datetime(PRICE.index).tz_convert(None)\n",
    "RET = PRICE.pct_change()"
   ]
  },
  {
   "cell_type": "code",
   "execution_count": 3,
   "metadata": {},
   "outputs": [
    {
     "data": {
      "text/plain": [
       "SPY    0.281381\n",
       "TLT    0.476143\n",
       "GLD    0.242477\n",
       "dtype: float64"
      ]
     },
     "execution_count": 3,
     "metadata": {},
     "output_type": "execute_result"
    }
   ],
   "source": [
    "ret = RET.loc['2009',['SPY','TLT','GLD']]\n",
    "\n",
    "cov     = ret.cov() * 252\n",
    "cov_inv = pd.DataFrame(np.linalg.inv(cov), columns=cov.columns, index=cov.index)\n",
    "\n",
    "w_minVol = cov_inv.sum() / cov_inv.sum().sum()\n",
    "w_minVol"
   ]
  },
  {
   "cell_type": "markdown",
   "metadata": {},
   "source": [
    "Q5:"
   ]
  },
  {
   "cell_type": "code",
   "execution_count": 4,
   "metadata": {},
   "outputs": [
    {
     "data": {
      "text/html": [
       "<div>\n",
       "<style scoped>\n",
       "    .dataframe tbody tr th:only-of-type {\n",
       "        vertical-align: middle;\n",
       "    }\n",
       "\n",
       "    .dataframe tbody tr th {\n",
       "        vertical-align: top;\n",
       "    }\n",
       "\n",
       "    .dataframe thead th {\n",
       "        text-align: right;\n",
       "    }\n",
       "</style>\n",
       "<table border=\"1\" class=\"dataframe\">\n",
       "  <thead>\n",
       "    <tr style=\"text-align: right;\">\n",
       "      <th></th>\n",
       "      <th>SPY</th>\n",
       "      <th>GLD</th>\n",
       "      <th>TLT</th>\n",
       "    </tr>\n",
       "  </thead>\n",
       "  <tbody>\n",
       "    <tr>\n",
       "      <th>SPY</th>\n",
       "      <td>1.000000</td>\n",
       "      <td>0.036112</td>\n",
       "      <td>-0.323306</td>\n",
       "    </tr>\n",
       "    <tr>\n",
       "      <th>GLD</th>\n",
       "      <td>0.036112</td>\n",
       "      <td>1.000000</td>\n",
       "      <td>0.099647</td>\n",
       "    </tr>\n",
       "    <tr>\n",
       "      <th>TLT</th>\n",
       "      <td>-0.323306</td>\n",
       "      <td>0.099647</td>\n",
       "      <td>1.000000</td>\n",
       "    </tr>\n",
       "  </tbody>\n",
       "</table>\n",
       "</div>"
      ],
      "text/plain": [
       "          SPY       GLD       TLT\n",
       "SPY  1.000000  0.036112 -0.323306\n",
       "GLD  0.036112  1.000000  0.099647\n",
       "TLT -0.323306  0.099647  1.000000"
      ]
     },
     "execution_count": 4,
     "metadata": {},
     "output_type": "execute_result"
    }
   ],
   "source": [
    "RET.loc['2009'].corr()"
   ]
  },
  {
   "cell_type": "markdown",
   "metadata": {},
   "source": [
    "Q6:"
   ]
  },
  {
   "cell_type": "code",
   "execution_count": 5,
   "metadata": {},
   "outputs": [],
   "source": [
    "RATES = quandl.get(['FRED/FEDFUNDS','FRED/DGS1']) / 100\n",
    "RATES.columns = ['FedFunds','Treasury_1']"
   ]
  },
  {
   "cell_type": "code",
   "execution_count": 6,
   "metadata": {},
   "outputs": [
    {
     "data": {
      "text/plain": [
       "SPY    0.330818\n",
       "TLT    0.505456\n",
       "GLD    0.163726\n",
       "dtype: float64"
      ]
     },
     "execution_count": 6,
     "metadata": {},
     "output_type": "execute_result"
    }
   ],
   "source": [
    "ret = RET.loc['2005':'2015',['SPY','TLT','GLD']]\n",
    "\n",
    "cov     = ret.cov() * 252\n",
    "cov_inv = pd.DataFrame(np.linalg.inv(cov), columns=cov.columns, index=cov.index)\n",
    "\n",
    "r_annual       = ret.add(1).resample('A').prod().sub(1)\n",
    "r_annual_Tbill = RATES.Treasury_1.resample('A').first()\n",
    "\n",
    "rx_annual = r_annual.sub(r_annual_Tbill, 'rows').dropna()\n",
    "\n",
    "meanx = rx_annual[['SPY','TLT','GLD']].mean()  # Risk premiums (average annual excess returns)\n",
    "\n",
    "w_maxSharpe = cov_inv.dot(meanx) /  cov_inv.dot(meanx).sum()\n",
    "w_maxSharpe"
   ]
  },
  {
   "cell_type": "code",
   "execution_count": 7,
   "metadata": {},
   "outputs": [
    {
     "data": {
      "text/plain": [
       "2015-01-02    1006.163453\n",
       "2015-01-05    1010.699782\n",
       "2015-01-06    1018.897370\n",
       "2015-01-07    1020.866736\n",
       "2015-01-08    1018.953983\n",
       "                 ...     \n",
       "2021-03-25    1575.116631\n",
       "2021-03-26    1584.967154\n",
       "2021-03-29    1576.458453\n",
       "2021-03-30    1573.884282\n",
       "2021-03-31    1576.721747\n",
       "Length: 1572, dtype: float64"
      ]
     },
     "execution_count": 7,
     "metadata": {},
     "output_type": "execute_result"
    }
   ],
   "source": [
    "# Never rebalance: first compound, then weight\n",
    "RET['2015':'2021-3-31'].add(1).cumprod().multiply(w_maxSharpe).sum('columns') * 1000"
   ]
  },
  {
   "cell_type": "markdown",
   "metadata": {},
   "source": [
    "Q8:"
   ]
  },
  {
   "cell_type": "code",
   "execution_count": 9,
   "metadata": {},
   "outputs": [
    {
     "data": {
      "text/html": [
       "<div>\n",
       "<style scoped>\n",
       "    .dataframe tbody tr th:only-of-type {\n",
       "        vertical-align: middle;\n",
       "    }\n",
       "\n",
       "    .dataframe tbody tr th {\n",
       "        vertical-align: top;\n",
       "    }\n",
       "\n",
       "    .dataframe thead th {\n",
       "        text-align: right;\n",
       "    }\n",
       "</style>\n",
       "<table border=\"1\" class=\"dataframe\">\n",
       "  <thead>\n",
       "    <tr style=\"text-align: right;\">\n",
       "      <th></th>\n",
       "      <th>SPY</th>\n",
       "      <th>GLD</th>\n",
       "      <th>TLT</th>\n",
       "    </tr>\n",
       "  </thead>\n",
       "  <tbody>\n",
       "    <tr>\n",
       "      <th>2005-01-04</th>\n",
       "      <td>-0.012219</td>\n",
       "      <td>-0.006509</td>\n",
       "      <td>-0.010480</td>\n",
       "    </tr>\n",
       "    <tr>\n",
       "      <th>2005-01-05</th>\n",
       "      <td>-0.006901</td>\n",
       "      <td>-0.001638</td>\n",
       "      <td>0.005352</td>\n",
       "    </tr>\n",
       "    <tr>\n",
       "      <th>2005-01-06</th>\n",
       "      <td>0.005084</td>\n",
       "      <td>-0.012187</td>\n",
       "      <td>0.000680</td>\n",
       "    </tr>\n",
       "    <tr>\n",
       "      <th>2005-01-07</th>\n",
       "      <td>-0.001433</td>\n",
       "      <td>-0.007355</td>\n",
       "      <td>0.002264</td>\n",
       "    </tr>\n",
       "    <tr>\n",
       "      <th>2005-01-10</th>\n",
       "      <td>0.004728</td>\n",
       "      <td>0.002629</td>\n",
       "      <td>0.001581</td>\n",
       "    </tr>\n",
       "    <tr>\n",
       "      <th>...</th>\n",
       "      <td>...</td>\n",
       "      <td>...</td>\n",
       "      <td>...</td>\n",
       "    </tr>\n",
       "    <tr>\n",
       "      <th>2021-04-06</th>\n",
       "      <td>-0.000591</td>\n",
       "      <td>0.008029</td>\n",
       "      <td>0.006793</td>\n",
       "    </tr>\n",
       "    <tr>\n",
       "      <th>2021-04-07</th>\n",
       "      <td>0.001157</td>\n",
       "      <td>-0.002818</td>\n",
       "      <td>-0.006965</td>\n",
       "    </tr>\n",
       "    <tr>\n",
       "      <th>2021-04-08</th>\n",
       "      <td>0.004747</td>\n",
       "      <td>0.010752</td>\n",
       "      <td>0.008255</td>\n",
       "    </tr>\n",
       "    <tr>\n",
       "      <th>2021-04-09</th>\n",
       "      <td>0.007270</td>\n",
       "      <td>-0.007538</td>\n",
       "      <td>-0.003623</td>\n",
       "    </tr>\n",
       "    <tr>\n",
       "      <th>2021-04-12</th>\n",
       "      <td>0.000365</td>\n",
       "      <td>-0.006064</td>\n",
       "      <td>-0.000436</td>\n",
       "    </tr>\n",
       "  </tbody>\n",
       "</table>\n",
       "<p>4095 rows × 3 columns</p>\n",
       "</div>"
      ],
      "text/plain": [
       "                 SPY       GLD       TLT\n",
       "2005-01-04 -0.012219 -0.006509 -0.010480\n",
       "2005-01-05 -0.006901 -0.001638  0.005352\n",
       "2005-01-06  0.005084 -0.012187  0.000680\n",
       "2005-01-07 -0.001433 -0.007355  0.002264\n",
       "2005-01-10  0.004728  0.002629  0.001581\n",
       "...              ...       ...       ...\n",
       "2021-04-06 -0.000591  0.008029  0.006793\n",
       "2021-04-07  0.001157 -0.002818 -0.006965\n",
       "2021-04-08  0.004747  0.010752  0.008255\n",
       "2021-04-09  0.007270 -0.007538 -0.003623\n",
       "2021-04-12  0.000365 -0.006064 -0.000436\n",
       "\n",
       "[4095 rows x 3 columns]"
      ]
     },
     "execution_count": 9,
     "metadata": {},
     "output_type": "execute_result"
    }
   ],
   "source": [
    "RET = RET.dropna(subset=['SPY'])\n",
    "RET"
   ]
  },
  {
   "cell_type": "code",
   "execution_count": 10,
   "metadata": {},
   "outputs": [
    {
     "data": {
      "text/plain": [
       "2005-01-03    10000.000000\n",
       "2005-01-05     9989.380138\n",
       "2005-01-06     9967.933225\n",
       "2005-01-07     9946.579491\n",
       "2005-01-10     9976.181659\n",
       "                  ...     \n",
       "2020-12-24    41727.896113\n",
       "2020-12-28    41800.731922\n",
       "2020-12-29    41791.455892\n",
       "2020-12-30    41930.809628\n",
       "2020-12-31    42059.459358\n",
       "Length: 4027, dtype: float64"
      ]
     },
     "execution_count": 10,
     "metadata": {},
     "output_type": "execute_result"
    }
   ],
   "source": [
    "def get_rebalance_dates(frequency):\n",
    "    group = getattr(PRICE.index, frequency) \n",
    "    return PRICE[:1].index.union(PRICE.groupby([PRICE.index.year, group]).tail(1).index)\n",
    "\n",
    "\n",
    "\n",
    "def run_backtest(frequency):   \n",
    "    \n",
    "    rebalance_dates = get_rebalance_dates(frequency) \n",
    "\n",
    "    portfolio_value = pd.Series(1,                      index=[rebalance_dates[0]])    \n",
    "    weights         = pd.DataFrame(columns=RET.columns, index=[rebalance_dates[0]])\n",
    "    trades          = pd.DataFrame(columns=RET.columns, index=[rebalance_dates[0]])\n",
    "\n",
    "    previous_positions = weights.iloc[0]\n",
    "        \n",
    "    for i in range(len(rebalance_dates)-1):\n",
    "        start_date = rebalance_dates[i]\n",
    "        end_date   = rebalance_dates[i+1]\n",
    "\n",
    "        cum_ret = RET[start_date:end_date][1:].add(1).cumprod()\n",
    "        \n",
    "        start_weights = select_weights(start_date)      # Call \"select_weights()\" function to get the weights\n",
    "            \n",
    "        new_positions = portfolio_value.iloc[-1] * start_weights \n",
    "        \n",
    "        start_to_end_positions = new_positions  * cum_ret\n",
    "        start_to_end_value     = start_to_end_positions.sum('columns')\n",
    "\n",
    "        portfolio_value = portfolio_value.append(start_to_end_value) \n",
    "                \n",
    "        weights = weights.append(start_to_end_positions.div(start_to_end_value,'rows'))                 \n",
    "                \n",
    "        trades.loc[start_date] = new_positions - previous_positions \n",
    "        previous_positions     = start_to_end_positions.iloc[-1]      # Previous positions for the next rebalance round\n",
    "\n",
    "    return portfolio_value, weights, trades\n",
    "\n",
    "\n",
    "\n",
    "\n",
    "def select_weights(date):\n",
    "    if not RET[:date].empty:                                          # If previous data available.\n",
    "        cov     = RET[['SPY','TLT','GLD']][:date][-200:].cov() * 252  # Use most recent 200 returns up to currrent date.\n",
    "        cov_inv = pd.DataFrame(np.linalg.inv(cov), columns=cov.columns, index=cov.index)\n",
    "\n",
    "        w = cov_inv.sum() /  cov_inv.sum().sum()         # Minimum-volatility portfolio.\n",
    "    else:\n",
    "        w = pd.Series(1/3, index=['SPY','TLT','GLD'])    # If no previous data available: choose equal weights.\n",
    "    return w                                             # Return the selected weights to the loop\n",
    "    \n",
    "    \n",
    "\n",
    "min_vol, weights, trades = run_backtest('quarter')\n",
    "min_vol[:'2020'] * 10000"
   ]
  },
  {
   "cell_type": "markdown",
   "metadata": {},
   "source": [
    "Q9:"
   ]
  },
  {
   "cell_type": "code",
   "execution_count": 11,
   "metadata": {},
   "outputs": [
    {
     "data": {
      "text/plain": [
       "2005-01-03    10000.000000\n",
       "2005-01-05     9989.380138\n",
       "2005-01-06     9967.933225\n",
       "2005-01-07     9946.579491\n",
       "2005-01-10     9976.181659\n",
       "                  ...     \n",
       "2020-12-24    40542.596940\n",
       "2020-12-28    40660.744301\n",
       "2020-12-29    40633.282163\n",
       "2020-12-30    40748.021974\n",
       "2020-12-31    40881.135485\n",
       "Length: 4027, dtype: float64"
      ]
     },
     "execution_count": 11,
     "metadata": {},
     "output_type": "execute_result"
    }
   ],
   "source": [
    "def select_weights(date):\n",
    "    if not RET[:date].empty:                                          # If previous data available.\n",
    "        \n",
    "        meanx = pd.Series({'SPY':0.08, 'TLT':0.03, 'GLD':0.04})\n",
    "        \n",
    "        cov     = RET[['SPY','TLT','GLD']][:date][-200:].cov() * 252  # Use most recent 200 returns up to currrent date.\n",
    "        cov_inv = pd.DataFrame(np.linalg.inv(cov), columns=cov.columns, index=cov.index)\n",
    "\n",
    "        w = cov_inv.dot(meanx) /  cov_inv.dot(meanx).sum()\n",
    "    else:\n",
    "        w = pd.Series(1/3, index=['SPY','TLT','GLD'])    # If no previous data available: choose equal weights.\n",
    "    return w                                             # Return the selected weights to the loop\n",
    "    \n",
    "    \n",
    "\n",
    "min_vol, weights, trades = run_backtest('quarter')\n",
    "min_vol[:'2020'] * 10000"
   ]
  },
  {
   "cell_type": "markdown",
   "metadata": {},
   "source": [
    "Q 10:"
   ]
  },
  {
   "cell_type": "code",
   "execution_count": 12,
   "metadata": {},
   "outputs": [
    {
     "data": {
      "text/plain": [
       "2005-01-03    10000.000000\n",
       "2005-01-05     9989.380138\n",
       "2005-01-06     9967.933225\n",
       "2005-01-07     9946.579491\n",
       "2005-01-10     9976.181659\n",
       "                  ...     \n",
       "2020-12-24    42514.309122\n",
       "2020-12-28    42614.328141\n",
       "2020-12-29    42578.120873\n",
       "2020-12-30    42690.110138\n",
       "2020-12-31    42810.593801\n",
       "Length: 4027, dtype: float64"
      ]
     },
     "execution_count": 12,
     "metadata": {},
     "output_type": "execute_result"
    }
   ],
   "source": [
    "def select_weights(date):\n",
    "    if not RET[:date].empty:                                          # If previous data available.\n",
    "        cov     = RET[['SPY','TLT','GLD']][:date][-50:].cov() * 252  # Use most recent 50 returns up to currrent date.\n",
    "        cov_inv = pd.DataFrame(np.linalg.inv(cov), columns=cov.columns, index=cov.index)\n",
    "\n",
    "        w = cov_inv.sum() /  cov_inv.sum().sum()         # Minimum-volatility portfolio.\n",
    "    else:\n",
    "        w = pd.Series(1/3, index=['SPY','TLT','GLD'])    # If no previous data available: choose equal weights.\n",
    "    return w                                             # Return the selected weights to the loop\n",
    "    \n",
    "    \n",
    "\n",
    "min_vol, weights, trades = run_backtest('month')\n",
    "min_vol[:'2020'] * 10000"
   ]
  },
  {
   "cell_type": "code",
   "execution_count": 13,
   "metadata": {},
   "outputs": [
    {
     "data": {
      "text/plain": [
       "SPY    0.208243\n",
       "GLD    0.287700\n",
       "TLT    0.504057\n",
       "Name: 2018-05-21 00:00:00, dtype: float64"
      ]
     },
     "execution_count": 13,
     "metadata": {},
     "output_type": "execute_result"
    }
   ],
   "source": [
    "weights.loc['2018-5-21']"
   ]
  },
  {
   "cell_type": "code",
   "execution_count": 14,
   "metadata": {},
   "outputs": [
    {
     "data": {
      "text/plain": [
       "32469.876154019275"
      ]
     },
     "execution_count": 14,
     "metadata": {},
     "output_type": "execute_result"
    }
   ],
   "source": [
    "min_vol.loc['2018-5-21'] * 10000  # portfolio value"
   ]
  },
  {
   "cell_type": "code",
   "execution_count": 15,
   "metadata": {},
   "outputs": [
    {
     "data": {
      "text/plain": [
       "SPY     6761.635651\n",
       "GLD     9341.579469\n",
       "TLT    16366.661034\n",
       "Name: 2018-05-21 00:00:00, dtype: float64"
      ]
     },
     "execution_count": 15,
     "metadata": {},
     "output_type": "execute_result"
    }
   ],
   "source": [
    "# Multiply portfolio value by weights to get $ positions:\n",
    "min_vol.loc['2018-5-21'] * weights.loc['2018-5-21'] * 10000"
   ]
  }
 ],
 "metadata": {
  "kernelspec": {
   "display_name": "Python 3",
   "language": "python",
   "name": "python3"
  },
  "language_info": {
   "codemirror_mode": {
    "name": "ipython",
    "version": 3
   },
   "file_extension": ".py",
   "mimetype": "text/x-python",
   "name": "python",
   "nbconvert_exporter": "python",
   "pygments_lexer": "ipython3",
   "version": "3.7.6"
  }
 },
 "nbformat": 4,
 "nbformat_minor": 5
}
